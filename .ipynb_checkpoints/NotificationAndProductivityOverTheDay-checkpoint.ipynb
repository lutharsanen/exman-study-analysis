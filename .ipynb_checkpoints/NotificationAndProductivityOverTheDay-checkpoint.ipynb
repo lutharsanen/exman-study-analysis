{
 "cells": [
  {
   "cell_type": "code",
   "execution_count": 1,
   "metadata": {},
   "outputs": [],
   "source": [
    "import warnings\n",
    "warnings.filterwarnings(\"ignore\")"
   ]
  },
  {
   "cell_type": "code",
   "execution_count": 2,
   "metadata": {},
   "outputs": [],
   "source": [
    "import json\n",
    "import numpy as np\n",
    "import matplotlib.pyplot as plt\n",
    "import pandas as pd\n",
    "import scipy.stats"
   ]
  },
  {
   "cell_type": "markdown",
   "metadata": {},
   "source": [
    "<h1> Research Questions </h1>"
   ]
  },
  {
   "cell_type": "code",
   "execution_count": 3,
   "metadata": {},
   "outputs": [],
   "source": [
    "def get_comparison_summary(parameter):\n",
    "    return pd.concat([pomodoro[parameter].describe(),exman[parameter].describe()],axis=1,keys=[\"pomodoro\",\"exman\"])"
   ]
  },
  {
   "cell_type": "code",
   "execution_count": 4,
   "metadata": {},
   "outputs": [],
   "source": [
    "def normalize_data(data_input, normalizer, data_output, df):\n",
    "    df[data_output] = df[data_input]/df[normalizer]*60"
   ]
  },
  {
   "cell_type": "code",
   "execution_count": 5,
   "metadata": {},
   "outputs": [],
   "source": [
    "def create_focusDF(data,filenr):\n",
    "    \n",
    "    nr_of_services = []\n",
    "    focus_ids = []\n",
    "    hourOfDay = []\n",
    "    \n",
    "    # transform json part to pandas dataframe\n",
    "    df = pd.json_normalize(data[\"focusSessions\"])\n",
    "    \n",
    "    # create new column, which calculates how long a user stayed in focus\n",
    "    df[\"minutesInFocus\"] = round((df[\"endTime\"] - df[\"startTime\"])/60000,2)\n",
    "    \n",
    "    for index, row in df.iterrows():\n",
    "        \n",
    "        # get number of used services\n",
    "        nr_of_services.append(len(row[\"services\"]))\n",
    "        \n",
    "        d ={}\n",
    "        \n",
    "        \n",
    "        focus_ids.append(row[\"id\"])\n",
    "        hourOfDay.append(pd.Timestamp(row[\"startTime\"],unit = \"ms\").hour)\n",
    "            \n",
    "    df[\"focusID\"] = focus_ids\n",
    "    df[\"PSNR\"] = filenr[:3]\n",
    "    df[\"numberOfServices\"] = nr_of_services\n",
    "    df[\"hourOfDay\"] = hourOfDay\n",
    "    \n",
    "    \n",
    "    # focus session which were longer than 6 hours were dropped (2 datapoints, probably participant forgot to close \n",
    "    # focus session)\n",
    "    df = df[(df[\"minutesInFocus\"] < 300) & (df['minutesInFocus']>10)]\n",
    "    \n",
    "    # drop columns startTime, endTime, originalEndTime, goals and completedGoals\n",
    "    df = df.drop([\"id\",\"services\",\"calendarSubject\",'startTime','endTime',\n",
    "                  'originalEndTime','goals',\n",
    "                  'completedGoals',\"activeWindows\",\"comments\", \"brokenFocus\", \"scheduled\"]\n",
    "                 , axis=1)\n",
    "    \n",
    "    df = df.loc[df['PSNR'] != \"p17\"]\n",
    "    return df"
   ]
  },
  {
   "cell_type": "code",
   "execution_count": 6,
   "metadata": {},
   "outputs": [],
   "source": [
    "from os import listdir\n",
    "from os.path import isfile, join\n",
    "\n",
    "mypath = \"./data\"\n",
    "onlyfiles = [f for f in listdir(mypath) if isfile(join(mypath, f))]\n",
    "\n",
    "df = pd.DataFrame()\n",
    "\n",
    "for i in onlyfiles:\n",
    "    with open(f'data/{i}', 'r') as outfile:\n",
    "        data = json.load(outfile)\n",
    "        df_temp = create_focusDF(data,i)\n",
    "        df = pd.concat([df,df_temp])\n",
    "        \n",
    "\n",
    "df = df.reset_index()"
   ]
  },
  {
   "cell_type": "code",
   "execution_count": 7,
   "metadata": {},
   "outputs": [
    {
     "data": {
      "text/plain": [
       "['0d40ff22-a6e2-472c-b2e8-f3632adb08f0',\n",
       " 'ef98194e-2687-4985-bcdb-16c9d8937b2d',\n",
       " '95fbdff0-1a8d-4691-b0b7-e7033fa853cd',\n",
       " '1e035bbf-b591-46df-ad39-f2928e546469',\n",
       " '1af896b8-5224-4ac0-a258-b63c51f1ffc6',\n",
       " '48b4d21d-68d5-430c-8646-8dfb9665526f',\n",
       " 'ef0a847e-595c-4af4-af1b-8668aedc4ab6',\n",
       " '603df7e1-ba82-495e-ad4e-00fd7c87fe72',\n",
       " '85b4a0eb-3af0-4192-88c6-5c708b173b73',\n",
       " '68357091-5d2b-41da-b726-c69d68a97a30',\n",
       " '47b20467-6212-42c5-9eb0-cbda12875268',\n",
       " 'dd89af50-f70e-4866-b9ce-c2a45b0d76b1',\n",
       " '3c61ed29-8c74-467e-ac5a-a305da4977dd',\n",
       " '4eb0751a-6146-4931-928b-736d98f75bbe',\n",
       " '353d1809-a01f-45c2-9006-7afe6f44fb98',\n",
       " 'a10874a6-0213-42de-a763-3c3bb3677cde',\n",
       " '79a927f6-48a6-4615-89d5-515a042dfda9',\n",
       " '367f67a5-928d-4722-acc6-9e875640e1e3',\n",
       " '1adb005c-9585-4c60-96ab-a5b187ce04b0',\n",
       " '83905b46-b51b-4975-8902-c72ce3e33c01',\n",
       " '25f3ce1d-e67f-472a-a475-f8d4142d714e',\n",
       " '1d0fd1f8-97c9-4b4d-9a5d-47620943a4d3',\n",
       " '41399a10-751f-4d51-8805-d31f3419fcf9',\n",
       " '2976cf4b-9ae4-47d5-b17a-9c72ba3e69cc',\n",
       " '1908ad7b-54b5-4230-903c-059a86995c86',\n",
       " 'cab45518-a9dd-4d17-b229-b093c222adfd',\n",
       " '587783c7-82e5-43fe-9cf1-bb9c7aafbdb1',\n",
       " 'a85527eb-6524-4b16-9dd8-5dc01d43c3c6',\n",
       " 'afa7b93c-0911-473a-aef9-7d6de57c7f60',\n",
       " '30979bf4-6671-4f40-b11e-abdf8e1bc5cb',\n",
       " 'f756501a-9ff7-45cc-97ac-7c9d153aa753',\n",
       " 'cc676213-159d-42c1-b23b-043b8417f762',\n",
       " '172373f0-f170-4c9b-b60f-62481cd668fa',\n",
       " 'ba129272-2a0d-4bbc-9fef-e3790cfce4be',\n",
       " '279e8657-e394-48da-bb02-f84df29e4791',\n",
       " '1d08cf45-1db2-408e-ae17-1a05a596bd8e',\n",
       " '86d49a4a-16ef-45e4-9904-ada9e4328c5b',\n",
       " '4478e596-0265-4835-8f66-9d77c3c57651',\n",
       " '69508485-fd1e-47a3-9bed-c3c37ba9b440',\n",
       " '2d7bd4d9-e880-4ea9-9bde-a3ae1ce6b4ec',\n",
       " 'df1eabfa-1aa7-48eb-8bad-0c4b34931335',\n",
       " '66b0c95e-d104-40b6-8220-f428b01a0063',\n",
       " 'cf49b310-4671-41f1-a398-738010502b6c',\n",
       " 'cf56ab7e-a777-413c-979b-4580e6b2ce69',\n",
       " 'a80739ef-aef1-4444-87c6-06241f3867f5',\n",
       " '871a7e4f-2ce9-442a-bfa3-93b9af5fabe4',\n",
       " 'dbdaaf2b-aa10-4db9-9e32-30489174adf2',\n",
       " 'f3b3f7e7-d99f-4a05-aa48-121acf63153d',\n",
       " '9504e872-a0eb-45da-8963-0cb59f923dc5',\n",
       " '175cf3e1-fe58-4142-9e5b-adb15bae2e49',\n",
       " '3bc42f29-d898-4989-bda5-df198a0eb99c',\n",
       " '4281e778-4839-45ea-83ac-bf3c7c715e9c',\n",
       " 'ca83c851-a676-417b-b97f-5b4961d18e61',\n",
       " '5605c4cc-e5c1-4832-93bf-2988d178813d',\n",
       " 'a8faae8d-eff7-4eaa-b39f-f340c73b9a2d',\n",
       " 'fccfd0e8-3597-45a5-a369-bdde5c6d79f6',\n",
       " 'b0d415c9-77d9-446a-95a9-ce2c356c6545',\n",
       " 'c765cb3c-3e6d-4892-a5bf-c161797673ac',\n",
       " '748af868-9737-454c-b4b5-8eb3721963b9',\n",
       " '465ec733-00b5-481e-ba6b-0ca88fd5eacb',\n",
       " 'a99256ae-1430-44f9-8cd4-57441fbf35ef',\n",
       " '624c4076-324c-4544-987e-da6ef551d2d6',\n",
       " 'c55bfc7b-9341-46e9-a058-6032efffa1d7',\n",
       " 'db94bbe5-00b5-4b82-9452-34f87df7e3e7',\n",
       " 'a7d7bfad-db08-4123-bb10-4c26786c0bf9',\n",
       " 'b6d3263a-a076-4d33-89d8-580fe8e76e16',\n",
       " '1e928a10-5388-4188-b183-b1b56a4a7325',\n",
       " '961b5f80-34ff-4a56-bbaf-e2c60340b425',\n",
       " '103c1a67-d784-4c49-ade7-f5f424c6af5b',\n",
       " '1168e1d2-37bf-4fe5-982a-96eb3bb6c50a',\n",
       " '2b290cd0-86e1-4c35-aaff-9530dc5feb3c',\n",
       " '88e43292-4d38-4deb-99de-4c75dcd7200d',\n",
       " 'f68b86a0-9827-4b0f-83fa-c77aff1f2506',\n",
       " 'dbb05e5a-9eec-4b26-aaa2-cd22b9706e2a',\n",
       " '6befcde3-e0ff-4280-abbe-f1313b90a0e1',\n",
       " '69a92a9a-4b06-4ac6-9d0f-60ae43703449',\n",
       " '6032f743-71cc-49de-ac3a-7b9f4e465433',\n",
       " '45603f2f-a5b9-4444-91c3-29db2e5da561',\n",
       " 'f3d5fe5c-f2d7-4a83-8519-0c79c25324ca',\n",
       " 'fa8ea2d4-14e8-4d9c-8325-9348336451ab',\n",
       " 'c9d13ba6-02ba-47b6-b5d8-9f288e25c032',\n",
       " '2767378f-77f4-45c3-8d0b-4ec712834e6b',\n",
       " '97bb3f98-7269-464f-a6fe-a4d86ca3b321',\n",
       " '7bfd444d-3220-4bb0-bce3-bbdc5f106044',\n",
       " '7ef99707-5b3d-4a11-ac52-fe6f4b780837',\n",
       " 'b807d41e-f5be-4a2f-b1c5-be537902c135',\n",
       " '6ecd9b00-c904-472c-b36c-b898f9937571',\n",
       " 'd3070f6c-932a-4dcb-ade6-7fb607ed512a',\n",
       " 'e1dbdd92-4d6e-4c8a-ab11-c6ac45f41a69',\n",
       " '1675b608-ffa1-439e-badc-17f7981ccc16',\n",
       " 'f49cbf76-8152-4d31-b96e-cd5be02ae3ac',\n",
       " 'abb6bafd-a44e-42ec-9bd4-3f1693c338dc',\n",
       " '9a5e7783-43cb-4faf-96cf-d484e8c2d244',\n",
       " '40c4c53d-b611-4bbb-aad0-bf337623be36',\n",
       " 'c1c35f24-a35c-4d06-b137-be1a19e2c4f7',\n",
       " '4e129b65-a349-4d58-ba25-ea66ba8d8d64',\n",
       " '19e04b43-73dd-4f4a-bdc4-6fd53d6e61ff',\n",
       " '4a827ecd-de14-4425-b797-91e96b0bf380',\n",
       " '03ad12e6-ba73-42a1-a9b7-d465cc6fcdb3',\n",
       " '427620c2-a261-43b6-afda-59b74d770efa',\n",
       " 'db3ff6e2-5916-4d01-bc7d-2652f267cd6f',\n",
       " '63fcfd1b-4820-4fb1-a93e-b84782da8b14',\n",
       " '596398c8-f15a-4c9b-8293-4499c9e76054',\n",
       " 'e8edfb5e-dd63-4cf0-9b4d-c665ec339ec1',\n",
       " '0b84a164-8354-4e82-97ec-0eef1ba92b73',\n",
       " '0ad83295-56b9-476b-adb1-26b92699c724',\n",
       " '5765801c-0d0a-47cd-9d70-f203c9865c0b',\n",
       " '50ca25c3-709e-40b7-b3ca-7a317dc82ac8',\n",
       " '8dfde2ff-ead4-4ad9-98af-8ef21283fa3e',\n",
       " '7ff24631-0d24-4971-b954-71440db0f160',\n",
       " 'd54038a2-7b41-4cc5-9a1f-e7de8b852131',\n",
       " '5ab7a262-4303-4f6c-97ab-cbd97f8922bd',\n",
       " '7d235436-12d0-428b-93b0-e464fd51ea59',\n",
       " '9c07cb60-573f-450c-8e3c-90582e8d2e7d',\n",
       " 'ca1c1f20-ee56-4519-ab79-5481030ae90b',\n",
       " '89aa7b59-e2df-470f-9eb2-2cb2c17c2761',\n",
       " 'afbd8d82-a158-4762-8dea-3ef9122af17c',\n",
       " '0fda5836-0757-4963-993f-8c78f1bbb4a6',\n",
       " 'aeec33e5-c4d3-4578-9f43-1335709e539d',\n",
       " 'ea9afe61-5919-45b3-974b-d48d29589f7c',\n",
       " '555ce1ff-d317-47a8-aaae-59521d39fb7c',\n",
       " '7fca6db6-ecfc-4697-98d9-57024f8b2d08',\n",
       " 'c23c8d74-8fe7-4cfe-82ac-5b76a4276022',\n",
       " '5d3440e8-3bee-4d66-97f0-a4000a305cd9',\n",
       " '89cb7fcb-a931-43c7-8a98-47b490223886',\n",
       " 'fc04b007-5e2c-4911-9cad-e97cf1e645b1',\n",
       " 'bb96e904-b347-42a4-96cd-b750fb6aa4a1',\n",
       " '6bbcde0a-aae0-4e9d-b156-c6b52cfe9586',\n",
       " '8b37c8c4-43ac-495f-ac8e-fa98a956296c',\n",
       " 'b999fb9b-9d80-4791-8dff-3c9b3d42c03b',\n",
       " '5112daf6-003a-4850-9b3e-a8f267b4ae35',\n",
       " '700b2807-4219-411a-9f11-82e0766fc926',\n",
       " '9943ed49-9cd8-43ba-bd28-f5f7bd9d2953',\n",
       " '0ee8be3c-ad77-4aff-a9a4-297c307f9d41',\n",
       " '2bcdce77-5d66-436f-aad3-8c075f24eff3',\n",
       " 'efe4f0d8-dd4e-4145-a9d1-e26be3d365d9',\n",
       " '_6d33gha18p246b9g6h2k4b9k84s30b9o8gs34b9n6t2jica16ksjed2364_20201204T093000Z',\n",
       " '_8513icq38gs30b9m6l33ib9k60o3eba28p13cba68cpjed1g6ss46gi68g',\n",
       " 'd1fe7cba-955a-4318-b62a-121a6e157480',\n",
       " '1263ad3f-7da4-4614-b87c-c0c991570158',\n",
       " 'eac47f93-cc1c-4073-afd7-046697c1411a',\n",
       " '_6cr3acpl6sqkcba664oj2b9k88s42ba28or38b9l8l1j6gq28oo36cpn6c',\n",
       " '096e4ca1-25f0-4cb3-b627-b77fc139a511',\n",
       " '66558b42-134e-4117-9777-3673c7ca12d1',\n",
       " 'aa790f71-10af-409c-9a76-6bb6381715da',\n",
       " 'c8d9d2f2-1e25-44bc-8fe2-39f7f04fd537',\n",
       " 'd1be04cf-ba58-471f-ae10-5ff481648854',\n",
       " '471a7266-864b-43fd-a251-3a38c7c6be1a',\n",
       " 'c02167eb-0315-4e7c-9511-c71e8b8150a9',\n",
       " 'fe328eda-4299-42e1-b9c0-dfe0aa0c64a4',\n",
       " '1428d2e1-d9ec-4299-80c4-3dbf4da2e22b',\n",
       " '_8gr36c9k65248ba28p348b9k6ssj0b9o70sj4ba474p44dpk750kaea68o',\n",
       " '_8opk6g9o6h1j4b9i6t146b9k6kpjgb9p60s36b9n71144d1g64qj4dho8c',\n",
       " 'c68f5fc7-f6d5-4fdb-870f-4baa6e66127e',\n",
       " '55930028-53aa-4a99-aa47-4896ffd523e2',\n",
       " 'a3b96193-9c56-42b4-99ed-daba124de728',\n",
       " '_60pjae1k8kr36b9g8cqjeb9k75136b9p6t244ba574s3edq56kr3acpl70',\n",
       " '53157446-81d9-44ba-acd4-63489066a7c6',\n",
       " '_8l33cdi26h23cba571242b9k68q42b9o60p46ba18crj8da274r34ca564',\n",
       " 'cb060b11-61df-4165-a273-0e15c949206a',\n",
       " 'be8910fe-329c-4767-bb0a-f813e8a77580',\n",
       " '92ef0f2c-dd68-4e55-b82a-91c0e06daa6c',\n",
       " '943b5bc1-43d6-4fd4-b965-8752fc87628e',\n",
       " '3c4d1798-cb46-48c8-9eaf-b0f1d8fbfb15',\n",
       " '73d51221-17c6-47eb-b524-c7eda22b2dc4',\n",
       " '9d3aeb48-8518-466f-9bd6-195159d83d9c',\n",
       " '27652991-99be-4662-bf51-5db0d8e1535b',\n",
       " '71ccd7ce-fd79-4a88-9958-8c94763f11e5',\n",
       " '1f5a1323-acac-4d5a-84e1-050df862ef69',\n",
       " '40335a80-5d91-4833-8b1c-5ed2dfac9a6d',\n",
       " 'e1a2ecc5-90b8-461e-8749-80f098b39a8a',\n",
       " '8b01b405-03d0-46e7-98ba-cf0025a72028',\n",
       " '0c601932-3370-4912-b5df-94f8409f4c25',\n",
       " '0efb00b5-1378-4533-93c3-519f87e9074c',\n",
       " '8d1a45c2-4db1-48b2-af0c-ccd0d5aea3d0',\n",
       " '25706d86-3e0e-48ca-855b-d66429f948d2',\n",
       " 'a377cbf9-3813-4b4e-92d4-e89581a77f57',\n",
       " '9fddaa68-27bb-4f3c-a735-c28b9cb40c6a',\n",
       " 'ad13d661-9f00-423f-a897-e637d778e7a7',\n",
       " '652e7ff6-70d4-4082-ae90-9b4ae8ded761',\n",
       " '6b853c4d-408b-4152-854b-7731d8d9db21',\n",
       " 'e21fc737-cdf3-40f7-beca-3bf35770e998',\n",
       " 'e50d7031-9a34-494c-8090-f5e119406b0c',\n",
       " '719e4219-41c6-4750-a8e7-dd62e25080cb',\n",
       " '81be4922-3009-4585-bc17-b9e6f6f211c9',\n",
       " '9aa68389-745d-4bcf-b59e-0cadd760b07f',\n",
       " 'de162c05-0876-440d-8203-d7bc92b92d91',\n",
       " '9fdca240-1460-4f31-83f8-f551ea244541',\n",
       " 'd05a6c93-cac5-4c1c-9adb-a7754118b323',\n",
       " '61049ebb-8ee6-4d08-a86b-d74ced0ad6dc',\n",
       " '8ea14ac0-3834-4dec-bf5b-6710f1402632',\n",
       " '47a62568-8253-450f-a3e3-b4fae29dbeed',\n",
       " 'aef3b04f-e98d-4468-80ad-34da36fa149b',\n",
       " '514fcf3d-c316-4336-8d04-ca968d370faa',\n",
       " 'b3d1e3a7-5698-4741-bce1-ba1190e8abb0',\n",
       " 'c3eace47-621e-4c89-a0d7-0fbfe89084ee',\n",
       " 'e829e612-8883-4d6d-a361-b9f67a17dc1f',\n",
       " 'e26d5976-f234-454d-8e87-f56a8fc08b35',\n",
       " '3c4b2dd1-5b73-43d8-a0f7-de89b1af34ae',\n",
       " 'cde1bc4e-f50f-47c3-9f20-9f33d1b24052',\n",
       " 'e798dbca-f08a-4be5-8dcb-9817830b41ab',\n",
       " '6219f737-1e26-43c4-9bc4-24bf0378fbf5',\n",
       " '087364f4-73c3-426a-bead-157b46555285',\n",
       " 'a57bfe87-eaab-4023-b352-9d31aa7b93a0',\n",
       " '537609b5-f648-4e6b-af29-cf983936a3bd',\n",
       " '791178bb-1c63-4da9-822d-46418804846b',\n",
       " '44d2ecac-43b9-4d97-a7dc-dfcae0263ad3',\n",
       " '105277e7-a661-4076-9b3c-5725d390bc4d',\n",
       " '39cd0893-d20f-4d4c-a66c-a7923d85d50b',\n",
       " 'a2a3b0d2-93b3-4acc-b156-5a0096bdf238',\n",
       " '36d66a37-bdea-41d7-b63c-9909e270cd3b']"
      ]
     },
     "execution_count": 7,
     "metadata": {},
     "output_type": "execute_result"
    }
   ],
   "source": [
    "\"bc981696-1c19-4c3f-8ccc-c9e39fa03e30\"\n",
    "\"0d40ff22-a6e2-472c-b2e8-f3632adb08f0\"\n",
    "\n",
    "#df.loc[df[\"PSNR\"] == \"p17\"]\n",
    "\n",
    "list(df[\"focusID\"])"
   ]
  },
  {
   "cell_type": "code",
   "execution_count": 8,
   "metadata": {},
   "outputs": [],
   "source": [
    "messages_timestamps = []\n",
    "\n",
    "focusIDs = list(df[\"focusID\"])\n",
    "\n",
    "for i in onlyfiles:\n",
    "    with open(f'data/{i}', 'r') as outfile:\n",
    "        for k in data[\"focusSessions\"]:\n",
    "            if 300 > round((k[\"endTime\"] - k[\"startTime\"])/60000,2) > 10:\n",
    "                for j in k[\"services\"]:\n",
    "                    for m in j[\"messages\"]:\n",
    "                        messages_timestamps.append(m[\"timestamp\"])\n",
    "\n"
   ]
  },
  {
   "cell_type": "markdown",
   "metadata": {},
   "source": [
    "<h2>What is the effect of notification blocking and distraction discouragements during a user defined time period on their perceived productivity?</h2>\n"
   ]
  },
  {
   "cell_type": "code",
   "execution_count": 9,
   "metadata": {},
   "outputs": [],
   "source": [
    "pomodoro = df[(df['appVersion'] == \"pomodoro\")]\n",
    "exman = df[(df['appVersion'] == \"exman\")]"
   ]
  },
  {
   "cell_type": "markdown",
   "metadata": {},
   "source": [
    "<h4> Productivity Rating </h4>"
   ]
  },
  {
   "cell_type": "code",
   "execution_count": 10,
   "metadata": {},
   "outputs": [],
   "source": [
    "exman_rating = exman.dropna(subset=[\"rating\"])\n",
    "pomodoro_rating = pomodoro.dropna(subset=[\"rating\"])\n",
    "df_rating = df.dropna(subset=[\"rating\"])"
   ]
  },
  {
   "cell_type": "code",
   "execution_count": 11,
   "metadata": {},
   "outputs": [],
   "source": [
    "d = {\"0-3\":[0,0],\n",
    "     \"4-7\":[0,0],\n",
    "     \"8-11\":[0,0],\n",
    "     \"12-15\":[0,0],\n",
    "     \"16-19\":[0,0],\n",
    "     \"20-23\":[0,0],\n",
    "    }\n",
    "lst = []\n",
    "\n",
    "for index, row in df_rating.iterrows():\n",
    "    if row[\"hourOfDay\"] < 4:\n",
    "        d[\"0-3\"] = [d[\"0-3\"][0]+int(row[\"rating\"]),d[\"0-3\"][1]+1]\n",
    "        lst.append(row[\"PSNR\"])\n",
    "    elif row[\"hourOfDay\"] <8:\n",
    "        d[\"4-7\"] = [d[\"4-7\"][0]+int(row[\"rating\"]),d[\"4-7\"][1]+1]\n",
    "        lst.append(row[\"PSNR\"])\n",
    "    elif row[\"hourOfDay\"] <12:\n",
    "        d[\"8-11\"] = [d[\"8-11\"][0]+int(row[\"rating\"]),d[\"8-11\"][1]+1]\n",
    "    elif row[\"hourOfDay\"] <16:\n",
    "        d[\"12-15\"] = [d[\"12-15\"][0]+int(row[\"rating\"]),d[\"12-15\"][1]+1]\n",
    "    elif row[\"hourOfDay\"] <20:\n",
    "        d[\"16-19\"] = [d[\"16-19\"][0]+int(row[\"rating\"]),d[\"16-19\"][1]+1]\n",
    "    else:\n",
    "        d[\"20-23\"] = [d[\"20-23\"][0]+int(row[\"rating\"]),d[\"20-23\"][1]+1]"
   ]
  },
  {
   "cell_type": "code",
   "execution_count": 12,
   "metadata": {},
   "outputs": [
    {
     "data": {
      "text/plain": [
       "{'0-3': [0, 0],\n",
       " '4-7': [73, 14],\n",
       " '8-11': [362, 64],\n",
       " '12-15': [356, 61],\n",
       " '16-19': [232, 38],\n",
       " '20-23': [75, 12]}"
      ]
     },
     "execution_count": 12,
     "metadata": {},
     "output_type": "execute_result"
    }
   ],
   "source": [
    "d"
   ]
  },
  {
   "cell_type": "code",
   "execution_count": 13,
   "metadata": {},
   "outputs": [],
   "source": [
    "#[[n/d for n, d in zip(subq, subr)] for subq, subr in zip(q, r)]"
   ]
  },
  {
   "cell_type": "code",
   "execution_count": 14,
   "metadata": {},
   "outputs": [],
   "source": [
    "ratingPerBin = []\n",
    "for key in d:\n",
    "    if d[key][1] != 0:\n",
    "        val = d[key]\n",
    "        ratingPerBin.append(val[0]/val[1])\n",
    "    else:\n",
    "        ratingPerBin.append(0)"
   ]
  },
  {
   "cell_type": "code",
   "execution_count": 15,
   "metadata": {},
   "outputs": [
    {
     "data": {
      "text/plain": [
       "{'p12'}"
      ]
     },
     "execution_count": 15,
     "metadata": {},
     "output_type": "execute_result"
    }
   ],
   "source": [
    "d_count = {\"0-3\":0,\n",
    "     \"4-7\":0,\n",
    "     \"8-11\":0,\n",
    "     \"12-15\":0,\n",
    "     \"16-19\":0,\n",
    "     \"20-23\":0\n",
    "    }\n",
    "\n",
    "lst_2 = []\n",
    "for i in messages_timestamps:\n",
    "    hourOfDay = pd.Timestamp(i,unit = \"ms\").hour\n",
    "    if hourOfDay < 4:\n",
    "        d_count[\"0-3\"] +=1\n",
    "    elif hourOfDay <8:\n",
    "        d_count[\"4-7\"] +=1\n",
    "    elif hourOfDay <12:\n",
    "        d_count[\"8-11\"] +=1\n",
    "    elif hourOfDay <16:\n",
    "        d_count[\"12-15\"] +=1\n",
    "    elif hourOfDay <20:\n",
    "        d_count[\"16-19\"] +=1\n",
    "    else:\n",
    "        d_count[\"20-23\"] +=1\n",
    "        \n",
    "set(lst_2)"
   ]
  },
  {
   "cell_type": "code",
   "execution_count": 17,
   "metadata": {},
   "outputs": [
    {
     "data": {
      "text/plain": [
       "{'0-3': 99, '4-7': 0, '8-11': 0, '12-15': 11, '16-19': 55, '20-23': 77}"
      ]
     },
     "execution_count": 17,
     "metadata": {},
     "output_type": "execute_result"
    }
   ],
   "source": [
    "d_count"
   ]
  },
  {
   "cell_type": "code",
   "execution_count": 16,
   "metadata": {},
   "outputs": [
    {
     "data": {
      "text/plain": [
       "<matplotlib.collections.PathCollection at 0x18b5da69588>"
      ]
     },
     "execution_count": 16,
     "metadata": {},
     "output_type": "execute_result"
    },
    {
     "data": {
      "image/png": "[encoded data removed]",
      "text/plain": [
       "<Figure size 1080x360 with 2 Axes>"
      ]
     },
     "metadata": {
      "needs_background": "light"
     },
     "output_type": "display_data"
    }
   ],
   "source": [
    "fig, (ax1,ax2) = plt.subplots(1, 2,figsize=(15,5))\n",
    "\n",
    "\n",
    "ax1.scatter([i for i in d_count.keys()],d_count.values())\n",
    "ax2.scatter([i for i in d.keys()],ratingPerBin)\n",
    "\n",
    "#normalize it by participant/nr of focus session\n",
    "#nr of messages received/nr of focus session\n"
   ]
  },
  {
   "cell_type": "code",
   "execution_count": null,
   "metadata": {},
   "outputs": [],
   "source": []
  }
 ],
 "metadata": {
  "kernelspec": {
   "display_name": "Python 3",
   "language": "python",
   "name": "python3"
  },
  "language_info": {
   "codemirror_mode": {
    "name": "ipython",
    "version": 3
   },
   "file_extension": ".py",
   "mimetype": "text/x-python",
   "name": "python",
   "nbconvert_exporter": "python",
   "pygments_lexer": "ipython3",
   "version": "3.7.7"
  }
 },
 "nbformat": 4,
 "nbformat_minor": 4
}
