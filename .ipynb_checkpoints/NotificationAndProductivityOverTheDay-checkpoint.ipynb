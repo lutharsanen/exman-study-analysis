{
 "cells": [
  {
   "cell_type": "code",
   "execution_count": 1,
   "metadata": {},
   "outputs": [],
   "source": [
    "import warnings\n",
    "warnings.filterwarnings(\"ignore\")"
   ]
  },
  {
   "cell_type": "code",
   "execution_count": 2,
   "metadata": {},
   "outputs": [],
   "source": [
    "import json\n",
    "import numpy as np\n",
    "import matplotlib.pyplot as plt\n",
    "import pandas as pd\n",
    "import scipy.stats\n",
    "import pytz\n",
    "import datetime"
   ]
  },
  {
   "cell_type": "markdown",
   "metadata": {},
   "source": [
    "<h1> Research Questions </h1>"
   ]
  },
  {
   "cell_type": "code",
   "execution_count": 3,
   "metadata": {},
   "outputs": [],
   "source": [
    "def get_comparison_summary(parameter):\n",
    "    return pd.concat([pomodoro[parameter].describe(),exman[parameter].describe()],axis=1,keys=[\"pomodoro\",\"exman\"])"
   ]
  },
  {
   "cell_type": "code",
   "execution_count": 4,
   "metadata": {},
   "outputs": [],
   "source": [
    "def normalize_data(data_input, normalizer, data_output, df):\n",
    "    df[data_output] = df[data_input]/df[normalizer]*60"
   ]
  },
  {
   "cell_type": "code",
   "execution_count": 5,
   "metadata": {},
   "outputs": [],
   "source": [
    "def create_focusDF(data,filenr):\n",
    "    \n",
    "    nr_of_services = []\n",
    "    focus_ids = []\n",
    "    hourOfDay = []\n",
    "    \n",
    "    # transform json part to pandas dataframe\n",
    "    df = pd.json_normalize(data[\"focusSessions\"])\n",
    "    \n",
    "    # create new column, which calculates how long a user stayed in focus\n",
    "    df[\"minutesInFocus\"] = round((df[\"endTime\"] - df[\"startTime\"])/60000,2)\n",
    "    \n",
    "    for index, row in df.iterrows():\n",
    "        \n",
    "        # get number of used services\n",
    "        nr_of_services.append(len(row[\"services\"]))\n",
    "        \n",
    "        d ={}\n",
    "        \n",
    "        \n",
    "        focus_ids.append(row[\"id\"])\n",
    "        \n",
    "        if filenr[:3] == \"p17\":\n",
    "            colorado_timezone = pytz.timezone('Etc/GMT-7')\n",
    "            hourOfDay.append(datetime.datetime.fromtimestamp(row[\"startTime\"]/1000,colorado_timezone).hour)\n",
    "            \n",
    "        else:\n",
    "            hourOfDay.append(datetime.datetime.fromtimestamp(row[\"startTime\"]/1000).hour)\n",
    "            \n",
    "    df[\"focusID\"] = focus_ids\n",
    "    df[\"PSNR\"] = filenr[:3]\n",
    "    df[\"numberOfServices\"] = nr_of_services\n",
    "    df[\"hourOfDay\"] = hourOfDay\n",
    "    \n",
    "    \n",
    "    # focus session which were longer than 6 hours were dropped (2 datapoints, probably participant forgot to close \n",
    "    # focus session)\n",
    "    df = df[(df[\"minutesInFocus\"] < 300) & (df['minutesInFocus']>10)]\n",
    "    \n",
    "    # drop columns startTime, endTime, originalEndTime, goals and completedGoals\n",
    "    df = df.drop([\"id\",\"services\",\"calendarSubject\",'startTime','endTime',\n",
    "                  'originalEndTime','goals',\n",
    "                  'completedGoals',\"activeWindows\",\"comments\", \"brokenFocus\", \"scheduled\"]\n",
    "                 , axis=1)\n",
    "    \n",
    "    #df = df.loc[df['PSNR'] != \"p17\"]\n",
    "    return df"
   ]
  },
  {
   "cell_type": "code",
   "execution_count": 6,
   "metadata": {},
   "outputs": [],
   "source": [
    "from os import listdir\n",
    "from os.path import isfile, join\n",
    "\n",
    "mypath = \"./data\"\n",
    "onlyfiles = [f for f in listdir(mypath) if isfile(join(mypath, f))]\n",
    "\n",
    "df = pd.DataFrame()\n",
    "\n",
    "for i in onlyfiles:\n",
    "    with open(f'data/{i}', 'r') as outfile:\n",
    "        data = json.load(outfile)\n",
    "        df_temp = create_focusDF(data,i)\n",
    "        df = pd.concat([df,df_temp])\n",
    "        \n",
    "\n",
    "df = df.reset_index()"
   ]
  },
  {
   "cell_type": "code",
   "execution_count": 7,
   "metadata": {},
   "outputs": [
    {
     "ename": "NameError",
     "evalue": "name 'row' is not defined",
     "output_type": "error",
     "traceback": [
      "\u001b[1;31m---------------------------------------------------------------------------\u001b[0m",
      "\u001b[1;31mNameError\u001b[0m                                 Traceback (most recent call last)",
      "\u001b[1;32m<ipython-input-7-082c364515ab>\u001b[0m in \u001b[0;36m<module>\u001b[1;34m\u001b[0m\n\u001b[0;32m     14\u001b[0m                             \u001b[0mdatetime\u001b[0m\u001b[1;33m.\u001b[0m\u001b[0mdatetime\u001b[0m\u001b[1;33m.\u001b[0m\u001b[0mfromtimestamp\u001b[0m\u001b[1;33m(\u001b[0m\u001b[0mm\u001b[0m\u001b[1;33m[\u001b[0m\u001b[1;34m\"timestamp\"\u001b[0m\u001b[1;33m]\u001b[0m\u001b[1;33m/\u001b[0m\u001b[1;36m1000\u001b[0m\u001b[1;33m,\u001b[0m\u001b[0mcolorado_timezone\u001b[0m\u001b[1;33m)\u001b[0m\u001b[1;33m.\u001b[0m\u001b[0mhour\u001b[0m\u001b[1;33m\u001b[0m\u001b[1;33m\u001b[0m\u001b[0m\n\u001b[0;32m     15\u001b[0m                         \u001b[1;32melse\u001b[0m\u001b[1;33m:\u001b[0m\u001b[1;33m\u001b[0m\u001b[1;33m\u001b[0m\u001b[0m\n\u001b[1;32m---> 16\u001b[1;33m                             \u001b[0mmessages_timestamps\u001b[0m\u001b[1;33m.\u001b[0m\u001b[0mappend\u001b[0m\u001b[1;33m(\u001b[0m\u001b[1;33m(\u001b[0m\u001b[0mdatetime\u001b[0m\u001b[1;33m.\u001b[0m\u001b[0mdatetime\u001b[0m\u001b[1;33m.\u001b[0m\u001b[0mfromtimestamp\u001b[0m\u001b[1;33m(\u001b[0m\u001b[0mrow\u001b[0m\u001b[1;33m[\u001b[0m\u001b[1;34m\"startTime\"\u001b[0m\u001b[1;33m]\u001b[0m\u001b[1;33m/\u001b[0m\u001b[1;36m1000\u001b[0m\u001b[1;33m)\u001b[0m\u001b[1;33m.\u001b[0m\u001b[0mhour\u001b[0m\u001b[1;33m,\u001b[0m\u001b[0mi\u001b[0m\u001b[1;33m[\u001b[0m\u001b[1;33m:\u001b[0m\u001b[1;36m3\u001b[0m\u001b[1;33m]\u001b[0m\u001b[1;33m)\u001b[0m\u001b[1;33m)\u001b[0m\u001b[1;33m\u001b[0m\u001b[1;33m\u001b[0m\u001b[0m\n\u001b[0m\u001b[0;32m     17\u001b[0m \u001b[1;33m\u001b[0m\u001b[0m\n",
      "\u001b[1;31mNameError\u001b[0m: name 'row' is not defined"
     ]
    }
   ],
   "source": [
    "messages_timestamps = []\n",
    "\n",
    "\n",
    "for i in onlyfiles:\n",
    "    #print(i)\n",
    "    with open(f'data/{i}', 'r') as outfile:\n",
    "        for k in data[\"focusSessions\"]:\n",
    "            timestamp = round((k[\"endTime\"] - k[\"startTime\"])/60000,2) \n",
    "            if (300 > timestamp) and (timestamp > 10):\n",
    "                for j in k[\"services\"]:\n",
    "                    for m in j[\"messages\"]:\n",
    "                        if i[:3] == \"p17\":\n",
    "                            colorado_timezone = pytz.timezone('Etc/GMT-7')\n",
    "                            m_time =datetime.datetime.fromtimestamp(m[\"timestamp\"]/1000,colorado_timezone).hour\n",
    "                            messages_timestamps.append(m_time,i[:3])\n",
    "                        else:\n",
    "                            m_time = datetime.datetime.fromtimestamp(m[\"timestamp\"]/1000).hour\n",
    "                            messages_timestamps.append(m_time,i[:3])\n"
   ]
  },
  {
   "cell_type": "markdown",
   "metadata": {},
   "source": [
    "<h2>What is the effect of notification blocking and distraction discouragements during a user defined time period on their perceived productivity?</h2>\n"
   ]
  },
  {
   "cell_type": "code",
   "execution_count": null,
   "metadata": {},
   "outputs": [],
   "source": [
    "pomodoro = df[(df['appVersion'] == \"pomodoro\")]\n",
    "exman = df[(df['appVersion'] == \"exman\")]"
   ]
  },
  {
   "cell_type": "markdown",
   "metadata": {},
   "source": [
    "<h4> Productivity Rating </h4>"
   ]
  },
  {
   "cell_type": "code",
   "execution_count": null,
   "metadata": {},
   "outputs": [],
   "source": [
    "exman_rating = exman.dropna(subset=[\"rating\"])\n",
    "pomodoro_rating = pomodoro.dropna(subset=[\"rating\"])\n",
    "df_rating = df.dropna(subset=[\"rating\"])"
   ]
  },
  {
   "cell_type": "code",
   "execution_count": null,
   "metadata": {},
   "outputs": [],
   "source": [
    "d = {\"0-3\":[0,0],\n",
    "     \"4-7\":[0,0],\n",
    "     \"8-11\":[0,0],\n",
    "     \"12-15\":[0,0],\n",
    "     \"16-19\":[0,0],\n",
    "     \"20-23\":[0,0],\n",
    "    }\n",
    "lst = []\n",
    "\n",
    "for index, row in df_rating.iterrows():\n",
    "    if row[\"hourOfDay\"] < 4:\n",
    "        d[\"0-3\"] = [d[\"0-3\"][0]+int(row[\"rating\"]),d[\"0-3\"][1]+1]\n",
    "        lst.append(row[\"PSNR\"])\n",
    "    elif row[\"hourOfDay\"] <8:\n",
    "        d[\"4-7\"] = [d[\"4-7\"][0]+int(row[\"rating\"]),d[\"4-7\"][1]+1]\n",
    "        lst.append(row[\"PSNR\"])\n",
    "    elif row[\"hourOfDay\"] <12:\n",
    "        d[\"8-11\"] = [d[\"8-11\"][0]+int(row[\"rating\"]),d[\"8-11\"][1]+1]\n",
    "    elif row[\"hourOfDay\"] <16:\n",
    "        d[\"12-15\"] = [d[\"12-15\"][0]+int(row[\"rating\"]),d[\"12-15\"][1]+1]\n",
    "    elif row[\"hourOfDay\"] <20:\n",
    "        d[\"16-19\"] = [d[\"16-19\"][0]+int(row[\"rating\"]),d[\"16-19\"][1]+1]\n",
    "    else:\n",
    "        d[\"20-23\"] = [d[\"20-23\"][0]+int(row[\"rating\"]),d[\"20-23\"][1]+1]"
   ]
  },
  {
   "cell_type": "code",
   "execution_count": null,
   "metadata": {},
   "outputs": [],
   "source": [
    "d"
   ]
  },
  {
   "cell_type": "code",
   "execution_count": null,
   "metadata": {},
   "outputs": [],
   "source": [
    "ratingPerBin = []\n",
    "for key in d:\n",
    "    if d[key][1] != 0:\n",
    "        val = d[key]\n",
    "        ratingPerBin.append(val[0]/val[1])\n",
    "    else:\n",
    "        ratingPerBin.append(0.1)"
   ]
  },
  {
   "cell_type": "code",
   "execution_count": null,
   "metadata": {},
   "outputs": [],
   "source": [
    "d_count = {\"0-3\":0,\n",
    "     \"4-7\":0,\n",
    "     \"8-11\":0,\n",
    "     \"12-15\":0,\n",
    "     \"16-19\":0,\n",
    "     \"20-23\":0\n",
    "    }\n",
    "\n",
    "\n",
    "for i in messages_timestamps:\n",
    "    hourOfDay = pd.Timestamp(i[0],unit = \"ms\").hour\n",
    "    if hourOfDay < 4:\n",
    "        #print((pd.Timestamp(i[0],unit = \"ms\").hour,i[1]))\n",
    "        d_count[\"0-3\"] +=1\n",
    "    elif hourOfDay <8:\n",
    "        d_count[\"4-7\"] +=1\n",
    "    elif hourOfDay <12:\n",
    "        d_count[\"8-11\"] +=1\n",
    "    elif hourOfDay <16:\n",
    "        d_count[\"12-15\"] +=1\n",
    "    elif hourOfDay <20:\n",
    "        d_count[\"16-19\"] +=1\n",
    "    else:\n",
    "        d_count[\"20-23\"] +=1\n",
    "    "
   ]
  },
  {
   "cell_type": "code",
   "execution_count": null,
   "metadata": {},
   "outputs": [],
   "source": [
    "d_count.values()"
   ]
  },
  {
   "cell_type": "code",
   "execution_count": null,
   "metadata": {},
   "outputs": [],
   "source": [
    "fig, (ax1,ax2) = plt.subplots(1, 2,figsize=(15,5))\n",
    "\n",
    "\n",
    "ax1.scatter(d_count.keys(),d_count.values())\n",
    "ax2.scatter(d.keys(),ratingPerBin)\n",
    "\n",
    "#normalize it by participant/nr of focus session\n",
    "#nr of messages received/nr of focus session\n"
   ]
  },
  {
   "cell_type": "code",
   "execution_count": null,
   "metadata": {},
   "outputs": [],
   "source": []
  }
 ],
 "metadata": {
  "kernelspec": {
   "display_name": "Python 3",
   "language": "python",
   "name": "python3"
  },
  "language_info": {
   "codemirror_mode": {
    "name": "ipython",
    "version": 3
   },
   "file_extension": ".py",
   "mimetype": "text/x-python",
   "name": "python",
   "nbconvert_exporter": "python",
   "pygments_lexer": "ipython3",
   "version": "3.7.7"
  }
 },
 "nbformat": 4,
 "nbformat_minor": 4
}
