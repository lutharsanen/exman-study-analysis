{
 "cells": [
  {
   "cell_type": "code",
   "execution_count": 1,
   "metadata": {},
   "outputs": [],
   "source": [
    "import warnings\n",
    "warnings.filterwarnings(\"ignore\")"
   ]
  },
  {
   "cell_type": "code",
   "execution_count": 2,
   "metadata": {},
   "outputs": [],
   "source": [
    "import json\n",
    "import numpy as np\n",
    "import matplotlib.pyplot as plt\n",
    "import pandas as pd\n",
    "import scipy.stats"
   ]
  },
  {
   "cell_type": "markdown",
   "metadata": {},
   "source": [
    "<h1> Research Questions </h1>"
   ]
  },
  {
   "cell_type": "code",
   "execution_count": 3,
   "metadata": {},
   "outputs": [],
   "source": [
    "def get_comparison_summary(parameter):\n",
    "    return pd.concat([pomodoro[parameter].describe(),exman[parameter].describe()],axis=1,keys=[\"pomodoro\",\"exman\"])"
   ]
  },
  {
   "cell_type": "code",
   "execution_count": 4,
   "metadata": {},
   "outputs": [],
   "source": [
    "def normalize_data(data_input, normalizer, data_output, df):\n",
    "    df[data_output] = df[data_input]/df[normalizer]*60"
   ]
  },
  {
   "cell_type": "code",
   "execution_count": 5,
   "metadata": {},
   "outputs": [],
   "source": [
    "def create_focusDF(data,filenr):\n",
    "    \n",
    "    percentage_goals = []\n",
    "    goals_achieved = []\n",
    "    goals_set = []\n",
    "    broken_Focus = []\n",
    "    brokenFocus_number = []\n",
    "    distraction_count = []\n",
    "    distraction_time = []\n",
    "    nr_of_services = []\n",
    "    messages_received_in_focus = []\n",
    "    focus_ids = []\n",
    "    nr_of_autoreplies_per_focus = []\n",
    "    hourOfDay = []\n",
    "    \n",
    "    # transform json part to pandas dataframe\n",
    "    df = pd.json_normalize(data[\"focusSessions\"])\n",
    "    \n",
    "    # create new column, which calculates how long a user stayed in focus\n",
    "    df[\"minutesInFocus\"] = round((df[\"endTime\"] - df[\"startTime\"])/60000,2)\n",
    "    \n",
    "    #df[\"distractionCount\"] = 0\n",
    "\n",
    "    \n",
    "    for index, row in df.iterrows():\n",
    "        # calculate percentage of achieved goals\n",
    "        if len(row['goals']) == 0:\n",
    "            percentage_goals.append(0)\n",
    "            goals_set.append(0)\n",
    "            goals_achieved.append(0)\n",
    "        else:\n",
    "            percentage_goals.append(round(len(row['completedGoals'])/len(row['goals']),2))\n",
    "            goals_set.append(len(row['goals']))\n",
    "            goals_achieved.append(len(row['completedGoals']))\n",
    "        \n",
    "        # calculate broken focus length\n",
    "        if len(row[\"brokenFocus\"]) == 0:\n",
    "            broken_Focus.append(0)\n",
    "            brokenFocus_number.append(0)\n",
    "        else:\n",
    "            break_per_focus= 0\n",
    "            nr_of_breaks = 0\n",
    "            for element in row[\"brokenFocus\"]:\n",
    "                if len(element) ==2:\n",
    "                    break_per_focus += ((element[1]-element[0])/60000)\n",
    "                    nr_of_breaks +=1\n",
    "            broken_Focus.append(round(break_per_focus,2))\n",
    "            brokenFocus_number.append(nr_of_breaks)\n",
    "            \n",
    "        # get distractionCount\n",
    "        if len(row[\"activeWindows\"]) == 0:\n",
    "            distraction_count.append(0)\n",
    "            distraction_time.append(0)\n",
    "        else:\n",
    "            distractionCountPerFocus = 0\n",
    "            distractionTime = 0\n",
    "            for index, element in enumerate(row[\"activeWindows\"]):\n",
    "                if element[\"isDistraction\"]:\n",
    "                    distractionCountPerFocus += 1\n",
    "                    if index < len(row[\"activeWindows\"])-1:\n",
    "                        #print(index, len(row[\"activeWindows\"]))\n",
    "                        duration = row[\"activeWindows\"][index+1][\"timestamp\"] - element[\"timestamp\"]\n",
    "                    else:\n",
    "                        #print(row[\"endTime\"])\n",
    "                        duration = row[\"endTime\"] - element[\"timestamp\"]\n",
    "                    distractionTime += (duration/60000)\n",
    "            distraction_count.append(distractionCountPerFocus)\n",
    "            distraction_time.append(distractionTime)\n",
    "        \n",
    "        # get number of used services\n",
    "        nr_of_services.append(len(row[\"services\"]))\n",
    "        \n",
    "        messages_received = 0\n",
    "        autoreplies = 0\n",
    "        for element in row[\"services\"]:\n",
    "            # get number of received messages\n",
    "            messages_received += len(element[\"messages\"])\n",
    "            autoreplies += len(element[\"autoReplied\"])\n",
    "            \n",
    "        messages_received_in_focus.append(messages_received)\n",
    "        nr_of_autoreplies_per_focus.append(autoreplies)\n",
    "        focus_ids.append(row[\"id\"])\n",
    "        \n",
    "        hourOfDay.append(pd.Timestamp(row[\"startTime\"],unit = \"ms\").hour)\n",
    "            \n",
    "    df[\"focusID\"] = focus_ids\n",
    "    df[\"PSNR\"] = filenr[:3]\n",
    "    df[\"distractionCount\"] = distraction_count\n",
    "    df[\"distractionTime\"] = distraction_time\n",
    "    df[\"numberOfServices\"] = nr_of_services\n",
    "    df[\"messagesReceivedInFocus\"] = messages_received_in_focus \n",
    "    df[\"brokenFocus\"] = broken_Focus\n",
    "    df[\"nrOfBreaks\"] = brokenFocus_number    \n",
    "    df[\"percentageCompletedGoals\"] = percentage_goals\n",
    "    df[\"goalsAchieved\"] = goals_achieved\n",
    "    df[\"goalsSet\"] = goals_set\n",
    "    df[\"autoReplied\"] = nr_of_autoreplies_per_focus\n",
    "    df[\"hourOfDay\"] = hourOfDay\n",
    "    \n",
    "    \n",
    "    # focus session which were longer than 6 hours were dropped (2 datapoints, probably participant forgot to close \n",
    "    # focus session)\n",
    "    df = df[(df[\"minutesInFocus\"] < 300) & (df['minutesInFocus']>10)]\n",
    "    \n",
    "    # drop columns startTime, endTime, originalEndTime, goals and completedGoals\n",
    "    df = df.drop([\"id\",\"services\",\"calendarSubject\",'startTime', 'endTime','originalEndTime','goals','completedGoals',\"activeWindows\",\"comments\"], axis=1)\n",
    "    return df"
   ]
  },
  {
   "cell_type": "code",
   "execution_count": 6,
   "metadata": {},
   "outputs": [],
   "source": [
    "from os import listdir\n",
    "from os.path import isfile, join\n",
    "\n",
    "mypath = \"./data\"\n",
    "onlyfiles = [f for f in listdir(mypath) if isfile(join(mypath, f))]\n",
    "\n",
    "df = pd.DataFrame()\n",
    "\n",
    "for i in onlyfiles:\n",
    "    with open(f'data/{i}', 'r') as outfile:\n",
    "        data = json.load(outfile)\n",
    "        df_temp = create_focusDF(data,i)\n",
    "        df = pd.concat([df,df_temp])\n",
    "        \n",
    "\n",
    "df = df.reset_index()"
   ]
  },
  {
   "cell_type": "code",
   "execution_count": 7,
   "metadata": {},
   "outputs": [
    {
     "data": {
      "text/html": [
       "<div>\n",
       "<style scoped>\n",
       "    .dataframe tbody tr th:only-of-type {\n",
       "        vertical-align: middle;\n",
       "    }\n",
       "\n",
       "    .dataframe tbody tr th {\n",
       "        vertical-align: top;\n",
       "    }\n",
       "\n",
       "    .dataframe thead th {\n",
       "        text-align: right;\n",
       "    }\n",
       "</style>\n",
       "<table border=\"1\" class=\"dataframe\">\n",
       "  <thead>\n",
       "    <tr style=\"text-align: right;\">\n",
       "      <th></th>\n",
       "      <th>index</th>\n",
       "      <th>brokenFocus</th>\n",
       "      <th>rating</th>\n",
       "      <th>scheduled</th>\n",
       "      <th>appVersion</th>\n",
       "      <th>minutesInFocus</th>\n",
       "      <th>focusID</th>\n",
       "      <th>PSNR</th>\n",
       "      <th>distractionCount</th>\n",
       "      <th>distractionTime</th>\n",
       "      <th>numberOfServices</th>\n",
       "      <th>messagesReceivedInFocus</th>\n",
       "      <th>nrOfBreaks</th>\n",
       "      <th>percentageCompletedGoals</th>\n",
       "      <th>goalsAchieved</th>\n",
       "      <th>goalsSet</th>\n",
       "      <th>autoReplied</th>\n",
       "      <th>hourOfDay</th>\n",
       "    </tr>\n",
       "  </thead>\n",
       "  <tbody>\n",
       "    <tr>\n",
       "      <th>0</th>\n",
       "      <td>0</td>\n",
       "      <td>0.00</td>\n",
       "      <td>6</td>\n",
       "      <td>False</td>\n",
       "      <td>exman</td>\n",
       "      <td>40.00</td>\n",
       "      <td>0d40ff22-a6e2-472c-b2e8-f3632adb08f0</td>\n",
       "      <td>p01</td>\n",
       "      <td>0</td>\n",
       "      <td>0.0</td>\n",
       "      <td>2</td>\n",
       "      <td>1</td>\n",
       "      <td>0</td>\n",
       "      <td>0.62</td>\n",
       "      <td>5</td>\n",
       "      <td>8</td>\n",
       "      <td>0</td>\n",
       "      <td>8</td>\n",
       "    </tr>\n",
       "    <tr>\n",
       "      <th>1</th>\n",
       "      <td>1</td>\n",
       "      <td>1.23</td>\n",
       "      <td>4</td>\n",
       "      <td>False</td>\n",
       "      <td>exman</td>\n",
       "      <td>25.00</td>\n",
       "      <td>ef98194e-2687-4985-bcdb-16c9d8937b2d</td>\n",
       "      <td>p01</td>\n",
       "      <td>0</td>\n",
       "      <td>0.0</td>\n",
       "      <td>2</td>\n",
       "      <td>0</td>\n",
       "      <td>1</td>\n",
       "      <td>0.33</td>\n",
       "      <td>1</td>\n",
       "      <td>3</td>\n",
       "      <td>0</td>\n",
       "      <td>9</td>\n",
       "    </tr>\n",
       "    <tr>\n",
       "      <th>2</th>\n",
       "      <td>2</td>\n",
       "      <td>0.00</td>\n",
       "      <td>None</td>\n",
       "      <td>False</td>\n",
       "      <td>exman</td>\n",
       "      <td>55.00</td>\n",
       "      <td>95fbdff0-1a8d-4691-b0b7-e7033fa853cd</td>\n",
       "      <td>p01</td>\n",
       "      <td>0</td>\n",
       "      <td>0.0</td>\n",
       "      <td>2</td>\n",
       "      <td>0</td>\n",
       "      <td>0</td>\n",
       "      <td>1.00</td>\n",
       "      <td>4</td>\n",
       "      <td>4</td>\n",
       "      <td>0</td>\n",
       "      <td>10</td>\n",
       "    </tr>\n",
       "    <tr>\n",
       "      <th>3</th>\n",
       "      <td>3</td>\n",
       "      <td>0.00</td>\n",
       "      <td>5</td>\n",
       "      <td>False</td>\n",
       "      <td>exman</td>\n",
       "      <td>15.00</td>\n",
       "      <td>1e035bbf-b591-46df-ad39-f2928e546469</td>\n",
       "      <td>p01</td>\n",
       "      <td>0</td>\n",
       "      <td>0.0</td>\n",
       "      <td>2</td>\n",
       "      <td>1</td>\n",
       "      <td>0</td>\n",
       "      <td>0.00</td>\n",
       "      <td>0</td>\n",
       "      <td>1</td>\n",
       "      <td>0</td>\n",
       "      <td>17</td>\n",
       "    </tr>\n",
       "    <tr>\n",
       "      <th>4</th>\n",
       "      <td>4</td>\n",
       "      <td>0.00</td>\n",
       "      <td>5</td>\n",
       "      <td>False</td>\n",
       "      <td>exman</td>\n",
       "      <td>35.00</td>\n",
       "      <td>1af896b8-5224-4ac0-a258-b63c51f1ffc6</td>\n",
       "      <td>p01</td>\n",
       "      <td>0</td>\n",
       "      <td>0.0</td>\n",
       "      <td>3</td>\n",
       "      <td>0</td>\n",
       "      <td>0</td>\n",
       "      <td>0.00</td>\n",
       "      <td>0</td>\n",
       "      <td>1</td>\n",
       "      <td>0</td>\n",
       "      <td>7</td>\n",
       "    </tr>\n",
       "    <tr>\n",
       "      <th>...</th>\n",
       "      <td>...</td>\n",
       "      <td>...</td>\n",
       "      <td>...</td>\n",
       "      <td>...</td>\n",
       "      <td>...</td>\n",
       "      <td>...</td>\n",
       "      <td>...</td>\n",
       "      <td>...</td>\n",
       "      <td>...</td>\n",
       "      <td>...</td>\n",
       "      <td>...</td>\n",
       "      <td>...</td>\n",
       "      <td>...</td>\n",
       "      <td>...</td>\n",
       "      <td>...</td>\n",
       "      <td>...</td>\n",
       "      <td>...</td>\n",
       "      <td>...</td>\n",
       "    </tr>\n",
       "    <tr>\n",
       "      <th>222</th>\n",
       "      <td>12</td>\n",
       "      <td>0.00</td>\n",
       "      <td>7</td>\n",
       "      <td>False</td>\n",
       "      <td>exman</td>\n",
       "      <td>120.00</td>\n",
       "      <td>571eb507-7bef-4612-98e5-122202665e7c</td>\n",
       "      <td>p17</td>\n",
       "      <td>0</td>\n",
       "      <td>0.0</td>\n",
       "      <td>4</td>\n",
       "      <td>4</td>\n",
       "      <td>0</td>\n",
       "      <td>0.50</td>\n",
       "      <td>1</td>\n",
       "      <td>2</td>\n",
       "      <td>0</td>\n",
       "      <td>19</td>\n",
       "    </tr>\n",
       "    <tr>\n",
       "      <th>223</th>\n",
       "      <td>13</td>\n",
       "      <td>0.00</td>\n",
       "      <td>7</td>\n",
       "      <td>False</td>\n",
       "      <td>exman</td>\n",
       "      <td>30.00</td>\n",
       "      <td>c1a0898d-f8a5-46c8-87fd-32b038a96d5e</td>\n",
       "      <td>p17</td>\n",
       "      <td>0</td>\n",
       "      <td>0.0</td>\n",
       "      <td>4</td>\n",
       "      <td>0</td>\n",
       "      <td>0</td>\n",
       "      <td>1.00</td>\n",
       "      <td>1</td>\n",
       "      <td>1</td>\n",
       "      <td>0</td>\n",
       "      <td>0</td>\n",
       "    </tr>\n",
       "    <tr>\n",
       "      <th>224</th>\n",
       "      <td>14</td>\n",
       "      <td>0.00</td>\n",
       "      <td>4</td>\n",
       "      <td>False</td>\n",
       "      <td>exman</td>\n",
       "      <td>90.00</td>\n",
       "      <td>e235bd8f-4ba9-4c45-a3e5-57f8e6627864</td>\n",
       "      <td>p17</td>\n",
       "      <td>0</td>\n",
       "      <td>0.0</td>\n",
       "      <td>4</td>\n",
       "      <td>0</td>\n",
       "      <td>0</td>\n",
       "      <td>0.50</td>\n",
       "      <td>1</td>\n",
       "      <td>2</td>\n",
       "      <td>0</td>\n",
       "      <td>23</td>\n",
       "    </tr>\n",
       "    <tr>\n",
       "      <th>225</th>\n",
       "      <td>15</td>\n",
       "      <td>1.62</td>\n",
       "      <td>7</td>\n",
       "      <td>False</td>\n",
       "      <td>exman</td>\n",
       "      <td>107.61</td>\n",
       "      <td>99cb53b0-40e8-4970-8ca5-f628d3dca1c9</td>\n",
       "      <td>p17</td>\n",
       "      <td>0</td>\n",
       "      <td>0.0</td>\n",
       "      <td>4</td>\n",
       "      <td>1</td>\n",
       "      <td>3</td>\n",
       "      <td>1.00</td>\n",
       "      <td>2</td>\n",
       "      <td>2</td>\n",
       "      <td>0</td>\n",
       "      <td>14</td>\n",
       "    </tr>\n",
       "    <tr>\n",
       "      <th>226</th>\n",
       "      <td>16</td>\n",
       "      <td>0.00</td>\n",
       "      <td>7</td>\n",
       "      <td>False</td>\n",
       "      <td>exman</td>\n",
       "      <td>60.00</td>\n",
       "      <td>e278c588-5a6a-49ea-a554-af71fe0f2dda</td>\n",
       "      <td>p17</td>\n",
       "      <td>0</td>\n",
       "      <td>0.0</td>\n",
       "      <td>4</td>\n",
       "      <td>1</td>\n",
       "      <td>0</td>\n",
       "      <td>0.00</td>\n",
       "      <td>0</td>\n",
       "      <td>0</td>\n",
       "      <td>0</td>\n",
       "      <td>23</td>\n",
       "    </tr>\n",
       "  </tbody>\n",
       "</table>\n",
       "<p>227 rows × 18 columns</p>\n",
       "</div>"
      ],
      "text/plain": [
       "     index  brokenFocus rating  scheduled appVersion  minutesInFocus  \\\n",
       "0        0         0.00      6      False      exman           40.00   \n",
       "1        1         1.23      4      False      exman           25.00   \n",
       "2        2         0.00   None      False      exman           55.00   \n",
       "3        3         0.00      5      False      exman           15.00   \n",
       "4        4         0.00      5      False      exman           35.00   \n",
       "..     ...          ...    ...        ...        ...             ...   \n",
       "222     12         0.00      7      False      exman          120.00   \n",
       "223     13         0.00      7      False      exman           30.00   \n",
       "224     14         0.00      4      False      exman           90.00   \n",
       "225     15         1.62      7      False      exman          107.61   \n",
       "226     16         0.00      7      False      exman           60.00   \n",
       "\n",
       "                                  focusID PSNR  distractionCount  \\\n",
       "0    0d40ff22-a6e2-472c-b2e8-f3632adb08f0  p01                 0   \n",
       "1    ef98194e-2687-4985-bcdb-16c9d8937b2d  p01                 0   \n",
       "2    95fbdff0-1a8d-4691-b0b7-e7033fa853cd  p01                 0   \n",
       "3    1e035bbf-b591-46df-ad39-f2928e546469  p01                 0   \n",
       "4    1af896b8-5224-4ac0-a258-b63c51f1ffc6  p01                 0   \n",
       "..                                    ...  ...               ...   \n",
       "222  571eb507-7bef-4612-98e5-122202665e7c  p17                 0   \n",
       "223  c1a0898d-f8a5-46c8-87fd-32b038a96d5e  p17                 0   \n",
       "224  e235bd8f-4ba9-4c45-a3e5-57f8e6627864  p17                 0   \n",
       "225  99cb53b0-40e8-4970-8ca5-f628d3dca1c9  p17                 0   \n",
       "226  e278c588-5a6a-49ea-a554-af71fe0f2dda  p17                 0   \n",
       "\n",
       "     distractionTime  numberOfServices  messagesReceivedInFocus  nrOfBreaks  \\\n",
       "0                0.0                 2                        1           0   \n",
       "1                0.0                 2                        0           1   \n",
       "2                0.0                 2                        0           0   \n",
       "3                0.0                 2                        1           0   \n",
       "4                0.0                 3                        0           0   \n",
       "..               ...               ...                      ...         ...   \n",
       "222              0.0                 4                        4           0   \n",
       "223              0.0                 4                        0           0   \n",
       "224              0.0                 4                        0           0   \n",
       "225              0.0                 4                        1           3   \n",
       "226              0.0                 4                        1           0   \n",
       "\n",
       "     percentageCompletedGoals  goalsAchieved  goalsSet  autoReplied  hourOfDay  \n",
       "0                        0.62              5         8            0          8  \n",
       "1                        0.33              1         3            0          9  \n",
       "2                        1.00              4         4            0         10  \n",
       "3                        0.00              0         1            0         17  \n",
       "4                        0.00              0         1            0          7  \n",
       "..                        ...            ...       ...          ...        ...  \n",
       "222                      0.50              1         2            0         19  \n",
       "223                      1.00              1         1            0          0  \n",
       "224                      0.50              1         2            0         23  \n",
       "225                      1.00              2         2            0         14  \n",
       "226                      0.00              0         0            0         23  \n",
       "\n",
       "[227 rows x 18 columns]"
      ]
     },
     "execution_count": 7,
     "metadata": {},
     "output_type": "execute_result"
    }
   ],
   "source": [
    "df"
   ]
  },
  {
   "cell_type": "markdown",
   "metadata": {},
   "source": [
    "<h2>What is the effect of notification blocking and distraction discouragements during a user defined time period on their perceived productivity?</h2>\n"
   ]
  },
  {
   "cell_type": "code",
   "execution_count": 8,
   "metadata": {},
   "outputs": [],
   "source": [
    "pomodoro = df[(df['appVersion'] == \"pomodoro\")]\n",
    "exman = df[(df['appVersion'] == \"exman\")]"
   ]
  },
  {
   "cell_type": "code",
   "execution_count": 9,
   "metadata": {},
   "outputs": [
    {
     "data": {
      "text/html": [
       "<div>\n",
       "<style scoped>\n",
       "    .dataframe tbody tr th:only-of-type {\n",
       "        vertical-align: middle;\n",
       "    }\n",
       "\n",
       "    .dataframe tbody tr th {\n",
       "        vertical-align: top;\n",
       "    }\n",
       "\n",
       "    .dataframe thead th {\n",
       "        text-align: right;\n",
       "    }\n",
       "</style>\n",
       "<table border=\"1\" class=\"dataframe\">\n",
       "  <thead>\n",
       "    <tr style=\"text-align: right;\">\n",
       "      <th></th>\n",
       "      <th>index</th>\n",
       "      <th>brokenFocus</th>\n",
       "      <th>rating</th>\n",
       "      <th>scheduled</th>\n",
       "      <th>appVersion</th>\n",
       "      <th>minutesInFocus</th>\n",
       "      <th>focusID</th>\n",
       "      <th>PSNR</th>\n",
       "      <th>distractionCount</th>\n",
       "      <th>distractionTime</th>\n",
       "      <th>numberOfServices</th>\n",
       "      <th>messagesReceivedInFocus</th>\n",
       "      <th>nrOfBreaks</th>\n",
       "      <th>percentageCompletedGoals</th>\n",
       "      <th>goalsAchieved</th>\n",
       "      <th>goalsSet</th>\n",
       "      <th>autoReplied</th>\n",
       "      <th>hourOfDay</th>\n",
       "    </tr>\n",
       "  </thead>\n",
       "  <tbody>\n",
       "    <tr>\n",
       "      <th>18</th>\n",
       "      <td>18</td>\n",
       "      <td>0.0</td>\n",
       "      <td>None</td>\n",
       "      <td>False</td>\n",
       "      <td>pomodoro</td>\n",
       "      <td>25.00</td>\n",
       "      <td>1adb005c-9585-4c60-96ab-a5b187ce04b0</td>\n",
       "      <td>p01</td>\n",
       "      <td>0</td>\n",
       "      <td>0.0</td>\n",
       "      <td>3</td>\n",
       "      <td>1</td>\n",
       "      <td>0</td>\n",
       "      <td>1.00</td>\n",
       "      <td>2</td>\n",
       "      <td>2</td>\n",
       "      <td>0</td>\n",
       "      <td>11</td>\n",
       "    </tr>\n",
       "    <tr>\n",
       "      <th>19</th>\n",
       "      <td>19</td>\n",
       "      <td>0.0</td>\n",
       "      <td>6</td>\n",
       "      <td>False</td>\n",
       "      <td>pomodoro</td>\n",
       "      <td>25.00</td>\n",
       "      <td>83905b46-b51b-4975-8902-c72ce3e33c01</td>\n",
       "      <td>p01</td>\n",
       "      <td>0</td>\n",
       "      <td>0.0</td>\n",
       "      <td>3</td>\n",
       "      <td>0</td>\n",
       "      <td>0</td>\n",
       "      <td>1.00</td>\n",
       "      <td>2</td>\n",
       "      <td>2</td>\n",
       "      <td>0</td>\n",
       "      <td>12</td>\n",
       "    </tr>\n",
       "    <tr>\n",
       "      <th>20</th>\n",
       "      <td>20</td>\n",
       "      <td>0.0</td>\n",
       "      <td>None</td>\n",
       "      <td>False</td>\n",
       "      <td>pomodoro</td>\n",
       "      <td>110.91</td>\n",
       "      <td>25f3ce1d-e67f-472a-a475-f8d4142d714e</td>\n",
       "      <td>p01</td>\n",
       "      <td>0</td>\n",
       "      <td>0.0</td>\n",
       "      <td>3</td>\n",
       "      <td>16</td>\n",
       "      <td>0</td>\n",
       "      <td>1.00</td>\n",
       "      <td>3</td>\n",
       "      <td>3</td>\n",
       "      <td>0</td>\n",
       "      <td>13</td>\n",
       "    </tr>\n",
       "    <tr>\n",
       "      <th>21</th>\n",
       "      <td>21</td>\n",
       "      <td>0.0</td>\n",
       "      <td>4</td>\n",
       "      <td>False</td>\n",
       "      <td>pomodoro</td>\n",
       "      <td>40.00</td>\n",
       "      <td>1d0fd1f8-97c9-4b4d-9a5d-47620943a4d3</td>\n",
       "      <td>p01</td>\n",
       "      <td>0</td>\n",
       "      <td>0.0</td>\n",
       "      <td>3</td>\n",
       "      <td>0</td>\n",
       "      <td>0</td>\n",
       "      <td>0.00</td>\n",
       "      <td>0</td>\n",
       "      <td>4</td>\n",
       "      <td>0</td>\n",
       "      <td>7</td>\n",
       "    </tr>\n",
       "    <tr>\n",
       "      <th>22</th>\n",
       "      <td>22</td>\n",
       "      <td>0.0</td>\n",
       "      <td>6</td>\n",
       "      <td>False</td>\n",
       "      <td>pomodoro</td>\n",
       "      <td>25.00</td>\n",
       "      <td>41399a10-751f-4d51-8805-d31f3419fcf9</td>\n",
       "      <td>p01</td>\n",
       "      <td>0</td>\n",
       "      <td>0.0</td>\n",
       "      <td>3</td>\n",
       "      <td>0</td>\n",
       "      <td>0</td>\n",
       "      <td>0.00</td>\n",
       "      <td>0</td>\n",
       "      <td>0</td>\n",
       "      <td>0</td>\n",
       "      <td>8</td>\n",
       "    </tr>\n",
       "    <tr>\n",
       "      <th>...</th>\n",
       "      <td>...</td>\n",
       "      <td>...</td>\n",
       "      <td>...</td>\n",
       "      <td>...</td>\n",
       "      <td>...</td>\n",
       "      <td>...</td>\n",
       "      <td>...</td>\n",
       "      <td>...</td>\n",
       "      <td>...</td>\n",
       "      <td>...</td>\n",
       "      <td>...</td>\n",
       "      <td>...</td>\n",
       "      <td>...</td>\n",
       "      <td>...</td>\n",
       "      <td>...</td>\n",
       "      <td>...</td>\n",
       "      <td>...</td>\n",
       "      <td>...</td>\n",
       "    </tr>\n",
       "    <tr>\n",
       "      <th>215</th>\n",
       "      <td>5</td>\n",
       "      <td>0.0</td>\n",
       "      <td>5</td>\n",
       "      <td>False</td>\n",
       "      <td>pomodoro</td>\n",
       "      <td>30.00</td>\n",
       "      <td>8de361ee-9801-4282-ba06-82d90edd4994</td>\n",
       "      <td>p17</td>\n",
       "      <td>0</td>\n",
       "      <td>0.0</td>\n",
       "      <td>4</td>\n",
       "      <td>0</td>\n",
       "      <td>0</td>\n",
       "      <td>1.00</td>\n",
       "      <td>1</td>\n",
       "      <td>1</td>\n",
       "      <td>0</td>\n",
       "      <td>3</td>\n",
       "    </tr>\n",
       "    <tr>\n",
       "      <th>216</th>\n",
       "      <td>6</td>\n",
       "      <td>0.0</td>\n",
       "      <td>5</td>\n",
       "      <td>False</td>\n",
       "      <td>pomodoro</td>\n",
       "      <td>57.82</td>\n",
       "      <td>f19776a6-e5e4-4250-8f9f-347012fca735</td>\n",
       "      <td>p17</td>\n",
       "      <td>0</td>\n",
       "      <td>0.0</td>\n",
       "      <td>4</td>\n",
       "      <td>0</td>\n",
       "      <td>0</td>\n",
       "      <td>0.50</td>\n",
       "      <td>1</td>\n",
       "      <td>2</td>\n",
       "      <td>0</td>\n",
       "      <td>16</td>\n",
       "    </tr>\n",
       "    <tr>\n",
       "      <th>217</th>\n",
       "      <td>7</td>\n",
       "      <td>0.0</td>\n",
       "      <td>6</td>\n",
       "      <td>False</td>\n",
       "      <td>pomodoro</td>\n",
       "      <td>120.00</td>\n",
       "      <td>435981ca-a369-4bfc-8a29-259aaccc4d58</td>\n",
       "      <td>p17</td>\n",
       "      <td>0</td>\n",
       "      <td>0.0</td>\n",
       "      <td>4</td>\n",
       "      <td>6</td>\n",
       "      <td>0</td>\n",
       "      <td>0.67</td>\n",
       "      <td>2</td>\n",
       "      <td>3</td>\n",
       "      <td>0</td>\n",
       "      <td>0</td>\n",
       "    </tr>\n",
       "    <tr>\n",
       "      <th>218</th>\n",
       "      <td>8</td>\n",
       "      <td>0.0</td>\n",
       "      <td>5</td>\n",
       "      <td>False</td>\n",
       "      <td>pomodoro</td>\n",
       "      <td>60.00</td>\n",
       "      <td>255d9c15-aaf9-48c1-a145-1e5aa4f6a8f3</td>\n",
       "      <td>p17</td>\n",
       "      <td>0</td>\n",
       "      <td>0.0</td>\n",
       "      <td>4</td>\n",
       "      <td>2</td>\n",
       "      <td>0</td>\n",
       "      <td>0.00</td>\n",
       "      <td>0</td>\n",
       "      <td>1</td>\n",
       "      <td>0</td>\n",
       "      <td>17</td>\n",
       "    </tr>\n",
       "    <tr>\n",
       "      <th>219</th>\n",
       "      <td>9</td>\n",
       "      <td>0.0</td>\n",
       "      <td>5</td>\n",
       "      <td>False</td>\n",
       "      <td>pomodoro</td>\n",
       "      <td>59.03</td>\n",
       "      <td>d6cf4f5c-893a-4cff-9081-5dd18c0c0c27</td>\n",
       "      <td>p17</td>\n",
       "      <td>0</td>\n",
       "      <td>0.0</td>\n",
       "      <td>4</td>\n",
       "      <td>1</td>\n",
       "      <td>0</td>\n",
       "      <td>0.50</td>\n",
       "      <td>1</td>\n",
       "      <td>2</td>\n",
       "      <td>0</td>\n",
       "      <td>19</td>\n",
       "    </tr>\n",
       "  </tbody>\n",
       "</table>\n",
       "<p>112 rows × 18 columns</p>\n",
       "</div>"
      ],
      "text/plain": [
       "     index  brokenFocus rating  scheduled appVersion  minutesInFocus  \\\n",
       "18      18          0.0   None      False   pomodoro           25.00   \n",
       "19      19          0.0      6      False   pomodoro           25.00   \n",
       "20      20          0.0   None      False   pomodoro          110.91   \n",
       "21      21          0.0      4      False   pomodoro           40.00   \n",
       "22      22          0.0      6      False   pomodoro           25.00   \n",
       "..     ...          ...    ...        ...        ...             ...   \n",
       "215      5          0.0      5      False   pomodoro           30.00   \n",
       "216      6          0.0      5      False   pomodoro           57.82   \n",
       "217      7          0.0      6      False   pomodoro          120.00   \n",
       "218      8          0.0      5      False   pomodoro           60.00   \n",
       "219      9          0.0      5      False   pomodoro           59.03   \n",
       "\n",
       "                                  focusID PSNR  distractionCount  \\\n",
       "18   1adb005c-9585-4c60-96ab-a5b187ce04b0  p01                 0   \n",
       "19   83905b46-b51b-4975-8902-c72ce3e33c01  p01                 0   \n",
       "20   25f3ce1d-e67f-472a-a475-f8d4142d714e  p01                 0   \n",
       "21   1d0fd1f8-97c9-4b4d-9a5d-47620943a4d3  p01                 0   \n",
       "22   41399a10-751f-4d51-8805-d31f3419fcf9  p01                 0   \n",
       "..                                    ...  ...               ...   \n",
       "215  8de361ee-9801-4282-ba06-82d90edd4994  p17                 0   \n",
       "216  f19776a6-e5e4-4250-8f9f-347012fca735  p17                 0   \n",
       "217  435981ca-a369-4bfc-8a29-259aaccc4d58  p17                 0   \n",
       "218  255d9c15-aaf9-48c1-a145-1e5aa4f6a8f3  p17                 0   \n",
       "219  d6cf4f5c-893a-4cff-9081-5dd18c0c0c27  p17                 0   \n",
       "\n",
       "     distractionTime  numberOfServices  messagesReceivedInFocus  nrOfBreaks  \\\n",
       "18               0.0                 3                        1           0   \n",
       "19               0.0                 3                        0           0   \n",
       "20               0.0                 3                       16           0   \n",
       "21               0.0                 3                        0           0   \n",
       "22               0.0                 3                        0           0   \n",
       "..               ...               ...                      ...         ...   \n",
       "215              0.0                 4                        0           0   \n",
       "216              0.0                 4                        0           0   \n",
       "217              0.0                 4                        6           0   \n",
       "218              0.0                 4                        2           0   \n",
       "219              0.0                 4                        1           0   \n",
       "\n",
       "     percentageCompletedGoals  goalsAchieved  goalsSet  autoReplied  hourOfDay  \n",
       "18                       1.00              2         2            0         11  \n",
       "19                       1.00              2         2            0         12  \n",
       "20                       1.00              3         3            0         13  \n",
       "21                       0.00              0         4            0          7  \n",
       "22                       0.00              0         0            0          8  \n",
       "..                        ...            ...       ...          ...        ...  \n",
       "215                      1.00              1         1            0          3  \n",
       "216                      0.50              1         2            0         16  \n",
       "217                      0.67              2         3            0          0  \n",
       "218                      0.00              0         1            0         17  \n",
       "219                      0.50              1         2            0         19  \n",
       "\n",
       "[112 rows x 18 columns]"
      ]
     },
     "execution_count": 9,
     "metadata": {},
     "output_type": "execute_result"
    }
   ],
   "source": [
    "pomodoro"
   ]
  },
  {
   "cell_type": "code",
   "execution_count": 10,
   "metadata": {},
   "outputs": [
    {
     "data": {
      "text/html": [
       "<div>\n",
       "<style scoped>\n",
       "    .dataframe tbody tr th:only-of-type {\n",
       "        vertical-align: middle;\n",
       "    }\n",
       "\n",
       "    .dataframe tbody tr th {\n",
       "        vertical-align: top;\n",
       "    }\n",
       "\n",
       "    .dataframe thead th {\n",
       "        text-align: right;\n",
       "    }\n",
       "</style>\n",
       "<table border=\"1\" class=\"dataframe\">\n",
       "  <thead>\n",
       "    <tr style=\"text-align: right;\">\n",
       "      <th></th>\n",
       "      <th>index</th>\n",
       "      <th>brokenFocus</th>\n",
       "      <th>rating</th>\n",
       "      <th>scheduled</th>\n",
       "      <th>appVersion</th>\n",
       "      <th>minutesInFocus</th>\n",
       "      <th>focusID</th>\n",
       "      <th>PSNR</th>\n",
       "      <th>distractionCount</th>\n",
       "      <th>distractionTime</th>\n",
       "      <th>numberOfServices</th>\n",
       "      <th>messagesReceivedInFocus</th>\n",
       "      <th>nrOfBreaks</th>\n",
       "      <th>percentageCompletedGoals</th>\n",
       "      <th>goalsAchieved</th>\n",
       "      <th>goalsSet</th>\n",
       "      <th>autoReplied</th>\n",
       "      <th>hourOfDay</th>\n",
       "    </tr>\n",
       "  </thead>\n",
       "  <tbody>\n",
       "    <tr>\n",
       "      <th>0</th>\n",
       "      <td>0</td>\n",
       "      <td>0.00</td>\n",
       "      <td>6</td>\n",
       "      <td>False</td>\n",
       "      <td>exman</td>\n",
       "      <td>40.00</td>\n",
       "      <td>0d40ff22-a6e2-472c-b2e8-f3632adb08f0</td>\n",
       "      <td>p01</td>\n",
       "      <td>0</td>\n",
       "      <td>0.0</td>\n",
       "      <td>2</td>\n",
       "      <td>1</td>\n",
       "      <td>0</td>\n",
       "      <td>0.62</td>\n",
       "      <td>5</td>\n",
       "      <td>8</td>\n",
       "      <td>0</td>\n",
       "      <td>8</td>\n",
       "    </tr>\n",
       "    <tr>\n",
       "      <th>1</th>\n",
       "      <td>1</td>\n",
       "      <td>1.23</td>\n",
       "      <td>4</td>\n",
       "      <td>False</td>\n",
       "      <td>exman</td>\n",
       "      <td>25.00</td>\n",
       "      <td>ef98194e-2687-4985-bcdb-16c9d8937b2d</td>\n",
       "      <td>p01</td>\n",
       "      <td>0</td>\n",
       "      <td>0.0</td>\n",
       "      <td>2</td>\n",
       "      <td>0</td>\n",
       "      <td>1</td>\n",
       "      <td>0.33</td>\n",
       "      <td>1</td>\n",
       "      <td>3</td>\n",
       "      <td>0</td>\n",
       "      <td>9</td>\n",
       "    </tr>\n",
       "    <tr>\n",
       "      <th>2</th>\n",
       "      <td>2</td>\n",
       "      <td>0.00</td>\n",
       "      <td>None</td>\n",
       "      <td>False</td>\n",
       "      <td>exman</td>\n",
       "      <td>55.00</td>\n",
       "      <td>95fbdff0-1a8d-4691-b0b7-e7033fa853cd</td>\n",
       "      <td>p01</td>\n",
       "      <td>0</td>\n",
       "      <td>0.0</td>\n",
       "      <td>2</td>\n",
       "      <td>0</td>\n",
       "      <td>0</td>\n",
       "      <td>1.00</td>\n",
       "      <td>4</td>\n",
       "      <td>4</td>\n",
       "      <td>0</td>\n",
       "      <td>10</td>\n",
       "    </tr>\n",
       "    <tr>\n",
       "      <th>3</th>\n",
       "      <td>3</td>\n",
       "      <td>0.00</td>\n",
       "      <td>5</td>\n",
       "      <td>False</td>\n",
       "      <td>exman</td>\n",
       "      <td>15.00</td>\n",
       "      <td>1e035bbf-b591-46df-ad39-f2928e546469</td>\n",
       "      <td>p01</td>\n",
       "      <td>0</td>\n",
       "      <td>0.0</td>\n",
       "      <td>2</td>\n",
       "      <td>1</td>\n",
       "      <td>0</td>\n",
       "      <td>0.00</td>\n",
       "      <td>0</td>\n",
       "      <td>1</td>\n",
       "      <td>0</td>\n",
       "      <td>17</td>\n",
       "    </tr>\n",
       "    <tr>\n",
       "      <th>4</th>\n",
       "      <td>4</td>\n",
       "      <td>0.00</td>\n",
       "      <td>5</td>\n",
       "      <td>False</td>\n",
       "      <td>exman</td>\n",
       "      <td>35.00</td>\n",
       "      <td>1af896b8-5224-4ac0-a258-b63c51f1ffc6</td>\n",
       "      <td>p01</td>\n",
       "      <td>0</td>\n",
       "      <td>0.0</td>\n",
       "      <td>3</td>\n",
       "      <td>0</td>\n",
       "      <td>0</td>\n",
       "      <td>0.00</td>\n",
       "      <td>0</td>\n",
       "      <td>1</td>\n",
       "      <td>0</td>\n",
       "      <td>7</td>\n",
       "    </tr>\n",
       "    <tr>\n",
       "      <th>...</th>\n",
       "      <td>...</td>\n",
       "      <td>...</td>\n",
       "      <td>...</td>\n",
       "      <td>...</td>\n",
       "      <td>...</td>\n",
       "      <td>...</td>\n",
       "      <td>...</td>\n",
       "      <td>...</td>\n",
       "      <td>...</td>\n",
       "      <td>...</td>\n",
       "      <td>...</td>\n",
       "      <td>...</td>\n",
       "      <td>...</td>\n",
       "      <td>...</td>\n",
       "      <td>...</td>\n",
       "      <td>...</td>\n",
       "      <td>...</td>\n",
       "      <td>...</td>\n",
       "    </tr>\n",
       "    <tr>\n",
       "      <th>222</th>\n",
       "      <td>12</td>\n",
       "      <td>0.00</td>\n",
       "      <td>7</td>\n",
       "      <td>False</td>\n",
       "      <td>exman</td>\n",
       "      <td>120.00</td>\n",
       "      <td>571eb507-7bef-4612-98e5-122202665e7c</td>\n",
       "      <td>p17</td>\n",
       "      <td>0</td>\n",
       "      <td>0.0</td>\n",
       "      <td>4</td>\n",
       "      <td>4</td>\n",
       "      <td>0</td>\n",
       "      <td>0.50</td>\n",
       "      <td>1</td>\n",
       "      <td>2</td>\n",
       "      <td>0</td>\n",
       "      <td>19</td>\n",
       "    </tr>\n",
       "    <tr>\n",
       "      <th>223</th>\n",
       "      <td>13</td>\n",
       "      <td>0.00</td>\n",
       "      <td>7</td>\n",
       "      <td>False</td>\n",
       "      <td>exman</td>\n",
       "      <td>30.00</td>\n",
       "      <td>c1a0898d-f8a5-46c8-87fd-32b038a96d5e</td>\n",
       "      <td>p17</td>\n",
       "      <td>0</td>\n",
       "      <td>0.0</td>\n",
       "      <td>4</td>\n",
       "      <td>0</td>\n",
       "      <td>0</td>\n",
       "      <td>1.00</td>\n",
       "      <td>1</td>\n",
       "      <td>1</td>\n",
       "      <td>0</td>\n",
       "      <td>0</td>\n",
       "    </tr>\n",
       "    <tr>\n",
       "      <th>224</th>\n",
       "      <td>14</td>\n",
       "      <td>0.00</td>\n",
       "      <td>4</td>\n",
       "      <td>False</td>\n",
       "      <td>exman</td>\n",
       "      <td>90.00</td>\n",
       "      <td>e235bd8f-4ba9-4c45-a3e5-57f8e6627864</td>\n",
       "      <td>p17</td>\n",
       "      <td>0</td>\n",
       "      <td>0.0</td>\n",
       "      <td>4</td>\n",
       "      <td>0</td>\n",
       "      <td>0</td>\n",
       "      <td>0.50</td>\n",
       "      <td>1</td>\n",
       "      <td>2</td>\n",
       "      <td>0</td>\n",
       "      <td>23</td>\n",
       "    </tr>\n",
       "    <tr>\n",
       "      <th>225</th>\n",
       "      <td>15</td>\n",
       "      <td>1.62</td>\n",
       "      <td>7</td>\n",
       "      <td>False</td>\n",
       "      <td>exman</td>\n",
       "      <td>107.61</td>\n",
       "      <td>99cb53b0-40e8-4970-8ca5-f628d3dca1c9</td>\n",
       "      <td>p17</td>\n",
       "      <td>0</td>\n",
       "      <td>0.0</td>\n",
       "      <td>4</td>\n",
       "      <td>1</td>\n",
       "      <td>3</td>\n",
       "      <td>1.00</td>\n",
       "      <td>2</td>\n",
       "      <td>2</td>\n",
       "      <td>0</td>\n",
       "      <td>14</td>\n",
       "    </tr>\n",
       "    <tr>\n",
       "      <th>226</th>\n",
       "      <td>16</td>\n",
       "      <td>0.00</td>\n",
       "      <td>7</td>\n",
       "      <td>False</td>\n",
       "      <td>exman</td>\n",
       "      <td>60.00</td>\n",
       "      <td>e278c588-5a6a-49ea-a554-af71fe0f2dda</td>\n",
       "      <td>p17</td>\n",
       "      <td>0</td>\n",
       "      <td>0.0</td>\n",
       "      <td>4</td>\n",
       "      <td>1</td>\n",
       "      <td>0</td>\n",
       "      <td>0.00</td>\n",
       "      <td>0</td>\n",
       "      <td>0</td>\n",
       "      <td>0</td>\n",
       "      <td>23</td>\n",
       "    </tr>\n",
       "  </tbody>\n",
       "</table>\n",
       "<p>115 rows × 18 columns</p>\n",
       "</div>"
      ],
      "text/plain": [
       "     index  brokenFocus rating  scheduled appVersion  minutesInFocus  \\\n",
       "0        0         0.00      6      False      exman           40.00   \n",
       "1        1         1.23      4      False      exman           25.00   \n",
       "2        2         0.00   None      False      exman           55.00   \n",
       "3        3         0.00      5      False      exman           15.00   \n",
       "4        4         0.00      5      False      exman           35.00   \n",
       "..     ...          ...    ...        ...        ...             ...   \n",
       "222     12         0.00      7      False      exman          120.00   \n",
       "223     13         0.00      7      False      exman           30.00   \n",
       "224     14         0.00      4      False      exman           90.00   \n",
       "225     15         1.62      7      False      exman          107.61   \n",
       "226     16         0.00      7      False      exman           60.00   \n",
       "\n",
       "                                  focusID PSNR  distractionCount  \\\n",
       "0    0d40ff22-a6e2-472c-b2e8-f3632adb08f0  p01                 0   \n",
       "1    ef98194e-2687-4985-bcdb-16c9d8937b2d  p01                 0   \n",
       "2    95fbdff0-1a8d-4691-b0b7-e7033fa853cd  p01                 0   \n",
       "3    1e035bbf-b591-46df-ad39-f2928e546469  p01                 0   \n",
       "4    1af896b8-5224-4ac0-a258-b63c51f1ffc6  p01                 0   \n",
       "..                                    ...  ...               ...   \n",
       "222  571eb507-7bef-4612-98e5-122202665e7c  p17                 0   \n",
       "223  c1a0898d-f8a5-46c8-87fd-32b038a96d5e  p17                 0   \n",
       "224  e235bd8f-4ba9-4c45-a3e5-57f8e6627864  p17                 0   \n",
       "225  99cb53b0-40e8-4970-8ca5-f628d3dca1c9  p17                 0   \n",
       "226  e278c588-5a6a-49ea-a554-af71fe0f2dda  p17                 0   \n",
       "\n",
       "     distractionTime  numberOfServices  messagesReceivedInFocus  nrOfBreaks  \\\n",
       "0                0.0                 2                        1           0   \n",
       "1                0.0                 2                        0           1   \n",
       "2                0.0                 2                        0           0   \n",
       "3                0.0                 2                        1           0   \n",
       "4                0.0                 3                        0           0   \n",
       "..               ...               ...                      ...         ...   \n",
       "222              0.0                 4                        4           0   \n",
       "223              0.0                 4                        0           0   \n",
       "224              0.0                 4                        0           0   \n",
       "225              0.0                 4                        1           3   \n",
       "226              0.0                 4                        1           0   \n",
       "\n",
       "     percentageCompletedGoals  goalsAchieved  goalsSet  autoReplied  hourOfDay  \n",
       "0                        0.62              5         8            0          8  \n",
       "1                        0.33              1         3            0          9  \n",
       "2                        1.00              4         4            0         10  \n",
       "3                        0.00              0         1            0         17  \n",
       "4                        0.00              0         1            0          7  \n",
       "..                        ...            ...       ...          ...        ...  \n",
       "222                      0.50              1         2            0         19  \n",
       "223                      1.00              1         1            0          0  \n",
       "224                      0.50              1         2            0         23  \n",
       "225                      1.00              2         2            0         14  \n",
       "226                      0.00              0         0            0         23  \n",
       "\n",
       "[115 rows x 18 columns]"
      ]
     },
     "execution_count": 10,
     "metadata": {},
     "output_type": "execute_result"
    }
   ],
   "source": [
    "exman"
   ]
  },
  {
   "cell_type": "markdown",
   "metadata": {},
   "source": [
    "<h4>goals achieved</h4>"
   ]
  },
  {
   "cell_type": "code",
   "execution_count": 11,
   "metadata": {},
   "outputs": [],
   "source": [
    "normalize_data(\"goalsAchieved\",\"minutesInFocus\",\"goalsAchievedPerHour\", exman)\n",
    "normalize_data(\"goalsAchieved\",\"minutesInFocus\",\"goalsAchievedPerHour\", pomodoro)"
   ]
  },
  {
   "cell_type": "code",
   "execution_count": 12,
   "metadata": {},
   "outputs": [
    {
     "data": {
      "text/plain": [
       "1.833449752093778"
      ]
     },
     "execution_count": 12,
     "metadata": {},
     "output_type": "execute_result"
    }
   ],
   "source": [
    "exman[\"goalsAchievedPerHour\"].mean()"
   ]
  },
  {
   "cell_type": "code",
   "execution_count": 13,
   "metadata": {},
   "outputs": [
    {
     "data": {
      "text/plain": [
       "1.3436390497595048"
      ]
     },
     "execution_count": 13,
     "metadata": {},
     "output_type": "execute_result"
    }
   ],
   "source": [
    "pomodoro[\"goalsAchievedPerHour\"].mean()"
   ]
  },
  {
   "cell_type": "code",
   "execution_count": 14,
   "metadata": {},
   "outputs": [
    {
     "data": {
      "image/png": "[encoded data removed]",
      "text/plain": [
       "<Figure size 432x288 with 1 Axes>"
      ]
     },
     "metadata": {
      "needs_background": "light"
     },
     "output_type": "display_data"
    }
   ],
   "source": [
    "plt.scatter(exman[\"minutesInFocus\"],exman[\"goalsAchieved\"],label=\"exman\")\n",
    "plt.scatter(pomodoro[\"minutesInFocus\"],pomodoro[\"goalsAchieved\"], label=\"pomodoro\")\n",
    "plt.legend()\n",
    "\n",
    "slope, intercept, r, p, stderr = scipy.stats.linregress(exman[\"minutesInFocus\"], exman[\"goalsAchieved\"])\n",
    "plt.plot(exman[\"minutesInFocus\"], intercept + slope * exman[\"minutesInFocus\"])\n",
    "\n",
    "slope, intercept, r, p, stderr = scipy.stats.linregress(pomodoro[\"minutesInFocus\"], pomodoro[\"goalsAchieved\"])\n",
    "plt.plot(pomodoro[\"minutesInFocus\"], intercept + slope * pomodoro[\"minutesInFocus\"])\n",
    "\n",
    "plt.xlabel(\"minutes\")\n",
    "plt.ylabel(\"goals\")\n",
    "\n",
    "plt.show()"
   ]
  },
  {
   "cell_type": "code",
   "execution_count": 15,
   "metadata": {},
   "outputs": [
    {
     "data": {
      "image/png": "[encoded data removed]",
      "text/plain": [
       "<Figure size 432x288 with 1 Axes>"
      ]
     },
     "metadata": {
      "needs_background": "light"
     },
     "output_type": "display_data"
    }
   ],
   "source": [
    "x = [list(exman[\"goalsAchievedPerHour\"]),list(pomodoro[\"goalsAchievedPerHour\"])]\n",
    "\n",
    "label = [\"exman\",\"pormodoro\"]\n",
    "colors = ['red', 'blue']\n",
    "plt.hist(x, histtype='bar', color=colors, label=label)\n",
    "plt.legend(prop={'size': 10})\n",
    "plt.title('bars with legend')\n",
    "\n",
    "\n",
    "plt.show()"
   ]
  },
  {
   "cell_type": "code",
   "execution_count": 16,
   "metadata": {},
   "outputs": [
    {
     "data": {
      "text/html": [
       "<div>\n",
       "<style scoped>\n",
       "    .dataframe tbody tr th:only-of-type {\n",
       "        vertical-align: middle;\n",
       "    }\n",
       "\n",
       "    .dataframe tbody tr th {\n",
       "        vertical-align: top;\n",
       "    }\n",
       "\n",
       "    .dataframe thead th {\n",
       "        text-align: right;\n",
       "    }\n",
       "</style>\n",
       "<table border=\"1\" class=\"dataframe\">\n",
       "  <thead>\n",
       "    <tr style=\"text-align: right;\">\n",
       "      <th></th>\n",
       "      <th>PSNR</th>\n",
       "      <th>goalsAchieved</th>\n",
       "      <th>goalsAchievedPerHour</th>\n",
       "      <th>percentageCompletedGoals</th>\n",
       "      <th>minutesInFocus</th>\n",
       "    </tr>\n",
       "  </thead>\n",
       "  <tbody>\n",
       "    <tr>\n",
       "      <th>84</th>\n",
       "      <td>p07</td>\n",
       "      <td>4</td>\n",
       "      <td>2.666667</td>\n",
       "      <td>1.00</td>\n",
       "      <td>90.00</td>\n",
       "    </tr>\n",
       "    <tr>\n",
       "      <th>7</th>\n",
       "      <td>p01</td>\n",
       "      <td>1</td>\n",
       "      <td>4.000000</td>\n",
       "      <td>1.00</td>\n",
       "      <td>15.00</td>\n",
       "    </tr>\n",
       "    <tr>\n",
       "      <th>6</th>\n",
       "      <td>p01</td>\n",
       "      <td>3</td>\n",
       "      <td>4.000000</td>\n",
       "      <td>0.75</td>\n",
       "      <td>45.00</td>\n",
       "    </tr>\n",
       "    <tr>\n",
       "      <th>14</th>\n",
       "      <td>p01</td>\n",
       "      <td>1</td>\n",
       "      <td>4.000000</td>\n",
       "      <td>1.00</td>\n",
       "      <td>15.00</td>\n",
       "    </tr>\n",
       "    <tr>\n",
       "      <th>166</th>\n",
       "      <td>p10</td>\n",
       "      <td>3</td>\n",
       "      <td>4.000000</td>\n",
       "      <td>1.00</td>\n",
       "      <td>45.00</td>\n",
       "    </tr>\n",
       "    <tr>\n",
       "      <th>191</th>\n",
       "      <td>p12</td>\n",
       "      <td>1</td>\n",
       "      <td>4.000000</td>\n",
       "      <td>1.00</td>\n",
       "      <td>15.00</td>\n",
       "    </tr>\n",
       "    <tr>\n",
       "      <th>167</th>\n",
       "      <td>p10</td>\n",
       "      <td>1</td>\n",
       "      <td>4.000000</td>\n",
       "      <td>0.50</td>\n",
       "      <td>15.00</td>\n",
       "    </tr>\n",
       "    <tr>\n",
       "      <th>122</th>\n",
       "      <td>p08</td>\n",
       "      <td>1</td>\n",
       "      <td>4.000000</td>\n",
       "      <td>1.00</td>\n",
       "      <td>15.00</td>\n",
       "    </tr>\n",
       "    <tr>\n",
       "      <th>123</th>\n",
       "      <td>p08</td>\n",
       "      <td>1</td>\n",
       "      <td>4.000000</td>\n",
       "      <td>1.00</td>\n",
       "      <td>15.00</td>\n",
       "    </tr>\n",
       "    <tr>\n",
       "      <th>88</th>\n",
       "      <td>p07</td>\n",
       "      <td>2</td>\n",
       "      <td>4.000000</td>\n",
       "      <td>1.00</td>\n",
       "      <td>30.00</td>\n",
       "    </tr>\n",
       "    <tr>\n",
       "      <th>169</th>\n",
       "      <td>p10</td>\n",
       "      <td>3</td>\n",
       "      <td>4.090909</td>\n",
       "      <td>1.00</td>\n",
       "      <td>44.00</td>\n",
       "    </tr>\n",
       "    <tr>\n",
       "      <th>2</th>\n",
       "      <td>p01</td>\n",
       "      <td>4</td>\n",
       "      <td>4.363636</td>\n",
       "      <td>1.00</td>\n",
       "      <td>55.00</td>\n",
       "    </tr>\n",
       "    <tr>\n",
       "      <th>17</th>\n",
       "      <td>p01</td>\n",
       "      <td>2</td>\n",
       "      <td>4.800000</td>\n",
       "      <td>1.00</td>\n",
       "      <td>25.00</td>\n",
       "    </tr>\n",
       "    <tr>\n",
       "      <th>172</th>\n",
       "      <td>p10</td>\n",
       "      <td>2</td>\n",
       "      <td>4.800000</td>\n",
       "      <td>1.00</td>\n",
       "      <td>25.00</td>\n",
       "    </tr>\n",
       "    <tr>\n",
       "      <th>170</th>\n",
       "      <td>p10</td>\n",
       "      <td>2</td>\n",
       "      <td>4.800000</td>\n",
       "      <td>1.00</td>\n",
       "      <td>25.00</td>\n",
       "    </tr>\n",
       "    <tr>\n",
       "      <th>140</th>\n",
       "      <td>p09</td>\n",
       "      <td>1</td>\n",
       "      <td>5.633803</td>\n",
       "      <td>1.00</td>\n",
       "      <td>10.65</td>\n",
       "    </tr>\n",
       "    <tr>\n",
       "      <th>176</th>\n",
       "      <td>p10</td>\n",
       "      <td>3</td>\n",
       "      <td>7.200000</td>\n",
       "      <td>1.00</td>\n",
       "      <td>25.00</td>\n",
       "    </tr>\n",
       "    <tr>\n",
       "      <th>0</th>\n",
       "      <td>p01</td>\n",
       "      <td>5</td>\n",
       "      <td>7.500000</td>\n",
       "      <td>0.62</td>\n",
       "      <td>40.00</td>\n",
       "    </tr>\n",
       "    <tr>\n",
       "      <th>164</th>\n",
       "      <td>p10</td>\n",
       "      <td>2</td>\n",
       "      <td>8.000000</td>\n",
       "      <td>1.00</td>\n",
       "      <td>15.00</td>\n",
       "    </tr>\n",
       "    <tr>\n",
       "      <th>86</th>\n",
       "      <td>p07</td>\n",
       "      <td>4</td>\n",
       "      <td>9.987516</td>\n",
       "      <td>1.00</td>\n",
       "      <td>24.03</td>\n",
       "    </tr>\n",
       "  </tbody>\n",
       "</table>\n",
       "</div>"
      ],
      "text/plain": [
       "    PSNR  goalsAchieved  goalsAchievedPerHour  percentageCompletedGoals  \\\n",
       "84   p07              4              2.666667                      1.00   \n",
       "7    p01              1              4.000000                      1.00   \n",
       "6    p01              3              4.000000                      0.75   \n",
       "14   p01              1              4.000000                      1.00   \n",
       "166  p10              3              4.000000                      1.00   \n",
       "191  p12              1              4.000000                      1.00   \n",
       "167  p10              1              4.000000                      0.50   \n",
       "122  p08              1              4.000000                      1.00   \n",
       "123  p08              1              4.000000                      1.00   \n",
       "88   p07              2              4.000000                      1.00   \n",
       "169  p10              3              4.090909                      1.00   \n",
       "2    p01              4              4.363636                      1.00   \n",
       "17   p01              2              4.800000                      1.00   \n",
       "172  p10              2              4.800000                      1.00   \n",
       "170  p10              2              4.800000                      1.00   \n",
       "140  p09              1              5.633803                      1.00   \n",
       "176  p10              3              7.200000                      1.00   \n",
       "0    p01              5              7.500000                      0.62   \n",
       "164  p10              2              8.000000                      1.00   \n",
       "86   p07              4              9.987516                      1.00   \n",
       "\n",
       "     minutesInFocus  \n",
       "84            90.00  \n",
       "7             15.00  \n",
       "6             45.00  \n",
       "14            15.00  \n",
       "166           45.00  \n",
       "191           15.00  \n",
       "167           15.00  \n",
       "122           15.00  \n",
       "123           15.00  \n",
       "88            30.00  \n",
       "169           44.00  \n",
       "2             55.00  \n",
       "17            25.00  \n",
       "172           25.00  \n",
       "170           25.00  \n",
       "140           10.65  \n",
       "176           25.00  \n",
       "0             40.00  \n",
       "164           15.00  \n",
       "86            24.03  "
      ]
     },
     "execution_count": 16,
     "metadata": {},
     "output_type": "execute_result"
    }
   ],
   "source": [
    "exman[[\"PSNR\", \"goalsAchieved\", \"goalsAchievedPerHour\", \"percentageCompletedGoals\", \"minutesInFocus\"]].sort_values(\"goalsAchievedPerHour\").tail(20)"
   ]
  },
  {
   "cell_type": "code",
   "execution_count": 17,
   "metadata": {},
   "outputs": [
    {
     "data": {
      "text/html": [
       "<div>\n",
       "<style scoped>\n",
       "    .dataframe tbody tr th:only-of-type {\n",
       "        vertical-align: middle;\n",
       "    }\n",
       "\n",
       "    .dataframe tbody tr th {\n",
       "        vertical-align: top;\n",
       "    }\n",
       "\n",
       "    .dataframe thead th {\n",
       "        text-align: right;\n",
       "    }\n",
       "</style>\n",
       "<table border=\"1\" class=\"dataframe\">\n",
       "  <thead>\n",
       "    <tr style=\"text-align: right;\">\n",
       "      <th></th>\n",
       "      <th>PSNR</th>\n",
       "      <th>goalsAchieved</th>\n",
       "      <th>goalsAchievedPerHour</th>\n",
       "      <th>percentageCompletedGoals</th>\n",
       "      <th>minutesInFocus</th>\n",
       "    </tr>\n",
       "  </thead>\n",
       "  <tbody>\n",
       "    <tr>\n",
       "      <th>107</th>\n",
       "      <td>p08</td>\n",
       "      <td>1</td>\n",
       "      <td>2.400000</td>\n",
       "      <td>1.0</td>\n",
       "      <td>25.00</td>\n",
       "    </tr>\n",
       "    <tr>\n",
       "      <th>65</th>\n",
       "      <td>p07</td>\n",
       "      <td>2</td>\n",
       "      <td>2.533249</td>\n",
       "      <td>1.0</td>\n",
       "      <td>47.37</td>\n",
       "    </tr>\n",
       "    <tr>\n",
       "      <th>76</th>\n",
       "      <td>p07</td>\n",
       "      <td>1</td>\n",
       "      <td>2.690583</td>\n",
       "      <td>1.0</td>\n",
       "      <td>22.30</td>\n",
       "    </tr>\n",
       "    <tr>\n",
       "      <th>61</th>\n",
       "      <td>p07</td>\n",
       "      <td>2</td>\n",
       "      <td>3.000000</td>\n",
       "      <td>1.0</td>\n",
       "      <td>40.00</td>\n",
       "    </tr>\n",
       "    <tr>\n",
       "      <th>24</th>\n",
       "      <td>p01</td>\n",
       "      <td>2</td>\n",
       "      <td>3.000000</td>\n",
       "      <td>1.0</td>\n",
       "      <td>40.00</td>\n",
       "    </tr>\n",
       "    <tr>\n",
       "      <th>160</th>\n",
       "      <td>p09</td>\n",
       "      <td>1</td>\n",
       "      <td>3.025719</td>\n",
       "      <td>1.0</td>\n",
       "      <td>19.83</td>\n",
       "    </tr>\n",
       "    <tr>\n",
       "      <th>34</th>\n",
       "      <td>p02</td>\n",
       "      <td>1</td>\n",
       "      <td>3.296703</td>\n",
       "      <td>1.0</td>\n",
       "      <td>18.20</td>\n",
       "    </tr>\n",
       "    <tr>\n",
       "      <th>67</th>\n",
       "      <td>p07</td>\n",
       "      <td>1</td>\n",
       "      <td>3.448276</td>\n",
       "      <td>1.0</td>\n",
       "      <td>17.40</td>\n",
       "    </tr>\n",
       "    <tr>\n",
       "      <th>73</th>\n",
       "      <td>p07</td>\n",
       "      <td>4</td>\n",
       "      <td>3.808315</td>\n",
       "      <td>1.0</td>\n",
       "      <td>63.02</td>\n",
       "    </tr>\n",
       "    <tr>\n",
       "      <th>178</th>\n",
       "      <td>p10</td>\n",
       "      <td>1</td>\n",
       "      <td>3.893576</td>\n",
       "      <td>1.0</td>\n",
       "      <td>15.41</td>\n",
       "    </tr>\n",
       "    <tr>\n",
       "      <th>179</th>\n",
       "      <td>p10</td>\n",
       "      <td>1</td>\n",
       "      <td>4.000000</td>\n",
       "      <td>1.0</td>\n",
       "      <td>15.00</td>\n",
       "    </tr>\n",
       "    <tr>\n",
       "      <th>157</th>\n",
       "      <td>p09</td>\n",
       "      <td>1</td>\n",
       "      <td>4.000000</td>\n",
       "      <td>1.0</td>\n",
       "      <td>15.00</td>\n",
       "    </tr>\n",
       "    <tr>\n",
       "      <th>104</th>\n",
       "      <td>p08</td>\n",
       "      <td>1</td>\n",
       "      <td>4.000000</td>\n",
       "      <td>1.0</td>\n",
       "      <td>15.00</td>\n",
       "    </tr>\n",
       "    <tr>\n",
       "      <th>110</th>\n",
       "      <td>p08</td>\n",
       "      <td>1</td>\n",
       "      <td>4.000000</td>\n",
       "      <td>1.0</td>\n",
       "      <td>15.00</td>\n",
       "    </tr>\n",
       "    <tr>\n",
       "      <th>114</th>\n",
       "      <td>p08</td>\n",
       "      <td>1</td>\n",
       "      <td>4.000000</td>\n",
       "      <td>1.0</td>\n",
       "      <td>15.00</td>\n",
       "    </tr>\n",
       "    <tr>\n",
       "      <th>28</th>\n",
       "      <td>p01</td>\n",
       "      <td>1</td>\n",
       "      <td>4.000000</td>\n",
       "      <td>1.0</td>\n",
       "      <td>15.00</td>\n",
       "    </tr>\n",
       "    <tr>\n",
       "      <th>211</th>\n",
       "      <td>p17</td>\n",
       "      <td>4</td>\n",
       "      <td>4.501125</td>\n",
       "      <td>1.0</td>\n",
       "      <td>53.32</td>\n",
       "    </tr>\n",
       "    <tr>\n",
       "      <th>19</th>\n",
       "      <td>p01</td>\n",
       "      <td>2</td>\n",
       "      <td>4.800000</td>\n",
       "      <td>1.0</td>\n",
       "      <td>25.00</td>\n",
       "    </tr>\n",
       "    <tr>\n",
       "      <th>18</th>\n",
       "      <td>p01</td>\n",
       "      <td>2</td>\n",
       "      <td>4.800000</td>\n",
       "      <td>1.0</td>\n",
       "      <td>25.00</td>\n",
       "    </tr>\n",
       "    <tr>\n",
       "      <th>155</th>\n",
       "      <td>p09</td>\n",
       "      <td>1</td>\n",
       "      <td>5.612722</td>\n",
       "      <td>1.0</td>\n",
       "      <td>10.69</td>\n",
       "    </tr>\n",
       "  </tbody>\n",
       "</table>\n",
       "</div>"
      ],
      "text/plain": [
       "    PSNR  goalsAchieved  goalsAchievedPerHour  percentageCompletedGoals  \\\n",
       "107  p08              1              2.400000                       1.0   \n",
       "65   p07              2              2.533249                       1.0   \n",
       "76   p07              1              2.690583                       1.0   \n",
       "61   p07              2              3.000000                       1.0   \n",
       "24   p01              2              3.000000                       1.0   \n",
       "160  p09              1              3.025719                       1.0   \n",
       "34   p02              1              3.296703                       1.0   \n",
       "67   p07              1              3.448276                       1.0   \n",
       "73   p07              4              3.808315                       1.0   \n",
       "178  p10              1              3.893576                       1.0   \n",
       "179  p10              1              4.000000                       1.0   \n",
       "157  p09              1              4.000000                       1.0   \n",
       "104  p08              1              4.000000                       1.0   \n",
       "110  p08              1              4.000000                       1.0   \n",
       "114  p08              1              4.000000                       1.0   \n",
       "28   p01              1              4.000000                       1.0   \n",
       "211  p17              4              4.501125                       1.0   \n",
       "19   p01              2              4.800000                       1.0   \n",
       "18   p01              2              4.800000                       1.0   \n",
       "155  p09              1              5.612722                       1.0   \n",
       "\n",
       "     minutesInFocus  \n",
       "107           25.00  \n",
       "65            47.37  \n",
       "76            22.30  \n",
       "61            40.00  \n",
       "24            40.00  \n",
       "160           19.83  \n",
       "34            18.20  \n",
       "67            17.40  \n",
       "73            63.02  \n",
       "178           15.41  \n",
       "179           15.00  \n",
       "157           15.00  \n",
       "104           15.00  \n",
       "110           15.00  \n",
       "114           15.00  \n",
       "28            15.00  \n",
       "211           53.32  \n",
       "19            25.00  \n",
       "18            25.00  \n",
       "155           10.69  "
      ]
     },
     "execution_count": 17,
     "metadata": {},
     "output_type": "execute_result"
    }
   ],
   "source": [
    "pomodoro[[\"PSNR\", \"goalsAchieved\", \"goalsAchievedPerHour\", \"percentageCompletedGoals\", \"minutesInFocus\"]].sort_values(\"goalsAchievedPerHour\").tail(20)"
   ]
  },
  {
   "cell_type": "code",
   "execution_count": 18,
   "metadata": {},
   "outputs": [
    {
     "name": "stdout",
     "output_type": "stream",
     "text": [
      "42.32973913043478\n",
      "46.90749999999999\n"
     ]
    }
   ],
   "source": [
    "print(exman[ \"minutesInFocus\"].mean())\n",
    "print(pomodoro[ \"minutesInFocus\"].mean())"
   ]
  },
  {
   "cell_type": "code",
   "execution_count": 19,
   "metadata": {},
   "outputs": [
    {
     "data": {
      "image/png": "[encoded data removed]",
      "text/plain": [
       "<Figure size 432x288 with 1 Axes>"
      ]
     },
     "metadata": {
      "needs_background": "light"
     },
     "output_type": "display_data"
    }
   ],
   "source": [
    "x = [list(exman[\"goalsSet\"]),list(pomodoro[\"goalsSet\"])]\n",
    "\n",
    "label = [\"exman\",\"pormodoro\"]\n",
    "colors = ['red', 'blue']\n",
    "plt.hist(x, histtype='bar', color=colors, label=label)\n",
    "plt.legend(prop={'size': 10})\n",
    "plt.title('bars with legend')\n",
    "\n",
    "\n",
    "plt.show()"
   ]
  },
  {
   "cell_type": "code",
   "execution_count": 20,
   "metadata": {},
   "outputs": [
    {
     "name": "stdout",
     "output_type": "stream",
     "text": [
      "P-Value:0.02587229862116291 T-Statistic:2.2438752466987286\n"
     ]
    }
   ],
   "source": [
    "from scipy import stats\n",
    "tStat, pValue = stats.ttest_ind(exman[\"goalsAchievedPerHour\"], pomodoro[\"goalsAchievedPerHour\"], equal_var = False)\n",
    "print(\"P-Value:{0} T-Statistic:{1}\".format(pValue,tStat))"
   ]
  },
  {
   "cell_type": "markdown",
   "metadata": {},
   "source": [
    "The p-value is significant. Therefore, the user was more effective using our app exman than using the pomodoro timer."
   ]
  },
  {
   "cell_type": "markdown",
   "metadata": {},
   "source": [
    "<h4>finished vs total Goals</h4>"
   ]
  },
  {
   "cell_type": "code",
   "execution_count": 21,
   "metadata": {},
   "outputs": [
    {
     "data": {
      "text/plain": [
       "0.6359130434782608"
      ]
     },
     "execution_count": 21,
     "metadata": {},
     "output_type": "execute_result"
    }
   ],
   "source": [
    "exman[\"percentageCompletedGoals\"].mean()"
   ]
  },
  {
   "cell_type": "code",
   "execution_count": 22,
   "metadata": {},
   "outputs": [
    {
     "data": {
      "text/plain": [
       "0.5907142857142856"
      ]
     },
     "execution_count": 22,
     "metadata": {},
     "output_type": "execute_result"
    }
   ],
   "source": [
    "pomodoro[\"percentageCompletedGoals\"].mean()"
   ]
  },
  {
   "cell_type": "code",
   "execution_count": 23,
   "metadata": {},
   "outputs": [
    {
     "name": "stdout",
     "output_type": "stream",
     "text": [
      "P-Value:0.45733740830468417 T-Statistic:0.7445358020523467\n"
     ]
    }
   ],
   "source": [
    "from scipy import stats\n",
    "tStat, pValue = stats.ttest_ind(exman[\"percentageCompletedGoals\"], pomodoro[\"percentageCompletedGoals\"], equal_var = False)\n",
    "print(\"P-Value:{0} T-Statistic:{1}\".format(pValue,tStat))"
   ]
  },
  {
   "cell_type": "markdown",
   "metadata": {},
   "source": [
    "<h4> Broken Focus per hour </h4>"
   ]
  },
  {
   "cell_type": "code",
   "execution_count": 24,
   "metadata": {},
   "outputs": [],
   "source": [
    "normalize_data(\"brokenFocus\",\"minutesInFocus\",\"brokenFocusPerHour\", exman)\n",
    "normalize_data(\"brokenFocus\",\"minutesInFocus\",\"brokenFocusPerHour\", pomodoro)"
   ]
  },
  {
   "cell_type": "code",
   "execution_count": 25,
   "metadata": {},
   "outputs": [
    {
     "data": {
      "text/plain": [
       "0.48784796354100374"
      ]
     },
     "execution_count": 25,
     "metadata": {},
     "output_type": "execute_result"
    }
   ],
   "source": [
    "exman[\"brokenFocusPerHour\"].mean()"
   ]
  },
  {
   "cell_type": "code",
   "execution_count": 26,
   "metadata": {},
   "outputs": [
    {
     "data": {
      "text/plain": [
       "3.0109144450290617"
      ]
     },
     "execution_count": 26,
     "metadata": {},
     "output_type": "execute_result"
    }
   ],
   "source": [
    "pomodoro[\"brokenFocusPerHour\"].mean()"
   ]
  },
  {
   "cell_type": "code",
   "execution_count": 27,
   "metadata": {},
   "outputs": [
    {
     "data": {
      "text/plain": [
       "<matplotlib.legend.Legend at 0x1f5490d5448>"
      ]
     },
     "execution_count": 27,
     "metadata": {},
     "output_type": "execute_result"
    },
    {
     "data": {
      "image/png": "[encoded data removed]",
      "text/plain": [
       "<Figure size 432x288 with 1 Axes>"
      ]
     },
     "metadata": {
      "needs_background": "light"
     },
     "output_type": "display_data"
    }
   ],
   "source": [
    "plt.scatter(exman[\"minutesInFocus\"],exman[\"brokenFocus\"],label=\"exman\")\n",
    "plt.scatter(pomodoro[\"minutesInFocus\"],pomodoro[\"brokenFocus\"], label=\"pomodoro\")\n",
    "plt.xlabel(\"minutes in Focus\")\n",
    "plt.ylabel(\"broken Focus minutes\")\n",
    "plt.legend()"
   ]
  },
  {
   "cell_type": "code",
   "execution_count": 28,
   "metadata": {},
   "outputs": [
    {
     "data": {
      "image/png": "[encoded data removed]",
      "text/plain": [
       "<Figure size 432x288 with 1 Axes>"
      ]
     },
     "metadata": {
      "needs_background": "light"
     },
     "output_type": "display_data"
    }
   ],
   "source": [
    "x = [list(exman[\"brokenFocusPerHour\"]),list(pomodoro[\"brokenFocusPerHour\"])]\n",
    "\n",
    "label = [\"exman\",\"pormodoro\"]\n",
    "colors = ['red', 'blue']\n",
    "plt.hist(x, histtype='bar', color=colors, label=label)\n",
    "plt.legend(prop={'size': 10})\n",
    "\n",
    "plt.xlabel(\"broken focus in minutes during focus\")\n",
    "\n",
    "plt.show()"
   ]
  },
  {
   "cell_type": "code",
   "execution_count": 29,
   "metadata": {},
   "outputs": [
    {
     "data": {
      "text/html": [
       "<div>\n",
       "<style scoped>\n",
       "    .dataframe tbody tr th:only-of-type {\n",
       "        vertical-align: middle;\n",
       "    }\n",
       "\n",
       "    .dataframe tbody tr th {\n",
       "        vertical-align: top;\n",
       "    }\n",
       "\n",
       "    .dataframe thead th {\n",
       "        text-align: right;\n",
       "    }\n",
       "</style>\n",
       "<table border=\"1\" class=\"dataframe\">\n",
       "  <thead>\n",
       "    <tr style=\"text-align: right;\">\n",
       "      <th></th>\n",
       "      <th>PSNR</th>\n",
       "      <th>focusID</th>\n",
       "      <th>scheduled</th>\n",
       "      <th>brokenFocus</th>\n",
       "      <th>brokenFocusPerHour</th>\n",
       "      <th>nrOfBreaks</th>\n",
       "      <th>minutesInFocus</th>\n",
       "    </tr>\n",
       "  </thead>\n",
       "  <tbody>\n",
       "    <tr>\n",
       "      <th>183</th>\n",
       "      <td>p11</td>\n",
       "      <td>719e4219-41c6-4750-a8e7-dd62e25080cb</td>\n",
       "      <td>False</td>\n",
       "      <td>0.84</td>\n",
       "      <td>1.260000</td>\n",
       "      <td>1</td>\n",
       "      <td>40.00</td>\n",
       "    </tr>\n",
       "    <tr>\n",
       "      <th>165</th>\n",
       "      <td>p10</td>\n",
       "      <td>9d3aeb48-8518-466f-9bd6-195159d83d9c</td>\n",
       "      <td>False</td>\n",
       "      <td>0.70</td>\n",
       "      <td>1.680000</td>\n",
       "      <td>1</td>\n",
       "      <td>25.00</td>\n",
       "    </tr>\n",
       "    <tr>\n",
       "      <th>169</th>\n",
       "      <td>p10</td>\n",
       "      <td>40335a80-5d91-4833-8b1c-5ed2dfac9a6d</td>\n",
       "      <td>False</td>\n",
       "      <td>1.27</td>\n",
       "      <td>1.731818</td>\n",
       "      <td>3</td>\n",
       "      <td>44.00</td>\n",
       "    </tr>\n",
       "    <tr>\n",
       "      <th>39</th>\n",
       "      <td>p06</td>\n",
       "      <td>2d7bd4d9-e880-4ea9-9bde-a3ae1ce6b4ec</td>\n",
       "      <td>False</td>\n",
       "      <td>1.77</td>\n",
       "      <td>2.655000</td>\n",
       "      <td>1</td>\n",
       "      <td>40.00</td>\n",
       "    </tr>\n",
       "    <tr>\n",
       "      <th>1</th>\n",
       "      <td>p01</td>\n",
       "      <td>ef98194e-2687-4985-bcdb-16c9d8937b2d</td>\n",
       "      <td>False</td>\n",
       "      <td>1.23</td>\n",
       "      <td>2.952000</td>\n",
       "      <td>1</td>\n",
       "      <td>25.00</td>\n",
       "    </tr>\n",
       "    <tr>\n",
       "      <th>174</th>\n",
       "      <td>p10</td>\n",
       "      <td>8d1a45c2-4db1-48b2-af0c-ccd0d5aea3d0</td>\n",
       "      <td>False</td>\n",
       "      <td>2.04</td>\n",
       "      <td>4.896000</td>\n",
       "      <td>1</td>\n",
       "      <td>25.00</td>\n",
       "    </tr>\n",
       "    <tr>\n",
       "      <th>41</th>\n",
       "      <td>p06</td>\n",
       "      <td>66b0c95e-d104-40b6-8220-f428b01a0063</td>\n",
       "      <td>False</td>\n",
       "      <td>6.59</td>\n",
       "      <td>7.563122</td>\n",
       "      <td>1</td>\n",
       "      <td>52.28</td>\n",
       "    </tr>\n",
       "    <tr>\n",
       "      <th>94</th>\n",
       "      <td>p07</td>\n",
       "      <td>c1c35f24-a35c-4d06-b137-be1a19e2c4f7</td>\n",
       "      <td>False</td>\n",
       "      <td>8.04</td>\n",
       "      <td>8.040000</td>\n",
       "      <td>1</td>\n",
       "      <td>60.00</td>\n",
       "    </tr>\n",
       "    <tr>\n",
       "      <th>40</th>\n",
       "      <td>p06</td>\n",
       "      <td>df1eabfa-1aa7-48eb-8bad-0c4b34931335</td>\n",
       "      <td>False</td>\n",
       "      <td>6.33</td>\n",
       "      <td>9.495000</td>\n",
       "      <td>1</td>\n",
       "      <td>40.00</td>\n",
       "    </tr>\n",
       "    <tr>\n",
       "      <th>170</th>\n",
       "      <td>p10</td>\n",
       "      <td>e1a2ecc5-90b8-461e-8749-80f098b39a8a</td>\n",
       "      <td>False</td>\n",
       "      <td>6.11</td>\n",
       "      <td>14.664000</td>\n",
       "      <td>2</td>\n",
       "      <td>25.00</td>\n",
       "    </tr>\n",
       "  </tbody>\n",
       "</table>\n",
       "</div>"
      ],
      "text/plain": [
       "    PSNR                               focusID  scheduled  brokenFocus  \\\n",
       "183  p11  719e4219-41c6-4750-a8e7-dd62e25080cb      False         0.84   \n",
       "165  p10  9d3aeb48-8518-466f-9bd6-195159d83d9c      False         0.70   \n",
       "169  p10  40335a80-5d91-4833-8b1c-5ed2dfac9a6d      False         1.27   \n",
       "39   p06  2d7bd4d9-e880-4ea9-9bde-a3ae1ce6b4ec      False         1.77   \n",
       "1    p01  ef98194e-2687-4985-bcdb-16c9d8937b2d      False         1.23   \n",
       "174  p10  8d1a45c2-4db1-48b2-af0c-ccd0d5aea3d0      False         2.04   \n",
       "41   p06  66b0c95e-d104-40b6-8220-f428b01a0063      False         6.59   \n",
       "94   p07  c1c35f24-a35c-4d06-b137-be1a19e2c4f7      False         8.04   \n",
       "40   p06  df1eabfa-1aa7-48eb-8bad-0c4b34931335      False         6.33   \n",
       "170  p10  e1a2ecc5-90b8-461e-8749-80f098b39a8a      False         6.11   \n",
       "\n",
       "     brokenFocusPerHour  nrOfBreaks  minutesInFocus  \n",
       "183            1.260000           1           40.00  \n",
       "165            1.680000           1           25.00  \n",
       "169            1.731818           3           44.00  \n",
       "39             2.655000           1           40.00  \n",
       "1              2.952000           1           25.00  \n",
       "174            4.896000           1           25.00  \n",
       "41             7.563122           1           52.28  \n",
       "94             8.040000           1           60.00  \n",
       "40             9.495000           1           40.00  \n",
       "170           14.664000           2           25.00  "
      ]
     },
     "execution_count": 29,
     "metadata": {},
     "output_type": "execute_result"
    }
   ],
   "source": [
    "exman[[\"PSNR\", \"focusID\", \"scheduled\", \"brokenFocus\", \"brokenFocusPerHour\", \"nrOfBreaks\", \"minutesInFocus\"]].sort_values(\"brokenFocusPerHour\").tail(10)"
   ]
  },
  {
   "cell_type": "code",
   "execution_count": 30,
   "metadata": {},
   "outputs": [
    {
     "data": {
      "text/html": [
       "<div>\n",
       "<style scoped>\n",
       "    .dataframe tbody tr th:only-of-type {\n",
       "        vertical-align: middle;\n",
       "    }\n",
       "\n",
       "    .dataframe tbody tr th {\n",
       "        vertical-align: top;\n",
       "    }\n",
       "\n",
       "    .dataframe thead th {\n",
       "        text-align: right;\n",
       "    }\n",
       "</style>\n",
       "<table border=\"1\" class=\"dataframe\">\n",
       "  <thead>\n",
       "    <tr style=\"text-align: right;\">\n",
       "      <th></th>\n",
       "      <th>PSNR</th>\n",
       "      <th>focusID</th>\n",
       "      <th>scheduled</th>\n",
       "      <th>brokenFocus</th>\n",
       "      <th>brokenFocusPerHour</th>\n",
       "      <th>nrOfBreaks</th>\n",
       "      <th>minutesInFocus</th>\n",
       "    </tr>\n",
       "  </thead>\n",
       "  <tbody>\n",
       "    <tr>\n",
       "      <th>55</th>\n",
       "      <td>p07</td>\n",
       "      <td>fccfd0e8-3597-45a5-a369-bdde5c6d79f6</td>\n",
       "      <td>False</td>\n",
       "      <td>0.00</td>\n",
       "      <td>0.000000</td>\n",
       "      <td>0</td>\n",
       "      <td>160.00</td>\n",
       "    </tr>\n",
       "    <tr>\n",
       "      <th>61</th>\n",
       "      <td>p07</td>\n",
       "      <td>624c4076-324c-4544-987e-da6ef551d2d6</td>\n",
       "      <td>False</td>\n",
       "      <td>0.00</td>\n",
       "      <td>0.000000</td>\n",
       "      <td>0</td>\n",
       "      <td>40.00</td>\n",
       "    </tr>\n",
       "    <tr>\n",
       "      <th>62</th>\n",
       "      <td>p07</td>\n",
       "      <td>c55bfc7b-9341-46e9-a058-6032efffa1d7</td>\n",
       "      <td>False</td>\n",
       "      <td>0.36</td>\n",
       "      <td>0.240000</td>\n",
       "      <td>1</td>\n",
       "      <td>90.00</td>\n",
       "    </tr>\n",
       "    <tr>\n",
       "      <th>186</th>\n",
       "      <td>p11</td>\n",
       "      <td>de162c05-0876-440d-8203-d7bc92b92d91</td>\n",
       "      <td>False</td>\n",
       "      <td>0.19</td>\n",
       "      <td>0.285000</td>\n",
       "      <td>1</td>\n",
       "      <td>40.00</td>\n",
       "    </tr>\n",
       "    <tr>\n",
       "      <th>34</th>\n",
       "      <td>p02</td>\n",
       "      <td>279e8657-e394-48da-bb02-f84df29e4791</td>\n",
       "      <td>False</td>\n",
       "      <td>0.22</td>\n",
       "      <td>0.725275</td>\n",
       "      <td>1</td>\n",
       "      <td>18.20</td>\n",
       "    </tr>\n",
       "    <tr>\n",
       "      <th>214</th>\n",
       "      <td>p17</td>\n",
       "      <td>24b945f7-5136-4b3d-87e8-f48d80490ce9</td>\n",
       "      <td>False</td>\n",
       "      <td>3.77</td>\n",
       "      <td>1.370909</td>\n",
       "      <td>3</td>\n",
       "      <td>165.00</td>\n",
       "    </tr>\n",
       "    <tr>\n",
       "      <th>159</th>\n",
       "      <td>p09</td>\n",
       "      <td>cb060b11-61df-4165-a273-0e15c949206a</td>\n",
       "      <td>False</td>\n",
       "      <td>0.37</td>\n",
       "      <td>1.480000</td>\n",
       "      <td>1</td>\n",
       "      <td>15.00</td>\n",
       "    </tr>\n",
       "    <tr>\n",
       "      <th>161</th>\n",
       "      <td>p09</td>\n",
       "      <td>92ef0f2c-dd68-4e55-b82a-91c0e06daa6c</td>\n",
       "      <td>False</td>\n",
       "      <td>1.12</td>\n",
       "      <td>1.674975</td>\n",
       "      <td>1</td>\n",
       "      <td>40.12</td>\n",
       "    </tr>\n",
       "    <tr>\n",
       "      <th>156</th>\n",
       "      <td>p09</td>\n",
       "      <td>_60pjae1k8kr36b9g8cqjeb9k75136b9p6t244ba574s3e...</td>\n",
       "      <td>True</td>\n",
       "      <td>3.34</td>\n",
       "      <td>2.672000</td>\n",
       "      <td>1</td>\n",
       "      <td>75.00</td>\n",
       "    </tr>\n",
       "    <tr>\n",
       "      <th>50</th>\n",
       "      <td>p06</td>\n",
       "      <td>3bc42f29-d898-4989-bda5-df198a0eb99c</td>\n",
       "      <td>False</td>\n",
       "      <td>1.74</td>\n",
       "      <td>6.960000</td>\n",
       "      <td>1</td>\n",
       "      <td>15.00</td>\n",
       "    </tr>\n",
       "    <tr>\n",
       "      <th>211</th>\n",
       "      <td>p17</td>\n",
       "      <td>c4b0771f-3ff2-4711-9aad-929e5f4c69d0</td>\n",
       "      <td>False</td>\n",
       "      <td>11.15</td>\n",
       "      <td>12.546887</td>\n",
       "      <td>7</td>\n",
       "      <td>53.32</td>\n",
       "    </tr>\n",
       "    <tr>\n",
       "      <th>162</th>\n",
       "      <td>p09</td>\n",
       "      <td>943b5bc1-43d6-4fd4-b965-8752fc87628e</td>\n",
       "      <td>False</td>\n",
       "      <td>9.44</td>\n",
       "      <td>13.495354</td>\n",
       "      <td>2</td>\n",
       "      <td>41.97</td>\n",
       "    </tr>\n",
       "    <tr>\n",
       "      <th>153</th>\n",
       "      <td>p09</td>\n",
       "      <td>c68f5fc7-f6d5-4fdb-870f-4baa6e66127e</td>\n",
       "      <td>False</td>\n",
       "      <td>10.46</td>\n",
       "      <td>15.690000</td>\n",
       "      <td>6</td>\n",
       "      <td>40.00</td>\n",
       "    </tr>\n",
       "    <tr>\n",
       "      <th>160</th>\n",
       "      <td>p09</td>\n",
       "      <td>be8910fe-329c-4767-bb0a-f813e8a77580</td>\n",
       "      <td>False</td>\n",
       "      <td>5.36</td>\n",
       "      <td>16.217852</td>\n",
       "      <td>3</td>\n",
       "      <td>19.83</td>\n",
       "    </tr>\n",
       "    <tr>\n",
       "      <th>158</th>\n",
       "      <td>p09</td>\n",
       "      <td>_8l33cdi26h23cba571242b9k68q42b9o60p46ba18crj8...</td>\n",
       "      <td>True</td>\n",
       "      <td>50.15</td>\n",
       "      <td>16.716667</td>\n",
       "      <td>2</td>\n",
       "      <td>180.00</td>\n",
       "    </tr>\n",
       "    <tr>\n",
       "      <th>46</th>\n",
       "      <td>p06</td>\n",
       "      <td>dbdaaf2b-aa10-4db9-9e32-30489174adf2</td>\n",
       "      <td>False</td>\n",
       "      <td>21.61</td>\n",
       "      <td>32.415000</td>\n",
       "      <td>1</td>\n",
       "      <td>40.00</td>\n",
       "    </tr>\n",
       "    <tr>\n",
       "      <th>212</th>\n",
       "      <td>p17</td>\n",
       "      <td>6c6fa9a7-315c-4075-8f7c-8363fc5de7bb</td>\n",
       "      <td>False</td>\n",
       "      <td>49.93</td>\n",
       "      <td>37.447500</td>\n",
       "      <td>2</td>\n",
       "      <td>80.00</td>\n",
       "    </tr>\n",
       "    <tr>\n",
       "      <th>47</th>\n",
       "      <td>p06</td>\n",
       "      <td>f3b3f7e7-d99f-4a05-aa48-121acf63153d</td>\n",
       "      <td>False</td>\n",
       "      <td>39.10</td>\n",
       "      <td>58.650000</td>\n",
       "      <td>1</td>\n",
       "      <td>40.00</td>\n",
       "    </tr>\n",
       "    <tr>\n",
       "      <th>179</th>\n",
       "      <td>p10</td>\n",
       "      <td>652e7ff6-70d4-4082-ae90-9b4ae8ded761</td>\n",
       "      <td>False</td>\n",
       "      <td>14.76</td>\n",
       "      <td>59.040000</td>\n",
       "      <td>1</td>\n",
       "      <td>15.00</td>\n",
       "    </tr>\n",
       "    <tr>\n",
       "      <th>48</th>\n",
       "      <td>p06</td>\n",
       "      <td>9504e872-a0eb-45da-8963-0cb59f923dc5</td>\n",
       "      <td>False</td>\n",
       "      <td>39.73</td>\n",
       "      <td>59.595000</td>\n",
       "      <td>1</td>\n",
       "      <td>40.00</td>\n",
       "    </tr>\n",
       "  </tbody>\n",
       "</table>\n",
       "</div>"
      ],
      "text/plain": [
       "    PSNR                                            focusID  scheduled  \\\n",
       "55   p07               fccfd0e8-3597-45a5-a369-bdde5c6d79f6      False   \n",
       "61   p07               624c4076-324c-4544-987e-da6ef551d2d6      False   \n",
       "62   p07               c55bfc7b-9341-46e9-a058-6032efffa1d7      False   \n",
       "186  p11               de162c05-0876-440d-8203-d7bc92b92d91      False   \n",
       "34   p02               279e8657-e394-48da-bb02-f84df29e4791      False   \n",
       "214  p17               24b945f7-5136-4b3d-87e8-f48d80490ce9      False   \n",
       "159  p09               cb060b11-61df-4165-a273-0e15c949206a      False   \n",
       "161  p09               92ef0f2c-dd68-4e55-b82a-91c0e06daa6c      False   \n",
       "156  p09  _60pjae1k8kr36b9g8cqjeb9k75136b9p6t244ba574s3e...       True   \n",
       "50   p06               3bc42f29-d898-4989-bda5-df198a0eb99c      False   \n",
       "211  p17               c4b0771f-3ff2-4711-9aad-929e5f4c69d0      False   \n",
       "162  p09               943b5bc1-43d6-4fd4-b965-8752fc87628e      False   \n",
       "153  p09               c68f5fc7-f6d5-4fdb-870f-4baa6e66127e      False   \n",
       "160  p09               be8910fe-329c-4767-bb0a-f813e8a77580      False   \n",
       "158  p09  _8l33cdi26h23cba571242b9k68q42b9o60p46ba18crj8...       True   \n",
       "46   p06               dbdaaf2b-aa10-4db9-9e32-30489174adf2      False   \n",
       "212  p17               6c6fa9a7-315c-4075-8f7c-8363fc5de7bb      False   \n",
       "47   p06               f3b3f7e7-d99f-4a05-aa48-121acf63153d      False   \n",
       "179  p10               652e7ff6-70d4-4082-ae90-9b4ae8ded761      False   \n",
       "48   p06               9504e872-a0eb-45da-8963-0cb59f923dc5      False   \n",
       "\n",
       "     brokenFocus  brokenFocusPerHour  nrOfBreaks  minutesInFocus  \n",
       "55          0.00            0.000000           0          160.00  \n",
       "61          0.00            0.000000           0           40.00  \n",
       "62          0.36            0.240000           1           90.00  \n",
       "186         0.19            0.285000           1           40.00  \n",
       "34          0.22            0.725275           1           18.20  \n",
       "214         3.77            1.370909           3          165.00  \n",
       "159         0.37            1.480000           1           15.00  \n",
       "161         1.12            1.674975           1           40.12  \n",
       "156         3.34            2.672000           1           75.00  \n",
       "50          1.74            6.960000           1           15.00  \n",
       "211        11.15           12.546887           7           53.32  \n",
       "162         9.44           13.495354           2           41.97  \n",
       "153        10.46           15.690000           6           40.00  \n",
       "160         5.36           16.217852           3           19.83  \n",
       "158        50.15           16.716667           2          180.00  \n",
       "46         21.61           32.415000           1           40.00  \n",
       "212        49.93           37.447500           2           80.00  \n",
       "47         39.10           58.650000           1           40.00  \n",
       "179        14.76           59.040000           1           15.00  \n",
       "48         39.73           59.595000           1           40.00  "
      ]
     },
     "execution_count": 30,
     "metadata": {},
     "output_type": "execute_result"
    }
   ],
   "source": [
    "pomodoro[[\"PSNR\", \"focusID\", \"scheduled\", \"brokenFocus\", \"brokenFocusPerHour\", \"nrOfBreaks\", \"minutesInFocus\"]].sort_values(\"brokenFocusPerHour\").tail(20)"
   ]
  },
  {
   "cell_type": "code",
   "execution_count": 31,
   "metadata": {},
   "outputs": [
    {
     "name": "stdout",
     "output_type": "stream",
     "text": [
      "P-Value:0.01711207312732622 T-Statistic:-2.418464796263217\n"
     ]
    }
   ],
   "source": [
    "from scipy import stats\n",
    "tStat, pValue = stats.ttest_ind(exman[\"brokenFocusPerHour\"], pomodoro[\"brokenFocusPerHour\"], equal_var = False)\n",
    "print(\"P-Value:{0} T-Statistic:{1}\".format(pValue,tStat))"
   ]
  },
  {
   "cell_type": "code",
   "execution_count": 32,
   "metadata": {},
   "outputs": [
    {
     "name": "stdout",
     "output_type": "stream",
     "text": [
      "0.48784796354100374\n",
      "0.69205897336404\n"
     ]
    }
   ],
   "source": [
    "print(exman[\"brokenFocusPerHour\"].mean())\n",
    "print(pomodoro[pomodoro[\"brokenFocusPerHour\"] < 16.5]['brokenFocusPerHour'].mean())\n"
   ]
  },
  {
   "cell_type": "code",
   "execution_count": 33,
   "metadata": {},
   "outputs": [
    {
     "name": "stdout",
     "output_type": "stream",
     "text": [
      "P-Value:0.5416061038154043 T-Statistic:-0.6115202644611771\n"
     ]
    }
   ],
   "source": [
    "from scipy import stats\n",
    "tStat, pValue = stats.ttest_ind(exman[\"brokenFocusPerHour\"], pomodoro[pomodoro[\"brokenFocusPerHour\"] < 16.5]['brokenFocusPerHour'], equal_var = False)\n",
    "print(\"P-Value:{0} T-Statistic:{1}\".format(pValue,tStat))"
   ]
  },
  {
   "cell_type": "code",
   "execution_count": 34,
   "metadata": {},
   "outputs": [
    {
     "name": "stdout",
     "output_type": "stream",
     "text": [
      "0.8956521739130435\n",
      "0.8392857142857143\n"
     ]
    }
   ],
   "source": [
    "print(exman[exman[\"brokenFocus\"] == 0]['brokenFocus'].count() / exman[\"brokenFocus\"].count())\n",
    "print(pomodoro[pomodoro[\"brokenFocus\"] == 0]['brokenFocus'].count() / pomodoro[\"brokenFocus\"].count())"
   ]
  },
  {
   "cell_type": "code",
   "execution_count": 35,
   "metadata": {},
   "outputs": [
    {
     "data": {
      "text/plain": [
       "<matplotlib.legend.Legend at 0x1f549429f88>"
      ]
     },
     "execution_count": 35,
     "metadata": {},
     "output_type": "execute_result"
    },
    {
     "data": {
      "image/png": "[encoded data removed]",
      "text/plain": [
       "<Figure size 432x288 with 1 Axes>"
      ]
     },
     "metadata": {
      "needs_background": "light"
     },
     "output_type": "display_data"
    }
   ],
   "source": [
    "plt.scatter(exman[exman[\"brokenFocus\"] != 0]['minutesInFocus'],exman[exman[\"brokenFocus\"] != 0]['brokenFocus'],label=\"exman\")\n",
    "plt.scatter(pomodoro[pomodoro[\"brokenFocus\"] != 0]['minutesInFocus'],pomodoro[pomodoro[\"brokenFocus\"] != 0]['brokenFocus'], label=\"pomodoro\")\n",
    "plt.xlabel(\"minutes in Focus\")\n",
    "plt.ylabel(\"broken Focus minutes\")\n",
    "plt.legend()"
   ]
  },
  {
   "cell_type": "markdown",
   "metadata": {},
   "source": [
    "<h4> broken focus frequency </h4>"
   ]
  },
  {
   "cell_type": "code",
   "execution_count": 36,
   "metadata": {},
   "outputs": [],
   "source": [
    "normalize_data(\"nrOfBreaks\",\"minutesInFocus\",\"brokenFrequencyPerHour\", exman)\n",
    "normalize_data(\"nrOfBreaks\",\"minutesInFocus\",\"brokenFrequencyPerHour\", pomodoro)"
   ]
  },
  {
   "cell_type": "code",
   "execution_count": 37,
   "metadata": {},
   "outputs": [
    {
     "data": {
      "text/plain": [
       "<matplotlib.legend.Legend at 0x1f5494c5588>"
      ]
     },
     "execution_count": 37,
     "metadata": {},
     "output_type": "execute_result"
    },
    {
     "data": {
      "image/png": "[encoded data removed]",
      "text/plain": [
       "<Figure size 432x288 with 1 Axes>"
      ]
     },
     "metadata": {
      "needs_background": "light"
     },
     "output_type": "display_data"
    }
   ],
   "source": [
    "plt.scatter(exman[\"brokenFocus\"],exman[\"brokenFrequencyPerHour\"],label=\"exman\")\n",
    "plt.scatter(pomodoro[\"brokenFocus\"],pomodoro[\"brokenFrequencyPerHour\"], label=\"pomodoro\")\n",
    "plt.xlabel(\"minutes in broken focus\")\n",
    "plt.ylabel(\"number of breaks\")\n",
    "plt.legend()"
   ]
  },
  {
   "cell_type": "code",
   "execution_count": 38,
   "metadata": {},
   "outputs": [
    {
     "data": {
      "text/plain": [
       "0.22747864168793977"
      ]
     },
     "execution_count": 38,
     "metadata": {},
     "output_type": "execute_result"
    }
   ],
   "source": [
    "exman[\"brokenFrequencyPerHour\"].mean()"
   ]
  },
  {
   "cell_type": "code",
   "execution_count": 39,
   "metadata": {},
   "outputs": [
    {
     "data": {
      "text/plain": [
       "0.5029443694609202"
      ]
     },
     "execution_count": 39,
     "metadata": {},
     "output_type": "execute_result"
    }
   ],
   "source": [
    "pomodoro[\"brokenFrequencyPerHour\"].mean()"
   ]
  },
  {
   "cell_type": "code",
   "execution_count": 40,
   "metadata": {},
   "outputs": [
    {
     "name": "stdout",
     "output_type": "stream",
     "text": [
      "P-Value:0.09920070251431919 T-Statistic:-1.658472812049136\n"
     ]
    }
   ],
   "source": [
    "from scipy import stats\n",
    "tStat, pValue = stats.ttest_ind(exman[\"brokenFrequencyPerHour\"], pomodoro[\"brokenFrequencyPerHour\"], equal_var = False)\n",
    "print(\"P-Value:{0} T-Statistic:{1}\".format(pValue,tStat))"
   ]
  },
  {
   "cell_type": "markdown",
   "metadata": {},
   "source": [
    "The effect on frequency of breaks is not significant, but the difference of the break duration between pomodoro and exman is significant on a 5% level. Reason for that not known yet."
   ]
  },
  {
   "cell_type": "markdown",
   "metadata": {},
   "source": [
    "<h4>distraction time </h4>"
   ]
  },
  {
   "cell_type": "code",
   "execution_count": 41,
   "metadata": {},
   "outputs": [],
   "source": [
    "normalize_data(\"distractionTime\",\"minutesInFocus\",\"distractionTimePerHour\",exman)\n",
    "normalize_data(\"distractionTime\",\"minutesInFocus\",\"distractionTimePerHour\",pomodoro)"
   ]
  },
  {
   "cell_type": "code",
   "execution_count": 42,
   "metadata": {},
   "outputs": [
    {
     "data": {
      "text/plain": [
       "1.733884165806526"
      ]
     },
     "execution_count": 42,
     "metadata": {},
     "output_type": "execute_result"
    }
   ],
   "source": [
    "exman[\"distractionTimePerHour\"].mean()"
   ]
  },
  {
   "cell_type": "code",
   "execution_count": 43,
   "metadata": {},
   "outputs": [
    {
     "data": {
      "text/plain": [
       "2.0561815823129317"
      ]
     },
     "execution_count": 43,
     "metadata": {},
     "output_type": "execute_result"
    }
   ],
   "source": [
    "pomodoro[\"distractionTimePerHour\"].mean()"
   ]
  },
  {
   "cell_type": "code",
   "execution_count": 44,
   "metadata": {},
   "outputs": [
    {
     "name": "stdout",
     "output_type": "stream",
     "text": [
      "P-Value:0.7316975137945269 T-Statistic:-0.3433181976946759\n"
     ]
    }
   ],
   "source": [
    "from scipy import stats\n",
    "tStat, pValue = stats.ttest_ind(exman[\"distractionTimePerHour\"], pomodoro[\"distractionTimePerHour\"], equal_var = False)\n",
    "print(\"P-Value:{0} T-Statistic:{1}\".format(pValue,tStat))"
   ]
  },
  {
   "cell_type": "markdown",
   "metadata": {},
   "source": [
    "Not significant"
   ]
  },
  {
   "cell_type": "markdown",
   "metadata": {},
   "source": [
    "<h4>Summary page rating</h4>"
   ]
  },
  {
   "cell_type": "code",
   "execution_count": 45,
   "metadata": {},
   "outputs": [
    {
     "data": {
      "text/plain": [
       "5.885714285714286"
      ]
     },
     "execution_count": 45,
     "metadata": {},
     "output_type": "execute_result"
    }
   ],
   "source": [
    "exman[\"rating\"].dropna().astype(int).mean()"
   ]
  },
  {
   "cell_type": "code",
   "execution_count": 46,
   "metadata": {},
   "outputs": [
    {
     "data": {
      "text/plain": [
       "5.74"
      ]
     },
     "execution_count": 46,
     "metadata": {},
     "output_type": "execute_result"
    }
   ],
   "source": [
    "pomodoro[\"rating\"].dropna().astype(int).mean()"
   ]
  },
  {
   "cell_type": "markdown",
   "metadata": {},
   "source": [
    "<h4> Productivity Rating </h4>"
   ]
  },
  {
   "cell_type": "code",
   "execution_count": 47,
   "metadata": {},
   "outputs": [],
   "source": [
    "exman_rating = exman.dropna(subset=[\"rating\"])\n",
    "pomodoro_rating = pomodoro.dropna(subset=[\"rating\"])"
   ]
  },
  {
   "cell_type": "code",
   "execution_count": 48,
   "metadata": {},
   "outputs": [
    {
     "name": "stdout",
     "output_type": "stream",
     "text": [
      "5.885714285714286\n",
      "5.74\n"
     ]
    }
   ],
   "source": [
    "print(exman_rating['rating'].astype(int).mean())\n",
    "print(pomodoro_rating['rating'].astype(int).mean())"
   ]
  },
  {
   "cell_type": "code",
   "execution_count": 49,
   "metadata": {},
   "outputs": [
    {
     "data": {
      "image/png": "[encoded data removed]",
      "text/plain": [
       "<Figure size 432x288 with 1 Axes>"
      ]
     },
     "metadata": {
      "needs_background": "light"
     },
     "output_type": "display_data"
    }
   ],
   "source": [
    "bins = [1,2,3,4,5,6,7]\n",
    "x = [list(exman_rating[\"rating\"].astype(int)),list(pomodoro_rating[\"rating\"].astype(int))]\n",
    "\n",
    "label = [\"exman\",\"pormodoro\"]\n",
    "colors = ['red', 'blue']\n",
    "plt.hist(x, bins, histtype='bar', color=colors, label=label)\n",
    "plt.legend(prop={'size': 10})\n",
    "plt.title('bars with legend')\n",
    "\n",
    "\n",
    "plt.show()"
   ]
  },
  {
   "cell_type": "code",
   "execution_count": 50,
   "metadata": {},
   "outputs": [
    {
     "name": "stdout",
     "output_type": "stream",
     "text": [
      "P-Value:0.3389466734031623 T-Statistic:0.9585245074826414\n"
     ]
    }
   ],
   "source": [
    "from scipy import stats\n",
    "tStat, pValue = stats.ttest_ind(exman_rating[\"rating\"].astype(int), pomodoro_rating[\"rating\"].astype(int), equal_var = False)\n",
    "print(\"P-Value:{0} T-Statistic:{1}\".format(pValue,tStat))"
   ]
  },
  {
   "cell_type": "markdown",
   "metadata": {},
   "source": [
    "The p-Value and the t-test is not significant. Therefore, we cannot assume, that exman provides an improvement of the productivity compared to the pomodoro baseline."
   ]
  },
  {
   "cell_type": "markdown",
   "metadata": {},
   "source": [
    "<h4>nr of notifications vs rating</h4>"
   ]
  },
  {
   "cell_type": "code",
   "execution_count": 51,
   "metadata": {},
   "outputs": [
    {
     "data": {
      "text/plain": [
       "array([[ 1.        , -0.19790714],\n",
       "       [-0.19790714,  1.        ]])"
      ]
     },
     "execution_count": 51,
     "metadata": {},
     "output_type": "execute_result"
    }
   ],
   "source": [
    "np.corrcoef(exman_rating[\"messagesReceivedInFocus\"],exman_rating[\"rating\"].astype(int))"
   ]
  },
  {
   "cell_type": "code",
   "execution_count": 52,
   "metadata": {},
   "outputs": [
    {
     "data": {
      "text/plain": [
       "array([[ 1.        , -0.02110936],\n",
       "       [-0.02110936,  1.        ]])"
      ]
     },
     "execution_count": 52,
     "metadata": {},
     "output_type": "execute_result"
    }
   ],
   "source": [
    "np.corrcoef(pomodoro_rating[\"messagesReceivedInFocus\"],pomodoro_rating[\"rating\"].astype(int))"
   ]
  },
  {
   "cell_type": "markdown",
   "metadata": {},
   "source": [
    "<h4>hour of the day vs rating</h4>"
   ]
  },
  {
   "cell_type": "code",
   "execution_count": 53,
   "metadata": {},
   "outputs": [
    {
     "data": {
      "text/plain": [
       "<matplotlib.collections.PathCollection at 0x1f5495dffc8>"
      ]
     },
     "execution_count": 53,
     "metadata": {},
     "output_type": "execute_result"
    },
    {
     "data": {
      "image/png": "[encoded data removed]",
      "text/plain": [
       "<Figure size 432x288 with 1 Axes>"
      ]
     },
     "metadata": {
      "needs_background": "light"
     },
     "output_type": "display_data"
    }
   ],
   "source": [
    "plt.scatter(exman_rating[\"hourOfDay\"],exman_rating[\"rating\"].astype(int))"
   ]
  },
  {
   "cell_type": "code",
   "execution_count": 54,
   "metadata": {},
   "outputs": [
    {
     "data": {
      "text/plain": [
       "<matplotlib.collections.PathCollection at 0x1f549643fc8>"
      ]
     },
     "execution_count": 54,
     "metadata": {},
     "output_type": "execute_result"
    },
    {
     "data": {
      "image/png": "[encoded data removed]",
      "text/plain": [
       "<Figure size 432x288 with 1 Axes>"
      ]
     },
     "metadata": {
      "needs_background": "light"
     },
     "output_type": "display_data"
    }
   ],
   "source": [
    "plt.scatter(pomodoro_rating[\"hourOfDay\"],pomodoro_rating[\"rating\"].astype(int))"
   ]
  },
  {
   "cell_type": "markdown",
   "metadata": {},
   "source": [
    "<h3> Explaining productivity rating </h3>"
   ]
  },
  {
   "cell_type": "markdown",
   "metadata": {},
   "source": [
    "Perceived productivity"
   ]
  },
  {
   "cell_type": "code",
   "execution_count": 55,
   "metadata": {},
   "outputs": [
    {
     "ename": "ModuleNotFoundError",
     "evalue": "No module named 'statsmodels'",
     "output_type": "error",
     "traceback": [
      "\u001b[1;31m---------------------------------------------------------------------------\u001b[0m",
      "\u001b[1;31mModuleNotFoundError\u001b[0m                       Traceback (most recent call last)",
      "\u001b[1;32m<ipython-input-55-34fee2edc267>\u001b[0m in \u001b[0;36m<module>\u001b[1;34m\u001b[0m\n\u001b[1;32m----> 1\u001b[1;33m \u001b[1;32mimport\u001b[0m \u001b[0mstatsmodels\u001b[0m\u001b[1;33m.\u001b[0m\u001b[0mapi\u001b[0m \u001b[1;32mas\u001b[0m \u001b[0msm\u001b[0m\u001b[1;33m\u001b[0m\u001b[1;33m\u001b[0m\u001b[0m\n\u001b[0m\u001b[0;32m      2\u001b[0m \u001b[1;33m\u001b[0m\u001b[0m\n\u001b[0;32m      3\u001b[0m \u001b[0mdf_rating\u001b[0m \u001b[1;33m=\u001b[0m \u001b[0mpd\u001b[0m\u001b[1;33m.\u001b[0m\u001b[0mconcat\u001b[0m\u001b[1;33m(\u001b[0m\u001b[1;33m[\u001b[0m\u001b[0mexman_rating\u001b[0m\u001b[1;33m,\u001b[0m \u001b[0mpomodoro_rating\u001b[0m\u001b[1;33m]\u001b[0m\u001b[1;33m)\u001b[0m\u001b[1;33m\u001b[0m\u001b[1;33m\u001b[0m\u001b[0m\n\u001b[0;32m      4\u001b[0m \u001b[0mdf_rating\u001b[0m\u001b[1;33m[\u001b[0m\u001b[1;34m'intercept'\u001b[0m\u001b[1;33m]\u001b[0m \u001b[1;33m=\u001b[0m \u001b[1;36m1\u001b[0m\u001b[1;33m\u001b[0m\u001b[1;33m\u001b[0m\u001b[0m\n\u001b[0;32m      5\u001b[0m \u001b[1;33m\u001b[0m\u001b[0m\n",
      "\u001b[1;31mModuleNotFoundError\u001b[0m: No module named 'statsmodels'"
     ]
    }
   ],
   "source": [
    "import statsmodels.api as sm\n",
    "\n",
    "df_rating = pd.concat([exman_rating, pomodoro_rating])\n",
    "df_rating['intercept'] = 1\n",
    "\n",
    "# create dummy variables\n",
    "version_dummy = pd.get_dummies(df_rating['appVersion'])\n",
    "\n",
    "df_rating = pd.concat([df_rating, version_dummy], axis=1)\n",
    "\n",
    "\n",
    "X = df_rating[['intercept', 'brokenFocusPerHour', 'distractionTimePerHour']]\n",
    "Y = df_rating['rating'].astype(int)\n",
    "\n",
    "results = sm.OLS(Y,X).fit()\n",
    "results.summary()"
   ]
  },
  {
   "cell_type": "markdown",
   "metadata": {},
   "source": [
    "<b> -> App version itself is not significant, but distractions and breaking focus are both discouraged in exman <b>"
   ]
  },
  {
   "cell_type": "code",
   "execution_count": null,
   "metadata": {},
   "outputs": [],
   "source": [
    "df_rating\n",
    "\n",
    "X = df_rating[['intercept', 'exman']]\n",
    "Y = df_rating['goalsAchievedPerHour']\n",
    "\n",
    "results = sm.OLS(Y,X).fit()\n",
    "results.summary()"
   ]
  },
  {
   "cell_type": "markdown",
   "metadata": {},
   "source": [
    "<b> -> App version is significant in terms of goals achieved per hours (as seen in t-test already) <b>"
   ]
  },
  {
   "cell_type": "markdown",
   "metadata": {},
   "source": [
    "<h2> General Stats </h2>"
   ]
  },
  {
   "cell_type": "code",
   "execution_count": null,
   "metadata": {},
   "outputs": [],
   "source": [
    "pd.concat([\n",
    "    df[df.PSNR == \"p01\"][\"appVersion\"].describe(),\n",
    "    df[df.PSNR == \"p02\"][\"appVersion\"].describe(),\n",
    "    df[df.PSNR == \"p06\"][\"appVersion\"].describe(),\n",
    "    df[df.PSNR == \"p07\"][\"appVersion\"].describe(),\n",
    "    df[df.PSNR == \"p08\"][\"appVersion\"].describe(),\n",
    "    df[df.PSNR == \"p09\"][\"appVersion\"].describe(),\n",
    "    df[df.PSNR == \"p10\"][\"appVersion\"].describe(),\n",
    "    df[df.PSNR == \"p11\"][\"appVersion\"].describe(),\n",
    "    df[df.PSNR == \"p12\"][\"appVersion\"].describe(),\n",
    "    df[df.PSNR == \"p17\"][\"appVersion\"].describe()\n",
    "],axis=1, keys= df.PSNR.unique())"
   ]
  },
  {
   "cell_type": "markdown",
   "metadata": {},
   "source": [
    "Focus sessions are mostly evenly distributed for pomodoro and exman (except maybe for p01)"
   ]
  },
  {
   "cell_type": "markdown",
   "metadata": {},
   "source": [
    "<h4> notification per focus per hour </h4>"
   ]
  },
  {
   "cell_type": "code",
   "execution_count": null,
   "metadata": {},
   "outputs": [],
   "source": [
    "normalize_data(\"messagesReceivedInFocus\",\"minutesInFocus\",\"messagesPerHour\",exman)\n",
    "normalize_data(\"messagesReceivedInFocus\",\"minutesInFocus\",\"messagesPerHour\",pomodoro)\n",
    "normalize_data(\"messagesReceivedInFocus\",\"minutesInFocus\",\"messagesPerHour\",df)"
   ]
  },
  {
   "cell_type": "code",
   "execution_count": null,
   "metadata": {},
   "outputs": [],
   "source": [
    "df[\"messagesPerHour\"].describe()"
   ]
  },
  {
   "cell_type": "code",
   "execution_count": null,
   "metadata": {},
   "outputs": [],
   "source": [
    "pd.concat([\n",
    "    df[df.PSNR == \"p01\"][\"messagesPerHour\"].describe(),\n",
    "    df[df.PSNR == \"p02\"][\"messagesPerHour\"].describe(),\n",
    "    df[df.PSNR == \"p06\"][\"messagesPerHour\"].describe(),\n",
    "    df[df.PSNR == \"p07\"][\"messagesPerHour\"].describe(),\n",
    "    df[df.PSNR == \"p08\"][\"messagesPerHour\"].describe(),\n",
    "    df[df.PSNR == \"p09\"][\"messagesPerHour\"].describe(),\n",
    "    df[df.PSNR == \"p10\"][\"messagesPerHour\"].describe(),\n",
    "    df[df.PSNR == \"p11\"][\"messagesPerHour\"].describe(),\n",
    "    df[df.PSNR == \"p12\"][\"messagesPerHour\"].describe(),\n",
    "    df[df.PSNR == \"p17\"][\"messagesPerHour\"].describe()\n",
    "],axis=1, keys= df.PSNR.unique())"
   ]
  },
  {
   "cell_type": "markdown",
   "metadata": {},
   "source": [
    "<h4> Autoreplies </h4>"
   ]
  },
  {
   "cell_type": "code",
   "execution_count": null,
   "metadata": {},
   "outputs": [],
   "source": [
    "exman[\"autoReplied\"].sum()"
   ]
  },
  {
   "cell_type": "markdown",
   "metadata": {},
   "source": [
    "<h4> Broken Focus measurement in minutes </h4>"
   ]
  },
  {
   "cell_type": "code",
   "execution_count": null,
   "metadata": {},
   "outputs": [],
   "source": [
    "get_comparison_summary(\"brokenFocusPerHour\")"
   ]
  },
  {
   "cell_type": "markdown",
   "metadata": {},
   "source": [
    "<h4> number of breaks per focus sessions per Hour </h4>"
   ]
  },
  {
   "cell_type": "code",
   "execution_count": null,
   "metadata": {},
   "outputs": [],
   "source": [
    "get_comparison_summary(\"brokenFrequencyPerHour\")"
   ]
  },
  {
   "cell_type": "markdown",
   "metadata": {},
   "source": [
    "<h4> Minutes in focus </h4>"
   ]
  },
  {
   "cell_type": "code",
   "execution_count": null,
   "metadata": {},
   "outputs": [],
   "source": [
    "df[\"minutesInFocus\"].describe()"
   ]
  },
  {
   "cell_type": "code",
   "execution_count": null,
   "metadata": {},
   "outputs": [],
   "source": [
    "pd.concat([\n",
    "    df[df.PSNR == \"p01\"][\"minutesInFocus\"].describe(),\n",
    "    df[df.PSNR == \"p02\"][\"minutesInFocus\"].describe(),\n",
    "    df[df.PSNR == \"p06\"][\"minutesInFocus\"].describe(),\n",
    "    df[df.PSNR == \"p07\"][\"minutesInFocus\"].describe(),\n",
    "    df[df.PSNR == \"p08\"][\"minutesInFocus\"].describe(),\n",
    "    df[df.PSNR == \"p09\"][\"minutesInFocus\"].describe(),\n",
    "    df[df.PSNR == \"p10\"][\"minutesInFocus\"].describe(),\n",
    "    df[df.PSNR == \"p11\"][\"minutesInFocus\"].describe(),\n",
    "    df[df.PSNR == \"p12\"][\"minutesInFocus\"].describe(),\n",
    "    df[df.PSNR == \"p17\"][\"minutesInFocus\"].describe()\n",
    "],axis=1, keys= df.PSNR.unique())"
   ]
  },
  {
   "cell_type": "markdown",
   "metadata": {},
   "source": [
    "<h4> distraction count per participant and per focus session </h4>"
   ]
  },
  {
   "cell_type": "code",
   "execution_count": null,
   "metadata": {},
   "outputs": [],
   "source": [
    "pd.concat([\n",
    "    df[df.PSNR == \"p01\"][\"distractionCount\"].describe(),\n",
    "    #df[df.PSNR == \"p02\"][\"distractionCount\"].describe(),\n",
    "    #df[df.PSNR == \"p06\"][\"distractionCount\"].describe(),\n",
    "    #df[df.PSNR == \"p07\"][\"distractionCount\"].describe(),\n",
    "    df[df.PSNR == \"p08\"][\"distractionCount\"].describe(),\n",
    "    df[df.PSNR == \"p09\"][\"distractionCount\"].describe(),\n",
    "    df[df.PSNR == \"p10\"][\"distractionCount\"].describe(),\n",
    "    df[df.PSNR == \"p11\"][\"distractionCount\"].describe(),\n",
    "    df[df.PSNR == \"p12\"][\"distractionCount\"].describe()\n",
    "    #df[df.PSNR == \"p17\"][\"distractionCount\"].describe()\n",
    "],axis=1, keys= [\"1\", \"8\", \"9\", \"10\", \"11\", \"12\"])\n",
    "\n",
    "# clear p2,p6,p7 and p17 out of the windowstracking dataframe"
   ]
  },
  {
   "cell_type": "markdown",
   "metadata": {},
   "source": [
    "<h4> "
   ]
  },
  {
   "cell_type": "code",
   "execution_count": null,
   "metadata": {},
   "outputs": [],
   "source": [
    "pd.concat([\n",
    "    df[df.PSNR == \"p01\"][\"distractionTime\"].describe(),\n",
    "    #df[df.PSNR == \"p02\"][\"distractionTime\"].describe(),\n",
    "    #df[df.PSNR == \"p06\"][\"distractionTime\"].describe(),\n",
    "    #df[df.PSNR == \"p07\"][\"distractionTime\"].describe(),\n",
    "    df[df.PSNR == \"p08\"][\"distractionTime\"].describe(),\n",
    "    df[df.PSNR == \"p09\"][\"distractionTime\"].describe(),\n",
    "    df[df.PSNR == \"p10\"][\"distractionTime\"].describe(),\n",
    "    df[df.PSNR == \"p11\"][\"distractionTime\"].describe(),\n",
    "    df[df.PSNR == \"p12\"][\"distractionTime\"].describe(),\n",
    "    #df[df.PSNR == \"p17\"][\"distractionTime\"].describe()\n",
    "],axis=1, keys= df.PSNR.unique())\n",
    "\n",
    "# clear p2,p6,p7 and p17 out of the windowstracking dataframe"
   ]
  },
  {
   "cell_type": "markdown",
   "metadata": {},
   "source": [
    "<h4> Rating </h4>"
   ]
  },
  {
   "cell_type": "code",
   "execution_count": null,
   "metadata": {},
   "outputs": [],
   "source": [
    "pd.concat([pomodoro[\"rating\"].dropna().astype(int).describe(),exman[\"rating\"].dropna().astype(int).describe()],axis=1,keys=[\"pomodoro\",\"exman\"])"
   ]
  },
  {
   "cell_type": "code",
   "execution_count": null,
   "metadata": {},
   "outputs": [],
   "source": [
    "# productivity per version and participants needs to be fixed\n",
    "pd.concat([\n",
    "    df[df.PSNR == \"p01\"][\"rating\"].dropna().astype(int).describe(),\n",
    "    df[df.PSNR == \"p02\"][\"rating\"].dropna().astype(int).describe(),\n",
    "    df[df.PSNR == \"p06\"][\"rating\"].dropna().astype(int).describe(),\n",
    "    df[df.PSNR == \"p07\"][\"rating\"].dropna().astype(int).describe(),\n",
    "    df[df.PSNR == \"p08\"][\"rating\"].dropna().astype(int).describe(),\n",
    "    df[df.PSNR == \"p09\"][\"rating\"].dropna().astype(int).describe(),\n",
    "    df[df.PSNR == \"p10\"][\"rating\"].dropna().astype(int).describe(),\n",
    "    df[df.PSNR == \"p11\"][\"rating\"].dropna().astype(int).describe(),\n",
    "    df[df.PSNR == \"p12\"][\"rating\"].dropna().astype(int).describe(),\n",
    "    df[df.PSNR == \"p17\"][\"rating\"].dropna().astype(int).describe()\n",
    "],axis=1, keys= df.PSNR.unique())"
   ]
  },
  {
   "cell_type": "markdown",
   "metadata": {},
   "source": [
    "P17 has pretty low average productivity rating compared to others. Potential explanations from interview?"
   ]
  },
  {
   "cell_type": "code",
   "execution_count": null,
   "metadata": {},
   "outputs": [],
   "source": [
    "# productivity per version and participants needs to be fixed\n",
    "pd.concat([\n",
    "    exman_rating[exman_rating.PSNR == \"p01\"][\"rating\"].dropna().astype(int).describe(),\n",
    "    exman_rating[exman_rating.PSNR == \"p02\"][\"rating\"].dropna().astype(int).describe(),\n",
    "    exman_rating[exman_rating.PSNR == \"p06\"][\"rating\"].dropna().astype(int).describe(),\n",
    "    exman_rating[exman_rating.PSNR == \"p07\"][\"rating\"].dropna().astype(int).describe(),\n",
    "    exman_rating[exman_rating.PSNR == \"p08\"][\"rating\"].dropna().astype(int).describe(),\n",
    "    exman_rating[exman_rating.PSNR == \"p09\"][\"rating\"].dropna().astype(int).describe(),\n",
    "    exman_rating[exman_rating.PSNR == \"p10\"][\"rating\"].dropna().astype(int).describe(),\n",
    "    exman_rating[exman_rating.PSNR == \"p11\"][\"rating\"].dropna().astype(int).describe(),\n",
    "    exman_rating[exman_rating.PSNR == \"p12\"][\"rating\"].dropna().astype(int).describe(),\n",
    "    exman_rating[exman_rating.PSNR == \"p17\"][\"rating\"].dropna().astype(int).describe()\n",
    "],axis=1, keys= df.PSNR.unique())"
   ]
  },
  {
   "cell_type": "code",
   "execution_count": null,
   "metadata": {},
   "outputs": [],
   "source": [
    "# productivity per version and participants needs to be fixed\n",
    "pd.concat([\n",
    "    pomodoro_rating[pomodoro_rating.PSNR == \"p01\"][\"rating\"].dropna().astype(int).describe(),\n",
    "    pomodoro_rating[pomodoro_rating.PSNR == \"p02\"][\"rating\"].dropna().astype(int).describe(),\n",
    "    pomodoro_rating[pomodoro_rating.PSNR == \"p06\"][\"rating\"].dropna().astype(int).describe(),\n",
    "    pomodoro_rating[pomodoro_rating.PSNR == \"p07\"][\"rating\"].dropna().astype(int).describe(),\n",
    "    pomodoro_rating[pomodoro_rating.PSNR == \"p08\"][\"rating\"].dropna().astype(int).describe(),\n",
    "    pomodoro_rating[pomodoro_rating.PSNR == \"p09\"][\"rating\"].dropna().astype(int).describe(),\n",
    "    pomodoro_rating[pomodoro_rating.PSNR == \"p10\"][\"rating\"].dropna().astype(int).describe(),\n",
    "    pomodoro_rating[pomodoro_rating.PSNR == \"p11\"][\"rating\"].dropna().astype(int).describe(),\n",
    "    pomodoro_rating[pomodoro_rating.PSNR == \"p12\"][\"rating\"].dropna().astype(int).describe(),\n",
    "    pomodoro_rating[pomodoro_rating.PSNR == \"p17\"][\"rating\"].dropna().astype(int).describe()\n",
    "],axis=1, keys= df.PSNR.unique())"
   ]
  },
  {
   "cell_type": "code",
   "execution_count": null,
   "metadata": {},
   "outputs": [],
   "source": []
  }
 ],
 "metadata": {
  "kernelspec": {
   "display_name": "Python 3",
   "language": "python",
   "name": "python3"
  },
  "language_info": {
   "codemirror_mode": {
    "name": "ipython",
    "version": 3
   },
   "file_extension": ".py",
   "mimetype": "text/x-python",
   "name": "python",
   "nbconvert_exporter": "python",
   "pygments_lexer": "ipython3",
   "version": "3.7.7"
  }
 },
 "nbformat": 4,
 "nbformat_minor": 4
}
