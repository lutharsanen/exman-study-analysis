{
 "cells": [
  {
   "cell_type": "code",
   "execution_count": 1,
   "metadata": {},
   "outputs": [],
   "source": [
    "import warnings\n",
    "warnings.filterwarnings(\"ignore\")"
   ]
  },
  {
   "cell_type": "code",
   "execution_count": 2,
   "metadata": {},
   "outputs": [],
   "source": [
    "import json\n",
    "import numpy as np\n",
    "import matplotlib.pyplot as plt\n",
    "import pandas as pd\n",
    "import scipy.stats"
   ]
  },
  {
   "cell_type": "markdown",
   "metadata": {},
   "source": [
    "<h1> Research Questions </h1>"
   ]
  },
  {
   "cell_type": "code",
   "execution_count": 3,
   "metadata": {},
   "outputs": [],
   "source": [
    "def get_comparison_summary(parameter):\n",
    "    return pd.concat([pomodoro[parameter].describe(),exman[parameter].describe()],axis=1,keys=[\"pomodoro\",\"exman\"])"
   ]
  },
  {
   "cell_type": "code",
   "execution_count": 4,
   "metadata": {},
   "outputs": [],
   "source": [
    "def normalize_data(data_input, normalizer, data_output, df):\n",
    "    df[data_output] = df[data_input]/df[normalizer]*60"
   ]
  },
  {
   "cell_type": "code",
   "execution_count": 5,
   "metadata": {},
   "outputs": [],
   "source": [
    "def create_focusDF(data,filenr):\n",
    "    \n",
    "    nr_of_services = []\n",
    "    focus_ids = []\n",
    "    hourOfDay = []\n",
    "    \n",
    "    # transform json part to pandas dataframe\n",
    "    df = pd.json_normalize(data[\"focusSessions\"])\n",
    "    \n",
    "    # create new column, which calculates how long a user stayed in focus\n",
    "    df[\"minutesInFocus\"] = round((df[\"endTime\"] - df[\"startTime\"])/60000,2)\n",
    "    \n",
    "    for index, row in df.iterrows():\n",
    "        \n",
    "        # get number of used services\n",
    "        nr_of_services.append(len(row[\"services\"]))\n",
    "        \n",
    "        d ={}\n",
    "        \n",
    "        \n",
    "        focus_ids.append(row[\"id\"])\n",
    "        hourOfDay.append(pd.Timestamp(row[\"startTime\"],unit = \"ms\").hour)\n",
    "            \n",
    "    df[\"focusID\"] = focus_ids\n",
    "    df[\"PSNR\"] = filenr[:3]\n",
    "    df[\"numberOfServices\"] = nr_of_services\n",
    "    df[\"hourOfDay\"] = hourOfDay\n",
    "    \n",
    "    \n",
    "    # focus session which were longer than 6 hours were dropped (2 datapoints, probably participant forgot to close \n",
    "    # focus session)\n",
    "    df = df[(df[\"minutesInFocus\"] < 300) & (df['minutesInFocus']>10)]\n",
    "    \n",
    "    # drop columns startTime, endTime, originalEndTime, goals and completedGoals\n",
    "    df = df.drop([\"id\",\"services\",\"calendarSubject\",'startTime','endTime',\n",
    "                  'originalEndTime','goals',\n",
    "                  'completedGoals',\"activeWindows\",\"comments\", \"brokenFocus\", \"scheduled\"]\n",
    "                 , axis=1)\n",
    "    \n",
    "    df = df.loc[df['PSNR'] != \"p17\"]\n",
    "    return df"
   ]
  },
  {
   "cell_type": "code",
   "execution_count": 6,
   "metadata": {},
   "outputs": [],
   "source": [
    "from os import listdir\n",
    "from os.path import isfile, join\n",
    "\n",
    "mypath = \"./data\"\n",
    "onlyfiles = [f for f in listdir(mypath) if isfile(join(mypath, f))]\n",
    "\n",
    "df = pd.DataFrame()\n",
    "\n",
    "for i in onlyfiles:\n",
    "    with open(f'data/{i}', 'r') as outfile:\n",
    "        data = json.load(outfile)\n",
    "        df_temp = create_focusDF(data,i)\n",
    "        df = pd.concat([df,df_temp])\n",
    "        \n",
    "\n",
    "df = df.reset_index()"
   ]
  },
  {
   "cell_type": "code",
   "execution_count": 7,
   "metadata": {},
   "outputs": [],
   "source": [
    "messages_timestamps = []\n",
    "\n",
    "\n",
    "for i in onlyfiles:\n",
    "    if (i[:3] != \"p17\"):\n",
    "        with open(f'data/{i}', 'r') as outfile:\n",
    "            for k in data[\"focusSessions\"]:\n",
    "                if 300 > round((k[\"endTime\"] - k[\"startTime\"])/60000,2) > 10:\n",
    "                    for j in k[\"services\"]:\n",
    "                        for m in j[\"messages\"]:\n",
    "                            messages_timestamps.append(m[\"timestamp\"])\n",
    "\n"
   ]
  },
  {
   "cell_type": "markdown",
   "metadata": {},
   "source": [
    "<h2>What is the effect of notification blocking and distraction discouragements during a user defined time period on their perceived productivity?</h2>\n"
   ]
  },
  {
   "cell_type": "code",
   "execution_count": 8,
   "metadata": {},
   "outputs": [],
   "source": [
    "pomodoro = df[(df['appVersion'] == \"pomodoro\")]\n",
    "exman = df[(df['appVersion'] == \"exman\")]"
   ]
  },
  {
   "cell_type": "markdown",
   "metadata": {},
   "source": [
    "<h4> Productivity Rating </h4>"
   ]
  },
  {
   "cell_type": "code",
   "execution_count": 9,
   "metadata": {},
   "outputs": [],
   "source": [
    "exman_rating = exman.dropna(subset=[\"rating\"])\n",
    "pomodoro_rating = pomodoro.dropna(subset=[\"rating\"])\n",
    "df_rating = df.dropna(subset=[\"rating\"])"
   ]
  },
  {
   "cell_type": "code",
   "execution_count": 10,
   "metadata": {},
   "outputs": [],
   "source": [
    "d = {\"0-3\":[0,0],\n",
    "     \"4-7\":[0,0],\n",
    "     \"8-11\":[0,0],\n",
    "     \"12-15\":[0,0],\n",
    "     \"16-19\":[0,0],\n",
    "     \"20-23\":[0,0],\n",
    "    }\n",
    "lst = []\n",
    "\n",
    "for index, row in df_rating.iterrows():\n",
    "    if row[\"hourOfDay\"] < 4:\n",
    "        d[\"0-3\"] = [d[\"0-3\"][0]+int(row[\"rating\"]),d[\"0-3\"][1]+1]\n",
    "        lst.append(row[\"PSNR\"])\n",
    "    elif row[\"hourOfDay\"] <8:\n",
    "        d[\"4-7\"] = [d[\"4-7\"][0]+int(row[\"rating\"]),d[\"4-7\"][1]+1]\n",
    "        lst.append(row[\"PSNR\"])\n",
    "    elif row[\"hourOfDay\"] <12:\n",
    "        d[\"8-11\"] = [d[\"8-11\"][0]+int(row[\"rating\"]),d[\"8-11\"][1]+1]\n",
    "    elif row[\"hourOfDay\"] <16:\n",
    "        d[\"12-15\"] = [d[\"12-15\"][0]+int(row[\"rating\"]),d[\"12-15\"][1]+1]\n",
    "    elif row[\"hourOfDay\"] <20:\n",
    "        d[\"16-19\"] = [d[\"16-19\"][0]+int(row[\"rating\"]),d[\"16-19\"][1]+1]\n",
    "    else:\n",
    "        d[\"20-23\"] = [d[\"20-23\"][0]+int(row[\"rating\"]),d[\"20-23\"][1]+1]"
   ]
  },
  {
   "cell_type": "code",
   "execution_count": 11,
   "metadata": {},
   "outputs": [
    {
     "data": {
      "text/plain": [
       "{'0-3': [0, 0],\n",
       " '4-7': [73, 14],\n",
       " '8-11': [362, 64],\n",
       " '12-15': [356, 61],\n",
       " '16-19': [232, 38],\n",
       " '20-23': [75, 12]}"
      ]
     },
     "execution_count": 11,
     "metadata": {},
     "output_type": "execute_result"
    }
   ],
   "source": [
    "d"
   ]
  },
  {
   "cell_type": "code",
   "execution_count": 12,
   "metadata": {},
   "outputs": [],
   "source": [
    "ratingPerBin = []\n",
    "for key in d:\n",
    "    if d[key][1] != 0:\n",
    "        val = d[key]\n",
    "        ratingPerBin.append(val[0]/val[1])\n",
    "    else:\n",
    "        ratingPerBin.append(0.1)"
   ]
  },
  {
   "cell_type": "code",
   "execution_count": 13,
   "metadata": {},
   "outputs": [],
   "source": [
    "d_count = {\"0-3\":0,\n",
    "     \"4-7\":0,\n",
    "     \"8-11\":0,\n",
    "     \"12-15\":0,\n",
    "     \"16-19\":0,\n",
    "     \"20-23\":0\n",
    "    }\n",
    "\n",
    "\n",
    "for i in messages_timestamps:\n",
    "    hourOfDay = pd.Timestamp(i,unit = \"ms\").hour\n",
    "    if hourOfDay < 4:\n",
    "        d_count[\"0-3\"] +=1\n",
    "    elif hourOfDay <8:\n",
    "        d_count[\"4-7\"] +=1\n",
    "    elif hourOfDay <12:\n",
    "        d_count[\"8-11\"] +=1\n",
    "    elif hourOfDay <16:\n",
    "        d_count[\"12-15\"] +=1\n",
    "    elif hourOfDay <20:\n",
    "        d_count[\"16-19\"] +=1\n",
    "    else:\n",
    "        d_count[\"20-23\"] +=1\n",
    "    "
   ]
  },
  {
   "cell_type": "code",
   "execution_count": 14,
   "metadata": {},
   "outputs": [
    {
     "data": {
      "text/plain": [
       "<matplotlib.collections.PathCollection at 0x22ff4a494c8>"
      ]
     },
     "execution_count": 14,
     "metadata": {},
     "output_type": "execute_result"
    },
    {
     "data": {
      "image/png": "[encoded data removed]",
      "text/plain": [
       "<Figure size 1080x360 with 2 Axes>"
      ]
     },
     "metadata": {
      "needs_background": "light"
     },
     "output_type": "display_data"
    }
   ],
   "source": [
    "fig, (ax1,ax2) = plt.subplots(1, 2,figsize=(15,5))\n",
    "\n",
    "\n",
    "ax1.scatter([i for i in d_count.keys()],d_count.values())\n",
    "ax2.scatter([i for i in d.keys()],ratingPerBin)\n",
    "\n",
    "#normalize it by participant/nr of focus session\n",
    "#nr of messages received/nr of focus session\n"
   ]
  },
  {
   "cell_type": "code",
   "execution_count": null,
   "metadata": {},
   "outputs": [],
   "source": []
  }
 ],
 "metadata": {
  "kernelspec": {
   "display_name": "Python 3",
   "language": "python",
   "name": "python3"
  },
  "language_info": {
   "codemirror_mode": {
    "name": "ipython",
    "version": 3
   },
   "file_extension": ".py",
   "mimetype": "text/x-python",
   "name": "python",
   "nbconvert_exporter": "python",
   "pygments_lexer": "ipython3",
   "version": "3.7.7"
  }
 },
 "nbformat": 4,
 "nbformat_minor": 4
}
