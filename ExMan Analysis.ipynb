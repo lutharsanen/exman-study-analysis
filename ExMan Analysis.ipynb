{
 "cells": [
  {
   "cell_type": "code",
   "execution_count": 1,
   "metadata": {},
   "outputs": [],
   "source": [
    "import warnings\n",
    "warnings.filterwarnings(\"ignore\")"
   ]
  },
  {
   "cell_type": "code",
   "execution_count": 2,
   "metadata": {},
   "outputs": [],
   "source": [
    "import json\n",
    "import numpy as np\n",
    "import matplotlib.pyplot as plt\n",
    "import pandas as pd\n",
    "import scipy.stats"
   ]
  },
  {
   "cell_type": "markdown",
   "metadata": {},
   "source": [
    "<h1> Research Questions </h1>"
   ]
  },
  {
   "cell_type": "code",
   "execution_count": 3,
   "metadata": {},
   "outputs": [],
   "source": [
    "def normalize_data(data_input, normalizer, data_output, df):\n",
    "    df[data_output] = df[data_input]/df[normalizer]*60"
   ]
  },
  {
   "cell_type": "code",
   "execution_count": 4,
   "metadata": {},
   "outputs": [],
   "source": [
    "def create_focusDF(data):\n",
    "    \n",
    "    percentage_goals = []\n",
    "    goals_achieved = []\n",
    "    goals_set = []\n",
    "    broken_Focus = []\n",
    "    brokenFocus_number = []\n",
    "    distraction_count = []\n",
    "    distraction_time = []\n",
    "    nr_of_services = []\n",
    "    messages_received_in_focus = []\n",
    "    \n",
    "    # transform json part to pandas dataframe\n",
    "    df = pd.json_normalize(data[\"focusSessions\"])\n",
    "    \n",
    "    # create new column, which calculates how long a user stayed in focus\n",
    "    df[\"minutesInFocus\"] = round((df[\"endTime\"] - df[\"startTime\"])/60000,2)\n",
    "    \n",
    "    #df[\"distractionCount\"] = 0\n",
    "\n",
    "    \n",
    "    for index, row in df.iterrows():\n",
    "        # calculate percentage of achieved goals\n",
    "        if len(row['goals']) == 0:\n",
    "            percentage_goals.append(0)\n",
    "            goals_set.append(0)\n",
    "            goals_achieved.append(0)\n",
    "        else:\n",
    "            percentage_goals.append(round(len(row['completedGoals'])/len(row['goals']),2))\n",
    "            goals_set.append(len(row['goals']))\n",
    "            goals_achieved.append(len(row['completedGoals']))\n",
    "        \n",
    "        # calculate broken focus length\n",
    "        if len(row[\"brokenFocus\"]) == 0:\n",
    "            broken_Focus.append(0)\n",
    "            brokenFocus_number.append(0)\n",
    "        else:\n",
    "            break_per_focus= 0\n",
    "            nr_of_breaks = 0\n",
    "            for element in row[\"brokenFocus\"]:\n",
    "                if len(element) ==2:\n",
    "                    break_per_focus += ((element[1]-element[0])/60000)\n",
    "                    nr_of_breaks +=1\n",
    "            broken_Focus.append(round(break_per_focus,2))\n",
    "            brokenFocus_number.append(nr_of_breaks)\n",
    "            \n",
    "        # get distractionCount\n",
    "        if len(row[\"activeWindows\"]) == 0:\n",
    "            distraction_count.append(0)\n",
    "            distraction_time.append(0)\n",
    "        else:\n",
    "            distractionCountPerFocus = 0\n",
    "            distractionTime = 0\n",
    "            for index, element in enumerate(row[\"activeWindows\"]):\n",
    "                if element[\"isDistraction\"]:\n",
    "                    distractionCountPerFocus += 1\n",
    "                    if index < len(row[\"activeWindows\"])-1:\n",
    "                        #print(index, len(row[\"activeWindows\"]))\n",
    "                        duration = row[\"activeWindows\"][index+1][\"timestamp\"] - element[\"timestamp\"]\n",
    "                    else:\n",
    "                        #print(row[\"endTime\"])\n",
    "                        duration = row[\"endTime\"] - element[\"timestamp\"]\n",
    "                    distractionTime += (duration/60000)\n",
    "            distraction_count.append(distractionCountPerFocus)\n",
    "            distraction_time.append(distractionTime)\n",
    "        \n",
    "        # get number of used services\n",
    "        nr_of_services.append(len(row[\"services\"]))\n",
    "        \n",
    "        messages_received = 0\n",
    "        for element in row[\"services\"]:\n",
    "            # get number of received messages\n",
    "            messages_received += len(element[\"messages\"])\n",
    "        messages_received_in_focus.append(messages_received)\n",
    "            \n",
    "    \n",
    "    df[\"distractionCount\"] = distraction_count\n",
    "    df[\"distractionTime\"] = distraction_time\n",
    "    df[\"numberOfServices\"] = nr_of_services\n",
    "    df[\"messages_received_in_focus\"] = messages_received_in_focus \n",
    "    df[\"brokenFocus\"] = broken_Focus\n",
    "    df[\"nrOfBreaks\"] = brokenFocus_number    \n",
    "    df[\"percentageCompletedGoals\"] = percentage_goals\n",
    "    df[\"goalsAchieved\"] = goals_achieved\n",
    "    df[\"goalsSet\"] = goals_set\n",
    "    \n",
    "    \n",
    "    \n",
    "    # drop columns startTime, endTime, originalEndTime, goals and completedGoals\n",
    "    df = df.drop([\"id\",\"services\",\"calendarSubject\",'startTime', 'endTime','originalEndTime','goals','completedGoals',\"activeWindows\",\"comments\"], axis=1)\n",
    "    return df"
   ]
  },
  {
   "cell_type": "code",
   "execution_count": 5,
   "metadata": {},
   "outputs": [],
   "source": [
    "from os import listdir\n",
    "from os.path import isfile, join\n",
    "\n",
    "mypath = \"./data\"\n",
    "onlyfiles = [f for f in listdir(mypath) if isfile(join(mypath, f))]\n",
    "\n",
    "df = pd.DataFrame()\n",
    "\n",
    "for i in onlyfiles:\n",
    "    with open(f'data/{i}', 'r') as outfile:\n",
    "        data = json.load(outfile)\n",
    "        df_temp = create_focusDF(data)\n",
    "        df = pd.concat([df,df_temp])\n",
    "\n",
    "df = df.reset_index()"
   ]
  },
  {
   "cell_type": "code",
   "execution_count": 6,
   "metadata": {},
   "outputs": [],
   "source": [
    "test = df[(df[\"minutesInFocus\"] > 300) |\n",
    "           (df['minutesInFocus']<10)]"
   ]
  },
  {
   "cell_type": "code",
   "execution_count": 7,
   "metadata": {},
   "outputs": [
    {
     "data": {
      "text/plain": [
       "24"
      ]
     },
     "execution_count": 7,
     "metadata": {},
     "output_type": "execute_result"
    }
   ],
   "source": [
    "# outliers\n",
    "len(test)"
   ]
  },
  {
   "cell_type": "code",
   "execution_count": 8,
   "metadata": {},
   "outputs": [
    {
     "data": {
      "text/html": [
       "<div>\n",
       "<style scoped>\n",
       "    .dataframe tbody tr th:only-of-type {\n",
       "        vertical-align: middle;\n",
       "    }\n",
       "\n",
       "    .dataframe tbody tr th {\n",
       "        vertical-align: top;\n",
       "    }\n",
       "\n",
       "    .dataframe thead th {\n",
       "        text-align: right;\n",
       "    }\n",
       "</style>\n",
       "<table border=\"1\" class=\"dataframe\">\n",
       "  <thead>\n",
       "    <tr style=\"text-align: right;\">\n",
       "      <th></th>\n",
       "      <th>index</th>\n",
       "      <th>brokenFocus</th>\n",
       "      <th>rating</th>\n",
       "      <th>scheduled</th>\n",
       "      <th>appVersion</th>\n",
       "      <th>minutesInFocus</th>\n",
       "      <th>distractionCount</th>\n",
       "      <th>distractionTime</th>\n",
       "      <th>numberOfServices</th>\n",
       "      <th>messages_received_in_focus</th>\n",
       "      <th>nrOfBreaks</th>\n",
       "      <th>percentageCompletedGoals</th>\n",
       "      <th>goalsAchieved</th>\n",
       "      <th>goalsSet</th>\n",
       "    </tr>\n",
       "  </thead>\n",
       "  <tbody>\n",
       "    <tr>\n",
       "      <th>0</th>\n",
       "      <td>0</td>\n",
       "      <td>0.00</td>\n",
       "      <td>6</td>\n",
       "      <td>False</td>\n",
       "      <td>exman</td>\n",
       "      <td>40.00</td>\n",
       "      <td>0</td>\n",
       "      <td>0.0</td>\n",
       "      <td>2</td>\n",
       "      <td>1</td>\n",
       "      <td>0</td>\n",
       "      <td>0.62</td>\n",
       "      <td>5</td>\n",
       "      <td>8</td>\n",
       "    </tr>\n",
       "    <tr>\n",
       "      <th>1</th>\n",
       "      <td>1</td>\n",
       "      <td>1.23</td>\n",
       "      <td>4</td>\n",
       "      <td>False</td>\n",
       "      <td>exman</td>\n",
       "      <td>25.00</td>\n",
       "      <td>0</td>\n",
       "      <td>0.0</td>\n",
       "      <td>2</td>\n",
       "      <td>0</td>\n",
       "      <td>1</td>\n",
       "      <td>0.33</td>\n",
       "      <td>1</td>\n",
       "      <td>3</td>\n",
       "    </tr>\n",
       "    <tr>\n",
       "      <th>2</th>\n",
       "      <td>2</td>\n",
       "      <td>0.00</td>\n",
       "      <td>None</td>\n",
       "      <td>False</td>\n",
       "      <td>exman</td>\n",
       "      <td>55.00</td>\n",
       "      <td>0</td>\n",
       "      <td>0.0</td>\n",
       "      <td>2</td>\n",
       "      <td>0</td>\n",
       "      <td>0</td>\n",
       "      <td>1.00</td>\n",
       "      <td>4</td>\n",
       "      <td>4</td>\n",
       "    </tr>\n",
       "    <tr>\n",
       "      <th>3</th>\n",
       "      <td>3</td>\n",
       "      <td>0.00</td>\n",
       "      <td>5</td>\n",
       "      <td>False</td>\n",
       "      <td>exman</td>\n",
       "      <td>15.00</td>\n",
       "      <td>0</td>\n",
       "      <td>0.0</td>\n",
       "      <td>2</td>\n",
       "      <td>1</td>\n",
       "      <td>0</td>\n",
       "      <td>0.00</td>\n",
       "      <td>0</td>\n",
       "      <td>1</td>\n",
       "    </tr>\n",
       "    <tr>\n",
       "      <th>4</th>\n",
       "      <td>4</td>\n",
       "      <td>0.00</td>\n",
       "      <td>5</td>\n",
       "      <td>False</td>\n",
       "      <td>exman</td>\n",
       "      <td>35.00</td>\n",
       "      <td>0</td>\n",
       "      <td>0.0</td>\n",
       "      <td>3</td>\n",
       "      <td>0</td>\n",
       "      <td>0</td>\n",
       "      <td>0.00</td>\n",
       "      <td>0</td>\n",
       "      <td>1</td>\n",
       "    </tr>\n",
       "    <tr>\n",
       "      <th>...</th>\n",
       "      <td>...</td>\n",
       "      <td>...</td>\n",
       "      <td>...</td>\n",
       "      <td>...</td>\n",
       "      <td>...</td>\n",
       "      <td>...</td>\n",
       "      <td>...</td>\n",
       "      <td>...</td>\n",
       "      <td>...</td>\n",
       "      <td>...</td>\n",
       "      <td>...</td>\n",
       "      <td>...</td>\n",
       "      <td>...</td>\n",
       "      <td>...</td>\n",
       "    </tr>\n",
       "    <tr>\n",
       "      <th>246</th>\n",
       "      <td>12</td>\n",
       "      <td>0.00</td>\n",
       "      <td>7</td>\n",
       "      <td>False</td>\n",
       "      <td>exman</td>\n",
       "      <td>120.00</td>\n",
       "      <td>0</td>\n",
       "      <td>0.0</td>\n",
       "      <td>4</td>\n",
       "      <td>4</td>\n",
       "      <td>0</td>\n",
       "      <td>0.50</td>\n",
       "      <td>1</td>\n",
       "      <td>2</td>\n",
       "    </tr>\n",
       "    <tr>\n",
       "      <th>247</th>\n",
       "      <td>13</td>\n",
       "      <td>0.00</td>\n",
       "      <td>7</td>\n",
       "      <td>False</td>\n",
       "      <td>exman</td>\n",
       "      <td>30.00</td>\n",
       "      <td>0</td>\n",
       "      <td>0.0</td>\n",
       "      <td>4</td>\n",
       "      <td>0</td>\n",
       "      <td>0</td>\n",
       "      <td>1.00</td>\n",
       "      <td>1</td>\n",
       "      <td>1</td>\n",
       "    </tr>\n",
       "    <tr>\n",
       "      <th>248</th>\n",
       "      <td>14</td>\n",
       "      <td>0.00</td>\n",
       "      <td>4</td>\n",
       "      <td>False</td>\n",
       "      <td>exman</td>\n",
       "      <td>90.00</td>\n",
       "      <td>0</td>\n",
       "      <td>0.0</td>\n",
       "      <td>4</td>\n",
       "      <td>0</td>\n",
       "      <td>0</td>\n",
       "      <td>0.50</td>\n",
       "      <td>1</td>\n",
       "      <td>2</td>\n",
       "    </tr>\n",
       "    <tr>\n",
       "      <th>249</th>\n",
       "      <td>15</td>\n",
       "      <td>1.62</td>\n",
       "      <td>7</td>\n",
       "      <td>False</td>\n",
       "      <td>exman</td>\n",
       "      <td>107.61</td>\n",
       "      <td>0</td>\n",
       "      <td>0.0</td>\n",
       "      <td>4</td>\n",
       "      <td>1</td>\n",
       "      <td>3</td>\n",
       "      <td>1.00</td>\n",
       "      <td>2</td>\n",
       "      <td>2</td>\n",
       "    </tr>\n",
       "    <tr>\n",
       "      <th>250</th>\n",
       "      <td>16</td>\n",
       "      <td>0.00</td>\n",
       "      <td>7</td>\n",
       "      <td>False</td>\n",
       "      <td>exman</td>\n",
       "      <td>60.00</td>\n",
       "      <td>0</td>\n",
       "      <td>0.0</td>\n",
       "      <td>4</td>\n",
       "      <td>1</td>\n",
       "      <td>0</td>\n",
       "      <td>0.00</td>\n",
       "      <td>0</td>\n",
       "      <td>0</td>\n",
       "    </tr>\n",
       "  </tbody>\n",
       "</table>\n",
       "<p>251 rows × 14 columns</p>\n",
       "</div>"
      ],
      "text/plain": [
       "     index  brokenFocus rating  scheduled appVersion  minutesInFocus  \\\n",
       "0        0         0.00      6      False      exman           40.00   \n",
       "1        1         1.23      4      False      exman           25.00   \n",
       "2        2         0.00   None      False      exman           55.00   \n",
       "3        3         0.00      5      False      exman           15.00   \n",
       "4        4         0.00      5      False      exman           35.00   \n",
       "..     ...          ...    ...        ...        ...             ...   \n",
       "246     12         0.00      7      False      exman          120.00   \n",
       "247     13         0.00      7      False      exman           30.00   \n",
       "248     14         0.00      4      False      exman           90.00   \n",
       "249     15         1.62      7      False      exman          107.61   \n",
       "250     16         0.00      7      False      exman           60.00   \n",
       "\n",
       "     distractionCount  distractionTime  numberOfServices  \\\n",
       "0                   0              0.0                 2   \n",
       "1                   0              0.0                 2   \n",
       "2                   0              0.0                 2   \n",
       "3                   0              0.0                 2   \n",
       "4                   0              0.0                 3   \n",
       "..                ...              ...               ...   \n",
       "246                 0              0.0                 4   \n",
       "247                 0              0.0                 4   \n",
       "248                 0              0.0                 4   \n",
       "249                 0              0.0                 4   \n",
       "250                 0              0.0                 4   \n",
       "\n",
       "     messages_received_in_focus  nrOfBreaks  percentageCompletedGoals  \\\n",
       "0                             1           0                      0.62   \n",
       "1                             0           1                      0.33   \n",
       "2                             0           0                      1.00   \n",
       "3                             1           0                      0.00   \n",
       "4                             0           0                      0.00   \n",
       "..                          ...         ...                       ...   \n",
       "246                           4           0                      0.50   \n",
       "247                           0           0                      1.00   \n",
       "248                           0           0                      0.50   \n",
       "249                           1           3                      1.00   \n",
       "250                           1           0                      0.00   \n",
       "\n",
       "     goalsAchieved  goalsSet  \n",
       "0                5         8  \n",
       "1                1         3  \n",
       "2                4         4  \n",
       "3                0         1  \n",
       "4                0         1  \n",
       "..             ...       ...  \n",
       "246              1         2  \n",
       "247              1         1  \n",
       "248              1         2  \n",
       "249              2         2  \n",
       "250              0         0  \n",
       "\n",
       "[251 rows x 14 columns]"
      ]
     },
     "execution_count": 8,
     "metadata": {},
     "output_type": "execute_result"
    }
   ],
   "source": [
    "df"
   ]
  },
  {
   "cell_type": "markdown",
   "metadata": {},
   "source": [
    "<h2>What is the effect of notification blocking and distraction discouragements during a user defined time period on their perceived productivity?</h2>\n"
   ]
  },
  {
   "cell_type": "code",
   "execution_count": 9,
   "metadata": {},
   "outputs": [],
   "source": [
    "# focus session which were longer than 6 hours were dropped (2 datapoints, probably participant forgot to close \n",
    "# focus session)\n",
    "\n",
    "pomodoro = df[(df['appVersion'] == \"pomodoro\") & \n",
    "              (df[\"minutesInFocus\"] < 300) &\n",
    "              (df['minutesInFocus']>10)]\n",
    "exman = df[(df['appVersion'] == \"exman\") & \n",
    "           (df[\"minutesInFocus\"] < 300) & \n",
    "           (df['minutesInFocus']>10)]"
   ]
  },
  {
   "cell_type": "code",
   "execution_count": 10,
   "metadata": {},
   "outputs": [
    {
     "data": {
      "text/html": [
       "<div>\n",
       "<style scoped>\n",
       "    .dataframe tbody tr th:only-of-type {\n",
       "        vertical-align: middle;\n",
       "    }\n",
       "\n",
       "    .dataframe tbody tr th {\n",
       "        vertical-align: top;\n",
       "    }\n",
       "\n",
       "    .dataframe thead th {\n",
       "        text-align: right;\n",
       "    }\n",
       "</style>\n",
       "<table border=\"1\" class=\"dataframe\">\n",
       "  <thead>\n",
       "    <tr style=\"text-align: right;\">\n",
       "      <th></th>\n",
       "      <th>index</th>\n",
       "      <th>brokenFocus</th>\n",
       "      <th>rating</th>\n",
       "      <th>scheduled</th>\n",
       "      <th>appVersion</th>\n",
       "      <th>minutesInFocus</th>\n",
       "      <th>distractionCount</th>\n",
       "      <th>distractionTime</th>\n",
       "      <th>numberOfServices</th>\n",
       "      <th>messages_received_in_focus</th>\n",
       "      <th>nrOfBreaks</th>\n",
       "      <th>percentageCompletedGoals</th>\n",
       "      <th>goalsAchieved</th>\n",
       "      <th>goalsSet</th>\n",
       "    </tr>\n",
       "  </thead>\n",
       "  <tbody>\n",
       "    <tr>\n",
       "      <th>0</th>\n",
       "      <td>0</td>\n",
       "      <td>0.00</td>\n",
       "      <td>6</td>\n",
       "      <td>False</td>\n",
       "      <td>exman</td>\n",
       "      <td>40.00</td>\n",
       "      <td>0</td>\n",
       "      <td>0.0</td>\n",
       "      <td>2</td>\n",
       "      <td>1</td>\n",
       "      <td>0</td>\n",
       "      <td>0.62</td>\n",
       "      <td>5</td>\n",
       "      <td>8</td>\n",
       "    </tr>\n",
       "    <tr>\n",
       "      <th>1</th>\n",
       "      <td>1</td>\n",
       "      <td>1.23</td>\n",
       "      <td>4</td>\n",
       "      <td>False</td>\n",
       "      <td>exman</td>\n",
       "      <td>25.00</td>\n",
       "      <td>0</td>\n",
       "      <td>0.0</td>\n",
       "      <td>2</td>\n",
       "      <td>0</td>\n",
       "      <td>1</td>\n",
       "      <td>0.33</td>\n",
       "      <td>1</td>\n",
       "      <td>3</td>\n",
       "    </tr>\n",
       "    <tr>\n",
       "      <th>2</th>\n",
       "      <td>2</td>\n",
       "      <td>0.00</td>\n",
       "      <td>None</td>\n",
       "      <td>False</td>\n",
       "      <td>exman</td>\n",
       "      <td>55.00</td>\n",
       "      <td>0</td>\n",
       "      <td>0.0</td>\n",
       "      <td>2</td>\n",
       "      <td>0</td>\n",
       "      <td>0</td>\n",
       "      <td>1.00</td>\n",
       "      <td>4</td>\n",
       "      <td>4</td>\n",
       "    </tr>\n",
       "    <tr>\n",
       "      <th>3</th>\n",
       "      <td>3</td>\n",
       "      <td>0.00</td>\n",
       "      <td>5</td>\n",
       "      <td>False</td>\n",
       "      <td>exman</td>\n",
       "      <td>15.00</td>\n",
       "      <td>0</td>\n",
       "      <td>0.0</td>\n",
       "      <td>2</td>\n",
       "      <td>1</td>\n",
       "      <td>0</td>\n",
       "      <td>0.00</td>\n",
       "      <td>0</td>\n",
       "      <td>1</td>\n",
       "    </tr>\n",
       "    <tr>\n",
       "      <th>4</th>\n",
       "      <td>4</td>\n",
       "      <td>0.00</td>\n",
       "      <td>5</td>\n",
       "      <td>False</td>\n",
       "      <td>exman</td>\n",
       "      <td>35.00</td>\n",
       "      <td>0</td>\n",
       "      <td>0.0</td>\n",
       "      <td>3</td>\n",
       "      <td>0</td>\n",
       "      <td>0</td>\n",
       "      <td>0.00</td>\n",
       "      <td>0</td>\n",
       "      <td>1</td>\n",
       "    </tr>\n",
       "    <tr>\n",
       "      <th>...</th>\n",
       "      <td>...</td>\n",
       "      <td>...</td>\n",
       "      <td>...</td>\n",
       "      <td>...</td>\n",
       "      <td>...</td>\n",
       "      <td>...</td>\n",
       "      <td>...</td>\n",
       "      <td>...</td>\n",
       "      <td>...</td>\n",
       "      <td>...</td>\n",
       "      <td>...</td>\n",
       "      <td>...</td>\n",
       "      <td>...</td>\n",
       "      <td>...</td>\n",
       "    </tr>\n",
       "    <tr>\n",
       "      <th>246</th>\n",
       "      <td>12</td>\n",
       "      <td>0.00</td>\n",
       "      <td>7</td>\n",
       "      <td>False</td>\n",
       "      <td>exman</td>\n",
       "      <td>120.00</td>\n",
       "      <td>0</td>\n",
       "      <td>0.0</td>\n",
       "      <td>4</td>\n",
       "      <td>4</td>\n",
       "      <td>0</td>\n",
       "      <td>0.50</td>\n",
       "      <td>1</td>\n",
       "      <td>2</td>\n",
       "    </tr>\n",
       "    <tr>\n",
       "      <th>247</th>\n",
       "      <td>13</td>\n",
       "      <td>0.00</td>\n",
       "      <td>7</td>\n",
       "      <td>False</td>\n",
       "      <td>exman</td>\n",
       "      <td>30.00</td>\n",
       "      <td>0</td>\n",
       "      <td>0.0</td>\n",
       "      <td>4</td>\n",
       "      <td>0</td>\n",
       "      <td>0</td>\n",
       "      <td>1.00</td>\n",
       "      <td>1</td>\n",
       "      <td>1</td>\n",
       "    </tr>\n",
       "    <tr>\n",
       "      <th>248</th>\n",
       "      <td>14</td>\n",
       "      <td>0.00</td>\n",
       "      <td>4</td>\n",
       "      <td>False</td>\n",
       "      <td>exman</td>\n",
       "      <td>90.00</td>\n",
       "      <td>0</td>\n",
       "      <td>0.0</td>\n",
       "      <td>4</td>\n",
       "      <td>0</td>\n",
       "      <td>0</td>\n",
       "      <td>0.50</td>\n",
       "      <td>1</td>\n",
       "      <td>2</td>\n",
       "    </tr>\n",
       "    <tr>\n",
       "      <th>249</th>\n",
       "      <td>15</td>\n",
       "      <td>1.62</td>\n",
       "      <td>7</td>\n",
       "      <td>False</td>\n",
       "      <td>exman</td>\n",
       "      <td>107.61</td>\n",
       "      <td>0</td>\n",
       "      <td>0.0</td>\n",
       "      <td>4</td>\n",
       "      <td>1</td>\n",
       "      <td>3</td>\n",
       "      <td>1.00</td>\n",
       "      <td>2</td>\n",
       "      <td>2</td>\n",
       "    </tr>\n",
       "    <tr>\n",
       "      <th>250</th>\n",
       "      <td>16</td>\n",
       "      <td>0.00</td>\n",
       "      <td>7</td>\n",
       "      <td>False</td>\n",
       "      <td>exman</td>\n",
       "      <td>60.00</td>\n",
       "      <td>0</td>\n",
       "      <td>0.0</td>\n",
       "      <td>4</td>\n",
       "      <td>1</td>\n",
       "      <td>0</td>\n",
       "      <td>0.00</td>\n",
       "      <td>0</td>\n",
       "      <td>0</td>\n",
       "    </tr>\n",
       "  </tbody>\n",
       "</table>\n",
       "<p>115 rows × 14 columns</p>\n",
       "</div>"
      ],
      "text/plain": [
       "     index  brokenFocus rating  scheduled appVersion  minutesInFocus  \\\n",
       "0        0         0.00      6      False      exman           40.00   \n",
       "1        1         1.23      4      False      exman           25.00   \n",
       "2        2         0.00   None      False      exman           55.00   \n",
       "3        3         0.00      5      False      exman           15.00   \n",
       "4        4         0.00      5      False      exman           35.00   \n",
       "..     ...          ...    ...        ...        ...             ...   \n",
       "246     12         0.00      7      False      exman          120.00   \n",
       "247     13         0.00      7      False      exman           30.00   \n",
       "248     14         0.00      4      False      exman           90.00   \n",
       "249     15         1.62      7      False      exman          107.61   \n",
       "250     16         0.00      7      False      exman           60.00   \n",
       "\n",
       "     distractionCount  distractionTime  numberOfServices  \\\n",
       "0                   0              0.0                 2   \n",
       "1                   0              0.0                 2   \n",
       "2                   0              0.0                 2   \n",
       "3                   0              0.0                 2   \n",
       "4                   0              0.0                 3   \n",
       "..                ...              ...               ...   \n",
       "246                 0              0.0                 4   \n",
       "247                 0              0.0                 4   \n",
       "248                 0              0.0                 4   \n",
       "249                 0              0.0                 4   \n",
       "250                 0              0.0                 4   \n",
       "\n",
       "     messages_received_in_focus  nrOfBreaks  percentageCompletedGoals  \\\n",
       "0                             1           0                      0.62   \n",
       "1                             0           1                      0.33   \n",
       "2                             0           0                      1.00   \n",
       "3                             1           0                      0.00   \n",
       "4                             0           0                      0.00   \n",
       "..                          ...         ...                       ...   \n",
       "246                           4           0                      0.50   \n",
       "247                           0           0                      1.00   \n",
       "248                           0           0                      0.50   \n",
       "249                           1           3                      1.00   \n",
       "250                           1           0                      0.00   \n",
       "\n",
       "     goalsAchieved  goalsSet  \n",
       "0                5         8  \n",
       "1                1         3  \n",
       "2                4         4  \n",
       "3                0         1  \n",
       "4                0         1  \n",
       "..             ...       ...  \n",
       "246              1         2  \n",
       "247              1         1  \n",
       "248              1         2  \n",
       "249              2         2  \n",
       "250              0         0  \n",
       "\n",
       "[115 rows x 14 columns]"
      ]
     },
     "execution_count": 10,
     "metadata": {},
     "output_type": "execute_result"
    }
   ],
   "source": [
    "exman"
   ]
  },
  {
   "cell_type": "code",
   "execution_count": 11,
   "metadata": {},
   "outputs": [
    {
     "data": {
      "text/html": [
       "<div>\n",
       "<style scoped>\n",
       "    .dataframe tbody tr th:only-of-type {\n",
       "        vertical-align: middle;\n",
       "    }\n",
       "\n",
       "    .dataframe tbody tr th {\n",
       "        vertical-align: top;\n",
       "    }\n",
       "\n",
       "    .dataframe thead th {\n",
       "        text-align: right;\n",
       "    }\n",
       "</style>\n",
       "<table border=\"1\" class=\"dataframe\">\n",
       "  <thead>\n",
       "    <tr style=\"text-align: right;\">\n",
       "      <th></th>\n",
       "      <th>index</th>\n",
       "      <th>brokenFocus</th>\n",
       "      <th>rating</th>\n",
       "      <th>scheduled</th>\n",
       "      <th>appVersion</th>\n",
       "      <th>minutesInFocus</th>\n",
       "      <th>distractionCount</th>\n",
       "      <th>distractionTime</th>\n",
       "      <th>numberOfServices</th>\n",
       "      <th>messages_received_in_focus</th>\n",
       "      <th>nrOfBreaks</th>\n",
       "      <th>percentageCompletedGoals</th>\n",
       "      <th>goalsAchieved</th>\n",
       "      <th>goalsSet</th>\n",
       "    </tr>\n",
       "  </thead>\n",
       "  <tbody>\n",
       "    <tr>\n",
       "      <th>18</th>\n",
       "      <td>18</td>\n",
       "      <td>0.0</td>\n",
       "      <td>None</td>\n",
       "      <td>False</td>\n",
       "      <td>pomodoro</td>\n",
       "      <td>25.00</td>\n",
       "      <td>0</td>\n",
       "      <td>0.0</td>\n",
       "      <td>3</td>\n",
       "      <td>1</td>\n",
       "      <td>0</td>\n",
       "      <td>1.00</td>\n",
       "      <td>2</td>\n",
       "      <td>2</td>\n",
       "    </tr>\n",
       "    <tr>\n",
       "      <th>19</th>\n",
       "      <td>19</td>\n",
       "      <td>0.0</td>\n",
       "      <td>6</td>\n",
       "      <td>False</td>\n",
       "      <td>pomodoro</td>\n",
       "      <td>25.00</td>\n",
       "      <td>0</td>\n",
       "      <td>0.0</td>\n",
       "      <td>3</td>\n",
       "      <td>0</td>\n",
       "      <td>0</td>\n",
       "      <td>1.00</td>\n",
       "      <td>2</td>\n",
       "      <td>2</td>\n",
       "    </tr>\n",
       "    <tr>\n",
       "      <th>20</th>\n",
       "      <td>20</td>\n",
       "      <td>0.0</td>\n",
       "      <td>None</td>\n",
       "      <td>False</td>\n",
       "      <td>pomodoro</td>\n",
       "      <td>110.91</td>\n",
       "      <td>0</td>\n",
       "      <td>0.0</td>\n",
       "      <td>3</td>\n",
       "      <td>16</td>\n",
       "      <td>0</td>\n",
       "      <td>1.00</td>\n",
       "      <td>3</td>\n",
       "      <td>3</td>\n",
       "    </tr>\n",
       "    <tr>\n",
       "      <th>21</th>\n",
       "      <td>21</td>\n",
       "      <td>0.0</td>\n",
       "      <td>4</td>\n",
       "      <td>False</td>\n",
       "      <td>pomodoro</td>\n",
       "      <td>40.00</td>\n",
       "      <td>0</td>\n",
       "      <td>0.0</td>\n",
       "      <td>3</td>\n",
       "      <td>0</td>\n",
       "      <td>0</td>\n",
       "      <td>0.00</td>\n",
       "      <td>0</td>\n",
       "      <td>4</td>\n",
       "    </tr>\n",
       "    <tr>\n",
       "      <th>22</th>\n",
       "      <td>22</td>\n",
       "      <td>0.0</td>\n",
       "      <td>6</td>\n",
       "      <td>False</td>\n",
       "      <td>pomodoro</td>\n",
       "      <td>25.00</td>\n",
       "      <td>0</td>\n",
       "      <td>0.0</td>\n",
       "      <td>3</td>\n",
       "      <td>0</td>\n",
       "      <td>0</td>\n",
       "      <td>0.00</td>\n",
       "      <td>0</td>\n",
       "      <td>0</td>\n",
       "    </tr>\n",
       "    <tr>\n",
       "      <th>...</th>\n",
       "      <td>...</td>\n",
       "      <td>...</td>\n",
       "      <td>...</td>\n",
       "      <td>...</td>\n",
       "      <td>...</td>\n",
       "      <td>...</td>\n",
       "      <td>...</td>\n",
       "      <td>...</td>\n",
       "      <td>...</td>\n",
       "      <td>...</td>\n",
       "      <td>...</td>\n",
       "      <td>...</td>\n",
       "      <td>...</td>\n",
       "      <td>...</td>\n",
       "    </tr>\n",
       "    <tr>\n",
       "      <th>239</th>\n",
       "      <td>5</td>\n",
       "      <td>0.0</td>\n",
       "      <td>5</td>\n",
       "      <td>False</td>\n",
       "      <td>pomodoro</td>\n",
       "      <td>30.00</td>\n",
       "      <td>0</td>\n",
       "      <td>0.0</td>\n",
       "      <td>4</td>\n",
       "      <td>0</td>\n",
       "      <td>0</td>\n",
       "      <td>1.00</td>\n",
       "      <td>1</td>\n",
       "      <td>1</td>\n",
       "    </tr>\n",
       "    <tr>\n",
       "      <th>240</th>\n",
       "      <td>6</td>\n",
       "      <td>0.0</td>\n",
       "      <td>5</td>\n",
       "      <td>False</td>\n",
       "      <td>pomodoro</td>\n",
       "      <td>57.82</td>\n",
       "      <td>0</td>\n",
       "      <td>0.0</td>\n",
       "      <td>4</td>\n",
       "      <td>0</td>\n",
       "      <td>0</td>\n",
       "      <td>0.50</td>\n",
       "      <td>1</td>\n",
       "      <td>2</td>\n",
       "    </tr>\n",
       "    <tr>\n",
       "      <th>241</th>\n",
       "      <td>7</td>\n",
       "      <td>0.0</td>\n",
       "      <td>6</td>\n",
       "      <td>False</td>\n",
       "      <td>pomodoro</td>\n",
       "      <td>120.00</td>\n",
       "      <td>0</td>\n",
       "      <td>0.0</td>\n",
       "      <td>4</td>\n",
       "      <td>6</td>\n",
       "      <td>0</td>\n",
       "      <td>0.67</td>\n",
       "      <td>2</td>\n",
       "      <td>3</td>\n",
       "    </tr>\n",
       "    <tr>\n",
       "      <th>242</th>\n",
       "      <td>8</td>\n",
       "      <td>0.0</td>\n",
       "      <td>5</td>\n",
       "      <td>False</td>\n",
       "      <td>pomodoro</td>\n",
       "      <td>60.00</td>\n",
       "      <td>0</td>\n",
       "      <td>0.0</td>\n",
       "      <td>4</td>\n",
       "      <td>2</td>\n",
       "      <td>0</td>\n",
       "      <td>0.00</td>\n",
       "      <td>0</td>\n",
       "      <td>1</td>\n",
       "    </tr>\n",
       "    <tr>\n",
       "      <th>243</th>\n",
       "      <td>9</td>\n",
       "      <td>0.0</td>\n",
       "      <td>5</td>\n",
       "      <td>False</td>\n",
       "      <td>pomodoro</td>\n",
       "      <td>59.03</td>\n",
       "      <td>0</td>\n",
       "      <td>0.0</td>\n",
       "      <td>4</td>\n",
       "      <td>1</td>\n",
       "      <td>0</td>\n",
       "      <td>0.50</td>\n",
       "      <td>1</td>\n",
       "      <td>2</td>\n",
       "    </tr>\n",
       "  </tbody>\n",
       "</table>\n",
       "<p>112 rows × 14 columns</p>\n",
       "</div>"
      ],
      "text/plain": [
       "     index  brokenFocus rating  scheduled appVersion  minutesInFocus  \\\n",
       "18      18          0.0   None      False   pomodoro           25.00   \n",
       "19      19          0.0      6      False   pomodoro           25.00   \n",
       "20      20          0.0   None      False   pomodoro          110.91   \n",
       "21      21          0.0      4      False   pomodoro           40.00   \n",
       "22      22          0.0      6      False   pomodoro           25.00   \n",
       "..     ...          ...    ...        ...        ...             ...   \n",
       "239      5          0.0      5      False   pomodoro           30.00   \n",
       "240      6          0.0      5      False   pomodoro           57.82   \n",
       "241      7          0.0      6      False   pomodoro          120.00   \n",
       "242      8          0.0      5      False   pomodoro           60.00   \n",
       "243      9          0.0      5      False   pomodoro           59.03   \n",
       "\n",
       "     distractionCount  distractionTime  numberOfServices  \\\n",
       "18                  0              0.0                 3   \n",
       "19                  0              0.0                 3   \n",
       "20                  0              0.0                 3   \n",
       "21                  0              0.0                 3   \n",
       "22                  0              0.0                 3   \n",
       "..                ...              ...               ...   \n",
       "239                 0              0.0                 4   \n",
       "240                 0              0.0                 4   \n",
       "241                 0              0.0                 4   \n",
       "242                 0              0.0                 4   \n",
       "243                 0              0.0                 4   \n",
       "\n",
       "     messages_received_in_focus  nrOfBreaks  percentageCompletedGoals  \\\n",
       "18                            1           0                      1.00   \n",
       "19                            0           0                      1.00   \n",
       "20                           16           0                      1.00   \n",
       "21                            0           0                      0.00   \n",
       "22                            0           0                      0.00   \n",
       "..                          ...         ...                       ...   \n",
       "239                           0           0                      1.00   \n",
       "240                           0           0                      0.50   \n",
       "241                           6           0                      0.67   \n",
       "242                           2           0                      0.00   \n",
       "243                           1           0                      0.50   \n",
       "\n",
       "     goalsAchieved  goalsSet  \n",
       "18               2         2  \n",
       "19               2         2  \n",
       "20               3         3  \n",
       "21               0         4  \n",
       "22               0         0  \n",
       "..             ...       ...  \n",
       "239              1         1  \n",
       "240              1         2  \n",
       "241              2         3  \n",
       "242              0         1  \n",
       "243              1         2  \n",
       "\n",
       "[112 rows x 14 columns]"
      ]
     },
     "execution_count": 11,
     "metadata": {},
     "output_type": "execute_result"
    }
   ],
   "source": [
    "pomodoro"
   ]
  },
  {
   "cell_type": "markdown",
   "metadata": {},
   "source": [
    "<h4>goals achieved</h4>"
   ]
  },
  {
   "cell_type": "code",
   "execution_count": 12,
   "metadata": {},
   "outputs": [],
   "source": [
    "normalize_data(\"goalsAchieved\",\"minutesInFocus\",\"goalsAchievedPerHour\", exman)\n",
    "normalize_data(\"goalsAchieved\",\"minutesInFocus\",\"goalsAchievedPerHour\", pomodoro)"
   ]
  },
  {
   "cell_type": "code",
   "execution_count": 13,
   "metadata": {},
   "outputs": [
    {
     "data": {
      "text/plain": [
       "1.833449752093778"
      ]
     },
     "execution_count": 13,
     "metadata": {},
     "output_type": "execute_result"
    }
   ],
   "source": [
    "exman[\"goalsAchievedPerHour\"].mean()"
   ]
  },
  {
   "cell_type": "code",
   "execution_count": 14,
   "metadata": {},
   "outputs": [
    {
     "data": {
      "text/plain": [
       "1.3436390497595048"
      ]
     },
     "execution_count": 14,
     "metadata": {},
     "output_type": "execute_result"
    }
   ],
   "source": [
    "pomodoro[\"goalsAchievedPerHour\"].mean()"
   ]
  },
  {
   "cell_type": "code",
   "execution_count": 15,
   "metadata": {},
   "outputs": [
    {
     "data": {
      "image/png": "[encoded data removed]",
      "text/plain": [
       "<Figure size 432x288 with 1 Axes>"
      ]
     },
     "metadata": {
      "needs_background": "light"
     },
     "output_type": "display_data"
    }
   ],
   "source": [
    "plt.scatter(exman[\"minutesInFocus\"],exman[\"goalsAchieved\"],label=\"exman\")\n",
    "plt.scatter(pomodoro[\"minutesInFocus\"],pomodoro[\"goalsAchieved\"], label=\"pomodoro\")\n",
    "plt.legend()\n",
    "\n",
    "slope, intercept, r, p, stderr = scipy.stats.linregress(exman[\"minutesInFocus\"], exman[\"goalsAchieved\"])\n",
    "plt.plot(exman[\"minutesInFocus\"], intercept + slope * exman[\"minutesInFocus\"])\n",
    "\n",
    "slope, intercept, r, p, stderr = scipy.stats.linregress(pomodoro[\"minutesInFocus\"], pomodoro[\"goalsAchieved\"])\n",
    "plt.plot(pomodoro[\"minutesInFocus\"], intercept + slope * pomodoro[\"minutesInFocus\"])\n",
    "\n",
    "plt.xlabel(\"minutes\")\n",
    "plt.ylabel(\"goals\")\n",
    "\n",
    "plt.show()"
   ]
  },
  {
   "cell_type": "code",
   "execution_count": 16,
   "metadata": {},
   "outputs": [
    {
     "name": "stdout",
     "output_type": "stream",
     "text": [
      "P-Value:0.02587229862116291 T-Statistic:2.2438752466987286\n"
     ]
    }
   ],
   "source": [
    "from scipy import stats\n",
    "tStat, pValue = stats.ttest_ind(exman[\"goalsAchievedPerHour\"], pomodoro[\"goalsAchievedPerHour\"], equal_var = False)\n",
    "print(\"P-Value:{0} T-Statistic:{1}\".format(pValue,tStat))"
   ]
  },
  {
   "cell_type": "markdown",
   "metadata": {},
   "source": [
    "The p-value is significant. Therefore, the user was more effective using our app exman than using the pomodoro timer."
   ]
  },
  {
   "cell_type": "markdown",
   "metadata": {},
   "source": [
    "<h4> broken Focus per hours </h4>"
   ]
  },
  {
   "cell_type": "code",
   "execution_count": 17,
   "metadata": {},
   "outputs": [],
   "source": [
    "normalize_data(\"brokenFocus\",\"minutesInFocus\",\"brokenFocusPerHour\", exman)\n",
    "normalize_data(\"brokenFocus\",\"minutesInFocus\",\"brokenFocusPerHour\", pomodoro)"
   ]
  },
  {
   "cell_type": "code",
   "execution_count": 18,
   "metadata": {},
   "outputs": [
    {
     "data": {
      "text/plain": [
       "0.48784796354100374"
      ]
     },
     "execution_count": 18,
     "metadata": {},
     "output_type": "execute_result"
    }
   ],
   "source": [
    "exman[\"brokenFocusPerHour\"].mean()"
   ]
  },
  {
   "cell_type": "code",
   "execution_count": 19,
   "metadata": {},
   "outputs": [
    {
     "data": {
      "text/plain": [
       "3.0109144450290617"
      ]
     },
     "execution_count": 19,
     "metadata": {},
     "output_type": "execute_result"
    }
   ],
   "source": [
    "pomodoro[\"brokenFocusPerHour\"].mean()"
   ]
  },
  {
   "cell_type": "code",
   "execution_count": 20,
   "metadata": {},
   "outputs": [
    {
     "data": {
      "text/plain": [
       "<matplotlib.legend.Legend at 0x18e81de75c8>"
      ]
     },
     "execution_count": 20,
     "metadata": {},
     "output_type": "execute_result"
    },
    {
     "data": {
      "image/png": "[encoded data removed]",
      "text/plain": [
       "<Figure size 432x288 with 1 Axes>"
      ]
     },
     "metadata": {
      "needs_background": "light"
     },
     "output_type": "display_data"
    }
   ],
   "source": [
    "plt.scatter(exman[\"minutesInFocus\"],exman[\"brokenFocus\"],label=\"exman\")\n",
    "plt.scatter(pomodoro[\"minutesInFocus\"],pomodoro[\"brokenFocus\"], label=\"pomodoro\")\n",
    "plt.xlabel(\"minutes in Focus\")\n",
    "plt.ylabel(\"broken Focus minutes\")\n",
    "plt.legend()"
   ]
  },
  {
   "cell_type": "code",
   "execution_count": 21,
   "metadata": {},
   "outputs": [
    {
     "name": "stdout",
     "output_type": "stream",
     "text": [
      "P-Value:0.01711207312732622 T-Statistic:-2.418464796263217\n"
     ]
    }
   ],
   "source": [
    "from scipy import stats\n",
    "tStat, pValue = stats.ttest_ind(exman[\"brokenFocusPerHour\"], pomodoro[\"brokenFocusPerHour\"], equal_var = False)\n",
    "print(\"P-Value:{0} T-Statistic:{1}\".format(pValue,tStat))"
   ]
  },
  {
   "cell_type": "markdown",
   "metadata": {},
   "source": [
    "<h4> broken focus frequency </h4>"
   ]
  },
  {
   "cell_type": "code",
   "execution_count": 22,
   "metadata": {},
   "outputs": [],
   "source": [
    "normalize_data(\"nrOfBreaks\",\"minutesInFocus\",\"brokenFrequencyPerHour\", exman)\n",
    "normalize_data(\"nrOfBreaks\",\"minutesInFocus\",\"brokenFrequencyPerHour\", pomodoro)"
   ]
  },
  {
   "cell_type": "code",
   "execution_count": 23,
   "metadata": {},
   "outputs": [
    {
     "data": {
      "text/plain": [
       "<matplotlib.legend.Legend at 0x18e81d2ebc8>"
      ]
     },
     "execution_count": 23,
     "metadata": {},
     "output_type": "execute_result"
    },
    {
     "data": {
      "image/png": "[encoded data removed]",
      "text/plain": [
       "<Figure size 432x288 with 1 Axes>"
      ]
     },
     "metadata": {
      "needs_background": "light"
     },
     "output_type": "display_data"
    }
   ],
   "source": [
    "plt.scatter(exman[\"brokenFocus\"],exman[\"brokenFrequencyPerHour\"],label=\"exman\")\n",
    "plt.scatter(pomodoro[\"brokenFocus\"],pomodoro[\"brokenFrequencyPerHour\"], label=\"pomodoro\")\n",
    "plt.xlabel(\"minutes in broken focus\")\n",
    "plt.ylabel(\"number of breaks\")\n",
    "plt.legend()"
   ]
  },
  {
   "cell_type": "code",
   "execution_count": 24,
   "metadata": {},
   "outputs": [
    {
     "data": {
      "text/plain": [
       "0.22747864168793977"
      ]
     },
     "execution_count": 24,
     "metadata": {},
     "output_type": "execute_result"
    }
   ],
   "source": [
    "exman[\"brokenFrequencyPerHour\"].mean()"
   ]
  },
  {
   "cell_type": "code",
   "execution_count": 25,
   "metadata": {},
   "outputs": [
    {
     "data": {
      "text/plain": [
       "0.5029443694609202"
      ]
     },
     "execution_count": 25,
     "metadata": {},
     "output_type": "execute_result"
    }
   ],
   "source": [
    "pomodoro[\"brokenFrequencyPerHour\"].mean()"
   ]
  },
  {
   "cell_type": "code",
   "execution_count": 26,
   "metadata": {},
   "outputs": [
    {
     "name": "stdout",
     "output_type": "stream",
     "text": [
      "P-Value:0.09920070251431919 T-Statistic:-1.658472812049136\n"
     ]
    }
   ],
   "source": [
    "from scipy import stats\n",
    "tStat, pValue = stats.ttest_ind(exman[\"brokenFrequencyPerHour\"], pomodoro[\"brokenFrequencyPerHour\"], equal_var = False)\n",
    "print(\"P-Value:{0} T-Statistic:{1}\".format(pValue,tStat))"
   ]
  },
  {
   "cell_type": "markdown",
   "metadata": {},
   "source": [
    "The effect on frequency of breaks is not significant, but the difference of the break duration between pomodoro and exman is significant on a 5% level. Reason for that not known yet."
   ]
  },
  {
   "cell_type": "markdown",
   "metadata": {},
   "source": [
    "<h4>distraction time </h4>"
   ]
  },
  {
   "cell_type": "code",
   "execution_count": 27,
   "metadata": {},
   "outputs": [],
   "source": [
    "normalize_data(\"distractionTime\",\"minutesInFocus\",\"distractionTimePerHour\",exman)\n",
    "normalize_data(\"distractionTime\",\"minutesInFocus\",\"distractionTimePerHour\",pomodoro)"
   ]
  },
  {
   "cell_type": "code",
   "execution_count": 28,
   "metadata": {},
   "outputs": [
    {
     "data": {
      "text/plain": [
       "11.20925"
      ]
     },
     "execution_count": 28,
     "metadata": {},
     "output_type": "execute_result"
    }
   ],
   "source": [
    "max(exman[\"distractionTime\"])"
   ]
  },
  {
   "cell_type": "code",
   "execution_count": 29,
   "metadata": {},
   "outputs": [
    {
     "data": {
      "text/plain": [
       "1.733884165806526"
      ]
     },
     "execution_count": 29,
     "metadata": {},
     "output_type": "execute_result"
    }
   ],
   "source": [
    "exman[\"distractionTimePerHour\"].mean()"
   ]
  },
  {
   "cell_type": "code",
   "execution_count": 30,
   "metadata": {},
   "outputs": [
    {
     "data": {
      "text/plain": [
       "2.0561815823129317"
      ]
     },
     "execution_count": 30,
     "metadata": {},
     "output_type": "execute_result"
    }
   ],
   "source": [
    "pomodoro[\"distractionTimePerHour\"].mean()"
   ]
  },
  {
   "cell_type": "code",
   "execution_count": 31,
   "metadata": {},
   "outputs": [
    {
     "name": "stdout",
     "output_type": "stream",
     "text": [
      "P-Value:0.7316975137945269 T-Statistic:-0.3433181976946759\n"
     ]
    }
   ],
   "source": [
    "from scipy import stats\n",
    "tStat, pValue = stats.ttest_ind(exman[\"distractionTimePerHour\"], pomodoro[\"distractionTimePerHour\"], equal_var = False)\n",
    "print(\"P-Value:{0} T-Statistic:{1}\".format(pValue,tStat))"
   ]
  },
  {
   "cell_type": "markdown",
   "metadata": {},
   "source": [
    "Not significant"
   ]
  },
  {
   "cell_type": "markdown",
   "metadata": {},
   "source": [
    "<h4>Summary page rating</h4>"
   ]
  },
  {
   "cell_type": "code",
   "execution_count": 32,
   "metadata": {},
   "outputs": [
    {
     "data": {
      "text/plain": [
       "5.885714285714286"
      ]
     },
     "execution_count": 32,
     "metadata": {},
     "output_type": "execute_result"
    }
   ],
   "source": [
    "exman[\"rating\"].dropna().astype(int).mean()"
   ]
  },
  {
   "cell_type": "code",
   "execution_count": 33,
   "metadata": {},
   "outputs": [
    {
     "data": {
      "text/plain": [
       "5.74"
      ]
     },
     "execution_count": 33,
     "metadata": {},
     "output_type": "execute_result"
    }
   ],
   "source": [
    "pomodoro[\"rating\"].dropna().astype(int).mean()"
   ]
  },
  {
   "cell_type": "markdown",
   "metadata": {},
   "source": [
    "<h4> Productivity Rating </h4>"
   ]
  },
  {
   "cell_type": "code",
   "execution_count": 34,
   "metadata": {},
   "outputs": [],
   "source": [
    "exman = exman.dropna(subset=[\"rating\"])\n",
    "pomodoro = pomodoro.dropna(subset=[\"rating\"])"
   ]
  },
  {
   "cell_type": "code",
   "execution_count": 35,
   "metadata": {},
   "outputs": [
    {
     "data": {
      "image/png": "[encoded data removed]",
      "text/plain": [
       "<Figure size 432x288 with 1 Axes>"
      ]
     },
     "metadata": {
      "needs_background": "light"
     },
     "output_type": "display_data"
    }
   ],
   "source": [
    "bins = [1,2,3,4,5,6,7]\n",
    "x = [list(exman[\"rating\"].astype(int)),list(pomodoro[\"rating\"].astype(int))]\n",
    "\n",
    "label = [\"exman\",\"pormodoro\"]\n",
    "colors = ['red', 'blue']\n",
    "plt.hist(x, bins, histtype='bar', color=colors, label=label)\n",
    "plt.legend(prop={'size': 10})\n",
    "plt.title('bars with legend')\n",
    "\n",
    "\n",
    "plt.show()"
   ]
  },
  {
   "cell_type": "code",
   "execution_count": 36,
   "metadata": {},
   "outputs": [
    {
     "name": "stdout",
     "output_type": "stream",
     "text": [
      "P-Value:0.3389466734031623 T-Statistic:0.9585245074826414\n"
     ]
    }
   ],
   "source": [
    "from scipy import stats\n",
    "tStat, pValue = stats.ttest_ind(exman[\"rating\"].astype(int), pomodoro[\"rating\"].astype(int), equal_var = False)\n",
    "print(\"P-Value:{0} T-Statistic:{1}\".format(pValue,tStat))"
   ]
  },
  {
   "cell_type": "markdown",
   "metadata": {},
   "source": [
    "The p-Value and the t-test is not significant. Therefore, we cannot assume, that exman provides an improvement of the productivity compared to the pomodoro baseline."
   ]
  }
 ],
 "metadata": {
  "kernelspec": {
   "display_name": "Python 3",
   "language": "python",
   "name": "python3"
  },
  "language_info": {
   "codemirror_mode": {
    "name": "ipython",
    "version": 3
   },
   "file_extension": ".py",
   "mimetype": "text/x-python",
   "name": "python",
   "nbconvert_exporter": "python",
   "pygments_lexer": "ipython3",
   "version": "3.7.7"
  }
 },
 "nbformat": 4,
 "nbformat_minor": 4
}
