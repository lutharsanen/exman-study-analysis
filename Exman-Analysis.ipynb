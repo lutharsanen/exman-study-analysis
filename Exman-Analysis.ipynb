{
 "cells": [
  {
   "cell_type": "code",
   "execution_count": 1,
   "metadata": {},
   "outputs": [],
   "source": [
    "import json\n",
    "import numpy as np\n",
    "import matplotlib.pyplot as plt\n",
    "import pandas as pd\n",
    "import scipy.stats"
   ]
  },
  {
   "cell_type": "markdown",
   "metadata": {},
   "source": [
    "<h1> Research Questions </h1>"
   ]
  },
  {
   "cell_type": "code",
   "execution_count": 2,
   "metadata": {},
   "outputs": [],
   "source": [
    "df = pd.read_pickle(\"./pickle/df.pkl\")\n",
    "exman = pd.read_pickle(\"./pickle/exman.pkl\")\n",
    "pomodoro = pd.read_pickle(\"./pickle/pomodoro.pkl\")"
   ]
  },
  {
   "cell_type": "code",
   "execution_count": 3,
   "metadata": {},
   "outputs": [],
   "source": [
    "def normalize_data(data_input, normalizer, data_output, df):\n",
    "    df[data_output] = df[data_input]/df[normalizer]*60"
   ]
  },
  {
   "cell_type": "code",
   "execution_count": 4,
   "metadata": {},
   "outputs": [],
   "source": [
    "def get_comparison_summary(parameter):\n",
    "    return pd.concat([pomodoro[parameter].describe(),exman[parameter].describe()],axis=1,keys=[\"pomodoro\",\"exman\"])"
   ]
  },
  {
   "cell_type": "markdown",
   "metadata": {},
   "source": [
    "<h2>What is the effect of notification blocking and distraction discouragements during a user defined time period on their perceived productivity?</h2>\n"
   ]
  },
  {
   "cell_type": "markdown",
   "metadata": {},
   "source": [
    "<h4>goals achieved</h4>"
   ]
  },
  {
   "cell_type": "code",
   "execution_count": 5,
   "metadata": {},
   "outputs": [],
   "source": [
    "normalize_data(\"goalsAchieved\",\"minutesInFocus\",\"goalsAchievedPerHour\", exman)\n",
    "normalize_data(\"goalsAchieved\",\"minutesInFocus\",\"goalsAchievedPerHour\", pomodoro)\n",
    "normalize_data(\"goalsAchieved\",\"minutesInFocus\",\"goalsAchievedPerHour\", df)"
   ]
  },
  {
   "cell_type": "code",
   "execution_count": 6,
   "metadata": {},
   "outputs": [
    {
     "data": {
      "text/plain": [
       "1.833449752093778"
      ]
     },
     "execution_count": 6,
     "metadata": {},
     "output_type": "execute_result"
    }
   ],
   "source": [
    "exman[\"goalsAchievedPerHour\"].mean()"
   ]
  },
  {
   "cell_type": "code",
   "execution_count": 7,
   "metadata": {},
   "outputs": [
    {
     "data": {
      "text/plain": [
       "1.3436390497595048"
      ]
     },
     "execution_count": 7,
     "metadata": {},
     "output_type": "execute_result"
    }
   ],
   "source": [
    "pomodoro[\"goalsAchievedPerHour\"].mean()"
   ]
  },
  {
   "cell_type": "code",
   "execution_count": 8,
   "metadata": {},
   "outputs": [
    {
     "data": {
      "image/png": "[encoded data removed]",
      "text/plain": [
       "<Figure size 432x288 with 1 Axes>"
      ]
     },
     "metadata": {
      "needs_background": "light"
     },
     "output_type": "display_data"
    }
   ],
   "source": [
    "plt.scatter(exman[\"minutesInFocus\"],exman[\"goalsAchieved\"],label=\"exman\")\n",
    "plt.scatter(pomodoro[\"minutesInFocus\"],pomodoro[\"goalsAchieved\"], label=\"pomodoro\")\n",
    "plt.legend()\n",
    "\n",
    "slope, intercept, r, p, stderr = scipy.stats.linregress(exman[\"minutesInFocus\"], exman[\"goalsAchieved\"])\n",
    "plt.plot(exman[\"minutesInFocus\"], intercept + slope * exman[\"minutesInFocus\"])\n",
    "\n",
    "slope, intercept, r, p, stderr = scipy.stats.linregress(pomodoro[\"minutesInFocus\"], pomodoro[\"goalsAchieved\"])\n",
    "plt.plot(pomodoro[\"minutesInFocus\"], intercept + slope * pomodoro[\"minutesInFocus\"])\n",
    "\n",
    "plt.xlabel(\"minutes\")\n",
    "plt.ylabel(\"goals\")\n",
    "\n",
    "plt.show()"
   ]
  },
  {
   "cell_type": "code",
   "execution_count": 9,
   "metadata": {},
   "outputs": [
    {
     "data": {
      "image/png": "[encoded data removed]",
      "text/plain": [
       "<Figure size 432x288 with 1 Axes>"
      ]
     },
     "metadata": {
      "needs_background": "light"
     },
     "output_type": "display_data"
    }
   ],
   "source": [
    "x = [list(exman[\"goalsAchievedPerHour\"]),list(pomodoro[\"goalsAchievedPerHour\"])]\n",
    "\n",
    "label = [\"exman\",\"pormodoro\"]\n",
    "colors = ['red', 'blue']\n",
    "plt.hist(x, histtype='bar', color=colors, label=label)\n",
    "plt.legend(prop={'size': 10})\n",
    "plt.title('frequency of goal achieved per normalized')\n",
    "plt.xlabel(\"goals achieved normalized\")\n",
    "plt.ylabel(\"frequency\")\n",
    "plt.savefig(\"figure4.pdf\")\n",
    "\n",
    "plt.show()"
   ]
  },
  {
   "cell_type": "code",
   "execution_count": 10,
   "metadata": {},
   "outputs": [
    {
     "name": "stdout",
     "output_type": "stream",
     "text": [
      "P-Value:0.02587229862116291 T-Statistic:2.2438752466987286\n"
     ]
    }
   ],
   "source": [
    "from scipy import stats\n",
    "tStat, pValue = stats.ttest_ind(exman[\"goalsAchievedPerHour\"], pomodoro[\"goalsAchievedPerHour\"], equal_var = False)\n",
    "print(\"P-Value:{0} T-Statistic:{1}\".format(pValue,tStat))"
   ]
  },
  {
   "cell_type": "markdown",
   "metadata": {},
   "source": [
    "<h5>The value of goals achieved per hour accepted as sigificant. The p-value of its t-test was smaller than the 5% alpha level.</h5>"
   ]
  },
  {
   "cell_type": "code",
   "execution_count": 11,
   "metadata": {},
   "outputs": [
    {
     "data": {
      "text/html": [
       "<div>\n",
       "<style scoped>\n",
       "    .dataframe tbody tr th:only-of-type {\n",
       "        vertical-align: middle;\n",
       "    }\n",
       "\n",
       "    .dataframe tbody tr th {\n",
       "        vertical-align: top;\n",
       "    }\n",
       "\n",
       "    .dataframe thead th {\n",
       "        text-align: right;\n",
       "    }\n",
       "</style>\n",
       "<table border=\"1\" class=\"dataframe\">\n",
       "  <thead>\n",
       "    <tr style=\"text-align: right;\">\n",
       "      <th></th>\n",
       "      <th>PSNR</th>\n",
       "      <th>goalsAchieved</th>\n",
       "      <th>goalsAchievedPerHour</th>\n",
       "      <th>percentageCompletedGoals</th>\n",
       "      <th>minutesInFocus</th>\n",
       "    </tr>\n",
       "  </thead>\n",
       "  <tbody>\n",
       "    <tr>\n",
       "      <th>84</th>\n",
       "      <td>p07</td>\n",
       "      <td>4</td>\n",
       "      <td>2.666667</td>\n",
       "      <td>1.00</td>\n",
       "      <td>90.00</td>\n",
       "    </tr>\n",
       "    <tr>\n",
       "      <th>7</th>\n",
       "      <td>p01</td>\n",
       "      <td>1</td>\n",
       "      <td>4.000000</td>\n",
       "      <td>1.00</td>\n",
       "      <td>15.00</td>\n",
       "    </tr>\n",
       "    <tr>\n",
       "      <th>6</th>\n",
       "      <td>p01</td>\n",
       "      <td>3</td>\n",
       "      <td>4.000000</td>\n",
       "      <td>0.75</td>\n",
       "      <td>45.00</td>\n",
       "    </tr>\n",
       "    <tr>\n",
       "      <th>14</th>\n",
       "      <td>p01</td>\n",
       "      <td>1</td>\n",
       "      <td>4.000000</td>\n",
       "      <td>1.00</td>\n",
       "      <td>15.00</td>\n",
       "    </tr>\n",
       "    <tr>\n",
       "      <th>166</th>\n",
       "      <td>p10</td>\n",
       "      <td>3</td>\n",
       "      <td>4.000000</td>\n",
       "      <td>1.00</td>\n",
       "      <td>45.00</td>\n",
       "    </tr>\n",
       "    <tr>\n",
       "      <th>191</th>\n",
       "      <td>p12</td>\n",
       "      <td>1</td>\n",
       "      <td>4.000000</td>\n",
       "      <td>1.00</td>\n",
       "      <td>15.00</td>\n",
       "    </tr>\n",
       "    <tr>\n",
       "      <th>167</th>\n",
       "      <td>p10</td>\n",
       "      <td>1</td>\n",
       "      <td>4.000000</td>\n",
       "      <td>0.50</td>\n",
       "      <td>15.00</td>\n",
       "    </tr>\n",
       "    <tr>\n",
       "      <th>122</th>\n",
       "      <td>p08</td>\n",
       "      <td>1</td>\n",
       "      <td>4.000000</td>\n",
       "      <td>1.00</td>\n",
       "      <td>15.00</td>\n",
       "    </tr>\n",
       "    <tr>\n",
       "      <th>123</th>\n",
       "      <td>p08</td>\n",
       "      <td>1</td>\n",
       "      <td>4.000000</td>\n",
       "      <td>1.00</td>\n",
       "      <td>15.00</td>\n",
       "    </tr>\n",
       "    <tr>\n",
       "      <th>88</th>\n",
       "      <td>p07</td>\n",
       "      <td>2</td>\n",
       "      <td>4.000000</td>\n",
       "      <td>1.00</td>\n",
       "      <td>30.00</td>\n",
       "    </tr>\n",
       "    <tr>\n",
       "      <th>169</th>\n",
       "      <td>p10</td>\n",
       "      <td>3</td>\n",
       "      <td>4.090909</td>\n",
       "      <td>1.00</td>\n",
       "      <td>44.00</td>\n",
       "    </tr>\n",
       "    <tr>\n",
       "      <th>2</th>\n",
       "      <td>p01</td>\n",
       "      <td>4</td>\n",
       "      <td>4.363636</td>\n",
       "      <td>1.00</td>\n",
       "      <td>55.00</td>\n",
       "    </tr>\n",
       "    <tr>\n",
       "      <th>17</th>\n",
       "      <td>p01</td>\n",
       "      <td>2</td>\n",
       "      <td>4.800000</td>\n",
       "      <td>1.00</td>\n",
       "      <td>25.00</td>\n",
       "    </tr>\n",
       "    <tr>\n",
       "      <th>172</th>\n",
       "      <td>p10</td>\n",
       "      <td>2</td>\n",
       "      <td>4.800000</td>\n",
       "      <td>1.00</td>\n",
       "      <td>25.00</td>\n",
       "    </tr>\n",
       "    <tr>\n",
       "      <th>170</th>\n",
       "      <td>p10</td>\n",
       "      <td>2</td>\n",
       "      <td>4.800000</td>\n",
       "      <td>1.00</td>\n",
       "      <td>25.00</td>\n",
       "    </tr>\n",
       "    <tr>\n",
       "      <th>140</th>\n",
       "      <td>p09</td>\n",
       "      <td>1</td>\n",
       "      <td>5.633803</td>\n",
       "      <td>1.00</td>\n",
       "      <td>10.65</td>\n",
       "    </tr>\n",
       "    <tr>\n",
       "      <th>176</th>\n",
       "      <td>p10</td>\n",
       "      <td>3</td>\n",
       "      <td>7.200000</td>\n",
       "      <td>1.00</td>\n",
       "      <td>25.00</td>\n",
       "    </tr>\n",
       "    <tr>\n",
       "      <th>0</th>\n",
       "      <td>p01</td>\n",
       "      <td>5</td>\n",
       "      <td>7.500000</td>\n",
       "      <td>0.62</td>\n",
       "      <td>40.00</td>\n",
       "    </tr>\n",
       "    <tr>\n",
       "      <th>164</th>\n",
       "      <td>p10</td>\n",
       "      <td>2</td>\n",
       "      <td>8.000000</td>\n",
       "      <td>1.00</td>\n",
       "      <td>15.00</td>\n",
       "    </tr>\n",
       "    <tr>\n",
       "      <th>86</th>\n",
       "      <td>p07</td>\n",
       "      <td>4</td>\n",
       "      <td>9.987516</td>\n",
       "      <td>1.00</td>\n",
       "      <td>24.03</td>\n",
       "    </tr>\n",
       "  </tbody>\n",
       "</table>\n",
       "</div>"
      ],
      "text/plain": [
       "    PSNR  goalsAchieved  goalsAchievedPerHour  percentageCompletedGoals  \\\n",
       "84   p07              4              2.666667                      1.00   \n",
       "7    p01              1              4.000000                      1.00   \n",
       "6    p01              3              4.000000                      0.75   \n",
       "14   p01              1              4.000000                      1.00   \n",
       "166  p10              3              4.000000                      1.00   \n",
       "191  p12              1              4.000000                      1.00   \n",
       "167  p10              1              4.000000                      0.50   \n",
       "122  p08              1              4.000000                      1.00   \n",
       "123  p08              1              4.000000                      1.00   \n",
       "88   p07              2              4.000000                      1.00   \n",
       "169  p10              3              4.090909                      1.00   \n",
       "2    p01              4              4.363636                      1.00   \n",
       "17   p01              2              4.800000                      1.00   \n",
       "172  p10              2              4.800000                      1.00   \n",
       "170  p10              2              4.800000                      1.00   \n",
       "140  p09              1              5.633803                      1.00   \n",
       "176  p10              3              7.200000                      1.00   \n",
       "0    p01              5              7.500000                      0.62   \n",
       "164  p10              2              8.000000                      1.00   \n",
       "86   p07              4              9.987516                      1.00   \n",
       "\n",
       "     minutesInFocus  \n",
       "84            90.00  \n",
       "7             15.00  \n",
       "6             45.00  \n",
       "14            15.00  \n",
       "166           45.00  \n",
       "191           15.00  \n",
       "167           15.00  \n",
       "122           15.00  \n",
       "123           15.00  \n",
       "88            30.00  \n",
       "169           44.00  \n",
       "2             55.00  \n",
       "17            25.00  \n",
       "172           25.00  \n",
       "170           25.00  \n",
       "140           10.65  \n",
       "176           25.00  \n",
       "0             40.00  \n",
       "164           15.00  \n",
       "86            24.03  "
      ]
     },
     "execution_count": 11,
     "metadata": {},
     "output_type": "execute_result"
    }
   ],
   "source": [
    "exman[[\"PSNR\", \"goalsAchieved\", \"goalsAchievedPerHour\", \"percentageCompletedGoals\", \"minutesInFocus\"]].sort_values(\"goalsAchievedPerHour\").tail(20)"
   ]
  },
  {
   "cell_type": "code",
   "execution_count": 12,
   "metadata": {},
   "outputs": [
    {
     "data": {
      "text/html": [
       "<div>\n",
       "<style scoped>\n",
       "    .dataframe tbody tr th:only-of-type {\n",
       "        vertical-align: middle;\n",
       "    }\n",
       "\n",
       "    .dataframe tbody tr th {\n",
       "        vertical-align: top;\n",
       "    }\n",
       "\n",
       "    .dataframe thead th {\n",
       "        text-align: right;\n",
       "    }\n",
       "</style>\n",
       "<table border=\"1\" class=\"dataframe\">\n",
       "  <thead>\n",
       "    <tr style=\"text-align: right;\">\n",
       "      <th></th>\n",
       "      <th>PSNR</th>\n",
       "      <th>goalsAchieved</th>\n",
       "      <th>goalsAchievedPerHour</th>\n",
       "      <th>percentageCompletedGoals</th>\n",
       "      <th>minutesInFocus</th>\n",
       "    </tr>\n",
       "  </thead>\n",
       "  <tbody>\n",
       "    <tr>\n",
       "      <th>107</th>\n",
       "      <td>p08</td>\n",
       "      <td>1</td>\n",
       "      <td>2.400000</td>\n",
       "      <td>1.0</td>\n",
       "      <td>25.00</td>\n",
       "    </tr>\n",
       "    <tr>\n",
       "      <th>65</th>\n",
       "      <td>p07</td>\n",
       "      <td>2</td>\n",
       "      <td>2.533249</td>\n",
       "      <td>1.0</td>\n",
       "      <td>47.37</td>\n",
       "    </tr>\n",
       "    <tr>\n",
       "      <th>76</th>\n",
       "      <td>p07</td>\n",
       "      <td>1</td>\n",
       "      <td>2.690583</td>\n",
       "      <td>1.0</td>\n",
       "      <td>22.30</td>\n",
       "    </tr>\n",
       "    <tr>\n",
       "      <th>61</th>\n",
       "      <td>p07</td>\n",
       "      <td>2</td>\n",
       "      <td>3.000000</td>\n",
       "      <td>1.0</td>\n",
       "      <td>40.00</td>\n",
       "    </tr>\n",
       "    <tr>\n",
       "      <th>24</th>\n",
       "      <td>p01</td>\n",
       "      <td>2</td>\n",
       "      <td>3.000000</td>\n",
       "      <td>1.0</td>\n",
       "      <td>40.00</td>\n",
       "    </tr>\n",
       "    <tr>\n",
       "      <th>160</th>\n",
       "      <td>p09</td>\n",
       "      <td>1</td>\n",
       "      <td>3.025719</td>\n",
       "      <td>1.0</td>\n",
       "      <td>19.83</td>\n",
       "    </tr>\n",
       "    <tr>\n",
       "      <th>34</th>\n",
       "      <td>p02</td>\n",
       "      <td>1</td>\n",
       "      <td>3.296703</td>\n",
       "      <td>1.0</td>\n",
       "      <td>18.20</td>\n",
       "    </tr>\n",
       "    <tr>\n",
       "      <th>67</th>\n",
       "      <td>p07</td>\n",
       "      <td>1</td>\n",
       "      <td>3.448276</td>\n",
       "      <td>1.0</td>\n",
       "      <td>17.40</td>\n",
       "    </tr>\n",
       "    <tr>\n",
       "      <th>73</th>\n",
       "      <td>p07</td>\n",
       "      <td>4</td>\n",
       "      <td>3.808315</td>\n",
       "      <td>1.0</td>\n",
       "      <td>63.02</td>\n",
       "    </tr>\n",
       "    <tr>\n",
       "      <th>178</th>\n",
       "      <td>p10</td>\n",
       "      <td>1</td>\n",
       "      <td>3.893576</td>\n",
       "      <td>1.0</td>\n",
       "      <td>15.41</td>\n",
       "    </tr>\n",
       "    <tr>\n",
       "      <th>179</th>\n",
       "      <td>p10</td>\n",
       "      <td>1</td>\n",
       "      <td>4.000000</td>\n",
       "      <td>1.0</td>\n",
       "      <td>15.00</td>\n",
       "    </tr>\n",
       "    <tr>\n",
       "      <th>157</th>\n",
       "      <td>p09</td>\n",
       "      <td>1</td>\n",
       "      <td>4.000000</td>\n",
       "      <td>1.0</td>\n",
       "      <td>15.00</td>\n",
       "    </tr>\n",
       "    <tr>\n",
       "      <th>104</th>\n",
       "      <td>p08</td>\n",
       "      <td>1</td>\n",
       "      <td>4.000000</td>\n",
       "      <td>1.0</td>\n",
       "      <td>15.00</td>\n",
       "    </tr>\n",
       "    <tr>\n",
       "      <th>110</th>\n",
       "      <td>p08</td>\n",
       "      <td>1</td>\n",
       "      <td>4.000000</td>\n",
       "      <td>1.0</td>\n",
       "      <td>15.00</td>\n",
       "    </tr>\n",
       "    <tr>\n",
       "      <th>114</th>\n",
       "      <td>p08</td>\n",
       "      <td>1</td>\n",
       "      <td>4.000000</td>\n",
       "      <td>1.0</td>\n",
       "      <td>15.00</td>\n",
       "    </tr>\n",
       "    <tr>\n",
       "      <th>28</th>\n",
       "      <td>p01</td>\n",
       "      <td>1</td>\n",
       "      <td>4.000000</td>\n",
       "      <td>1.0</td>\n",
       "      <td>15.00</td>\n",
       "    </tr>\n",
       "    <tr>\n",
       "      <th>211</th>\n",
       "      <td>p17</td>\n",
       "      <td>4</td>\n",
       "      <td>4.501125</td>\n",
       "      <td>1.0</td>\n",
       "      <td>53.32</td>\n",
       "    </tr>\n",
       "    <tr>\n",
       "      <th>19</th>\n",
       "      <td>p01</td>\n",
       "      <td>2</td>\n",
       "      <td>4.800000</td>\n",
       "      <td>1.0</td>\n",
       "      <td>25.00</td>\n",
       "    </tr>\n",
       "    <tr>\n",
       "      <th>18</th>\n",
       "      <td>p01</td>\n",
       "      <td>2</td>\n",
       "      <td>4.800000</td>\n",
       "      <td>1.0</td>\n",
       "      <td>25.00</td>\n",
       "    </tr>\n",
       "    <tr>\n",
       "      <th>155</th>\n",
       "      <td>p09</td>\n",
       "      <td>1</td>\n",
       "      <td>5.612722</td>\n",
       "      <td>1.0</td>\n",
       "      <td>10.69</td>\n",
       "    </tr>\n",
       "  </tbody>\n",
       "</table>\n",
       "</div>"
      ],
      "text/plain": [
       "    PSNR  goalsAchieved  goalsAchievedPerHour  percentageCompletedGoals  \\\n",
       "107  p08              1              2.400000                       1.0   \n",
       "65   p07              2              2.533249                       1.0   \n",
       "76   p07              1              2.690583                       1.0   \n",
       "61   p07              2              3.000000                       1.0   \n",
       "24   p01              2              3.000000                       1.0   \n",
       "160  p09              1              3.025719                       1.0   \n",
       "34   p02              1              3.296703                       1.0   \n",
       "67   p07              1              3.448276                       1.0   \n",
       "73   p07              4              3.808315                       1.0   \n",
       "178  p10              1              3.893576                       1.0   \n",
       "179  p10              1              4.000000                       1.0   \n",
       "157  p09              1              4.000000                       1.0   \n",
       "104  p08              1              4.000000                       1.0   \n",
       "110  p08              1              4.000000                       1.0   \n",
       "114  p08              1              4.000000                       1.0   \n",
       "28   p01              1              4.000000                       1.0   \n",
       "211  p17              4              4.501125                       1.0   \n",
       "19   p01              2              4.800000                       1.0   \n",
       "18   p01              2              4.800000                       1.0   \n",
       "155  p09              1              5.612722                       1.0   \n",
       "\n",
       "     minutesInFocus  \n",
       "107           25.00  \n",
       "65            47.37  \n",
       "76            22.30  \n",
       "61            40.00  \n",
       "24            40.00  \n",
       "160           19.83  \n",
       "34            18.20  \n",
       "67            17.40  \n",
       "73            63.02  \n",
       "178           15.41  \n",
       "179           15.00  \n",
       "157           15.00  \n",
       "104           15.00  \n",
       "110           15.00  \n",
       "114           15.00  \n",
       "28            15.00  \n",
       "211           53.32  \n",
       "19            25.00  \n",
       "18            25.00  \n",
       "155           10.69  "
      ]
     },
     "execution_count": 12,
     "metadata": {},
     "output_type": "execute_result"
    }
   ],
   "source": [
    "pomodoro[[\"PSNR\", \"goalsAchieved\", \"goalsAchievedPerHour\", \"percentageCompletedGoals\", \"minutesInFocus\"]].sort_values(\"goalsAchievedPerHour\").tail(20)"
   ]
  },
  {
   "cell_type": "code",
   "execution_count": 13,
   "metadata": {},
   "outputs": [
    {
     "name": "stdout",
     "output_type": "stream",
     "text": [
      "exman:  42.32973913043478\n",
      "pomodoro:  46.90749999999999\n"
     ]
    }
   ],
   "source": [
    "print(\"exman: \",exman[ \"minutesInFocus\"].mean())\n",
    "print(\"pomodoro: \",pomodoro[ \"minutesInFocus\"].mean())"
   ]
  },
  {
   "cell_type": "code",
   "execution_count": 14,
   "metadata": {},
   "outputs": [
    {
     "data": {
      "image/png": "[encoded data removed]",
      "text/plain": [
       "<Figure size 432x288 with 1 Axes>"
      ]
     },
     "metadata": {
      "needs_background": "light"
     },
     "output_type": "display_data"
    }
   ],
   "source": [
    "##### x = [list(exman[\"goalsSet\"]),list(pomodoro[\"goalsSet\"])]\n",
    "\n",
    "label = [\"exman\",\"pormodoro\"]\n",
    "colors = ['red', 'blue']\n",
    "plt.hist(x, histtype='bar', color=colors, label=label)\n",
    "plt.legend(prop={'size': 10})\n",
    "plt.xlabel(\"goals set per focus session\")\n",
    "plt.ylabel(\"frequency\")\n",
    "plt.title('goals set')\n",
    "\n",
    "\n",
    "plt.show()"
   ]
  },
  {
   "cell_type": "markdown",
   "metadata": {},
   "source": [
    "<h4>finished vs total Goals</h4>"
   ]
  },
  {
   "cell_type": "code",
   "execution_count": 15,
   "metadata": {},
   "outputs": [
    {
     "data": {
      "text/plain": [
       "0.6359130434782608"
      ]
     },
     "execution_count": 15,
     "metadata": {},
     "output_type": "execute_result"
    }
   ],
   "source": [
    "exman[\"percentageCompletedGoals\"].mean()"
   ]
  },
  {
   "cell_type": "code",
   "execution_count": 16,
   "metadata": {},
   "outputs": [
    {
     "data": {
      "text/plain": [
       "0.5907142857142856"
      ]
     },
     "execution_count": 16,
     "metadata": {},
     "output_type": "execute_result"
    }
   ],
   "source": [
    "pomodoro[\"percentageCompletedGoals\"].mean()"
   ]
  },
  {
   "cell_type": "code",
   "execution_count": 17,
   "metadata": {},
   "outputs": [
    {
     "name": "stdout",
     "output_type": "stream",
     "text": [
      "P-Value:0.45733740830468417 T-Statistic:0.7445358020523467\n"
     ]
    }
   ],
   "source": [
    "from scipy import stats\n",
    "tStat, pValue = stats.ttest_ind(exman[\"percentageCompletedGoals\"], pomodoro[\"percentageCompletedGoals\"], equal_var = False)\n",
    "print(\"P-Value:{0} T-Statistic:{1}\".format(pValue,tStat))"
   ]
  },
  {
   "cell_type": "markdown",
   "metadata": {},
   "source": [
    "<h4> Broken Focus per hour </h4>"
   ]
  },
  {
   "cell_type": "code",
   "execution_count": 18,
   "metadata": {},
   "outputs": [],
   "source": [
    "normalize_data(\"brokenFocus\",\"minutesInFocus\",\"brokenFocusPerHour\", exman)\n",
    "normalize_data(\"brokenFocus\",\"minutesInFocus\",\"brokenFocusPerHour\", pomodoro)\n",
    "normalize_data(\"brokenFocus\",\"minutesInFocus\",\"brokenFocusPerHour\", df)"
   ]
  },
  {
   "cell_type": "code",
   "execution_count": 19,
   "metadata": {},
   "outputs": [
    {
     "data": {
      "text/plain": [
       "0.48784796354100374"
      ]
     },
     "execution_count": 19,
     "metadata": {},
     "output_type": "execute_result"
    }
   ],
   "source": [
    "exman[\"brokenFocusPerHour\"].mean()"
   ]
  },
  {
   "cell_type": "code",
   "execution_count": 20,
   "metadata": {},
   "outputs": [
    {
     "data": {
      "text/plain": [
       "3.0109144450290617"
      ]
     },
     "execution_count": 20,
     "metadata": {},
     "output_type": "execute_result"
    }
   ],
   "source": [
    "pomodoro[\"brokenFocusPerHour\"].mean()"
   ]
  },
  {
   "cell_type": "code",
   "execution_count": 21,
   "metadata": {},
   "outputs": [
    {
     "data": {
      "image/png": "[encoded data removed]",
      "text/plain": [
       "<Figure size 432x288 with 1 Axes>"
      ]
     },
     "metadata": {
      "needs_background": "light"
     },
     "output_type": "display_data"
    }
   ],
   "source": [
    "x = [list(exman[\"brokenFocusPerHour\"]),list(pomodoro[pomodoro[\"brokenFocusPerHour\"] < 16.5]['brokenFocusPerHour'])]\n",
    "\n",
    "label = [\"exman\",\"pormodoro\"]\n",
    "colors = ['red', 'blue']\n",
    "plt.hist(x, histtype='bar', color=colors, label=label)\n",
    "plt.legend(prop={'size': 10})\n",
    "plt.ylabel(\"frequency\")\n",
    "plt.xlabel(\"broken focus per minutes normalized\")\n",
    "plt.title(\"broken focus in minutes during focus normalized\")\n",
    "plt.savefig(\"figure5.pdf\")\n",
    "\n",
    "plt.show()"
   ]
  },
  {
   "cell_type": "code",
   "execution_count": 22,
   "metadata": {},
   "outputs": [
    {
     "name": "stdout",
     "output_type": "stream",
     "text": [
      "P-Value:0.5416061038154043 T-Statistic:-0.6115202644611771\n"
     ]
    }
   ],
   "source": [
    "from scipy import stats\n",
    "tStat, pValue = stats.ttest_ind(exman[\"brokenFocusPerHour\"], pomodoro[pomodoro[\"brokenFocusPerHour\"] < 16.5]['brokenFocusPerHour'], equal_var = False)\n",
    "print(\"P-Value:{0} T-Statistic:{1}\".format(pValue,tStat))"
   ]
  },
  {
   "cell_type": "code",
   "execution_count": 23,
   "metadata": {},
   "outputs": [
    {
     "data": {
      "text/html": [
       "<div>\n",
       "<style scoped>\n",
       "    .dataframe tbody tr th:only-of-type {\n",
       "        vertical-align: middle;\n",
       "    }\n",
       "\n",
       "    .dataframe tbody tr th {\n",
       "        vertical-align: top;\n",
       "    }\n",
       "\n",
       "    .dataframe thead th {\n",
       "        text-align: right;\n",
       "    }\n",
       "</style>\n",
       "<table border=\"1\" class=\"dataframe\">\n",
       "  <thead>\n",
       "    <tr style=\"text-align: right;\">\n",
       "      <th></th>\n",
       "      <th>PSNR</th>\n",
       "      <th>focusID</th>\n",
       "      <th>scheduled</th>\n",
       "      <th>brokenFocus</th>\n",
       "      <th>brokenFocusPerHour</th>\n",
       "      <th>nrOfBreaks</th>\n",
       "      <th>minutesInFocus</th>\n",
       "    </tr>\n",
       "  </thead>\n",
       "  <tbody>\n",
       "    <tr>\n",
       "      <th>183</th>\n",
       "      <td>p11</td>\n",
       "      <td>719e4219-41c6-4750-a8e7-dd62e25080cb</td>\n",
       "      <td>False</td>\n",
       "      <td>0.84</td>\n",
       "      <td>1.260000</td>\n",
       "      <td>1</td>\n",
       "      <td>40.00</td>\n",
       "    </tr>\n",
       "    <tr>\n",
       "      <th>165</th>\n",
       "      <td>p10</td>\n",
       "      <td>9d3aeb48-8518-466f-9bd6-195159d83d9c</td>\n",
       "      <td>False</td>\n",
       "      <td>0.70</td>\n",
       "      <td>1.680000</td>\n",
       "      <td>1</td>\n",
       "      <td>25.00</td>\n",
       "    </tr>\n",
       "    <tr>\n",
       "      <th>169</th>\n",
       "      <td>p10</td>\n",
       "      <td>40335a80-5d91-4833-8b1c-5ed2dfac9a6d</td>\n",
       "      <td>False</td>\n",
       "      <td>1.27</td>\n",
       "      <td>1.731818</td>\n",
       "      <td>3</td>\n",
       "      <td>44.00</td>\n",
       "    </tr>\n",
       "    <tr>\n",
       "      <th>39</th>\n",
       "      <td>p06</td>\n",
       "      <td>2d7bd4d9-e880-4ea9-9bde-a3ae1ce6b4ec</td>\n",
       "      <td>False</td>\n",
       "      <td>1.77</td>\n",
       "      <td>2.655000</td>\n",
       "      <td>1</td>\n",
       "      <td>40.00</td>\n",
       "    </tr>\n",
       "    <tr>\n",
       "      <th>1</th>\n",
       "      <td>p01</td>\n",
       "      <td>ef98194e-2687-4985-bcdb-16c9d8937b2d</td>\n",
       "      <td>False</td>\n",
       "      <td>1.23</td>\n",
       "      <td>2.952000</td>\n",
       "      <td>1</td>\n",
       "      <td>25.00</td>\n",
       "    </tr>\n",
       "    <tr>\n",
       "      <th>174</th>\n",
       "      <td>p10</td>\n",
       "      <td>8d1a45c2-4db1-48b2-af0c-ccd0d5aea3d0</td>\n",
       "      <td>False</td>\n",
       "      <td>2.04</td>\n",
       "      <td>4.896000</td>\n",
       "      <td>1</td>\n",
       "      <td>25.00</td>\n",
       "    </tr>\n",
       "    <tr>\n",
       "      <th>41</th>\n",
       "      <td>p06</td>\n",
       "      <td>66b0c95e-d104-40b6-8220-f428b01a0063</td>\n",
       "      <td>False</td>\n",
       "      <td>6.59</td>\n",
       "      <td>7.563122</td>\n",
       "      <td>1</td>\n",
       "      <td>52.28</td>\n",
       "    </tr>\n",
       "    <tr>\n",
       "      <th>94</th>\n",
       "      <td>p07</td>\n",
       "      <td>c1c35f24-a35c-4d06-b137-be1a19e2c4f7</td>\n",
       "      <td>False</td>\n",
       "      <td>8.04</td>\n",
       "      <td>8.040000</td>\n",
       "      <td>1</td>\n",
       "      <td>60.00</td>\n",
       "    </tr>\n",
       "    <tr>\n",
       "      <th>40</th>\n",
       "      <td>p06</td>\n",
       "      <td>df1eabfa-1aa7-48eb-8bad-0c4b34931335</td>\n",
       "      <td>False</td>\n",
       "      <td>6.33</td>\n",
       "      <td>9.495000</td>\n",
       "      <td>1</td>\n",
       "      <td>40.00</td>\n",
       "    </tr>\n",
       "    <tr>\n",
       "      <th>170</th>\n",
       "      <td>p10</td>\n",
       "      <td>e1a2ecc5-90b8-461e-8749-80f098b39a8a</td>\n",
       "      <td>False</td>\n",
       "      <td>6.11</td>\n",
       "      <td>14.664000</td>\n",
       "      <td>2</td>\n",
       "      <td>25.00</td>\n",
       "    </tr>\n",
       "  </tbody>\n",
       "</table>\n",
       "</div>"
      ],
      "text/plain": [
       "    PSNR                               focusID  scheduled  brokenFocus  \\\n",
       "183  p11  719e4219-41c6-4750-a8e7-dd62e25080cb      False         0.84   \n",
       "165  p10  9d3aeb48-8518-466f-9bd6-195159d83d9c      False         0.70   \n",
       "169  p10  40335a80-5d91-4833-8b1c-5ed2dfac9a6d      False         1.27   \n",
       "39   p06  2d7bd4d9-e880-4ea9-9bde-a3ae1ce6b4ec      False         1.77   \n",
       "1    p01  ef98194e-2687-4985-bcdb-16c9d8937b2d      False         1.23   \n",
       "174  p10  8d1a45c2-4db1-48b2-af0c-ccd0d5aea3d0      False         2.04   \n",
       "41   p06  66b0c95e-d104-40b6-8220-f428b01a0063      False         6.59   \n",
       "94   p07  c1c35f24-a35c-4d06-b137-be1a19e2c4f7      False         8.04   \n",
       "40   p06  df1eabfa-1aa7-48eb-8bad-0c4b34931335      False         6.33   \n",
       "170  p10  e1a2ecc5-90b8-461e-8749-80f098b39a8a      False         6.11   \n",
       "\n",
       "     brokenFocusPerHour  nrOfBreaks  minutesInFocus  \n",
       "183            1.260000           1           40.00  \n",
       "165            1.680000           1           25.00  \n",
       "169            1.731818           3           44.00  \n",
       "39             2.655000           1           40.00  \n",
       "1              2.952000           1           25.00  \n",
       "174            4.896000           1           25.00  \n",
       "41             7.563122           1           52.28  \n",
       "94             8.040000           1           60.00  \n",
       "40             9.495000           1           40.00  \n",
       "170           14.664000           2           25.00  "
      ]
     },
     "execution_count": 23,
     "metadata": {},
     "output_type": "execute_result"
    }
   ],
   "source": [
    "exman[[\"PSNR\", \"focusID\", \"scheduled\", \"brokenFocus\", \"brokenFocusPerHour\", \"nrOfBreaks\", \"minutesInFocus\"]].sort_values(\"brokenFocusPerHour\").tail(10)"
   ]
  },
  {
   "cell_type": "code",
   "execution_count": 24,
   "metadata": {},
   "outputs": [
    {
     "data": {
      "text/html": [
       "<div>\n",
       "<style scoped>\n",
       "    .dataframe tbody tr th:only-of-type {\n",
       "        vertical-align: middle;\n",
       "    }\n",
       "\n",
       "    .dataframe tbody tr th {\n",
       "        vertical-align: top;\n",
       "    }\n",
       "\n",
       "    .dataframe thead th {\n",
       "        text-align: right;\n",
       "    }\n",
       "</style>\n",
       "<table border=\"1\" class=\"dataframe\">\n",
       "  <thead>\n",
       "    <tr style=\"text-align: right;\">\n",
       "      <th></th>\n",
       "      <th>PSNR</th>\n",
       "      <th>focusID</th>\n",
       "      <th>scheduled</th>\n",
       "      <th>brokenFocus</th>\n",
       "      <th>brokenFocusPerHour</th>\n",
       "      <th>nrOfBreaks</th>\n",
       "      <th>minutesInFocus</th>\n",
       "    </tr>\n",
       "  </thead>\n",
       "  <tbody>\n",
       "    <tr>\n",
       "      <th>55</th>\n",
       "      <td>p07</td>\n",
       "      <td>fccfd0e8-3597-45a5-a369-bdde5c6d79f6</td>\n",
       "      <td>False</td>\n",
       "      <td>0.00</td>\n",
       "      <td>0.000000</td>\n",
       "      <td>0</td>\n",
       "      <td>160.00</td>\n",
       "    </tr>\n",
       "    <tr>\n",
       "      <th>61</th>\n",
       "      <td>p07</td>\n",
       "      <td>624c4076-324c-4544-987e-da6ef551d2d6</td>\n",
       "      <td>False</td>\n",
       "      <td>0.00</td>\n",
       "      <td>0.000000</td>\n",
       "      <td>0</td>\n",
       "      <td>40.00</td>\n",
       "    </tr>\n",
       "    <tr>\n",
       "      <th>62</th>\n",
       "      <td>p07</td>\n",
       "      <td>c55bfc7b-9341-46e9-a058-6032efffa1d7</td>\n",
       "      <td>False</td>\n",
       "      <td>0.36</td>\n",
       "      <td>0.240000</td>\n",
       "      <td>1</td>\n",
       "      <td>90.00</td>\n",
       "    </tr>\n",
       "    <tr>\n",
       "      <th>186</th>\n",
       "      <td>p11</td>\n",
       "      <td>de162c05-0876-440d-8203-d7bc92b92d91</td>\n",
       "      <td>False</td>\n",
       "      <td>0.19</td>\n",
       "      <td>0.285000</td>\n",
       "      <td>1</td>\n",
       "      <td>40.00</td>\n",
       "    </tr>\n",
       "    <tr>\n",
       "      <th>34</th>\n",
       "      <td>p02</td>\n",
       "      <td>279e8657-e394-48da-bb02-f84df29e4791</td>\n",
       "      <td>False</td>\n",
       "      <td>0.22</td>\n",
       "      <td>0.725275</td>\n",
       "      <td>1</td>\n",
       "      <td>18.20</td>\n",
       "    </tr>\n",
       "    <tr>\n",
       "      <th>214</th>\n",
       "      <td>p17</td>\n",
       "      <td>24b945f7-5136-4b3d-87e8-f48d80490ce9</td>\n",
       "      <td>False</td>\n",
       "      <td>3.77</td>\n",
       "      <td>1.370909</td>\n",
       "      <td>3</td>\n",
       "      <td>165.00</td>\n",
       "    </tr>\n",
       "    <tr>\n",
       "      <th>159</th>\n",
       "      <td>p09</td>\n",
       "      <td>cb060b11-61df-4165-a273-0e15c949206a</td>\n",
       "      <td>False</td>\n",
       "      <td>0.37</td>\n",
       "      <td>1.480000</td>\n",
       "      <td>1</td>\n",
       "      <td>15.00</td>\n",
       "    </tr>\n",
       "    <tr>\n",
       "      <th>161</th>\n",
       "      <td>p09</td>\n",
       "      <td>92ef0f2c-dd68-4e55-b82a-91c0e06daa6c</td>\n",
       "      <td>False</td>\n",
       "      <td>1.12</td>\n",
       "      <td>1.674975</td>\n",
       "      <td>1</td>\n",
       "      <td>40.12</td>\n",
       "    </tr>\n",
       "    <tr>\n",
       "      <th>156</th>\n",
       "      <td>p09</td>\n",
       "      <td>_60pjae1k8kr36b9g8cqjeb9k75136b9p6t244ba574s3e...</td>\n",
       "      <td>True</td>\n",
       "      <td>3.34</td>\n",
       "      <td>2.672000</td>\n",
       "      <td>1</td>\n",
       "      <td>75.00</td>\n",
       "    </tr>\n",
       "    <tr>\n",
       "      <th>50</th>\n",
       "      <td>p06</td>\n",
       "      <td>3bc42f29-d898-4989-bda5-df198a0eb99c</td>\n",
       "      <td>False</td>\n",
       "      <td>1.74</td>\n",
       "      <td>6.960000</td>\n",
       "      <td>1</td>\n",
       "      <td>15.00</td>\n",
       "    </tr>\n",
       "    <tr>\n",
       "      <th>211</th>\n",
       "      <td>p17</td>\n",
       "      <td>c4b0771f-3ff2-4711-9aad-929e5f4c69d0</td>\n",
       "      <td>False</td>\n",
       "      <td>11.15</td>\n",
       "      <td>12.546887</td>\n",
       "      <td>7</td>\n",
       "      <td>53.32</td>\n",
       "    </tr>\n",
       "    <tr>\n",
       "      <th>162</th>\n",
       "      <td>p09</td>\n",
       "      <td>943b5bc1-43d6-4fd4-b965-8752fc87628e</td>\n",
       "      <td>False</td>\n",
       "      <td>9.44</td>\n",
       "      <td>13.495354</td>\n",
       "      <td>2</td>\n",
       "      <td>41.97</td>\n",
       "    </tr>\n",
       "    <tr>\n",
       "      <th>153</th>\n",
       "      <td>p09</td>\n",
       "      <td>c68f5fc7-f6d5-4fdb-870f-4baa6e66127e</td>\n",
       "      <td>False</td>\n",
       "      <td>10.46</td>\n",
       "      <td>15.690000</td>\n",
       "      <td>6</td>\n",
       "      <td>40.00</td>\n",
       "    </tr>\n",
       "    <tr>\n",
       "      <th>160</th>\n",
       "      <td>p09</td>\n",
       "      <td>be8910fe-329c-4767-bb0a-f813e8a77580</td>\n",
       "      <td>False</td>\n",
       "      <td>5.36</td>\n",
       "      <td>16.217852</td>\n",
       "      <td>3</td>\n",
       "      <td>19.83</td>\n",
       "    </tr>\n",
       "    <tr>\n",
       "      <th>158</th>\n",
       "      <td>p09</td>\n",
       "      <td>_8l33cdi26h23cba571242b9k68q42b9o60p46ba18crj8...</td>\n",
       "      <td>True</td>\n",
       "      <td>50.15</td>\n",
       "      <td>16.716667</td>\n",
       "      <td>2</td>\n",
       "      <td>180.00</td>\n",
       "    </tr>\n",
       "    <tr>\n",
       "      <th>46</th>\n",
       "      <td>p06</td>\n",
       "      <td>dbdaaf2b-aa10-4db9-9e32-30489174adf2</td>\n",
       "      <td>False</td>\n",
       "      <td>21.61</td>\n",
       "      <td>32.415000</td>\n",
       "      <td>1</td>\n",
       "      <td>40.00</td>\n",
       "    </tr>\n",
       "    <tr>\n",
       "      <th>212</th>\n",
       "      <td>p17</td>\n",
       "      <td>6c6fa9a7-315c-4075-8f7c-8363fc5de7bb</td>\n",
       "      <td>False</td>\n",
       "      <td>49.93</td>\n",
       "      <td>37.447500</td>\n",
       "      <td>2</td>\n",
       "      <td>80.00</td>\n",
       "    </tr>\n",
       "    <tr>\n",
       "      <th>47</th>\n",
       "      <td>p06</td>\n",
       "      <td>f3b3f7e7-d99f-4a05-aa48-121acf63153d</td>\n",
       "      <td>False</td>\n",
       "      <td>39.10</td>\n",
       "      <td>58.650000</td>\n",
       "      <td>1</td>\n",
       "      <td>40.00</td>\n",
       "    </tr>\n",
       "    <tr>\n",
       "      <th>179</th>\n",
       "      <td>p10</td>\n",
       "      <td>652e7ff6-70d4-4082-ae90-9b4ae8ded761</td>\n",
       "      <td>False</td>\n",
       "      <td>14.76</td>\n",
       "      <td>59.040000</td>\n",
       "      <td>1</td>\n",
       "      <td>15.00</td>\n",
       "    </tr>\n",
       "    <tr>\n",
       "      <th>48</th>\n",
       "      <td>p06</td>\n",
       "      <td>9504e872-a0eb-45da-8963-0cb59f923dc5</td>\n",
       "      <td>False</td>\n",
       "      <td>39.73</td>\n",
       "      <td>59.595000</td>\n",
       "      <td>1</td>\n",
       "      <td>40.00</td>\n",
       "    </tr>\n",
       "  </tbody>\n",
       "</table>\n",
       "</div>"
      ],
      "text/plain": [
       "    PSNR                                            focusID  scheduled  \\\n",
       "55   p07               fccfd0e8-3597-45a5-a369-bdde5c6d79f6      False   \n",
       "61   p07               624c4076-324c-4544-987e-da6ef551d2d6      False   \n",
       "62   p07               c55bfc7b-9341-46e9-a058-6032efffa1d7      False   \n",
       "186  p11               de162c05-0876-440d-8203-d7bc92b92d91      False   \n",
       "34   p02               279e8657-e394-48da-bb02-f84df29e4791      False   \n",
       "214  p17               24b945f7-5136-4b3d-87e8-f48d80490ce9      False   \n",
       "159  p09               cb060b11-61df-4165-a273-0e15c949206a      False   \n",
       "161  p09               92ef0f2c-dd68-4e55-b82a-91c0e06daa6c      False   \n",
       "156  p09  _60pjae1k8kr36b9g8cqjeb9k75136b9p6t244ba574s3e...       True   \n",
       "50   p06               3bc42f29-d898-4989-bda5-df198a0eb99c      False   \n",
       "211  p17               c4b0771f-3ff2-4711-9aad-929e5f4c69d0      False   \n",
       "162  p09               943b5bc1-43d6-4fd4-b965-8752fc87628e      False   \n",
       "153  p09               c68f5fc7-f6d5-4fdb-870f-4baa6e66127e      False   \n",
       "160  p09               be8910fe-329c-4767-bb0a-f813e8a77580      False   \n",
       "158  p09  _8l33cdi26h23cba571242b9k68q42b9o60p46ba18crj8...       True   \n",
       "46   p06               dbdaaf2b-aa10-4db9-9e32-30489174adf2      False   \n",
       "212  p17               6c6fa9a7-315c-4075-8f7c-8363fc5de7bb      False   \n",
       "47   p06               f3b3f7e7-d99f-4a05-aa48-121acf63153d      False   \n",
       "179  p10               652e7ff6-70d4-4082-ae90-9b4ae8ded761      False   \n",
       "48   p06               9504e872-a0eb-45da-8963-0cb59f923dc5      False   \n",
       "\n",
       "     brokenFocus  brokenFocusPerHour  nrOfBreaks  minutesInFocus  \n",
       "55          0.00            0.000000           0          160.00  \n",
       "61          0.00            0.000000           0           40.00  \n",
       "62          0.36            0.240000           1           90.00  \n",
       "186         0.19            0.285000           1           40.00  \n",
       "34          0.22            0.725275           1           18.20  \n",
       "214         3.77            1.370909           3          165.00  \n",
       "159         0.37            1.480000           1           15.00  \n",
       "161         1.12            1.674975           1           40.12  \n",
       "156         3.34            2.672000           1           75.00  \n",
       "50          1.74            6.960000           1           15.00  \n",
       "211        11.15           12.546887           7           53.32  \n",
       "162         9.44           13.495354           2           41.97  \n",
       "153        10.46           15.690000           6           40.00  \n",
       "160         5.36           16.217852           3           19.83  \n",
       "158        50.15           16.716667           2          180.00  \n",
       "46         21.61           32.415000           1           40.00  \n",
       "212        49.93           37.447500           2           80.00  \n",
       "47         39.10           58.650000           1           40.00  \n",
       "179        14.76           59.040000           1           15.00  \n",
       "48         39.73           59.595000           1           40.00  "
      ]
     },
     "execution_count": 24,
     "metadata": {},
     "output_type": "execute_result"
    }
   ],
   "source": [
    "pomodoro[[\"PSNR\", \"focusID\", \"scheduled\", \"brokenFocus\", \"brokenFocusPerHour\", \"nrOfBreaks\", \"minutesInFocus\"]].sort_values(\"brokenFocusPerHour\").tail(20)"
   ]
  },
  {
   "cell_type": "code",
   "execution_count": 25,
   "metadata": {},
   "outputs": [
    {
     "name": "stdout",
     "output_type": "stream",
     "text": [
      "P-Value:0.01711207312732622 T-Statistic:-2.418464796263217\n"
     ]
    }
   ],
   "source": [
    "from scipy import stats\n",
    "tStat, pValue = stats.ttest_ind(exman[\"brokenFocusPerHour\"], pomodoro[\"brokenFocusPerHour\"], equal_var = False)\n",
    "print(\"P-Value:{0} T-Statistic:{1}\".format(pValue,tStat))"
   ]
  },
  {
   "cell_type": "code",
   "execution_count": 26,
   "metadata": {},
   "outputs": [
    {
     "name": "stdout",
     "output_type": "stream",
     "text": [
      "exman:  0.48784796354100374\n",
      "pomodoro:  0.69205897336404\n"
     ]
    }
   ],
   "source": [
    "print(\"exman: \",exman[\"brokenFocusPerHour\"].mean())\n",
    "print(\"pomodoro: \", pomodoro[pomodoro[\"brokenFocusPerHour\"] < 16.5]['brokenFocusPerHour'].mean())\n"
   ]
  },
  {
   "cell_type": "code",
   "execution_count": 27,
   "metadata": {},
   "outputs": [
    {
     "name": "stdout",
     "output_type": "stream",
     "text": [
      "exman:  0.8956521739130435\n",
      "pomodoro:  0.8392857142857143\n"
     ]
    }
   ],
   "source": [
    "print(\"exman: \", exman[exman[\"brokenFocus\"] == 0]['brokenFocus'].count() / exman[\"brokenFocus\"].count())\n",
    "print(\"pomodoro: \", pomodoro[pomodoro[\"brokenFocus\"] == 0]['brokenFocus'].count() / pomodoro[\"brokenFocus\"].count())"
   ]
  },
  {
   "cell_type": "code",
   "execution_count": 28,
   "metadata": {},
   "outputs": [
    {
     "data": {
      "image/png": "[encoded data removed]",
      "text/plain": [
       "<Figure size 432x288 with 1 Axes>"
      ]
     },
     "metadata": {
      "needs_background": "light"
     },
     "output_type": "display_data"
    }
   ],
   "source": [
    "plt.scatter(exman[exman[\"brokenFocus\"] != 0]['minutesInFocus'],exman[exman[\"brokenFocus\"] != 0]['brokenFocus'],label=\"exman\")\n",
    "plt.scatter(pomodoro.loc[(pomodoro['brokenFocus'] != 0) & (pomodoro['brokenFocus']< 16.5)]['minutesInFocus'],\n",
    "            pomodoro.loc[(pomodoro['brokenFocus'] != 0) & (pomodoro['brokenFocus']< 16.5)]['brokenFocus'], label=\"pomodoro\")\n",
    "plt.xlabel(\"minutes in Focus\")\n",
    "plt.ylabel(\"broken Focus minutes\")\n",
    "plt.title(\"focus breaks in minutes\")\n",
    "plt.legend()\n",
    "plt.savefig(\"figure6.pdf\")"
   ]
  },
  {
   "cell_type": "markdown",
   "metadata": {},
   "source": [
    "<h4> broken focus frequency </h4>\n"
   ]
  },
  {
   "cell_type": "code",
   "execution_count": 29,
   "metadata": {},
   "outputs": [],
   "source": [
    "normalize_data(\"nrOfBreaks\",\"minutesInFocus\",\"brokenFrequencyPerHour\", exman)\n",
    "normalize_data(\"nrOfBreaks\",\"minutesInFocus\",\"brokenFrequencyPerHour\", pomodoro)"
   ]
  },
  {
   "cell_type": "code",
   "execution_count": 30,
   "metadata": {},
   "outputs": [
    {
     "data": {
      "text/plain": [
       "<matplotlib.legend.Legend at 0x1c66b0ca508>"
      ]
     },
     "execution_count": 30,
     "metadata": {},
     "output_type": "execute_result"
    },
    {
     "data": {
      "image/png": "[encoded data removed]",
      "text/plain": [
       "<Figure size 432x288 with 1 Axes>"
      ]
     },
     "metadata": {
      "needs_background": "light"
     },
     "output_type": "display_data"
    }
   ],
   "source": [
    "plt.scatter(exman[\"brokenFocus\"],exman[\"brokenFrequencyPerHour\"],label=\"exman\")\n",
    "plt.scatter(pomodoro[pomodoro[\"brokenFocus\"]<16.5][\"brokenFocus\"],\n",
    "            pomodoro[pomodoro[\"brokenFocus\"]<16.5][\"brokenFrequencyPerHour\"], label=\"pomodoro\")\n",
    "plt.xlabel(\"minutes in broken focus\")\n",
    "plt.ylabel(\"number of breaks\")\n",
    "plt.legend()"
   ]
  },
  {
   "cell_type": "code",
   "execution_count": 31,
   "metadata": {},
   "outputs": [
    {
     "data": {
      "text/plain": [
       "0.22747864168793977"
      ]
     },
     "execution_count": 31,
     "metadata": {},
     "output_type": "execute_result"
    }
   ],
   "source": [
    "exman[\"brokenFrequencyPerHour\"].mean()"
   ]
  },
  {
   "cell_type": "code",
   "execution_count": 32,
   "metadata": {},
   "outputs": [
    {
     "data": {
      "text/plain": [
       "0.5029443694609202"
      ]
     },
     "execution_count": 32,
     "metadata": {},
     "output_type": "execute_result"
    }
   ],
   "source": [
    "pomodoro[\"brokenFrequencyPerHour\"].mean()"
   ]
  },
  {
   "cell_type": "code",
   "execution_count": 33,
   "metadata": {},
   "outputs": [
    {
     "name": "stdout",
     "output_type": "stream",
     "text": [
      "P-Value:0.09920070251431919 T-Statistic:-1.658472812049136\n"
     ]
    }
   ],
   "source": [
    "from scipy import stats\n",
    "tStat, pValue = stats.ttest_ind(exman[\"brokenFrequencyPerHour\"], pomodoro[\"brokenFrequencyPerHour\"], equal_var = False)\n",
    "print(\"P-Value:{0} T-Statistic:{1}\".format(pValue,tStat))"
   ]
  },
  {
   "cell_type": "markdown",
   "metadata": {},
   "source": [
    "The effect on frequency of breaks is not significant, but the difference of the break duration between pomodoro and exman is significant on a 5% level. Reason for that not known yet."
   ]
  },
  {
   "cell_type": "markdown",
   "metadata": {},
   "source": [
    "<h4>distraction time </h4>"
   ]
  },
  {
   "cell_type": "code",
   "execution_count": 34,
   "metadata": {},
   "outputs": [],
   "source": [
    "normalize_data(\"distractionTime\",\"minutesInFocus\",\"distractionTimePerHour\",exman)\n",
    "normalize_data(\"distractionTime\",\"minutesInFocus\",\"distractionTimePerHour\",pomodoro)"
   ]
  },
  {
   "cell_type": "code",
   "execution_count": 35,
   "metadata": {},
   "outputs": [
    {
     "data": {
      "text/plain": [
       "1.733884165806526"
      ]
     },
     "execution_count": 35,
     "metadata": {},
     "output_type": "execute_result"
    }
   ],
   "source": [
    "exman[\"distractionTimePerHour\"].mean()"
   ]
  },
  {
   "cell_type": "code",
   "execution_count": 36,
   "metadata": {},
   "outputs": [
    {
     "data": {
      "text/plain": [
       "2.0561815823129317"
      ]
     },
     "execution_count": 36,
     "metadata": {},
     "output_type": "execute_result"
    }
   ],
   "source": [
    "pomodoro[\"distractionTimePerHour\"].mean()"
   ]
  },
  {
   "cell_type": "code",
   "execution_count": 37,
   "metadata": {},
   "outputs": [
    {
     "name": "stdout",
     "output_type": "stream",
     "text": [
      "P-Value:0.7316975137945269 T-Statistic:-0.3433181976946759\n"
     ]
    }
   ],
   "source": [
    "from scipy import stats\n",
    "tStat, pValue = stats.ttest_ind(exman[\"distractionTimePerHour\"], pomodoro[\"distractionTimePerHour\"], equal_var = False)\n",
    "print(\"P-Value:{0} T-Statistic:{1}\".format(pValue,tStat))"
   ]
  },
  {
   "cell_type": "markdown",
   "metadata": {},
   "source": [
    "Not significant"
   ]
  },
  {
   "cell_type": "markdown",
   "metadata": {},
   "source": [
    "<h4> Productivity Rating </h4>"
   ]
  },
  {
   "cell_type": "code",
   "execution_count": 38,
   "metadata": {},
   "outputs": [],
   "source": [
    "exman_rating = exman.dropna(subset=[\"rating\"])\n",
    "pomodoro_rating = pomodoro.dropna(subset=[\"rating\"])"
   ]
  },
  {
   "cell_type": "code",
   "execution_count": 39,
   "metadata": {},
   "outputs": [
    {
     "name": "stdout",
     "output_type": "stream",
     "text": [
      "exman:  5.885714285714286\n",
      "pomodoro:  5.74\n"
     ]
    }
   ],
   "source": [
    "print(\"exman: \",exman_rating['rating'].astype(int).mean())\n",
    "print(\"pomodoro: \",pomodoro_rating['rating'].astype(int).mean())"
   ]
  },
  {
   "cell_type": "code",
   "execution_count": 40,
   "metadata": {},
   "outputs": [
    {
     "data": {
      "image/png": "[encoded data removed]",
      "text/plain": [
       "<Figure size 432x288 with 1 Axes>"
      ]
     },
     "metadata": {
      "needs_background": "light"
     },
     "output_type": "display_data"
    }
   ],
   "source": [
    "bins = [1,2,3,4,5,6,7]\n",
    "x = [list(exman_rating[\"rating\"].astype(int)),list(pomodoro_rating[\"rating\"].astype(int))]\n",
    "\n",
    "label = [\"exman\",\"pormodoro\"]\n",
    "colors = ['red', 'blue']\n",
    "plt.hist(x, bins, histtype='bar', color=colors, label=label)\n",
    "plt.legend(prop={'size': 10})\n",
    "plt.title('bars with legend')\n",
    "\n",
    "\n",
    "plt.show()"
   ]
  },
  {
   "cell_type": "code",
   "execution_count": 41,
   "metadata": {},
   "outputs": [
    {
     "name": "stdout",
     "output_type": "stream",
     "text": [
      "P-Value:0.3389466734031623 T-Statistic:0.9585245074826414\n"
     ]
    }
   ],
   "source": [
    "tStat, pValue = stats.ttest_ind(exman_rating[\"rating\"].astype(int), pomodoro_rating[\"rating\"].astype(int), equal_var = False)\n",
    "print(\"P-Value:{0} T-Statistic:{1}\".format(pValue,tStat))"
   ]
  },
  {
   "cell_type": "markdown",
   "metadata": {},
   "source": [
    "The p-Value and the t-test is not significant. Therefore, we cannot assume, that exman provides an improvement of the productivity compared to the pomodoro baseline."
   ]
  },
  {
   "cell_type": "markdown",
   "metadata": {},
   "source": [
    "<h4>nr of notifications vs rating</h4>\n"
   ]
  },
  {
   "cell_type": "code",
   "execution_count": 42,
   "metadata": {},
   "outputs": [
    {
     "data": {
      "text/plain": [
       "-0.1979071352533078"
      ]
     },
     "execution_count": 42,
     "metadata": {},
     "output_type": "execute_result"
    }
   ],
   "source": [
    "np.corrcoef(exman_rating[\"messagesReceivedInFocus\"],exman_rating[\"rating\"].astype(int))[0][1]"
   ]
  },
  {
   "cell_type": "code",
   "execution_count": 43,
   "metadata": {},
   "outputs": [
    {
     "data": {
      "text/plain": [
       "-0.021109360824883426"
      ]
     },
     "execution_count": 43,
     "metadata": {},
     "output_type": "execute_result"
    }
   ],
   "source": [
    "np.corrcoef(pomodoro_rating[\"messagesReceivedInFocus\"],pomodoro_rating[\"rating\"].astype(int))[0][1]"
   ]
  },
  {
   "cell_type": "markdown",
   "metadata": {},
   "source": [
    "<h4>nr of breaks vs rating</h4>"
   ]
  },
  {
   "cell_type": "code",
   "execution_count": 44,
   "metadata": {},
   "outputs": [
    {
     "data": {
      "text/plain": [
       "-0.2210345872603329"
      ]
     },
     "execution_count": 44,
     "metadata": {},
     "output_type": "execute_result"
    }
   ],
   "source": [
    "np.corrcoef(exman_rating[\"brokenFrequencyPerHour\"],exman_rating[\"rating\"].astype(int))[0][1]"
   ]
  },
  {
   "cell_type": "code",
   "execution_count": 45,
   "metadata": {},
   "outputs": [
    {
     "data": {
      "text/plain": [
       "-0.052003923741528804"
      ]
     },
     "execution_count": 45,
     "metadata": {},
     "output_type": "execute_result"
    }
   ],
   "source": [
    "np.corrcoef(pomodoro_rating[\"brokenFrequencyPerHour\"],pomodoro_rating[\"rating\"].astype(int))[0][1]"
   ]
  },
  {
   "cell_type": "markdown",
   "metadata": {},
   "source": [
    "<h2> General Stats </h2>"
   ]
  },
  {
   "cell_type": "code",
   "execution_count": 46,
   "metadata": {},
   "outputs": [
    {
     "data": {
      "text/html": [
       "<div>\n",
       "<style scoped>\n",
       "    .dataframe tbody tr th:only-of-type {\n",
       "        vertical-align: middle;\n",
       "    }\n",
       "\n",
       "    .dataframe tbody tr th {\n",
       "        vertical-align: top;\n",
       "    }\n",
       "\n",
       "    .dataframe thead th {\n",
       "        text-align: right;\n",
       "    }\n",
       "</style>\n",
       "<table border=\"1\" class=\"dataframe\">\n",
       "  <thead>\n",
       "    <tr style=\"text-align: right;\">\n",
       "      <th></th>\n",
       "      <th>p01</th>\n",
       "      <th>p02</th>\n",
       "      <th>p06</th>\n",
       "      <th>p07</th>\n",
       "      <th>p08</th>\n",
       "      <th>p09</th>\n",
       "      <th>p10</th>\n",
       "      <th>p11</th>\n",
       "      <th>p12</th>\n",
       "      <th>p17</th>\n",
       "    </tr>\n",
       "  </thead>\n",
       "  <tbody>\n",
       "    <tr>\n",
       "      <th>count</th>\n",
       "      <td>34</td>\n",
       "      <td>5</td>\n",
       "      <td>12</td>\n",
       "      <td>47</td>\n",
       "      <td>38</td>\n",
       "      <td>27</td>\n",
       "      <td>18</td>\n",
       "      <td>6</td>\n",
       "      <td>24</td>\n",
       "      <td>16</td>\n",
       "    </tr>\n",
       "    <tr>\n",
       "      <th>unique</th>\n",
       "      <td>2</td>\n",
       "      <td>2</td>\n",
       "      <td>2</td>\n",
       "      <td>2</td>\n",
       "      <td>2</td>\n",
       "      <td>2</td>\n",
       "      <td>2</td>\n",
       "      <td>2</td>\n",
       "      <td>2</td>\n",
       "      <td>2</td>\n",
       "    </tr>\n",
       "    <tr>\n",
       "      <th>top</th>\n",
       "      <td>exman</td>\n",
       "      <td>pomodoro</td>\n",
       "      <td>exman</td>\n",
       "      <td>pomodoro</td>\n",
       "      <td>pomodoro</td>\n",
       "      <td>exman</td>\n",
       "      <td>exman</td>\n",
       "      <td>exman</td>\n",
       "      <td>exman</td>\n",
       "      <td>pomodoro</td>\n",
       "    </tr>\n",
       "    <tr>\n",
       "      <th>freq</th>\n",
       "      <td>18</td>\n",
       "      <td>3</td>\n",
       "      <td>7</td>\n",
       "      <td>28</td>\n",
       "      <td>24</td>\n",
       "      <td>15</td>\n",
       "      <td>15</td>\n",
       "      <td>4</td>\n",
       "      <td>14</td>\n",
       "      <td>9</td>\n",
       "    </tr>\n",
       "  </tbody>\n",
       "</table>\n",
       "</div>"
      ],
      "text/plain": [
       "          p01       p02    p06       p07       p08    p09    p10    p11  \\\n",
       "count      34         5     12        47        38     27     18      6   \n",
       "unique      2         2      2         2         2      2      2      2   \n",
       "top     exman  pomodoro  exman  pomodoro  pomodoro  exman  exman  exman   \n",
       "freq       18         3      7        28        24     15     15      4   \n",
       "\n",
       "          p12       p17  \n",
       "count      24        16  \n",
       "unique      2         2  \n",
       "top     exman  pomodoro  \n",
       "freq       14         9  "
      ]
     },
     "execution_count": 46,
     "metadata": {},
     "output_type": "execute_result"
    }
   ],
   "source": [
    "pd.concat([\n",
    "    df[df.PSNR == \"p01\"][\"appVersion\"].describe(),\n",
    "    df[df.PSNR == \"p02\"][\"appVersion\"].describe(),\n",
    "    df[df.PSNR == \"p06\"][\"appVersion\"].describe(),\n",
    "    df[df.PSNR == \"p07\"][\"appVersion\"].describe(),\n",
    "    df[df.PSNR == \"p08\"][\"appVersion\"].describe(),\n",
    "    df[df.PSNR == \"p09\"][\"appVersion\"].describe(),\n",
    "    df[df.PSNR == \"p10\"][\"appVersion\"].describe(),\n",
    "    df[df.PSNR == \"p11\"][\"appVersion\"].describe(),\n",
    "    df[df.PSNR == \"p12\"][\"appVersion\"].describe(),\n",
    "    df[df.PSNR == \"p17\"][\"appVersion\"].describe()\n",
    "],axis=1, keys= df.PSNR.unique())"
   ]
  },
  {
   "cell_type": "markdown",
   "metadata": {},
   "source": [
    "Focus sessions are mostly evenly distributed for pomodoro and exman (except maybe for p01)"
   ]
  },
  {
   "cell_type": "markdown",
   "metadata": {},
   "source": [
    "<h4> notification per focus per hour </h4>"
   ]
  },
  {
   "cell_type": "code",
   "execution_count": 47,
   "metadata": {},
   "outputs": [],
   "source": [
    "normalize_data(\"messagesReceivedInFocus\",\"minutesInFocus\",\"messagesPerHour\",exman)\n",
    "normalize_data(\"messagesReceivedInFocus\",\"minutesInFocus\",\"messagesPerHour\",pomodoro)\n",
    "normalize_data(\"messagesReceivedInFocus\",\"minutesInFocus\",\"messagesPerHour\",df)"
   ]
  },
  {
   "cell_type": "code",
   "execution_count": 48,
   "metadata": {},
   "outputs": [
    {
     "data": {
      "text/plain": [
       "count    227.000000\n",
       "mean       2.423613\n",
       "std        5.398558\n",
       "min        0.000000\n",
       "25%        0.000000\n",
       "50%        0.000000\n",
       "75%        2.400000\n",
       "max       39.436620\n",
       "Name: messagesPerHour, dtype: float64"
      ]
     },
     "execution_count": 48,
     "metadata": {},
     "output_type": "execute_result"
    }
   ],
   "source": [
    "df[\"messagesPerHour\"].describe()"
   ]
  },
  {
   "cell_type": "code",
   "execution_count": 49,
   "metadata": {},
   "outputs": [
    {
     "data": {
      "text/html": [
       "<div>\n",
       "<style scoped>\n",
       "    .dataframe tbody tr th:only-of-type {\n",
       "        vertical-align: middle;\n",
       "    }\n",
       "\n",
       "    .dataframe tbody tr th {\n",
       "        vertical-align: top;\n",
       "    }\n",
       "\n",
       "    .dataframe thead th {\n",
       "        text-align: right;\n",
       "    }\n",
       "</style>\n",
       "<table border=\"1\" class=\"dataframe\">\n",
       "  <thead>\n",
       "    <tr style=\"text-align: right;\">\n",
       "      <th></th>\n",
       "      <th>p01</th>\n",
       "      <th>p02</th>\n",
       "      <th>p06</th>\n",
       "      <th>p07</th>\n",
       "      <th>p08</th>\n",
       "      <th>p09</th>\n",
       "      <th>p10</th>\n",
       "      <th>p11</th>\n",
       "      <th>p12</th>\n",
       "      <th>p17</th>\n",
       "    </tr>\n",
       "  </thead>\n",
       "  <tbody>\n",
       "    <tr>\n",
       "      <th>count</th>\n",
       "      <td>34.000000</td>\n",
       "      <td>5.000000</td>\n",
       "      <td>12.000000</td>\n",
       "      <td>47.000000</td>\n",
       "      <td>38.000000</td>\n",
       "      <td>27.000000</td>\n",
       "      <td>18.000000</td>\n",
       "      <td>6.000000</td>\n",
       "      <td>24.000000</td>\n",
       "      <td>16.000000</td>\n",
       "    </tr>\n",
       "    <tr>\n",
       "      <th>mean</th>\n",
       "      <td>5.641882</td>\n",
       "      <td>3.296703</td>\n",
       "      <td>2.957682</td>\n",
       "      <td>0.156907</td>\n",
       "      <td>1.336842</td>\n",
       "      <td>3.826513</td>\n",
       "      <td>1.964592</td>\n",
       "      <td>2.750000</td>\n",
       "      <td>3.214057</td>\n",
       "      <td>0.991876</td>\n",
       "    </tr>\n",
       "    <tr>\n",
       "      <th>std</th>\n",
       "      <td>8.949720</td>\n",
       "      <td>7.371653</td>\n",
       "      <td>5.005259</td>\n",
       "      <td>0.651255</td>\n",
       "      <td>2.509595</td>\n",
       "      <td>7.779094</td>\n",
       "      <td>4.112791</td>\n",
       "      <td>3.061862</td>\n",
       "      <td>4.769546</td>\n",
       "      <td>1.026662</td>\n",
       "    </tr>\n",
       "    <tr>\n",
       "      <th>min</th>\n",
       "      <td>0.000000</td>\n",
       "      <td>0.000000</td>\n",
       "      <td>0.000000</td>\n",
       "      <td>0.000000</td>\n",
       "      <td>0.000000</td>\n",
       "      <td>0.000000</td>\n",
       "      <td>0.000000</td>\n",
       "      <td>0.000000</td>\n",
       "      <td>0.000000</td>\n",
       "      <td>0.000000</td>\n",
       "    </tr>\n",
       "    <tr>\n",
       "      <th>25%</th>\n",
       "      <td>0.000000</td>\n",
       "      <td>0.000000</td>\n",
       "      <td>0.000000</td>\n",
       "      <td>0.000000</td>\n",
       "      <td>0.000000</td>\n",
       "      <td>0.000000</td>\n",
       "      <td>0.000000</td>\n",
       "      <td>0.000000</td>\n",
       "      <td>0.000000</td>\n",
       "      <td>0.000000</td>\n",
       "    </tr>\n",
       "    <tr>\n",
       "      <th>50%</th>\n",
       "      <td>0.584169</td>\n",
       "      <td>0.000000</td>\n",
       "      <td>1.774590</td>\n",
       "      <td>0.000000</td>\n",
       "      <td>0.000000</td>\n",
       "      <td>1.714776</td>\n",
       "      <td>0.000000</td>\n",
       "      <td>2.250000</td>\n",
       "      <td>1.950000</td>\n",
       "      <td>0.778784</td>\n",
       "    </tr>\n",
       "    <tr>\n",
       "      <th>75%</th>\n",
       "      <td>7.800000</td>\n",
       "      <td>0.000000</td>\n",
       "      <td>3.110750</td>\n",
       "      <td>0.000000</td>\n",
       "      <td>1.375000</td>\n",
       "      <td>4.000000</td>\n",
       "      <td>2.551268</td>\n",
       "      <td>5.625000</td>\n",
       "      <td>4.200000</td>\n",
       "      <td>2.000000</td>\n",
       "    </tr>\n",
       "    <tr>\n",
       "      <th>max</th>\n",
       "      <td>31.200000</td>\n",
       "      <td>16.483516</td>\n",
       "      <td>18.000000</td>\n",
       "      <td>4.012483</td>\n",
       "      <td>9.000000</td>\n",
       "      <td>39.436620</td>\n",
       "      <td>16.800000</td>\n",
       "      <td>6.000000</td>\n",
       "      <td>20.000000</td>\n",
       "      <td>3.000000</td>\n",
       "    </tr>\n",
       "  </tbody>\n",
       "</table>\n",
       "</div>"
      ],
      "text/plain": [
       "             p01        p02        p06        p07        p08        p09  \\\n",
       "count  34.000000   5.000000  12.000000  47.000000  38.000000  27.000000   \n",
       "mean    5.641882   3.296703   2.957682   0.156907   1.336842   3.826513   \n",
       "std     8.949720   7.371653   5.005259   0.651255   2.509595   7.779094   \n",
       "min     0.000000   0.000000   0.000000   0.000000   0.000000   0.000000   \n",
       "25%     0.000000   0.000000   0.000000   0.000000   0.000000   0.000000   \n",
       "50%     0.584169   0.000000   1.774590   0.000000   0.000000   1.714776   \n",
       "75%     7.800000   0.000000   3.110750   0.000000   1.375000   4.000000   \n",
       "max    31.200000  16.483516  18.000000   4.012483   9.000000  39.436620   \n",
       "\n",
       "             p10       p11        p12        p17  \n",
       "count  18.000000  6.000000  24.000000  16.000000  \n",
       "mean    1.964592  2.750000   3.214057   0.991876  \n",
       "std     4.112791  3.061862   4.769546   1.026662  \n",
       "min     0.000000  0.000000   0.000000   0.000000  \n",
       "25%     0.000000  0.000000   0.000000   0.000000  \n",
       "50%     0.000000  2.250000   1.950000   0.778784  \n",
       "75%     2.551268  5.625000   4.200000   2.000000  \n",
       "max    16.800000  6.000000  20.000000   3.000000  "
      ]
     },
     "execution_count": 49,
     "metadata": {},
     "output_type": "execute_result"
    }
   ],
   "source": [
    "pd.concat([\n",
    "    df[df.PSNR == \"p01\"][\"messagesPerHour\"].describe(),\n",
    "    df[df.PSNR == \"p02\"][\"messagesPerHour\"].describe(),\n",
    "    df[df.PSNR == \"p06\"][\"messagesPerHour\"].describe(),\n",
    "    df[df.PSNR == \"p07\"][\"messagesPerHour\"].describe(),\n",
    "    df[df.PSNR == \"p08\"][\"messagesPerHour\"].describe(),\n",
    "    df[df.PSNR == \"p09\"][\"messagesPerHour\"].describe(),\n",
    "    df[df.PSNR == \"p10\"][\"messagesPerHour\"].describe(),\n",
    "    df[df.PSNR == \"p11\"][\"messagesPerHour\"].describe(),\n",
    "    df[df.PSNR == \"p12\"][\"messagesPerHour\"].describe(),\n",
    "    df[df.PSNR == \"p17\"][\"messagesPerHour\"].describe()\n",
    "],axis=1, keys= df.PSNR.unique())"
   ]
  },
  {
   "cell_type": "markdown",
   "metadata": {},
   "source": [
    "<h4> Autoreplies </h4>"
   ]
  },
  {
   "cell_type": "code",
   "execution_count": 50,
   "metadata": {},
   "outputs": [
    {
     "data": {
      "text/plain": [
       "6"
      ]
     },
     "execution_count": 50,
     "metadata": {},
     "output_type": "execute_result"
    }
   ],
   "source": [
    "exman[\"autoReplied\"].sum()"
   ]
  },
  {
   "cell_type": "markdown",
   "metadata": {},
   "source": [
    "<h4> Broken Focus measurement in minutes </h4>"
   ]
  },
  {
   "cell_type": "code",
   "execution_count": 51,
   "metadata": {},
   "outputs": [
    {
     "data": {
      "text/html": [
       "<div>\n",
       "<style scoped>\n",
       "    .dataframe tbody tr th:only-of-type {\n",
       "        vertical-align: middle;\n",
       "    }\n",
       "\n",
       "    .dataframe tbody tr th {\n",
       "        vertical-align: top;\n",
       "    }\n",
       "\n",
       "    .dataframe thead th {\n",
       "        text-align: right;\n",
       "    }\n",
       "</style>\n",
       "<table border=\"1\" class=\"dataframe\">\n",
       "  <thead>\n",
       "    <tr style=\"text-align: right;\">\n",
       "      <th></th>\n",
       "      <th>pomodoro</th>\n",
       "      <th>exman</th>\n",
       "    </tr>\n",
       "  </thead>\n",
       "  <tbody>\n",
       "    <tr>\n",
       "      <th>count</th>\n",
       "      <td>112.000000</td>\n",
       "      <td>115.000000</td>\n",
       "    </tr>\n",
       "    <tr>\n",
       "      <th>mean</th>\n",
       "      <td>3.010914</td>\n",
       "      <td>0.487848</td>\n",
       "    </tr>\n",
       "    <tr>\n",
       "      <th>std</th>\n",
       "      <td>10.866147</td>\n",
       "      <td>1.981690</td>\n",
       "    </tr>\n",
       "    <tr>\n",
       "      <th>min</th>\n",
       "      <td>0.000000</td>\n",
       "      <td>0.000000</td>\n",
       "    </tr>\n",
       "    <tr>\n",
       "      <th>25%</th>\n",
       "      <td>0.000000</td>\n",
       "      <td>0.000000</td>\n",
       "    </tr>\n",
       "    <tr>\n",
       "      <th>50%</th>\n",
       "      <td>0.000000</td>\n",
       "      <td>0.000000</td>\n",
       "    </tr>\n",
       "    <tr>\n",
       "      <th>75%</th>\n",
       "      <td>0.000000</td>\n",
       "      <td>0.000000</td>\n",
       "    </tr>\n",
       "    <tr>\n",
       "      <th>max</th>\n",
       "      <td>59.595000</td>\n",
       "      <td>14.664000</td>\n",
       "    </tr>\n",
       "  </tbody>\n",
       "</table>\n",
       "</div>"
      ],
      "text/plain": [
       "         pomodoro       exman\n",
       "count  112.000000  115.000000\n",
       "mean     3.010914    0.487848\n",
       "std     10.866147    1.981690\n",
       "min      0.000000    0.000000\n",
       "25%      0.000000    0.000000\n",
       "50%      0.000000    0.000000\n",
       "75%      0.000000    0.000000\n",
       "max     59.595000   14.664000"
      ]
     },
     "execution_count": 51,
     "metadata": {},
     "output_type": "execute_result"
    }
   ],
   "source": [
    "get_comparison_summary(\"brokenFocusPerHour\")"
   ]
  },
  {
   "cell_type": "markdown",
   "metadata": {},
   "source": [
    "<h4> number of breaks per focus sessions per Hour </h4>"
   ]
  },
  {
   "cell_type": "code",
   "execution_count": 52,
   "metadata": {},
   "outputs": [
    {
     "data": {
      "text/html": [
       "<div>\n",
       "<style scoped>\n",
       "    .dataframe tbody tr th:only-of-type {\n",
       "        vertical-align: middle;\n",
       "    }\n",
       "\n",
       "    .dataframe tbody tr th {\n",
       "        vertical-align: top;\n",
       "    }\n",
       "\n",
       "    .dataframe thead th {\n",
       "        text-align: right;\n",
       "    }\n",
       "</style>\n",
       "<table border=\"1\" class=\"dataframe\">\n",
       "  <thead>\n",
       "    <tr style=\"text-align: right;\">\n",
       "      <th></th>\n",
       "      <th>pomodoro</th>\n",
       "      <th>exman</th>\n",
       "    </tr>\n",
       "  </thead>\n",
       "  <tbody>\n",
       "    <tr>\n",
       "      <th>count</th>\n",
       "      <td>112.000000</td>\n",
       "      <td>115.000000</td>\n",
       "    </tr>\n",
       "    <tr>\n",
       "      <th>mean</th>\n",
       "      <td>0.502944</td>\n",
       "      <td>0.227479</td>\n",
       "    </tr>\n",
       "    <tr>\n",
       "      <th>std</th>\n",
       "      <td>1.589264</td>\n",
       "      <td>0.761047</td>\n",
       "    </tr>\n",
       "    <tr>\n",
       "      <th>min</th>\n",
       "      <td>0.000000</td>\n",
       "      <td>0.000000</td>\n",
       "    </tr>\n",
       "    <tr>\n",
       "      <th>25%</th>\n",
       "      <td>0.000000</td>\n",
       "      <td>0.000000</td>\n",
       "    </tr>\n",
       "    <tr>\n",
       "      <th>50%</th>\n",
       "      <td>0.000000</td>\n",
       "      <td>0.000000</td>\n",
       "    </tr>\n",
       "    <tr>\n",
       "      <th>75%</th>\n",
       "      <td>0.000000</td>\n",
       "      <td>0.000000</td>\n",
       "    </tr>\n",
       "    <tr>\n",
       "      <th>max</th>\n",
       "      <td>9.077156</td>\n",
       "      <td>4.800000</td>\n",
       "    </tr>\n",
       "  </tbody>\n",
       "</table>\n",
       "</div>"
      ],
      "text/plain": [
       "         pomodoro       exman\n",
       "count  112.000000  115.000000\n",
       "mean     0.502944    0.227479\n",
       "std      1.589264    0.761047\n",
       "min      0.000000    0.000000\n",
       "25%      0.000000    0.000000\n",
       "50%      0.000000    0.000000\n",
       "75%      0.000000    0.000000\n",
       "max      9.077156    4.800000"
      ]
     },
     "execution_count": 52,
     "metadata": {},
     "output_type": "execute_result"
    }
   ],
   "source": [
    "get_comparison_summary(\"brokenFrequencyPerHour\")"
   ]
  },
  {
   "cell_type": "markdown",
   "metadata": {},
   "source": [
    "<h4> Minutes in focus </h4>"
   ]
  },
  {
   "cell_type": "code",
   "execution_count": 53,
   "metadata": {},
   "outputs": [
    {
     "data": {
      "text/plain": [
       "count    227.000000\n",
       "mean      44.588370\n",
       "std       33.241341\n",
       "min       10.650000\n",
       "25%       25.000000\n",
       "50%       36.410000\n",
       "75%       54.810000\n",
       "max      208.520000\n",
       "Name: minutesInFocus, dtype: float64"
      ]
     },
     "execution_count": 53,
     "metadata": {},
     "output_type": "execute_result"
    }
   ],
   "source": [
    "df[\"minutesInFocus\"].describe()"
   ]
  },
  {
   "cell_type": "code",
   "execution_count": 54,
   "metadata": {},
   "outputs": [
    {
     "data": {
      "text/html": [
       "<div>\n",
       "<style scoped>\n",
       "    .dataframe tbody tr th:only-of-type {\n",
       "        vertical-align: middle;\n",
       "    }\n",
       "\n",
       "    .dataframe tbody tr th {\n",
       "        vertical-align: top;\n",
       "    }\n",
       "\n",
       "    .dataframe thead th {\n",
       "        text-align: right;\n",
       "    }\n",
       "</style>\n",
       "<table border=\"1\" class=\"dataframe\">\n",
       "  <thead>\n",
       "    <tr style=\"text-align: right;\">\n",
       "      <th></th>\n",
       "      <th>p01</th>\n",
       "      <th>p02</th>\n",
       "      <th>p06</th>\n",
       "      <th>p07</th>\n",
       "      <th>p08</th>\n",
       "      <th>p09</th>\n",
       "      <th>p10</th>\n",
       "      <th>p11</th>\n",
       "      <th>p12</th>\n",
       "      <th>p17</th>\n",
       "    </tr>\n",
       "  </thead>\n",
       "  <tbody>\n",
       "    <tr>\n",
       "      <th>count</th>\n",
       "      <td>34.000000</td>\n",
       "      <td>5.000000</td>\n",
       "      <td>12.000000</td>\n",
       "      <td>47.000000</td>\n",
       "      <td>38.000000</td>\n",
       "      <td>27.000000</td>\n",
       "      <td>18.000000</td>\n",
       "      <td>6.000000</td>\n",
       "      <td>24.000000</td>\n",
       "      <td>16.000000</td>\n",
       "    </tr>\n",
       "    <tr>\n",
       "      <th>mean</th>\n",
       "      <td>33.787647</td>\n",
       "      <td>94.656000</td>\n",
       "      <td>38.046667</td>\n",
       "      <td>69.852766</td>\n",
       "      <td>31.184211</td>\n",
       "      <td>40.072963</td>\n",
       "      <td>24.534444</td>\n",
       "      <td>37.500000</td>\n",
       "      <td>23.270417</td>\n",
       "      <td>79.236250</td>\n",
       "    </tr>\n",
       "    <tr>\n",
       "      <th>std</th>\n",
       "      <td>21.335718</td>\n",
       "      <td>76.930833</td>\n",
       "      <td>8.764239</td>\n",
       "      <td>35.697708</td>\n",
       "      <td>12.650938</td>\n",
       "      <td>33.573583</td>\n",
       "      <td>8.588470</td>\n",
       "      <td>6.123724</td>\n",
       "      <td>8.089137</td>\n",
       "      <td>37.723993</td>\n",
       "    </tr>\n",
       "    <tr>\n",
       "      <th>min</th>\n",
       "      <td>15.000000</td>\n",
       "      <td>18.200000</td>\n",
       "      <td>15.000000</td>\n",
       "      <td>17.400000</td>\n",
       "      <td>15.000000</td>\n",
       "      <td>10.650000</td>\n",
       "      <td>15.000000</td>\n",
       "      <td>25.000000</td>\n",
       "      <td>15.000000</td>\n",
       "      <td>30.000000</td>\n",
       "    </tr>\n",
       "    <tr>\n",
       "      <th>25%</th>\n",
       "      <td>25.000000</td>\n",
       "      <td>35.240000</td>\n",
       "      <td>40.000000</td>\n",
       "      <td>45.000000</td>\n",
       "      <td>25.000000</td>\n",
       "      <td>22.415000</td>\n",
       "      <td>17.807500</td>\n",
       "      <td>40.000000</td>\n",
       "      <td>15.000000</td>\n",
       "      <td>57.115000</td>\n",
       "    </tr>\n",
       "    <tr>\n",
       "      <th>50%</th>\n",
       "      <td>25.000000</td>\n",
       "      <td>82.310000</td>\n",
       "      <td>40.000000</td>\n",
       "      <td>61.760000</td>\n",
       "      <td>25.000000</td>\n",
       "      <td>30.000000</td>\n",
       "      <td>25.000000</td>\n",
       "      <td>40.000000</td>\n",
       "      <td>25.000000</td>\n",
       "      <td>60.000000</td>\n",
       "    </tr>\n",
       "    <tr>\n",
       "      <th>75%</th>\n",
       "      <td>40.000000</td>\n",
       "      <td>129.010000</td>\n",
       "      <td>40.000000</td>\n",
       "      <td>91.755000</td>\n",
       "      <td>40.000000</td>\n",
       "      <td>41.045000</td>\n",
       "      <td>25.000000</td>\n",
       "      <td>40.000000</td>\n",
       "      <td>25.000000</td>\n",
       "      <td>110.707500</td>\n",
       "    </tr>\n",
       "    <tr>\n",
       "      <th>max</th>\n",
       "      <td>110.910000</td>\n",
       "      <td>208.520000</td>\n",
       "      <td>52.280000</td>\n",
       "      <td>160.000000</td>\n",
       "      <td>60.000000</td>\n",
       "      <td>180.000000</td>\n",
       "      <td>45.000000</td>\n",
       "      <td>40.000000</td>\n",
       "      <td>48.490000</td>\n",
       "      <td>165.000000</td>\n",
       "    </tr>\n",
       "  </tbody>\n",
       "</table>\n",
       "</div>"
      ],
      "text/plain": [
       "              p01         p02        p06         p07        p08         p09  \\\n",
       "count   34.000000    5.000000  12.000000   47.000000  38.000000   27.000000   \n",
       "mean    33.787647   94.656000  38.046667   69.852766  31.184211   40.072963   \n",
       "std     21.335718   76.930833   8.764239   35.697708  12.650938   33.573583   \n",
       "min     15.000000   18.200000  15.000000   17.400000  15.000000   10.650000   \n",
       "25%     25.000000   35.240000  40.000000   45.000000  25.000000   22.415000   \n",
       "50%     25.000000   82.310000  40.000000   61.760000  25.000000   30.000000   \n",
       "75%     40.000000  129.010000  40.000000   91.755000  40.000000   41.045000   \n",
       "max    110.910000  208.520000  52.280000  160.000000  60.000000  180.000000   \n",
       "\n",
       "             p10        p11        p12         p17  \n",
       "count  18.000000   6.000000  24.000000   16.000000  \n",
       "mean   24.534444  37.500000  23.270417   79.236250  \n",
       "std     8.588470   6.123724   8.089137   37.723993  \n",
       "min    15.000000  25.000000  15.000000   30.000000  \n",
       "25%    17.807500  40.000000  15.000000   57.115000  \n",
       "50%    25.000000  40.000000  25.000000   60.000000  \n",
       "75%    25.000000  40.000000  25.000000  110.707500  \n",
       "max    45.000000  40.000000  48.490000  165.000000  "
      ]
     },
     "execution_count": 54,
     "metadata": {},
     "output_type": "execute_result"
    }
   ],
   "source": [
    "pd.concat([\n",
    "    df[df.PSNR == \"p01\"][\"minutesInFocus\"].describe(),\n",
    "    df[df.PSNR == \"p02\"][\"minutesInFocus\"].describe(),\n",
    "    df[df.PSNR == \"p06\"][\"minutesInFocus\"].describe(),\n",
    "    df[df.PSNR == \"p07\"][\"minutesInFocus\"].describe(),\n",
    "    df[df.PSNR == \"p08\"][\"minutesInFocus\"].describe(),\n",
    "    df[df.PSNR == \"p09\"][\"minutesInFocus\"].describe(),\n",
    "    df[df.PSNR == \"p10\"][\"minutesInFocus\"].describe(),\n",
    "    df[df.PSNR == \"p11\"][\"minutesInFocus\"].describe(),\n",
    "    df[df.PSNR == \"p12\"][\"minutesInFocus\"].describe(),\n",
    "    df[df.PSNR == \"p17\"][\"minutesInFocus\"].describe()\n",
    "],axis=1, keys= df.PSNR.unique())"
   ]
  },
  {
   "cell_type": "markdown",
   "metadata": {},
   "source": [
    "<h4> distraction count per participant and per focus session </h4>"
   ]
  },
  {
   "cell_type": "code",
   "execution_count": 55,
   "metadata": {},
   "outputs": [
    {
     "data": {
      "text/html": [
       "<div>\n",
       "<style scoped>\n",
       "    .dataframe tbody tr th:only-of-type {\n",
       "        vertical-align: middle;\n",
       "    }\n",
       "\n",
       "    .dataframe tbody tr th {\n",
       "        vertical-align: top;\n",
       "    }\n",
       "\n",
       "    .dataframe thead th {\n",
       "        text-align: right;\n",
       "    }\n",
       "</style>\n",
       "<table border=\"1\" class=\"dataframe\">\n",
       "  <thead>\n",
       "    <tr style=\"text-align: right;\">\n",
       "      <th></th>\n",
       "      <th>1</th>\n",
       "      <th>8</th>\n",
       "      <th>9</th>\n",
       "      <th>10</th>\n",
       "      <th>11</th>\n",
       "      <th>12</th>\n",
       "    </tr>\n",
       "  </thead>\n",
       "  <tbody>\n",
       "    <tr>\n",
       "      <th>count</th>\n",
       "      <td>34.000000</td>\n",
       "      <td>38.000000</td>\n",
       "      <td>27.000000</td>\n",
       "      <td>18.000000</td>\n",
       "      <td>6.000000</td>\n",
       "      <td>24.000000</td>\n",
       "    </tr>\n",
       "    <tr>\n",
       "      <th>mean</th>\n",
       "      <td>0.735294</td>\n",
       "      <td>1.447368</td>\n",
       "      <td>7.629630</td>\n",
       "      <td>2.388889</td>\n",
       "      <td>2.166667</td>\n",
       "      <td>2.541667</td>\n",
       "    </tr>\n",
       "    <tr>\n",
       "      <th>std</th>\n",
       "      <td>1.763413</td>\n",
       "      <td>4.886260</td>\n",
       "      <td>11.806609</td>\n",
       "      <td>4.132210</td>\n",
       "      <td>1.471960</td>\n",
       "      <td>6.093326</td>\n",
       "    </tr>\n",
       "    <tr>\n",
       "      <th>min</th>\n",
       "      <td>0.000000</td>\n",
       "      <td>0.000000</td>\n",
       "      <td>0.000000</td>\n",
       "      <td>0.000000</td>\n",
       "      <td>0.000000</td>\n",
       "      <td>0.000000</td>\n",
       "    </tr>\n",
       "    <tr>\n",
       "      <th>25%</th>\n",
       "      <td>0.000000</td>\n",
       "      <td>0.000000</td>\n",
       "      <td>1.000000</td>\n",
       "      <td>0.000000</td>\n",
       "      <td>1.250000</td>\n",
       "      <td>0.000000</td>\n",
       "    </tr>\n",
       "    <tr>\n",
       "      <th>50%</th>\n",
       "      <td>0.000000</td>\n",
       "      <td>0.000000</td>\n",
       "      <td>3.000000</td>\n",
       "      <td>0.000000</td>\n",
       "      <td>2.500000</td>\n",
       "      <td>0.000000</td>\n",
       "    </tr>\n",
       "    <tr>\n",
       "      <th>75%</th>\n",
       "      <td>0.000000</td>\n",
       "      <td>0.000000</td>\n",
       "      <td>7.500000</td>\n",
       "      <td>2.500000</td>\n",
       "      <td>3.000000</td>\n",
       "      <td>2.000000</td>\n",
       "    </tr>\n",
       "    <tr>\n",
       "      <th>max</th>\n",
       "      <td>6.000000</td>\n",
       "      <td>27.000000</td>\n",
       "      <td>44.000000</td>\n",
       "      <td>13.000000</td>\n",
       "      <td>4.000000</td>\n",
       "      <td>26.000000</td>\n",
       "    </tr>\n",
       "  </tbody>\n",
       "</table>\n",
       "</div>"
      ],
      "text/plain": [
       "               1          8          9         10        11         12\n",
       "count  34.000000  38.000000  27.000000  18.000000  6.000000  24.000000\n",
       "mean    0.735294   1.447368   7.629630   2.388889  2.166667   2.541667\n",
       "std     1.763413   4.886260  11.806609   4.132210  1.471960   6.093326\n",
       "min     0.000000   0.000000   0.000000   0.000000  0.000000   0.000000\n",
       "25%     0.000000   0.000000   1.000000   0.000000  1.250000   0.000000\n",
       "50%     0.000000   0.000000   3.000000   0.000000  2.500000   0.000000\n",
       "75%     0.000000   0.000000   7.500000   2.500000  3.000000   2.000000\n",
       "max     6.000000  27.000000  44.000000  13.000000  4.000000  26.000000"
      ]
     },
     "execution_count": 55,
     "metadata": {},
     "output_type": "execute_result"
    }
   ],
   "source": [
    "pd.concat([\n",
    "    df[df.PSNR == \"p01\"][\"distractionCount\"].describe(),\n",
    "    #df[df.PSNR == \"p02\"][\"distractionCount\"].describe(),\n",
    "    #df[df.PSNR == \"p06\"][\"distractionCount\"].describe(),\n",
    "    #df[df.PSNR == \"p07\"][\"distractionCount\"].describe(),\n",
    "    df[df.PSNR == \"p08\"][\"distractionCount\"].describe(),\n",
    "    df[df.PSNR == \"p09\"][\"distractionCount\"].describe(),\n",
    "    df[df.PSNR == \"p10\"][\"distractionCount\"].describe(),\n",
    "    df[df.PSNR == \"p11\"][\"distractionCount\"].describe(),\n",
    "    df[df.PSNR == \"p12\"][\"distractionCount\"].describe()\n",
    "    #df[df.PSNR == \"p17\"][\"distractionCount\"].describe()\n",
    "],axis=1, keys= [\"1\", \"8\", \"9\", \"10\", \"11\", \"12\"])\n"
   ]
  },
  {
   "cell_type": "code",
   "execution_count": 56,
   "metadata": {},
   "outputs": [
    {
     "data": {
      "text/html": [
       "<div>\n",
       "<style scoped>\n",
       "    .dataframe tbody tr th:only-of-type {\n",
       "        vertical-align: middle;\n",
       "    }\n",
       "\n",
       "    .dataframe tbody tr th {\n",
       "        vertical-align: top;\n",
       "    }\n",
       "\n",
       "    .dataframe thead th {\n",
       "        text-align: right;\n",
       "    }\n",
       "</style>\n",
       "<table border=\"1\" class=\"dataframe\">\n",
       "  <thead>\n",
       "    <tr style=\"text-align: right;\">\n",
       "      <th></th>\n",
       "      <th>p01</th>\n",
       "      <th>p02</th>\n",
       "      <th>p06</th>\n",
       "      <th>p07</th>\n",
       "      <th>p08</th>\n",
       "      <th>p09</th>\n",
       "    </tr>\n",
       "  </thead>\n",
       "  <tbody>\n",
       "    <tr>\n",
       "      <th>count</th>\n",
       "      <td>34.000000</td>\n",
       "      <td>38.000000</td>\n",
       "      <td>27.000000</td>\n",
       "      <td>18.000000</td>\n",
       "      <td>6.000000</td>\n",
       "      <td>24.000000</td>\n",
       "    </tr>\n",
       "    <tr>\n",
       "      <th>mean</th>\n",
       "      <td>0.248255</td>\n",
       "      <td>0.742672</td>\n",
       "      <td>4.379106</td>\n",
       "      <td>1.717281</td>\n",
       "      <td>0.401533</td>\n",
       "      <td>0.791240</td>\n",
       "    </tr>\n",
       "    <tr>\n",
       "      <th>std</th>\n",
       "      <td>0.738867</td>\n",
       "      <td>2.546034</td>\n",
       "      <td>9.210642</td>\n",
       "      <td>3.724138</td>\n",
       "      <td>0.351710</td>\n",
       "      <td>2.084813</td>\n",
       "    </tr>\n",
       "    <tr>\n",
       "      <th>min</th>\n",
       "      <td>0.000000</td>\n",
       "      <td>0.000000</td>\n",
       "      <td>0.000000</td>\n",
       "      <td>0.000000</td>\n",
       "      <td>0.000000</td>\n",
       "      <td>0.000000</td>\n",
       "    </tr>\n",
       "    <tr>\n",
       "      <th>25%</th>\n",
       "      <td>0.000000</td>\n",
       "      <td>0.000000</td>\n",
       "      <td>0.031742</td>\n",
       "      <td>0.000000</td>\n",
       "      <td>0.142254</td>\n",
       "      <td>0.000000</td>\n",
       "    </tr>\n",
       "    <tr>\n",
       "      <th>50%</th>\n",
       "      <td>0.000000</td>\n",
       "      <td>0.000000</td>\n",
       "      <td>0.465717</td>\n",
       "      <td>0.000000</td>\n",
       "      <td>0.367833</td>\n",
       "      <td>0.000000</td>\n",
       "    </tr>\n",
       "    <tr>\n",
       "      <th>75%</th>\n",
       "      <td>0.000000</td>\n",
       "      <td>0.000000</td>\n",
       "      <td>3.976900</td>\n",
       "      <td>1.525800</td>\n",
       "      <td>0.618512</td>\n",
       "      <td>0.125496</td>\n",
       "    </tr>\n",
       "    <tr>\n",
       "      <th>max</th>\n",
       "      <td>3.324733</td>\n",
       "      <td>11.209250</td>\n",
       "      <td>35.883900</td>\n",
       "      <td>14.592567</td>\n",
       "      <td>0.904400</td>\n",
       "      <td>7.920617</td>\n",
       "    </tr>\n",
       "  </tbody>\n",
       "</table>\n",
       "</div>"
      ],
      "text/plain": [
       "             p01        p02        p06        p07       p08        p09\n",
       "count  34.000000  38.000000  27.000000  18.000000  6.000000  24.000000\n",
       "mean    0.248255   0.742672   4.379106   1.717281  0.401533   0.791240\n",
       "std     0.738867   2.546034   9.210642   3.724138  0.351710   2.084813\n",
       "min     0.000000   0.000000   0.000000   0.000000  0.000000   0.000000\n",
       "25%     0.000000   0.000000   0.031742   0.000000  0.142254   0.000000\n",
       "50%     0.000000   0.000000   0.465717   0.000000  0.367833   0.000000\n",
       "75%     0.000000   0.000000   3.976900   1.525800  0.618512   0.125496\n",
       "max     3.324733  11.209250  35.883900  14.592567  0.904400   7.920617"
      ]
     },
     "execution_count": 56,
     "metadata": {},
     "output_type": "execute_result"
    }
   ],
   "source": [
    "pd.concat([\n",
    "    df[df.PSNR == \"p01\"][\"distractionTime\"].describe(),\n",
    "    #df[df.PSNR == \"p02\"][\"distractionTime\"].describe(),\n",
    "    #df[df.PSNR == \"p06\"][\"distractionTime\"].describe(),\n",
    "    #df[df.PSNR == \"p07\"][\"distractionTime\"].describe(),\n",
    "    df[df.PSNR == \"p08\"][\"distractionTime\"].describe(),\n",
    "    df[df.PSNR == \"p09\"][\"distractionTime\"].describe(),\n",
    "    df[df.PSNR == \"p10\"][\"distractionTime\"].describe(),\n",
    "    df[df.PSNR == \"p11\"][\"distractionTime\"].describe(),\n",
    "    df[df.PSNR == \"p12\"][\"distractionTime\"].describe(),\n",
    "    #df[df.PSNR == \"p17\"][\"distractionTime\"].describe()\n",
    "],axis=1, keys= df.PSNR.unique())\n",
    "\n",
    "# clear p2,p6,p7 and p17 out of the windowstracking dataframe"
   ]
  },
  {
   "cell_type": "markdown",
   "metadata": {},
   "source": [
    "<h4> Rating </h4>"
   ]
  },
  {
   "cell_type": "code",
   "execution_count": 57,
   "metadata": {},
   "outputs": [
    {
     "data": {
      "text/html": [
       "<div>\n",
       "<style scoped>\n",
       "    .dataframe tbody tr th:only-of-type {\n",
       "        vertical-align: middle;\n",
       "    }\n",
       "\n",
       "    .dataframe tbody tr th {\n",
       "        vertical-align: top;\n",
       "    }\n",
       "\n",
       "    .dataframe thead th {\n",
       "        text-align: right;\n",
       "    }\n",
       "</style>\n",
       "<table border=\"1\" class=\"dataframe\">\n",
       "  <thead>\n",
       "    <tr style=\"text-align: right;\">\n",
       "      <th></th>\n",
       "      <th>pomodoro</th>\n",
       "      <th>exman</th>\n",
       "    </tr>\n",
       "  </thead>\n",
       "  <tbody>\n",
       "    <tr>\n",
       "      <th>count</th>\n",
       "      <td>100.000000</td>\n",
       "      <td>105.000000</td>\n",
       "    </tr>\n",
       "    <tr>\n",
       "      <th>mean</th>\n",
       "      <td>5.740000</td>\n",
       "      <td>5.885714</td>\n",
       "    </tr>\n",
       "    <tr>\n",
       "      <th>std</th>\n",
       "      <td>1.106637</td>\n",
       "      <td>1.068017</td>\n",
       "    </tr>\n",
       "    <tr>\n",
       "      <th>min</th>\n",
       "      <td>2.000000</td>\n",
       "      <td>2.000000</td>\n",
       "    </tr>\n",
       "    <tr>\n",
       "      <th>25%</th>\n",
       "      <td>5.000000</td>\n",
       "      <td>5.000000</td>\n",
       "    </tr>\n",
       "    <tr>\n",
       "      <th>50%</th>\n",
       "      <td>6.000000</td>\n",
       "      <td>6.000000</td>\n",
       "    </tr>\n",
       "    <tr>\n",
       "      <th>75%</th>\n",
       "      <td>7.000000</td>\n",
       "      <td>7.000000</td>\n",
       "    </tr>\n",
       "    <tr>\n",
       "      <th>max</th>\n",
       "      <td>7.000000</td>\n",
       "      <td>7.000000</td>\n",
       "    </tr>\n",
       "  </tbody>\n",
       "</table>\n",
       "</div>"
      ],
      "text/plain": [
       "         pomodoro       exman\n",
       "count  100.000000  105.000000\n",
       "mean     5.740000    5.885714\n",
       "std      1.106637    1.068017\n",
       "min      2.000000    2.000000\n",
       "25%      5.000000    5.000000\n",
       "50%      6.000000    6.000000\n",
       "75%      7.000000    7.000000\n",
       "max      7.000000    7.000000"
      ]
     },
     "execution_count": 57,
     "metadata": {},
     "output_type": "execute_result"
    }
   ],
   "source": [
    "pd.concat([pomodoro[\"rating\"].dropna().astype(int).describe(),exman[\"rating\"].dropna().astype(int).describe()],axis=1,keys=[\"pomodoro\",\"exman\"])"
   ]
  },
  {
   "cell_type": "code",
   "execution_count": 58,
   "metadata": {},
   "outputs": [
    {
     "data": {
      "text/html": [
       "<div>\n",
       "<style scoped>\n",
       "    .dataframe tbody tr th:only-of-type {\n",
       "        vertical-align: middle;\n",
       "    }\n",
       "\n",
       "    .dataframe tbody tr th {\n",
       "        vertical-align: top;\n",
       "    }\n",
       "\n",
       "    .dataframe thead th {\n",
       "        text-align: right;\n",
       "    }\n",
       "</style>\n",
       "<table border=\"1\" class=\"dataframe\">\n",
       "  <thead>\n",
       "    <tr style=\"text-align: right;\">\n",
       "      <th></th>\n",
       "      <th>p01</th>\n",
       "      <th>p02</th>\n",
       "      <th>p06</th>\n",
       "      <th>p07</th>\n",
       "      <th>p08</th>\n",
       "      <th>p09</th>\n",
       "      <th>p10</th>\n",
       "      <th>p11</th>\n",
       "      <th>p12</th>\n",
       "      <th>p17</th>\n",
       "    </tr>\n",
       "  </thead>\n",
       "  <tbody>\n",
       "    <tr>\n",
       "      <th>count</th>\n",
       "      <td>30.000000</td>\n",
       "      <td>2.000000</td>\n",
       "      <td>11.000000</td>\n",
       "      <td>45.000000</td>\n",
       "      <td>36.000000</td>\n",
       "      <td>24.000000</td>\n",
       "      <td>17.000000</td>\n",
       "      <td>2.0</td>\n",
       "      <td>22.000000</td>\n",
       "      <td>16.000000</td>\n",
       "    </tr>\n",
       "    <tr>\n",
       "      <th>mean</th>\n",
       "      <td>5.600000</td>\n",
       "      <td>6.000000</td>\n",
       "      <td>4.090909</td>\n",
       "      <td>5.022222</td>\n",
       "      <td>6.777778</td>\n",
       "      <td>6.666667</td>\n",
       "      <td>5.823529</td>\n",
       "      <td>7.0</td>\n",
       "      <td>5.909091</td>\n",
       "      <td>5.875000</td>\n",
       "    </tr>\n",
       "    <tr>\n",
       "      <th>std</th>\n",
       "      <td>0.855006</td>\n",
       "      <td>1.414214</td>\n",
       "      <td>1.513575</td>\n",
       "      <td>0.722649</td>\n",
       "      <td>0.484686</td>\n",
       "      <td>0.701964</td>\n",
       "      <td>0.727607</td>\n",
       "      <td>0.0</td>\n",
       "      <td>0.610159</td>\n",
       "      <td>1.147461</td>\n",
       "    </tr>\n",
       "    <tr>\n",
       "      <th>min</th>\n",
       "      <td>4.000000</td>\n",
       "      <td>5.000000</td>\n",
       "      <td>2.000000</td>\n",
       "      <td>3.000000</td>\n",
       "      <td>5.000000</td>\n",
       "      <td>5.000000</td>\n",
       "      <td>4.000000</td>\n",
       "      <td>7.0</td>\n",
       "      <td>4.000000</td>\n",
       "      <td>4.000000</td>\n",
       "    </tr>\n",
       "    <tr>\n",
       "      <th>25%</th>\n",
       "      <td>5.000000</td>\n",
       "      <td>5.500000</td>\n",
       "      <td>3.000000</td>\n",
       "      <td>5.000000</td>\n",
       "      <td>7.000000</td>\n",
       "      <td>7.000000</td>\n",
       "      <td>6.000000</td>\n",
       "      <td>7.0</td>\n",
       "      <td>6.000000</td>\n",
       "      <td>5.000000</td>\n",
       "    </tr>\n",
       "    <tr>\n",
       "      <th>50%</th>\n",
       "      <td>6.000000</td>\n",
       "      <td>6.000000</td>\n",
       "      <td>4.000000</td>\n",
       "      <td>5.000000</td>\n",
       "      <td>7.000000</td>\n",
       "      <td>7.000000</td>\n",
       "      <td>6.000000</td>\n",
       "      <td>7.0</td>\n",
       "      <td>6.000000</td>\n",
       "      <td>6.000000</td>\n",
       "    </tr>\n",
       "    <tr>\n",
       "      <th>75%</th>\n",
       "      <td>6.000000</td>\n",
       "      <td>6.500000</td>\n",
       "      <td>5.000000</td>\n",
       "      <td>5.000000</td>\n",
       "      <td>7.000000</td>\n",
       "      <td>7.000000</td>\n",
       "      <td>6.000000</td>\n",
       "      <td>7.0</td>\n",
       "      <td>6.000000</td>\n",
       "      <td>7.000000</td>\n",
       "    </tr>\n",
       "    <tr>\n",
       "      <th>max</th>\n",
       "      <td>7.000000</td>\n",
       "      <td>7.000000</td>\n",
       "      <td>7.000000</td>\n",
       "      <td>6.000000</td>\n",
       "      <td>7.000000</td>\n",
       "      <td>7.000000</td>\n",
       "      <td>7.000000</td>\n",
       "      <td>7.0</td>\n",
       "      <td>7.000000</td>\n",
       "      <td>7.000000</td>\n",
       "    </tr>\n",
       "  </tbody>\n",
       "</table>\n",
       "</div>"
      ],
      "text/plain": [
       "             p01       p02        p06        p07        p08        p09  \\\n",
       "count  30.000000  2.000000  11.000000  45.000000  36.000000  24.000000   \n",
       "mean    5.600000  6.000000   4.090909   5.022222   6.777778   6.666667   \n",
       "std     0.855006  1.414214   1.513575   0.722649   0.484686   0.701964   \n",
       "min     4.000000  5.000000   2.000000   3.000000   5.000000   5.000000   \n",
       "25%     5.000000  5.500000   3.000000   5.000000   7.000000   7.000000   \n",
       "50%     6.000000  6.000000   4.000000   5.000000   7.000000   7.000000   \n",
       "75%     6.000000  6.500000   5.000000   5.000000   7.000000   7.000000   \n",
       "max     7.000000  7.000000   7.000000   6.000000   7.000000   7.000000   \n",
       "\n",
       "             p10  p11        p12        p17  \n",
       "count  17.000000  2.0  22.000000  16.000000  \n",
       "mean    5.823529  7.0   5.909091   5.875000  \n",
       "std     0.727607  0.0   0.610159   1.147461  \n",
       "min     4.000000  7.0   4.000000   4.000000  \n",
       "25%     6.000000  7.0   6.000000   5.000000  \n",
       "50%     6.000000  7.0   6.000000   6.000000  \n",
       "75%     6.000000  7.0   6.000000   7.000000  \n",
       "max     7.000000  7.0   7.000000   7.000000  "
      ]
     },
     "execution_count": 58,
     "metadata": {},
     "output_type": "execute_result"
    }
   ],
   "source": [
    "# productivity per version and participants needs to be fixed\n",
    "pd.concat([\n",
    "    df[df.PSNR == \"p01\"][\"rating\"].dropna().astype(int).describe(),\n",
    "    df[df.PSNR == \"p02\"][\"rating\"].dropna().astype(int).describe(),\n",
    "    df[df.PSNR == \"p06\"][\"rating\"].dropna().astype(int).describe(),\n",
    "    df[df.PSNR == \"p07\"][\"rating\"].dropna().astype(int).describe(),\n",
    "    df[df.PSNR == \"p08\"][\"rating\"].dropna().astype(int).describe(),\n",
    "    df[df.PSNR == \"p09\"][\"rating\"].dropna().astype(int).describe(),\n",
    "    df[df.PSNR == \"p10\"][\"rating\"].dropna().astype(int).describe(),\n",
    "    df[df.PSNR == \"p11\"][\"rating\"].dropna().astype(int).describe(),\n",
    "    df[df.PSNR == \"p12\"][\"rating\"].dropna().astype(int).describe(),\n",
    "    df[df.PSNR == \"p17\"][\"rating\"].dropna().astype(int).describe()\n",
    "],axis=1, keys= df.PSNR.unique())"
   ]
  },
  {
   "cell_type": "markdown",
   "metadata": {},
   "source": [
    "P17 has pretty low average productivity rating compared to others. Potential explanations from interview?"
   ]
  },
  {
   "cell_type": "code",
   "execution_count": 59,
   "metadata": {},
   "outputs": [
    {
     "data": {
      "text/html": [
       "<div>\n",
       "<style scoped>\n",
       "    .dataframe tbody tr th:only-of-type {\n",
       "        vertical-align: middle;\n",
       "    }\n",
       "\n",
       "    .dataframe tbody tr th {\n",
       "        vertical-align: top;\n",
       "    }\n",
       "\n",
       "    .dataframe thead th {\n",
       "        text-align: right;\n",
       "    }\n",
       "</style>\n",
       "<table border=\"1\" class=\"dataframe\">\n",
       "  <thead>\n",
       "    <tr style=\"text-align: right;\">\n",
       "      <th></th>\n",
       "      <th>p01</th>\n",
       "      <th>p02</th>\n",
       "      <th>p06</th>\n",
       "      <th>p07</th>\n",
       "      <th>p08</th>\n",
       "      <th>p09</th>\n",
       "      <th>p10</th>\n",
       "      <th>p11</th>\n",
       "      <th>p12</th>\n",
       "      <th>p17</th>\n",
       "    </tr>\n",
       "  </thead>\n",
       "  <tbody>\n",
       "    <tr>\n",
       "      <th>count</th>\n",
       "      <td>17.000000</td>\n",
       "      <td>0.0</td>\n",
       "      <td>6.000000</td>\n",
       "      <td>19.000000</td>\n",
       "      <td>14.0</td>\n",
       "      <td>14.000000</td>\n",
       "      <td>14.000000</td>\n",
       "      <td>1.0</td>\n",
       "      <td>13.000000</td>\n",
       "      <td>7.000000</td>\n",
       "    </tr>\n",
       "    <tr>\n",
       "      <th>mean</th>\n",
       "      <td>5.352941</td>\n",
       "      <td>NaN</td>\n",
       "      <td>4.666667</td>\n",
       "      <td>5.000000</td>\n",
       "      <td>7.0</td>\n",
       "      <td>6.857143</td>\n",
       "      <td>5.714286</td>\n",
       "      <td>7.0</td>\n",
       "      <td>5.923077</td>\n",
       "      <td>6.571429</td>\n",
       "    </tr>\n",
       "    <tr>\n",
       "      <th>std</th>\n",
       "      <td>0.861770</td>\n",
       "      <td>NaN</td>\n",
       "      <td>1.632993</td>\n",
       "      <td>0.745356</td>\n",
       "      <td>0.0</td>\n",
       "      <td>0.363137</td>\n",
       "      <td>0.726273</td>\n",
       "      <td>NaN</td>\n",
       "      <td>0.493548</td>\n",
       "      <td>1.133893</td>\n",
       "    </tr>\n",
       "    <tr>\n",
       "      <th>min</th>\n",
       "      <td>4.000000</td>\n",
       "      <td>NaN</td>\n",
       "      <td>2.000000</td>\n",
       "      <td>3.000000</td>\n",
       "      <td>7.0</td>\n",
       "      <td>6.000000</td>\n",
       "      <td>4.000000</td>\n",
       "      <td>7.0</td>\n",
       "      <td>5.000000</td>\n",
       "      <td>4.000000</td>\n",
       "    </tr>\n",
       "    <tr>\n",
       "      <th>25%</th>\n",
       "      <td>5.000000</td>\n",
       "      <td>NaN</td>\n",
       "      <td>4.250000</td>\n",
       "      <td>5.000000</td>\n",
       "      <td>7.0</td>\n",
       "      <td>7.000000</td>\n",
       "      <td>5.250000</td>\n",
       "      <td>7.0</td>\n",
       "      <td>6.000000</td>\n",
       "      <td>7.000000</td>\n",
       "    </tr>\n",
       "    <tr>\n",
       "      <th>50%</th>\n",
       "      <td>5.000000</td>\n",
       "      <td>NaN</td>\n",
       "      <td>5.000000</td>\n",
       "      <td>5.000000</td>\n",
       "      <td>7.0</td>\n",
       "      <td>7.000000</td>\n",
       "      <td>6.000000</td>\n",
       "      <td>7.0</td>\n",
       "      <td>6.000000</td>\n",
       "      <td>7.000000</td>\n",
       "    </tr>\n",
       "    <tr>\n",
       "      <th>75%</th>\n",
       "      <td>6.000000</td>\n",
       "      <td>NaN</td>\n",
       "      <td>5.000000</td>\n",
       "      <td>5.000000</td>\n",
       "      <td>7.0</td>\n",
       "      <td>7.000000</td>\n",
       "      <td>6.000000</td>\n",
       "      <td>7.0</td>\n",
       "      <td>6.000000</td>\n",
       "      <td>7.000000</td>\n",
       "    </tr>\n",
       "    <tr>\n",
       "      <th>max</th>\n",
       "      <td>7.000000</td>\n",
       "      <td>NaN</td>\n",
       "      <td>7.000000</td>\n",
       "      <td>6.000000</td>\n",
       "      <td>7.0</td>\n",
       "      <td>7.000000</td>\n",
       "      <td>7.000000</td>\n",
       "      <td>7.0</td>\n",
       "      <td>7.000000</td>\n",
       "      <td>7.000000</td>\n",
       "    </tr>\n",
       "  </tbody>\n",
       "</table>\n",
       "</div>"
      ],
      "text/plain": [
       "             p01  p02       p06        p07   p08        p09        p10  p11  \\\n",
       "count  17.000000  0.0  6.000000  19.000000  14.0  14.000000  14.000000  1.0   \n",
       "mean    5.352941  NaN  4.666667   5.000000   7.0   6.857143   5.714286  7.0   \n",
       "std     0.861770  NaN  1.632993   0.745356   0.0   0.363137   0.726273  NaN   \n",
       "min     4.000000  NaN  2.000000   3.000000   7.0   6.000000   4.000000  7.0   \n",
       "25%     5.000000  NaN  4.250000   5.000000   7.0   7.000000   5.250000  7.0   \n",
       "50%     5.000000  NaN  5.000000   5.000000   7.0   7.000000   6.000000  7.0   \n",
       "75%     6.000000  NaN  5.000000   5.000000   7.0   7.000000   6.000000  7.0   \n",
       "max     7.000000  NaN  7.000000   6.000000   7.0   7.000000   7.000000  7.0   \n",
       "\n",
       "             p12       p17  \n",
       "count  13.000000  7.000000  \n",
       "mean    5.923077  6.571429  \n",
       "std     0.493548  1.133893  \n",
       "min     5.000000  4.000000  \n",
       "25%     6.000000  7.000000  \n",
       "50%     6.000000  7.000000  \n",
       "75%     6.000000  7.000000  \n",
       "max     7.000000  7.000000  "
      ]
     },
     "execution_count": 59,
     "metadata": {},
     "output_type": "execute_result"
    }
   ],
   "source": [
    "# productivity per version and participants needs to be fixed\n",
    "pd.concat([\n",
    "    exman_rating[exman_rating.PSNR == \"p01\"][\"rating\"].dropna().astype(int).describe(),\n",
    "    exman_rating[exman_rating.PSNR == \"p02\"][\"rating\"].dropna().astype(int).describe(),\n",
    "    exman_rating[exman_rating.PSNR == \"p06\"][\"rating\"].dropna().astype(int).describe(),\n",
    "    exman_rating[exman_rating.PSNR == \"p07\"][\"rating\"].dropna().astype(int).describe(),\n",
    "    exman_rating[exman_rating.PSNR == \"p08\"][\"rating\"].dropna().astype(int).describe(),\n",
    "    exman_rating[exman_rating.PSNR == \"p09\"][\"rating\"].dropna().astype(int).describe(),\n",
    "    exman_rating[exman_rating.PSNR == \"p10\"][\"rating\"].dropna().astype(int).describe(),\n",
    "    exman_rating[exman_rating.PSNR == \"p11\"][\"rating\"].dropna().astype(int).describe(),\n",
    "    exman_rating[exman_rating.PSNR == \"p12\"][\"rating\"].dropna().astype(int).describe(),\n",
    "    exman_rating[exman_rating.PSNR == \"p17\"][\"rating\"].dropna().astype(int).describe()\n",
    "],axis=1, keys= df.PSNR.unique())"
   ]
  },
  {
   "cell_type": "code",
   "execution_count": 60,
   "metadata": {},
   "outputs": [
    {
     "data": {
      "text/html": [
       "<div>\n",
       "<style scoped>\n",
       "    .dataframe tbody tr th:only-of-type {\n",
       "        vertical-align: middle;\n",
       "    }\n",
       "\n",
       "    .dataframe tbody tr th {\n",
       "        vertical-align: top;\n",
       "    }\n",
       "\n",
       "    .dataframe thead th {\n",
       "        text-align: right;\n",
       "    }\n",
       "</style>\n",
       "<table border=\"1\" class=\"dataframe\">\n",
       "  <thead>\n",
       "    <tr style=\"text-align: right;\">\n",
       "      <th></th>\n",
       "      <th>p01</th>\n",
       "      <th>p02</th>\n",
       "      <th>p06</th>\n",
       "      <th>p07</th>\n",
       "      <th>p08</th>\n",
       "      <th>p09</th>\n",
       "      <th>p10</th>\n",
       "      <th>p11</th>\n",
       "      <th>p12</th>\n",
       "      <th>p17</th>\n",
       "    </tr>\n",
       "  </thead>\n",
       "  <tbody>\n",
       "    <tr>\n",
       "      <th>count</th>\n",
       "      <td>13.000000</td>\n",
       "      <td>2.000000</td>\n",
       "      <td>5.000000</td>\n",
       "      <td>26.000000</td>\n",
       "      <td>22.000000</td>\n",
       "      <td>10.000000</td>\n",
       "      <td>3.000000</td>\n",
       "      <td>1.0</td>\n",
       "      <td>9.000000</td>\n",
       "      <td>9.000000</td>\n",
       "    </tr>\n",
       "    <tr>\n",
       "      <th>mean</th>\n",
       "      <td>5.923077</td>\n",
       "      <td>6.000000</td>\n",
       "      <td>3.400000</td>\n",
       "      <td>5.038462</td>\n",
       "      <td>6.636364</td>\n",
       "      <td>6.400000</td>\n",
       "      <td>6.333333</td>\n",
       "      <td>7.0</td>\n",
       "      <td>5.888889</td>\n",
       "      <td>5.333333</td>\n",
       "    </tr>\n",
       "    <tr>\n",
       "      <th>std</th>\n",
       "      <td>0.759555</td>\n",
       "      <td>1.414214</td>\n",
       "      <td>1.140175</td>\n",
       "      <td>0.720043</td>\n",
       "      <td>0.581087</td>\n",
       "      <td>0.966092</td>\n",
       "      <td>0.577350</td>\n",
       "      <td>NaN</td>\n",
       "      <td>0.781736</td>\n",
       "      <td>0.866025</td>\n",
       "    </tr>\n",
       "    <tr>\n",
       "      <th>min</th>\n",
       "      <td>4.000000</td>\n",
       "      <td>5.000000</td>\n",
       "      <td>2.000000</td>\n",
       "      <td>3.000000</td>\n",
       "      <td>5.000000</td>\n",
       "      <td>5.000000</td>\n",
       "      <td>6.000000</td>\n",
       "      <td>7.0</td>\n",
       "      <td>4.000000</td>\n",
       "      <td>4.000000</td>\n",
       "    </tr>\n",
       "    <tr>\n",
       "      <th>25%</th>\n",
       "      <td>6.000000</td>\n",
       "      <td>5.500000</td>\n",
       "      <td>3.000000</td>\n",
       "      <td>5.000000</td>\n",
       "      <td>6.000000</td>\n",
       "      <td>5.500000</td>\n",
       "      <td>6.000000</td>\n",
       "      <td>7.0</td>\n",
       "      <td>6.000000</td>\n",
       "      <td>5.000000</td>\n",
       "    </tr>\n",
       "    <tr>\n",
       "      <th>50%</th>\n",
       "      <td>6.000000</td>\n",
       "      <td>6.000000</td>\n",
       "      <td>3.000000</td>\n",
       "      <td>5.000000</td>\n",
       "      <td>7.000000</td>\n",
       "      <td>7.000000</td>\n",
       "      <td>6.000000</td>\n",
       "      <td>7.0</td>\n",
       "      <td>6.000000</td>\n",
       "      <td>5.000000</td>\n",
       "    </tr>\n",
       "    <tr>\n",
       "      <th>75%</th>\n",
       "      <td>6.000000</td>\n",
       "      <td>6.500000</td>\n",
       "      <td>4.000000</td>\n",
       "      <td>5.000000</td>\n",
       "      <td>7.000000</td>\n",
       "      <td>7.000000</td>\n",
       "      <td>6.500000</td>\n",
       "      <td>7.0</td>\n",
       "      <td>6.000000</td>\n",
       "      <td>6.000000</td>\n",
       "    </tr>\n",
       "    <tr>\n",
       "      <th>max</th>\n",
       "      <td>7.000000</td>\n",
       "      <td>7.000000</td>\n",
       "      <td>5.000000</td>\n",
       "      <td>6.000000</td>\n",
       "      <td>7.000000</td>\n",
       "      <td>7.000000</td>\n",
       "      <td>7.000000</td>\n",
       "      <td>7.0</td>\n",
       "      <td>7.000000</td>\n",
       "      <td>7.000000</td>\n",
       "    </tr>\n",
       "  </tbody>\n",
       "</table>\n",
       "</div>"
      ],
      "text/plain": [
       "             p01       p02       p06        p07        p08        p09  \\\n",
       "count  13.000000  2.000000  5.000000  26.000000  22.000000  10.000000   \n",
       "mean    5.923077  6.000000  3.400000   5.038462   6.636364   6.400000   \n",
       "std     0.759555  1.414214  1.140175   0.720043   0.581087   0.966092   \n",
       "min     4.000000  5.000000  2.000000   3.000000   5.000000   5.000000   \n",
       "25%     6.000000  5.500000  3.000000   5.000000   6.000000   5.500000   \n",
       "50%     6.000000  6.000000  3.000000   5.000000   7.000000   7.000000   \n",
       "75%     6.000000  6.500000  4.000000   5.000000   7.000000   7.000000   \n",
       "max     7.000000  7.000000  5.000000   6.000000   7.000000   7.000000   \n",
       "\n",
       "            p10  p11       p12       p17  \n",
       "count  3.000000  1.0  9.000000  9.000000  \n",
       "mean   6.333333  7.0  5.888889  5.333333  \n",
       "std    0.577350  NaN  0.781736  0.866025  \n",
       "min    6.000000  7.0  4.000000  4.000000  \n",
       "25%    6.000000  7.0  6.000000  5.000000  \n",
       "50%    6.000000  7.0  6.000000  5.000000  \n",
       "75%    6.500000  7.0  6.000000  6.000000  \n",
       "max    7.000000  7.0  7.000000  7.000000  "
      ]
     },
     "execution_count": 60,
     "metadata": {},
     "output_type": "execute_result"
    }
   ],
   "source": [
    "# productivity per version and participants needs to be fixed\n",
    "pd.concat([\n",
    "    pomodoro_rating[pomodoro_rating.PSNR == \"p01\"][\"rating\"].dropna().astype(int).describe(),\n",
    "    pomodoro_rating[pomodoro_rating.PSNR == \"p02\"][\"rating\"].dropna().astype(int).describe(),\n",
    "    pomodoro_rating[pomodoro_rating.PSNR == \"p06\"][\"rating\"].dropna().astype(int).describe(),\n",
    "    pomodoro_rating[pomodoro_rating.PSNR == \"p07\"][\"rating\"].dropna().astype(int).describe(),\n",
    "    pomodoro_rating[pomodoro_rating.PSNR == \"p08\"][\"rating\"].dropna().astype(int).describe(),\n",
    "    pomodoro_rating[pomodoro_rating.PSNR == \"p09\"][\"rating\"].dropna().astype(int).describe(),\n",
    "    pomodoro_rating[pomodoro_rating.PSNR == \"p10\"][\"rating\"].dropna().astype(int).describe(),\n",
    "    pomodoro_rating[pomodoro_rating.PSNR == \"p11\"][\"rating\"].dropna().astype(int).describe(),\n",
    "    pomodoro_rating[pomodoro_rating.PSNR == \"p12\"][\"rating\"].dropna().astype(int).describe(),\n",
    "    pomodoro_rating[pomodoro_rating.PSNR == \"p17\"][\"rating\"].dropna().astype(int).describe()\n",
    "],axis=1, keys= df.PSNR.unique())"
   ]
  },
  {
   "cell_type": "code",
   "execution_count": 61,
   "metadata": {},
   "outputs": [],
   "source": [
    "df[df[\"brokenFocusPerHour\"] < 16.5]['brokenFocusPerHour']\n",
    "\n",
    "p1_rating = df[df.PSNR == \"p01\"][\"rating\"].dropna().astype(int)\n",
    "p7_rating = df[df.PSNR == \"p07\"][\"rating\"].dropna().astype(int)\n",
    "p8_rating = df[df.PSNR == \"p08\"][\"rating\"].dropna().astype(int)\n",
    "\n",
    "p1_broken = df[df.PSNR == \"p01\"][\"percentageCompletedGoals\"].dropna().astype(int)\n",
    "p7_broken = df[df.PSNR == \"p07\"][\"percentageCompletedGoals\"].dropna().astype(int)\n",
    "p8_broken = df[df.PSNR == \"p08\"][\"percentageCompletedGoals\"].dropna().astype(int)\n",
    "\n",
    "#filter for the best results"
   ]
  },
  {
   "cell_type": "code",
   "execution_count": 62,
   "metadata": {},
   "outputs": [
    {
     "data": {
      "text/plain": [
       "[<matplotlib.lines.Line2D at 0x1c66b05d888>]"
      ]
     },
     "execution_count": 62,
     "metadata": {},
     "output_type": "execute_result"
    },
    {
     "data": {
      "image/png": "[encoded data removed]",
      "text/plain": [
       "<Figure size 1080x360 with 3 Axes>"
      ]
     },
     "metadata": {
      "needs_background": "light"
     },
     "output_type": "display_data"
    }
   ],
   "source": [
    "fig, (ax1,ax2,ax3) = plt.subplots(1, 3,figsize=(15,5))\n",
    "\n",
    "ax1.plot([i for i in range(len(p1_rating))],p1_rating)\n",
    "ax2.plot([i for i in range(len(p7_rating))],p7_rating)\n",
    "ax3.plot([i for i in range(len(p8_rating))],p8_rating)"
   ]
  },
  {
   "cell_type": "code",
   "execution_count": 63,
   "metadata": {},
   "outputs": [
    {
     "data": {
      "text/plain": [
       "[<matplotlib.lines.Line2D at 0x1c66a5a8248>]"
      ]
     },
     "execution_count": 63,
     "metadata": {},
     "output_type": "execute_result"
    },
    {
     "data": {
      "image/png": "[encoded data removed]",
      "text/plain": [
       "<Figure size 1080x360 with 3 Axes>"
      ]
     },
     "metadata": {
      "needs_background": "light"
     },
     "output_type": "display_data"
    }
   ],
   "source": [
    "fig, (ax1,ax2,ax3) = plt.subplots(1, 3,figsize=(15,5))\n",
    "\n",
    "ax1.plot([i for i in range(len(p1_broken))],p1_broken)\n",
    "ax2.plot([i for i in range(len(p7_broken))],p7_broken)\n",
    "ax3.plot([i for i in range(len(p8_broken))],p8_broken)\n",
    "\n",
    "#look at the dates do a plot to do frequency of focus session per date"
   ]
  },
  {
   "cell_type": "markdown",
   "metadata": {},
   "source": [
    "Overall participants have consistent behaviour over the study duration."
   ]
  },
  {
   "cell_type": "code",
   "execution_count": 64,
   "metadata": {},
   "outputs": [],
   "source": [
    "exman_p1 = exman_rating[exman_rating.PSNR == \"p01\" ][\"percentageCompletedGoals\"].astype(int)\n",
    "exman_p9 = exman_rating[exman_rating.PSNR == \"p09\"][\"percentageCompletedGoals\"].astype(int)\n",
    "exman_p12 = exman_rating[exman_rating.PSNR == \"p12\"][\"percentageCompletedGoals\"].astype(int)\n",
    "\n",
    "pomodoro_p1 = pomodoro_rating[pomodoro_rating.PSNR == \"p01\"][\"percentageCompletedGoals\"].astype(int)\n",
    "pomodoro_p9 = pomodoro_rating[pomodoro_rating.PSNR == \"p09\"][\"percentageCompletedGoals\"].astype(int)\n",
    "pomodoro_p12 = pomodoro_rating[pomodoro_rating.PSNR == \"p12\"][\"percentageCompletedGoals\"].astype(int)"
   ]
  },
  {
   "cell_type": "code",
   "execution_count": 65,
   "metadata": {},
   "outputs": [
    {
     "name": "stdout",
     "output_type": "stream",
     "text": [
      "P-Value:0.962470607973432 T-Statistic:0.047511433814557816\n"
     ]
    }
   ],
   "source": [
    "tStat, pValue = stats.ttest_ind(exman_p1, pomodoro_p1, equal_var = False)\n",
    "print(\"P-Value:{0} T-Statistic:{1}\".format(pValue,tStat))"
   ]
  },
  {
   "cell_type": "code",
   "execution_count": 66,
   "metadata": {},
   "outputs": [
    {
     "name": "stdout",
     "output_type": "stream",
     "text": [
      "P-Value:0.36380663487825127 T-Statistic:0.9330373577035522\n"
     ]
    }
   ],
   "source": [
    "tStat, pValue = stats.ttest_ind(exman_p9, pomodoro_p9, equal_var = False)\n",
    "print(\"P-Value:{0} T-Statistic:{1}\".format(pValue,tStat))"
   ]
  },
  {
   "cell_type": "code",
   "execution_count": 67,
   "metadata": {},
   "outputs": [
    {
     "name": "stdout",
     "output_type": "stream",
     "text": [
      "P-Value:0.16540670552301784 T-Statistic:1.477097891751993\n"
     ]
    }
   ],
   "source": [
    "tStat, pValue = stats.ttest_ind(exman_p12, pomodoro_p12, equal_var = False)\n",
    "print(\"P-Value:{0} T-Statistic:{1}\".format(pValue,tStat))"
   ]
  }
 ],
 "metadata": {
  "kernelspec": {
   "display_name": "Python 3",
   "language": "python",
   "name": "python3"
  },
  "language_info": {
   "codemirror_mode": {
    "name": "ipython",
    "version": 3
   },
   "file_extension": ".py",
   "mimetype": "text/x-python",
   "name": "python",
   "nbconvert_exporter": "python",
   "pygments_lexer": "ipython3",
   "version": "3.7.7"
  }
 },
 "nbformat": 4,
 "nbformat_minor": 4
}
