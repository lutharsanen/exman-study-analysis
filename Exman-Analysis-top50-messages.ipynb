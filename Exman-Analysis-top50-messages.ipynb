{
 "cells": [
  {
   "cell_type": "code",
   "execution_count": 1,
   "metadata": {},
   "outputs": [],
   "source": [
    "import json\n",
    "import numpy as np\n",
    "import matplotlib.pyplot as plt\n",
    "import pandas as pd\n",
    "import scipy.stats"
   ]
  },
  {
   "cell_type": "markdown",
   "metadata": {},
   "source": [
    "<h1> Research Questions </h1>"
   ]
  },
  {
   "cell_type": "code",
   "execution_count": 2,
   "metadata": {},
   "outputs": [],
   "source": [
    "df = pd.read_pickle(\"./pickle/df_top100.pkl\")\n",
    "exman = pd.read_pickle(\"./pickle/exman_top50.pkl\")\n",
    "pomodoro = pd.read_pickle(\"./pickle/pomodoro_top50.pkl\")"
   ]
  },
  {
   "cell_type": "code",
   "execution_count": 3,
   "metadata": {},
   "outputs": [],
   "source": [
    "def normalize_data(data_input, normalizer, data_output, df):\n",
    "    df[data_output] = df[data_input]/df[normalizer]*60"
   ]
  },
  {
   "cell_type": "code",
   "execution_count": 4,
   "metadata": {},
   "outputs": [],
   "source": [
    "def get_comparison_summary(parameter):\n",
    "    return pd.concat([pomodoro[parameter].describe(),exman[parameter].describe()],axis=1,keys=[\"pomodoro\",\"exman\"])"
   ]
  },
  {
   "cell_type": "markdown",
   "metadata": {},
   "source": [
    "<h2>What is the effect of notification blocking and distraction discouragements during a user defined time period on their perceived productivity?</h2>\n"
   ]
  },
  {
   "cell_type": "markdown",
   "metadata": {},
   "source": [
    "<h4>goals achieved</h4>"
   ]
  },
  {
   "cell_type": "code",
   "execution_count": 5,
   "metadata": {},
   "outputs": [],
   "source": [
    "normalize_data(\"goalsAchieved\",\"minutesInFocus\",\"goalsAchievedPerHour\", exman)\n",
    "normalize_data(\"goalsAchieved\",\"minutesInFocus\",\"goalsAchievedPerHour\", pomodoro)\n",
    "normalize_data(\"goalsAchieved\",\"minutesInFocus\",\"goalsAchievedPerHour\", df)"
   ]
  },
  {
   "cell_type": "code",
   "execution_count": 6,
   "metadata": {},
   "outputs": [
    {
     "data": {
      "text/plain": [
       "1.5325573859843704"
      ]
     },
     "execution_count": 6,
     "metadata": {},
     "output_type": "execute_result"
    }
   ],
   "source": [
    "exman[\"goalsAchievedPerHour\"].mean()"
   ]
  },
  {
   "cell_type": "code",
   "execution_count": 7,
   "metadata": {},
   "outputs": [
    {
     "data": {
      "text/plain": [
       "1.1990577019461512"
      ]
     },
     "execution_count": 7,
     "metadata": {},
     "output_type": "execute_result"
    }
   ],
   "source": [
    "pomodoro[\"goalsAchievedPerHour\"].mean()"
   ]
  },
  {
   "cell_type": "code",
   "execution_count": 8,
   "metadata": {},
   "outputs": [
    {
     "data": {
      "image/png": "[encoded data removed]",
      "text/plain": [
       "<Figure size 432x288 with 1 Axes>"
      ]
     },
     "metadata": {
      "needs_background": "light"
     },
     "output_type": "display_data"
    }
   ],
   "source": [
    "plt.scatter(exman[\"minutesInFocus\"],exman[\"goalsAchieved\"],label=\"exman\")\n",
    "plt.scatter(pomodoro[\"minutesInFocus\"],pomodoro[\"goalsAchieved\"], label=\"pomodoro\")\n",
    "plt.legend()\n",
    "\n",
    "slope, intercept, r, p, stderr = scipy.stats.linregress(exman[\"minutesInFocus\"], exman[\"goalsAchieved\"])\n",
    "plt.plot(exman[\"minutesInFocus\"], intercept + slope * exman[\"minutesInFocus\"])\n",
    "\n",
    "slope, intercept, r, p, stderr = scipy.stats.linregress(pomodoro[\"minutesInFocus\"], pomodoro[\"goalsAchieved\"])\n",
    "plt.plot(pomodoro[\"minutesInFocus\"], intercept + slope * pomodoro[\"minutesInFocus\"])\n",
    "\n",
    "plt.xlabel(\"minutes\")\n",
    "plt.ylabel(\"goals\")\n",
    "\n",
    "plt.show()"
   ]
  },
  {
   "cell_type": "code",
   "execution_count": 9,
   "metadata": {},
   "outputs": [
    {
     "data": {
      "image/png": "[encoded data removed]",
      "text/plain": [
       "<Figure size 432x288 with 1 Axes>"
      ]
     },
     "metadata": {
      "needs_background": "light"
     },
     "output_type": "display_data"
    }
   ],
   "source": [
    "x = [list(exman[\"goalsAchievedPerHour\"]),list(pomodoro[\"goalsAchievedPerHour\"])]\n",
    "\n",
    "label = [\"exman\",\"pormodoro\"]\n",
    "colors = ['red', 'blue']\n",
    "plt.hist(x, histtype='bar', color=colors, label=label)\n",
    "plt.legend(prop={'size': 10})\n",
    "plt.title('bars with legend')\n",
    "\n",
    "\n",
    "plt.show()"
   ]
  },
  {
   "cell_type": "code",
   "execution_count": 10,
   "metadata": {},
   "outputs": [
    {
     "data": {
      "text/html": [
       "<div>\n",
       "<style scoped>\n",
       "    .dataframe tbody tr th:only-of-type {\n",
       "        vertical-align: middle;\n",
       "    }\n",
       "\n",
       "    .dataframe tbody tr th {\n",
       "        vertical-align: top;\n",
       "    }\n",
       "\n",
       "    .dataframe thead th {\n",
       "        text-align: right;\n",
       "    }\n",
       "</style>\n",
       "<table border=\"1\" class=\"dataframe\">\n",
       "  <thead>\n",
       "    <tr style=\"text-align: right;\">\n",
       "      <th></th>\n",
       "      <th>PSNR</th>\n",
       "      <th>goalsAchieved</th>\n",
       "      <th>goalsAchievedPerHour</th>\n",
       "      <th>percentageCompletedGoals</th>\n",
       "      <th>minutesInFocus</th>\n",
       "    </tr>\n",
       "  </thead>\n",
       "  <tbody>\n",
       "    <tr>\n",
       "      <th>184</th>\n",
       "      <td>p11</td>\n",
       "      <td>0</td>\n",
       "      <td>0.000000</td>\n",
       "      <td>0.00</td>\n",
       "      <td>40.00</td>\n",
       "    </tr>\n",
       "    <tr>\n",
       "      <th>199</th>\n",
       "      <td>p12</td>\n",
       "      <td>0</td>\n",
       "      <td>0.000000</td>\n",
       "      <td>0.00</td>\n",
       "      <td>25.00</td>\n",
       "    </tr>\n",
       "    <tr>\n",
       "      <th>194</th>\n",
       "      <td>p12</td>\n",
       "      <td>0</td>\n",
       "      <td>0.000000</td>\n",
       "      <td>0.00</td>\n",
       "      <td>25.00</td>\n",
       "    </tr>\n",
       "    <tr>\n",
       "      <th>5</th>\n",
       "      <td>p01</td>\n",
       "      <td>0</td>\n",
       "      <td>0.000000</td>\n",
       "      <td>0.00</td>\n",
       "      <td>25.00</td>\n",
       "    </tr>\n",
       "    <tr>\n",
       "      <th>222</th>\n",
       "      <td>p17</td>\n",
       "      <td>1</td>\n",
       "      <td>0.500000</td>\n",
       "      <td>0.50</td>\n",
       "      <td>120.00</td>\n",
       "    </tr>\n",
       "    <tr>\n",
       "      <th>79</th>\n",
       "      <td>p07</td>\n",
       "      <td>1</td>\n",
       "      <td>0.668747</td>\n",
       "      <td>0.50</td>\n",
       "      <td>89.72</td>\n",
       "    </tr>\n",
       "    <tr>\n",
       "      <th>9</th>\n",
       "      <td>p01</td>\n",
       "      <td>1</td>\n",
       "      <td>1.500000</td>\n",
       "      <td>1.00</td>\n",
       "      <td>40.00</td>\n",
       "    </tr>\n",
       "    <tr>\n",
       "      <th>144</th>\n",
       "      <td>p09</td>\n",
       "      <td>1</td>\n",
       "      <td>1.500000</td>\n",
       "      <td>1.00</td>\n",
       "      <td>40.00</td>\n",
       "    </tr>\n",
       "    <tr>\n",
       "      <th>10</th>\n",
       "      <td>p01</td>\n",
       "      <td>1</td>\n",
       "      <td>1.500000</td>\n",
       "      <td>1.00</td>\n",
       "      <td>40.00</td>\n",
       "    </tr>\n",
       "    <tr>\n",
       "      <th>137</th>\n",
       "      <td>p09</td>\n",
       "      <td>1</td>\n",
       "      <td>1.748761</td>\n",
       "      <td>1.00</td>\n",
       "      <td>34.31</td>\n",
       "    </tr>\n",
       "    <tr>\n",
       "      <th>89</th>\n",
       "      <td>p07</td>\n",
       "      <td>3</td>\n",
       "      <td>1.763668</td>\n",
       "      <td>0.75</td>\n",
       "      <td>102.06</td>\n",
       "    </tr>\n",
       "    <tr>\n",
       "      <th>143</th>\n",
       "      <td>p09</td>\n",
       "      <td>2</td>\n",
       "      <td>1.808046</td>\n",
       "      <td>1.00</td>\n",
       "      <td>66.37</td>\n",
       "    </tr>\n",
       "    <tr>\n",
       "      <th>150</th>\n",
       "      <td>p09</td>\n",
       "      <td>1</td>\n",
       "      <td>2.400000</td>\n",
       "      <td>1.00</td>\n",
       "      <td>25.00</td>\n",
       "    </tr>\n",
       "    <tr>\n",
       "      <th>124</th>\n",
       "      <td>p08</td>\n",
       "      <td>1</td>\n",
       "      <td>2.400000</td>\n",
       "      <td>1.00</td>\n",
       "      <td>25.00</td>\n",
       "    </tr>\n",
       "    <tr>\n",
       "      <th>11</th>\n",
       "      <td>p01</td>\n",
       "      <td>1</td>\n",
       "      <td>2.400000</td>\n",
       "      <td>1.00</td>\n",
       "      <td>25.00</td>\n",
       "    </tr>\n",
       "    <tr>\n",
       "      <th>16</th>\n",
       "      <td>p01</td>\n",
       "      <td>1</td>\n",
       "      <td>2.400000</td>\n",
       "      <td>1.00</td>\n",
       "      <td>25.00</td>\n",
       "    </tr>\n",
       "    <tr>\n",
       "      <th>166</th>\n",
       "      <td>p10</td>\n",
       "      <td>3</td>\n",
       "      <td>4.000000</td>\n",
       "      <td>1.00</td>\n",
       "      <td>45.00</td>\n",
       "    </tr>\n",
       "    <tr>\n",
       "      <th>14</th>\n",
       "      <td>p01</td>\n",
       "      <td>1</td>\n",
       "      <td>4.000000</td>\n",
       "      <td>1.00</td>\n",
       "      <td>15.00</td>\n",
       "    </tr>\n",
       "    <tr>\n",
       "      <th>169</th>\n",
       "      <td>p10</td>\n",
       "      <td>3</td>\n",
       "      <td>4.090909</td>\n",
       "      <td>1.00</td>\n",
       "      <td>44.00</td>\n",
       "    </tr>\n",
       "    <tr>\n",
       "      <th>140</th>\n",
       "      <td>p09</td>\n",
       "      <td>1</td>\n",
       "      <td>5.633803</td>\n",
       "      <td>1.00</td>\n",
       "      <td>10.65</td>\n",
       "    </tr>\n",
       "  </tbody>\n",
       "</table>\n",
       "</div>"
      ],
      "text/plain": [
       "    PSNR  goalsAchieved  goalsAchievedPerHour  percentageCompletedGoals  \\\n",
       "184  p11              0              0.000000                      0.00   \n",
       "199  p12              0              0.000000                      0.00   \n",
       "194  p12              0              0.000000                      0.00   \n",
       "5    p01              0              0.000000                      0.00   \n",
       "222  p17              1              0.500000                      0.50   \n",
       "79   p07              1              0.668747                      0.50   \n",
       "9    p01              1              1.500000                      1.00   \n",
       "144  p09              1              1.500000                      1.00   \n",
       "10   p01              1              1.500000                      1.00   \n",
       "137  p09              1              1.748761                      1.00   \n",
       "89   p07              3              1.763668                      0.75   \n",
       "143  p09              2              1.808046                      1.00   \n",
       "150  p09              1              2.400000                      1.00   \n",
       "124  p08              1              2.400000                      1.00   \n",
       "11   p01              1              2.400000                      1.00   \n",
       "16   p01              1              2.400000                      1.00   \n",
       "166  p10              3              4.000000                      1.00   \n",
       "14   p01              1              4.000000                      1.00   \n",
       "169  p10              3              4.090909                      1.00   \n",
       "140  p09              1              5.633803                      1.00   \n",
       "\n",
       "     minutesInFocus  \n",
       "184           40.00  \n",
       "199           25.00  \n",
       "194           25.00  \n",
       "5             25.00  \n",
       "222          120.00  \n",
       "79            89.72  \n",
       "9             40.00  \n",
       "144           40.00  \n",
       "10            40.00  \n",
       "137           34.31  \n",
       "89           102.06  \n",
       "143           66.37  \n",
       "150           25.00  \n",
       "124           25.00  \n",
       "11            25.00  \n",
       "16            25.00  \n",
       "166           45.00  \n",
       "14            15.00  \n",
       "169           44.00  \n",
       "140           10.65  "
      ]
     },
     "execution_count": 10,
     "metadata": {},
     "output_type": "execute_result"
    }
   ],
   "source": [
    "exman[[\"PSNR\", \"goalsAchieved\", \"goalsAchievedPerHour\", \"percentageCompletedGoals\", \"minutesInFocus\"]].sort_values(\"goalsAchievedPerHour\").tail(20)"
   ]
  },
  {
   "cell_type": "code",
   "execution_count": 11,
   "metadata": {},
   "outputs": [
    {
     "data": {
      "text/html": [
       "<div>\n",
       "<style scoped>\n",
       "    .dataframe tbody tr th:only-of-type {\n",
       "        vertical-align: middle;\n",
       "    }\n",
       "\n",
       "    .dataframe tbody tr th {\n",
       "        vertical-align: top;\n",
       "    }\n",
       "\n",
       "    .dataframe thead th {\n",
       "        text-align: right;\n",
       "    }\n",
       "</style>\n",
       "<table border=\"1\" class=\"dataframe\">\n",
       "  <thead>\n",
       "    <tr style=\"text-align: right;\">\n",
       "      <th></th>\n",
       "      <th>PSNR</th>\n",
       "      <th>goalsAchieved</th>\n",
       "      <th>goalsAchievedPerHour</th>\n",
       "      <th>percentageCompletedGoals</th>\n",
       "      <th>minutesInFocus</th>\n",
       "    </tr>\n",
       "  </thead>\n",
       "  <tbody>\n",
       "    <tr>\n",
       "      <th>209</th>\n",
       "      <td>p12</td>\n",
       "      <td>0</td>\n",
       "      <td>0.000000</td>\n",
       "      <td>0.00</td>\n",
       "      <td>25.00</td>\n",
       "    </tr>\n",
       "    <tr>\n",
       "      <th>33</th>\n",
       "      <td>p01</td>\n",
       "      <td>0</td>\n",
       "      <td>0.000000</td>\n",
       "      <td>0.00</td>\n",
       "      <td>25.00</td>\n",
       "    </tr>\n",
       "    <tr>\n",
       "      <th>202</th>\n",
       "      <td>p12</td>\n",
       "      <td>0</td>\n",
       "      <td>0.000000</td>\n",
       "      <td>0.00</td>\n",
       "      <td>15.00</td>\n",
       "    </tr>\n",
       "    <tr>\n",
       "      <th>153</th>\n",
       "      <td>p09</td>\n",
       "      <td>0</td>\n",
       "      <td>0.000000</td>\n",
       "      <td>0.00</td>\n",
       "      <td>40.00</td>\n",
       "    </tr>\n",
       "    <tr>\n",
       "      <th>204</th>\n",
       "      <td>p12</td>\n",
       "      <td>0</td>\n",
       "      <td>0.000000</td>\n",
       "      <td>0.00</td>\n",
       "      <td>25.00</td>\n",
       "    </tr>\n",
       "    <tr>\n",
       "      <th>217</th>\n",
       "      <td>p17</td>\n",
       "      <td>2</td>\n",
       "      <td>1.000000</td>\n",
       "      <td>0.67</td>\n",
       "      <td>120.00</td>\n",
       "    </tr>\n",
       "    <tr>\n",
       "      <th>213</th>\n",
       "      <td>p17</td>\n",
       "      <td>1</td>\n",
       "      <td>1.090909</td>\n",
       "      <td>0.50</td>\n",
       "      <td>55.00</td>\n",
       "    </tr>\n",
       "    <tr>\n",
       "      <th>53</th>\n",
       "      <td>p07</td>\n",
       "      <td>1</td>\n",
       "      <td>1.098499</td>\n",
       "      <td>1.00</td>\n",
       "      <td>54.62</td>\n",
       "    </tr>\n",
       "    <tr>\n",
       "      <th>102</th>\n",
       "      <td>p08</td>\n",
       "      <td>1</td>\n",
       "      <td>1.200000</td>\n",
       "      <td>1.00</td>\n",
       "      <td>50.00</td>\n",
       "    </tr>\n",
       "    <tr>\n",
       "      <th>162</th>\n",
       "      <td>p09</td>\n",
       "      <td>1</td>\n",
       "      <td>1.429593</td>\n",
       "      <td>1.00</td>\n",
       "      <td>41.97</td>\n",
       "    </tr>\n",
       "    <tr>\n",
       "      <th>212</th>\n",
       "      <td>p17</td>\n",
       "      <td>2</td>\n",
       "      <td>1.500000</td>\n",
       "      <td>0.33</td>\n",
       "      <td>80.00</td>\n",
       "    </tr>\n",
       "    <tr>\n",
       "      <th>103</th>\n",
       "      <td>p08</td>\n",
       "      <td>1</td>\n",
       "      <td>1.500000</td>\n",
       "      <td>1.00</td>\n",
       "      <td>40.00</td>\n",
       "    </tr>\n",
       "    <tr>\n",
       "      <th>46</th>\n",
       "      <td>p06</td>\n",
       "      <td>1</td>\n",
       "      <td>1.500000</td>\n",
       "      <td>1.00</td>\n",
       "      <td>40.00</td>\n",
       "    </tr>\n",
       "    <tr>\n",
       "      <th>47</th>\n",
       "      <td>p06</td>\n",
       "      <td>1</td>\n",
       "      <td>1.500000</td>\n",
       "      <td>1.00</td>\n",
       "      <td>40.00</td>\n",
       "    </tr>\n",
       "    <tr>\n",
       "      <th>20</th>\n",
       "      <td>p01</td>\n",
       "      <td>3</td>\n",
       "      <td>1.622938</td>\n",
       "      <td>1.00</td>\n",
       "      <td>110.91</td>\n",
       "    </tr>\n",
       "    <tr>\n",
       "      <th>23</th>\n",
       "      <td>p01</td>\n",
       "      <td>4</td>\n",
       "      <td>2.336676</td>\n",
       "      <td>1.00</td>\n",
       "      <td>102.71</td>\n",
       "    </tr>\n",
       "    <tr>\n",
       "      <th>120</th>\n",
       "      <td>p08</td>\n",
       "      <td>1</td>\n",
       "      <td>2.400000</td>\n",
       "      <td>1.00</td>\n",
       "      <td>25.00</td>\n",
       "    </tr>\n",
       "    <tr>\n",
       "      <th>34</th>\n",
       "      <td>p02</td>\n",
       "      <td>1</td>\n",
       "      <td>3.296703</td>\n",
       "      <td>1.00</td>\n",
       "      <td>18.20</td>\n",
       "    </tr>\n",
       "    <tr>\n",
       "      <th>28</th>\n",
       "      <td>p01</td>\n",
       "      <td>1</td>\n",
       "      <td>4.000000</td>\n",
       "      <td>1.00</td>\n",
       "      <td>15.00</td>\n",
       "    </tr>\n",
       "    <tr>\n",
       "      <th>211</th>\n",
       "      <td>p17</td>\n",
       "      <td>4</td>\n",
       "      <td>4.501125</td>\n",
       "      <td>1.00</td>\n",
       "      <td>53.32</td>\n",
       "    </tr>\n",
       "  </tbody>\n",
       "</table>\n",
       "</div>"
      ],
      "text/plain": [
       "    PSNR  goalsAchieved  goalsAchievedPerHour  percentageCompletedGoals  \\\n",
       "209  p12              0              0.000000                      0.00   \n",
       "33   p01              0              0.000000                      0.00   \n",
       "202  p12              0              0.000000                      0.00   \n",
       "153  p09              0              0.000000                      0.00   \n",
       "204  p12              0              0.000000                      0.00   \n",
       "217  p17              2              1.000000                      0.67   \n",
       "213  p17              1              1.090909                      0.50   \n",
       "53   p07              1              1.098499                      1.00   \n",
       "102  p08              1              1.200000                      1.00   \n",
       "162  p09              1              1.429593                      1.00   \n",
       "212  p17              2              1.500000                      0.33   \n",
       "103  p08              1              1.500000                      1.00   \n",
       "46   p06              1              1.500000                      1.00   \n",
       "47   p06              1              1.500000                      1.00   \n",
       "20   p01              3              1.622938                      1.00   \n",
       "23   p01              4              2.336676                      1.00   \n",
       "120  p08              1              2.400000                      1.00   \n",
       "34   p02              1              3.296703                      1.00   \n",
       "28   p01              1              4.000000                      1.00   \n",
       "211  p17              4              4.501125                      1.00   \n",
       "\n",
       "     minutesInFocus  \n",
       "209           25.00  \n",
       "33            25.00  \n",
       "202           15.00  \n",
       "153           40.00  \n",
       "204           25.00  \n",
       "217          120.00  \n",
       "213           55.00  \n",
       "53            54.62  \n",
       "102           50.00  \n",
       "162           41.97  \n",
       "212           80.00  \n",
       "103           40.00  \n",
       "46            40.00  \n",
       "47            40.00  \n",
       "20           110.91  \n",
       "23           102.71  \n",
       "120           25.00  \n",
       "34            18.20  \n",
       "28            15.00  \n",
       "211           53.32  "
      ]
     },
     "execution_count": 11,
     "metadata": {},
     "output_type": "execute_result"
    }
   ],
   "source": [
    "pomodoro[[\"PSNR\", \"goalsAchieved\", \"goalsAchievedPerHour\", \"percentageCompletedGoals\", \"minutesInFocus\"]].sort_values(\"goalsAchievedPerHour\").tail(20)"
   ]
  },
  {
   "cell_type": "code",
   "execution_count": 12,
   "metadata": {},
   "outputs": [
    {
     "name": "stdout",
     "output_type": "stream",
     "text": [
      "exman:  41.375600000000006\n",
      "pomodoro:  46.2692\n"
     ]
    }
   ],
   "source": [
    "print(\"exman: \",exman[ \"minutesInFocus\"].mean())\n",
    "print(\"pomodoro: \",pomodoro[ \"minutesInFocus\"].mean())"
   ]
  },
  {
   "cell_type": "code",
   "execution_count": 13,
   "metadata": {},
   "outputs": [
    {
     "data": {
      "image/png": "[encoded data removed]",
      "text/plain": [
       "<Figure size 432x288 with 1 Axes>"
      ]
     },
     "metadata": {
      "needs_background": "light"
     },
     "output_type": "display_data"
    }
   ],
   "source": [
    "x = [list(exman[\"goalsSet\"]),list(pomodoro[\"goalsSet\"])]\n",
    "\n",
    "label = [\"exman\",\"pormodoro\"]\n",
    "colors = ['red', 'blue']\n",
    "plt.hist(x, histtype='bar', color=colors, label=label)\n",
    "plt.legend(prop={'size': 10})\n",
    "plt.title('bars with legend')\n",
    "\n",
    "\n",
    "plt.show()"
   ]
  },
  {
   "cell_type": "code",
   "execution_count": 14,
   "metadata": {},
   "outputs": [
    {
     "name": "stdout",
     "output_type": "stream",
     "text": [
      "P-Value:0.4241051136153927 T-Statistic:0.806481859642436\n"
     ]
    }
   ],
   "source": [
    "from scipy import stats\n",
    "tStat, pValue = stats.ttest_ind(exman[\"goalsAchievedPerHour\"], pomodoro[\"goalsAchievedPerHour\"], equal_var = False)\n",
    "print(\"P-Value:{0} T-Statistic:{1}\".format(pValue,tStat))"
   ]
  },
  {
   "cell_type": "markdown",
   "metadata": {},
   "source": [
    "The p-value is not significant."
   ]
  },
  {
   "cell_type": "markdown",
   "metadata": {},
   "source": [
    "<h4>finished vs total Goals</h4>"
   ]
  },
  {
   "cell_type": "code",
   "execution_count": 15,
   "metadata": {},
   "outputs": [
    {
     "data": {
      "text/plain": [
       "0.59"
      ]
     },
     "execution_count": 15,
     "metadata": {},
     "output_type": "execute_result"
    }
   ],
   "source": [
    "exman[\"percentageCompletedGoals\"].mean()"
   ]
  },
  {
   "cell_type": "code",
   "execution_count": 16,
   "metadata": {},
   "outputs": [
    {
     "data": {
      "text/plain": [
       "0.54"
      ]
     },
     "execution_count": 16,
     "metadata": {},
     "output_type": "execute_result"
    }
   ],
   "source": [
    "pomodoro[\"percentageCompletedGoals\"].mean()"
   ]
  },
  {
   "cell_type": "code",
   "execution_count": 17,
   "metadata": {},
   "outputs": [
    {
     "name": "stdout",
     "output_type": "stream",
     "text": [
      "P-Value:0.7120166188917119 T-Statistic:0.37134287437112523\n"
     ]
    }
   ],
   "source": [
    "from scipy import stats\n",
    "tStat, pValue = stats.ttest_ind(exman[\"percentageCompletedGoals\"], pomodoro[\"percentageCompletedGoals\"], equal_var = False)\n",
    "print(\"P-Value:{0} T-Statistic:{1}\".format(pValue,tStat))"
   ]
  },
  {
   "cell_type": "markdown",
   "metadata": {},
   "source": [
    "<h4> Broken Focus per hour </h4>"
   ]
  },
  {
   "cell_type": "code",
   "execution_count": 18,
   "metadata": {},
   "outputs": [],
   "source": [
    "normalize_data(\"brokenFocus\",\"minutesInFocus\",\"brokenFocusPerHour\", exman)\n",
    "normalize_data(\"brokenFocus\",\"minutesInFocus\",\"brokenFocusPerHour\", pomodoro)\n",
    "normalize_data(\"brokenFocus\",\"minutesInFocus\",\"brokenFocusPerHour\", df)"
   ]
  },
  {
   "cell_type": "code",
   "execution_count": 19,
   "metadata": {},
   "outputs": [
    {
     "data": {
      "text/plain": [
       "1.0083301611428128"
      ]
     },
     "execution_count": 19,
     "metadata": {},
     "output_type": "execute_result"
    }
   ],
   "source": [
    "exman[\"brokenFocusPerHour\"].mean()"
   ]
  },
  {
   "cell_type": "code",
   "execution_count": 20,
   "metadata": {},
   "outputs": [
    {
     "data": {
      "text/plain": [
       "6.8502006108446105"
      ]
     },
     "execution_count": 20,
     "metadata": {},
     "output_type": "execute_result"
    }
   ],
   "source": [
    "pomodoro[\"brokenFocusPerHour\"].mean()"
   ]
  },
  {
   "cell_type": "code",
   "execution_count": 21,
   "metadata": {},
   "outputs": [
    {
     "data": {
      "image/png": "[encoded data removed]",
      "text/plain": [
       "<Figure size 432x288 with 1 Axes>"
      ]
     },
     "metadata": {
      "needs_background": "light"
     },
     "output_type": "display_data"
    }
   ],
   "source": [
    "x = [list(exman[\"brokenFocusPerHour\"]),list(pomodoro[\"brokenFocusPerHour\"])]\n",
    "\n",
    "label = [\"exman\",\"pormodoro\"]\n",
    "colors = ['red', 'blue']\n",
    "plt.hist(x, histtype='bar', color=colors, label=label)\n",
    "plt.legend(prop={'size': 10})\n",
    "\n",
    "plt.xlabel(\"broken focus in minutes during focus\")\n",
    "\n",
    "plt.show()"
   ]
  },
  {
   "cell_type": "code",
   "execution_count": 22,
   "metadata": {},
   "outputs": [
    {
     "data": {
      "text/html": [
       "<div>\n",
       "<style scoped>\n",
       "    .dataframe tbody tr th:only-of-type {\n",
       "        vertical-align: middle;\n",
       "    }\n",
       "\n",
       "    .dataframe tbody tr th {\n",
       "        vertical-align: top;\n",
       "    }\n",
       "\n",
       "    .dataframe thead th {\n",
       "        text-align: right;\n",
       "    }\n",
       "</style>\n",
       "<table border=\"1\" class=\"dataframe\">\n",
       "  <thead>\n",
       "    <tr style=\"text-align: right;\">\n",
       "      <th></th>\n",
       "      <th>PSNR</th>\n",
       "      <th>focusID</th>\n",
       "      <th>scheduled</th>\n",
       "      <th>brokenFocus</th>\n",
       "      <th>brokenFocusPerHour</th>\n",
       "      <th>nrOfBreaks</th>\n",
       "      <th>minutesInFocus</th>\n",
       "    </tr>\n",
       "  </thead>\n",
       "  <tbody>\n",
       "    <tr>\n",
       "      <th>199</th>\n",
       "      <td>p12</td>\n",
       "      <td>cde1bc4e-f50f-47c3-9f20-9f33d1b24052</td>\n",
       "      <td>False</td>\n",
       "      <td>0.00</td>\n",
       "      <td>0.000000</td>\n",
       "      <td>0</td>\n",
       "      <td>25.00</td>\n",
       "    </tr>\n",
       "    <tr>\n",
       "      <th>144</th>\n",
       "      <td>p09</td>\n",
       "      <td>aa790f71-10af-409c-9a76-6bb6381715da</td>\n",
       "      <td>False</td>\n",
       "      <td>0.00</td>\n",
       "      <td>0.000000</td>\n",
       "      <td>0</td>\n",
       "      <td>40.00</td>\n",
       "    </tr>\n",
       "    <tr>\n",
       "      <th>194</th>\n",
       "      <td>p12</td>\n",
       "      <td>b3d1e3a7-5698-4741-bce1-ba1190e8abb0</td>\n",
       "      <td>False</td>\n",
       "      <td>0.00</td>\n",
       "      <td>0.000000</td>\n",
       "      <td>0</td>\n",
       "      <td>25.00</td>\n",
       "    </tr>\n",
       "    <tr>\n",
       "      <th>166</th>\n",
       "      <td>p10</td>\n",
       "      <td>27652991-99be-4662-bf51-5db0d8e1535b</td>\n",
       "      <td>False</td>\n",
       "      <td>0.00</td>\n",
       "      <td>0.000000</td>\n",
       "      <td>0</td>\n",
       "      <td>45.00</td>\n",
       "    </tr>\n",
       "    <tr>\n",
       "      <th>137</th>\n",
       "      <td>p09</td>\n",
       "      <td>_8513icq38gs30b9m6l33ib9k60o3eba28p13cba68cpje...</td>\n",
       "      <td>True</td>\n",
       "      <td>0.15</td>\n",
       "      <td>0.262314</td>\n",
       "      <td>1</td>\n",
       "      <td>34.31</td>\n",
       "    </tr>\n",
       "    <tr>\n",
       "      <th>183</th>\n",
       "      <td>p11</td>\n",
       "      <td>719e4219-41c6-4750-a8e7-dd62e25080cb</td>\n",
       "      <td>False</td>\n",
       "      <td>0.84</td>\n",
       "      <td>1.260000</td>\n",
       "      <td>1</td>\n",
       "      <td>40.00</td>\n",
       "    </tr>\n",
       "    <tr>\n",
       "      <th>169</th>\n",
       "      <td>p10</td>\n",
       "      <td>40335a80-5d91-4833-8b1c-5ed2dfac9a6d</td>\n",
       "      <td>False</td>\n",
       "      <td>1.27</td>\n",
       "      <td>1.731818</td>\n",
       "      <td>3</td>\n",
       "      <td>44.00</td>\n",
       "    </tr>\n",
       "    <tr>\n",
       "      <th>174</th>\n",
       "      <td>p10</td>\n",
       "      <td>8d1a45c2-4db1-48b2-af0c-ccd0d5aea3d0</td>\n",
       "      <td>False</td>\n",
       "      <td>2.04</td>\n",
       "      <td>4.896000</td>\n",
       "      <td>1</td>\n",
       "      <td>25.00</td>\n",
       "    </tr>\n",
       "    <tr>\n",
       "      <th>41</th>\n",
       "      <td>p06</td>\n",
       "      <td>66b0c95e-d104-40b6-8220-f428b01a0063</td>\n",
       "      <td>False</td>\n",
       "      <td>6.59</td>\n",
       "      <td>7.563122</td>\n",
       "      <td>1</td>\n",
       "      <td>52.28</td>\n",
       "    </tr>\n",
       "    <tr>\n",
       "      <th>40</th>\n",
       "      <td>p06</td>\n",
       "      <td>df1eabfa-1aa7-48eb-8bad-0c4b34931335</td>\n",
       "      <td>False</td>\n",
       "      <td>6.33</td>\n",
       "      <td>9.495000</td>\n",
       "      <td>1</td>\n",
       "      <td>40.00</td>\n",
       "    </tr>\n",
       "  </tbody>\n",
       "</table>\n",
       "</div>"
      ],
      "text/plain": [
       "    PSNR                                            focusID  scheduled  \\\n",
       "199  p12               cde1bc4e-f50f-47c3-9f20-9f33d1b24052      False   \n",
       "144  p09               aa790f71-10af-409c-9a76-6bb6381715da      False   \n",
       "194  p12               b3d1e3a7-5698-4741-bce1-ba1190e8abb0      False   \n",
       "166  p10               27652991-99be-4662-bf51-5db0d8e1535b      False   \n",
       "137  p09  _8513icq38gs30b9m6l33ib9k60o3eba28p13cba68cpje...       True   \n",
       "183  p11               719e4219-41c6-4750-a8e7-dd62e25080cb      False   \n",
       "169  p10               40335a80-5d91-4833-8b1c-5ed2dfac9a6d      False   \n",
       "174  p10               8d1a45c2-4db1-48b2-af0c-ccd0d5aea3d0      False   \n",
       "41   p06               66b0c95e-d104-40b6-8220-f428b01a0063      False   \n",
       "40   p06               df1eabfa-1aa7-48eb-8bad-0c4b34931335      False   \n",
       "\n",
       "     brokenFocus  brokenFocusPerHour  nrOfBreaks  minutesInFocus  \n",
       "199         0.00            0.000000           0           25.00  \n",
       "144         0.00            0.000000           0           40.00  \n",
       "194         0.00            0.000000           0           25.00  \n",
       "166         0.00            0.000000           0           45.00  \n",
       "137         0.15            0.262314           1           34.31  \n",
       "183         0.84            1.260000           1           40.00  \n",
       "169         1.27            1.731818           3           44.00  \n",
       "174         2.04            4.896000           1           25.00  \n",
       "41          6.59            7.563122           1           52.28  \n",
       "40          6.33            9.495000           1           40.00  "
      ]
     },
     "execution_count": 22,
     "metadata": {},
     "output_type": "execute_result"
    }
   ],
   "source": [
    "exman[[\"PSNR\", \"focusID\", \"scheduled\", \"brokenFocus\", \"brokenFocusPerHour\", \"nrOfBreaks\", \"minutesInFocus\"]].sort_values(\"brokenFocusPerHour\").tail(10)"
   ]
  },
  {
   "cell_type": "code",
   "execution_count": 23,
   "metadata": {},
   "outputs": [
    {
     "data": {
      "text/html": [
       "<div>\n",
       "<style scoped>\n",
       "    .dataframe tbody tr th:only-of-type {\n",
       "        vertical-align: middle;\n",
       "    }\n",
       "\n",
       "    .dataframe tbody tr th {\n",
       "        vertical-align: top;\n",
       "    }\n",
       "\n",
       "    .dataframe thead th {\n",
       "        text-align: right;\n",
       "    }\n",
       "</style>\n",
       "<table border=\"1\" class=\"dataframe\">\n",
       "  <thead>\n",
       "    <tr style=\"text-align: right;\">\n",
       "      <th></th>\n",
       "      <th>PSNR</th>\n",
       "      <th>focusID</th>\n",
       "      <th>scheduled</th>\n",
       "      <th>brokenFocus</th>\n",
       "      <th>brokenFocusPerHour</th>\n",
       "      <th>nrOfBreaks</th>\n",
       "      <th>minutesInFocus</th>\n",
       "    </tr>\n",
       "  </thead>\n",
       "  <tbody>\n",
       "    <tr>\n",
       "      <th>103</th>\n",
       "      <td>p08</td>\n",
       "      <td>e8edfb5e-dd63-4cf0-9b4d-c665ec339ec1</td>\n",
       "      <td>False</td>\n",
       "      <td>0.00</td>\n",
       "      <td>0.000000</td>\n",
       "      <td>0</td>\n",
       "      <td>40.00</td>\n",
       "    </tr>\n",
       "    <tr>\n",
       "      <th>28</th>\n",
       "      <td>p01</td>\n",
       "      <td>afa7b93c-0911-473a-aef9-7d6de57c7f60</td>\n",
       "      <td>False</td>\n",
       "      <td>0.00</td>\n",
       "      <td>0.000000</td>\n",
       "      <td>0</td>\n",
       "      <td>15.00</td>\n",
       "    </tr>\n",
       "    <tr>\n",
       "      <th>202</th>\n",
       "      <td>p12</td>\n",
       "      <td>087364f4-73c3-426a-bead-157b46555285</td>\n",
       "      <td>False</td>\n",
       "      <td>0.00</td>\n",
       "      <td>0.000000</td>\n",
       "      <td>0</td>\n",
       "      <td>15.00</td>\n",
       "    </tr>\n",
       "    <tr>\n",
       "      <th>204</th>\n",
       "      <td>p12</td>\n",
       "      <td>537609b5-f648-4e6b-af29-cf983936a3bd</td>\n",
       "      <td>False</td>\n",
       "      <td>0.00</td>\n",
       "      <td>0.000000</td>\n",
       "      <td>0</td>\n",
       "      <td>25.00</td>\n",
       "    </tr>\n",
       "    <tr>\n",
       "      <th>120</th>\n",
       "      <td>p08</td>\n",
       "      <td>555ce1ff-d317-47a8-aaae-59521d39fb7c</td>\n",
       "      <td>False</td>\n",
       "      <td>0.00</td>\n",
       "      <td>0.000000</td>\n",
       "      <td>0</td>\n",
       "      <td>25.00</td>\n",
       "    </tr>\n",
       "    <tr>\n",
       "      <th>33</th>\n",
       "      <td>p01</td>\n",
       "      <td>ba129272-2a0d-4bbc-9fef-e3790cfce4be</td>\n",
       "      <td>False</td>\n",
       "      <td>0.00</td>\n",
       "      <td>0.000000</td>\n",
       "      <td>0</td>\n",
       "      <td>25.00</td>\n",
       "    </tr>\n",
       "    <tr>\n",
       "      <th>209</th>\n",
       "      <td>p12</td>\n",
       "      <td>a2a3b0d2-93b3-4acc-b156-5a0096bdf238</td>\n",
       "      <td>False</td>\n",
       "      <td>0.00</td>\n",
       "      <td>0.000000</td>\n",
       "      <td>0</td>\n",
       "      <td>25.00</td>\n",
       "    </tr>\n",
       "    <tr>\n",
       "      <th>218</th>\n",
       "      <td>p17</td>\n",
       "      <td>255d9c15-aaf9-48c1-a145-1e5aa4f6a8f3</td>\n",
       "      <td>False</td>\n",
       "      <td>0.00</td>\n",
       "      <td>0.000000</td>\n",
       "      <td>0</td>\n",
       "      <td>60.00</td>\n",
       "    </tr>\n",
       "    <tr>\n",
       "      <th>213</th>\n",
       "      <td>p17</td>\n",
       "      <td>e210b4af-1cc1-4f51-97ae-5a27179382c2</td>\n",
       "      <td>False</td>\n",
       "      <td>0.00</td>\n",
       "      <td>0.000000</td>\n",
       "      <td>0</td>\n",
       "      <td>55.00</td>\n",
       "    </tr>\n",
       "    <tr>\n",
       "      <th>23</th>\n",
       "      <td>p01</td>\n",
       "      <td>2976cf4b-9ae4-47d5-b17a-9c72ba3e69cc</td>\n",
       "      <td>False</td>\n",
       "      <td>0.00</td>\n",
       "      <td>0.000000</td>\n",
       "      <td>0</td>\n",
       "      <td>102.71</td>\n",
       "    </tr>\n",
       "    <tr>\n",
       "      <th>154</th>\n",
       "      <td>p09</td>\n",
       "      <td>55930028-53aa-4a99-aa47-4896ffd523e2</td>\n",
       "      <td>False</td>\n",
       "      <td>0.00</td>\n",
       "      <td>0.000000</td>\n",
       "      <td>0</td>\n",
       "      <td>25.00</td>\n",
       "    </tr>\n",
       "    <tr>\n",
       "      <th>20</th>\n",
       "      <td>p01</td>\n",
       "      <td>25f3ce1d-e67f-472a-a475-f8d4142d714e</td>\n",
       "      <td>False</td>\n",
       "      <td>0.00</td>\n",
       "      <td>0.000000</td>\n",
       "      <td>0</td>\n",
       "      <td>110.91</td>\n",
       "    </tr>\n",
       "    <tr>\n",
       "      <th>186</th>\n",
       "      <td>p11</td>\n",
       "      <td>de162c05-0876-440d-8203-d7bc92b92d91</td>\n",
       "      <td>False</td>\n",
       "      <td>0.19</td>\n",
       "      <td>0.285000</td>\n",
       "      <td>1</td>\n",
       "      <td>40.00</td>\n",
       "    </tr>\n",
       "    <tr>\n",
       "      <th>34</th>\n",
       "      <td>p02</td>\n",
       "      <td>279e8657-e394-48da-bb02-f84df29e4791</td>\n",
       "      <td>False</td>\n",
       "      <td>0.22</td>\n",
       "      <td>0.725275</td>\n",
       "      <td>1</td>\n",
       "      <td>18.20</td>\n",
       "    </tr>\n",
       "    <tr>\n",
       "      <th>211</th>\n",
       "      <td>p17</td>\n",
       "      <td>c4b0771f-3ff2-4711-9aad-929e5f4c69d0</td>\n",
       "      <td>False</td>\n",
       "      <td>11.15</td>\n",
       "      <td>12.546887</td>\n",
       "      <td>7</td>\n",
       "      <td>53.32</td>\n",
       "    </tr>\n",
       "    <tr>\n",
       "      <th>162</th>\n",
       "      <td>p09</td>\n",
       "      <td>943b5bc1-43d6-4fd4-b965-8752fc87628e</td>\n",
       "      <td>False</td>\n",
       "      <td>9.44</td>\n",
       "      <td>13.495354</td>\n",
       "      <td>2</td>\n",
       "      <td>41.97</td>\n",
       "    </tr>\n",
       "    <tr>\n",
       "      <th>153</th>\n",
       "      <td>p09</td>\n",
       "      <td>c68f5fc7-f6d5-4fdb-870f-4baa6e66127e</td>\n",
       "      <td>False</td>\n",
       "      <td>10.46</td>\n",
       "      <td>15.690000</td>\n",
       "      <td>6</td>\n",
       "      <td>40.00</td>\n",
       "    </tr>\n",
       "    <tr>\n",
       "      <th>46</th>\n",
       "      <td>p06</td>\n",
       "      <td>dbdaaf2b-aa10-4db9-9e32-30489174adf2</td>\n",
       "      <td>False</td>\n",
       "      <td>21.61</td>\n",
       "      <td>32.415000</td>\n",
       "      <td>1</td>\n",
       "      <td>40.00</td>\n",
       "    </tr>\n",
       "    <tr>\n",
       "      <th>212</th>\n",
       "      <td>p17</td>\n",
       "      <td>6c6fa9a7-315c-4075-8f7c-8363fc5de7bb</td>\n",
       "      <td>False</td>\n",
       "      <td>49.93</td>\n",
       "      <td>37.447500</td>\n",
       "      <td>2</td>\n",
       "      <td>80.00</td>\n",
       "    </tr>\n",
       "    <tr>\n",
       "      <th>47</th>\n",
       "      <td>p06</td>\n",
       "      <td>f3b3f7e7-d99f-4a05-aa48-121acf63153d</td>\n",
       "      <td>False</td>\n",
       "      <td>39.10</td>\n",
       "      <td>58.650000</td>\n",
       "      <td>1</td>\n",
       "      <td>40.00</td>\n",
       "    </tr>\n",
       "  </tbody>\n",
       "</table>\n",
       "</div>"
      ],
      "text/plain": [
       "    PSNR                               focusID  scheduled  brokenFocus  \\\n",
       "103  p08  e8edfb5e-dd63-4cf0-9b4d-c665ec339ec1      False         0.00   \n",
       "28   p01  afa7b93c-0911-473a-aef9-7d6de57c7f60      False         0.00   \n",
       "202  p12  087364f4-73c3-426a-bead-157b46555285      False         0.00   \n",
       "204  p12  537609b5-f648-4e6b-af29-cf983936a3bd      False         0.00   \n",
       "120  p08  555ce1ff-d317-47a8-aaae-59521d39fb7c      False         0.00   \n",
       "33   p01  ba129272-2a0d-4bbc-9fef-e3790cfce4be      False         0.00   \n",
       "209  p12  a2a3b0d2-93b3-4acc-b156-5a0096bdf238      False         0.00   \n",
       "218  p17  255d9c15-aaf9-48c1-a145-1e5aa4f6a8f3      False         0.00   \n",
       "213  p17  e210b4af-1cc1-4f51-97ae-5a27179382c2      False         0.00   \n",
       "23   p01  2976cf4b-9ae4-47d5-b17a-9c72ba3e69cc      False         0.00   \n",
       "154  p09  55930028-53aa-4a99-aa47-4896ffd523e2      False         0.00   \n",
       "20   p01  25f3ce1d-e67f-472a-a475-f8d4142d714e      False         0.00   \n",
       "186  p11  de162c05-0876-440d-8203-d7bc92b92d91      False         0.19   \n",
       "34   p02  279e8657-e394-48da-bb02-f84df29e4791      False         0.22   \n",
       "211  p17  c4b0771f-3ff2-4711-9aad-929e5f4c69d0      False        11.15   \n",
       "162  p09  943b5bc1-43d6-4fd4-b965-8752fc87628e      False         9.44   \n",
       "153  p09  c68f5fc7-f6d5-4fdb-870f-4baa6e66127e      False        10.46   \n",
       "46   p06  dbdaaf2b-aa10-4db9-9e32-30489174adf2      False        21.61   \n",
       "212  p17  6c6fa9a7-315c-4075-8f7c-8363fc5de7bb      False        49.93   \n",
       "47   p06  f3b3f7e7-d99f-4a05-aa48-121acf63153d      False        39.10   \n",
       "\n",
       "     brokenFocusPerHour  nrOfBreaks  minutesInFocus  \n",
       "103            0.000000           0           40.00  \n",
       "28             0.000000           0           15.00  \n",
       "202            0.000000           0           15.00  \n",
       "204            0.000000           0           25.00  \n",
       "120            0.000000           0           25.00  \n",
       "33             0.000000           0           25.00  \n",
       "209            0.000000           0           25.00  \n",
       "218            0.000000           0           60.00  \n",
       "213            0.000000           0           55.00  \n",
       "23             0.000000           0          102.71  \n",
       "154            0.000000           0           25.00  \n",
       "20             0.000000           0          110.91  \n",
       "186            0.285000           1           40.00  \n",
       "34             0.725275           1           18.20  \n",
       "211           12.546887           7           53.32  \n",
       "162           13.495354           2           41.97  \n",
       "153           15.690000           6           40.00  \n",
       "46            32.415000           1           40.00  \n",
       "212           37.447500           2           80.00  \n",
       "47            58.650000           1           40.00  "
      ]
     },
     "execution_count": 23,
     "metadata": {},
     "output_type": "execute_result"
    }
   ],
   "source": [
    "pomodoro[[\"PSNR\", \"focusID\", \"scheduled\", \"brokenFocus\", \"brokenFocusPerHour\", \"nrOfBreaks\", \"minutesInFocus\"]].sort_values(\"brokenFocusPerHour\").tail(20)"
   ]
  },
  {
   "cell_type": "code",
   "execution_count": 24,
   "metadata": {},
   "outputs": [
    {
     "name": "stdout",
     "output_type": "stream",
     "text": [
      "P-Value:0.06394036064054308 T-Statistic:-1.937158211974094\n"
     ]
    }
   ],
   "source": [
    "from scipy import stats\n",
    "tStat, pValue = stats.ttest_ind(exman[\"brokenFocusPerHour\"], pomodoro[\"brokenFocusPerHour\"], equal_var = False)\n",
    "print(\"P-Value:{0} T-Statistic:{1}\".format(pValue,tStat))"
   ]
  },
  {
   "cell_type": "code",
   "execution_count": 25,
   "metadata": {},
   "outputs": [
    {
     "name": "stdout",
     "output_type": "stream",
     "text": [
      "exman:  1.0083301611428128\n",
      "pomodoro:  1.9428416032325118\n"
     ]
    }
   ],
   "source": [
    "print(\"exman: \",exman[\"brokenFocusPerHour\"].mean())\n",
    "print(\"pomodoro: \", pomodoro[pomodoro[\"brokenFocusPerHour\"] < 16.5]['brokenFocusPerHour'].mean())\n"
   ]
  },
  {
   "cell_type": "code",
   "execution_count": 26,
   "metadata": {},
   "outputs": [
    {
     "name": "stdout",
     "output_type": "stream",
     "text": [
      "P-Value:0.4258260873997448 T-Statistic:-0.8072006372709817\n"
     ]
    }
   ],
   "source": [
    "from scipy import stats\n",
    "tStat, pValue = stats.ttest_ind(exman[\"brokenFocusPerHour\"], pomodoro[pomodoro[\"brokenFocusPerHour\"] < 16.5]['brokenFocusPerHour'], equal_var = False)\n",
    "print(\"P-Value:{0} T-Statistic:{1}\".format(pValue,tStat))"
   ]
  },
  {
   "cell_type": "code",
   "execution_count": 27,
   "metadata": {},
   "outputs": [
    {
     "name": "stdout",
     "output_type": "stream",
     "text": [
      "exman:  0.76\n",
      "pomodoro:  0.68\n"
     ]
    }
   ],
   "source": [
    "print(\"exman: \", exman[exman[\"brokenFocus\"] == 0]['brokenFocus'].count() / exman[\"brokenFocus\"].count())\n",
    "print(\"pomodoro: \", pomodoro[pomodoro[\"brokenFocus\"] == 0]['brokenFocus'].count() / pomodoro[\"brokenFocus\"].count())"
   ]
  },
  {
   "cell_type": "code",
   "execution_count": 28,
   "metadata": {},
   "outputs": [
    {
     "data": {
      "text/plain": [
       "<matplotlib.legend.Legend at 0x1a243c52608>"
      ]
     },
     "execution_count": 28,
     "metadata": {},
     "output_type": "execute_result"
    },
    {
     "data": {
      "image/png": "[encoded data removed]",
      "text/plain": [
       "<Figure size 432x288 with 1 Axes>"
      ]
     },
     "metadata": {
      "needs_background": "light"
     },
     "output_type": "display_data"
    }
   ],
   "source": [
    "plt.scatter(exman[exman[\"brokenFocus\"] != 0]['minutesInFocus'],exman[exman[\"brokenFocus\"] != 0]['brokenFocus'],label=\"exman\")\n",
    "plt.scatter(pomodoro.loc[(pomodoro['brokenFocus'] != 0) & (pomodoro['brokenFocus']< 16.5)]['minutesInFocus'],\n",
    "            pomodoro.loc[(pomodoro['brokenFocus'] != 0) & (pomodoro['brokenFocus']< 16.5)]['brokenFocus'], label=\"pomodoro\")\n",
    "plt.xlabel(\"minutes in Focus\")\n",
    "plt.ylabel(\"broken Focus minutes\")\n",
    "plt.legend()"
   ]
  },
  {
   "cell_type": "markdown",
   "metadata": {},
   "source": [
    "<h4> broken focus frequency </h4>\n"
   ]
  },
  {
   "cell_type": "code",
   "execution_count": 29,
   "metadata": {},
   "outputs": [],
   "source": [
    "normalize_data(\"nrOfBreaks\",\"minutesInFocus\",\"brokenFrequencyPerHour\", exman)\n",
    "normalize_data(\"nrOfBreaks\",\"minutesInFocus\",\"brokenFrequencyPerHour\", pomodoro)"
   ]
  },
  {
   "cell_type": "code",
   "execution_count": 30,
   "metadata": {},
   "outputs": [
    {
     "data": {
      "text/plain": [
       "<matplotlib.legend.Legend at 0x1a243cfebc8>"
      ]
     },
     "execution_count": 30,
     "metadata": {},
     "output_type": "execute_result"
    },
    {
     "data": {
      "image/png": "[encoded data removed]",
      "text/plain": [
       "<Figure size 432x288 with 1 Axes>"
      ]
     },
     "metadata": {
      "needs_background": "light"
     },
     "output_type": "display_data"
    }
   ],
   "source": [
    "plt.scatter(exman[\"brokenFocus\"],exman[\"brokenFrequencyPerHour\"],label=\"exman\")\n",
    "plt.scatter(pomodoro[pomodoro[\"brokenFocus\"]<16.5][\"brokenFocus\"],\n",
    "            pomodoro[pomodoro[\"brokenFocus\"]<16.5][\"brokenFrequencyPerHour\"], label=\"pomodoro\")\n",
    "plt.xlabel(\"minutes in broken focus\")\n",
    "plt.ylabel(\"number of breaks\")\n",
    "plt.legend()"
   ]
  },
  {
   "cell_type": "code",
   "execution_count": 31,
   "metadata": {},
   "outputs": [
    {
     "data": {
      "text/plain": [
       "0.49549347186488535"
      ]
     },
     "execution_count": 31,
     "metadata": {},
     "output_type": "execute_result"
    }
   ],
   "source": [
    "exman[\"brokenFrequencyPerHour\"].mean()"
   ]
  },
  {
   "cell_type": "code",
   "execution_count": 32,
   "metadata": {},
   "outputs": [
    {
     "data": {
      "text/plain": [
       "1.1613143068500476"
      ]
     },
     "execution_count": 32,
     "metadata": {},
     "output_type": "execute_result"
    }
   ],
   "source": [
    "pomodoro[\"brokenFrequencyPerHour\"].mean()"
   ]
  },
  {
   "cell_type": "code",
   "execution_count": 33,
   "metadata": {},
   "outputs": [
    {
     "name": "stdout",
     "output_type": "stream",
     "text": [
      "P-Value:0.20995298953976355 T-Statistic:-1.2789806508261512\n"
     ]
    }
   ],
   "source": [
    "from scipy import stats\n",
    "tStat, pValue = stats.ttest_ind(exman[\"brokenFrequencyPerHour\"], pomodoro[\"brokenFrequencyPerHour\"], equal_var = False)\n",
    "print(\"P-Value:{0} T-Statistic:{1}\".format(pValue,tStat))"
   ]
  },
  {
   "cell_type": "markdown",
   "metadata": {},
   "source": [
    "The effect on frequency of breaks is not significant, but the difference of the break duration between pomodoro and exman is significant on a 5% level. Reason for that not known yet."
   ]
  },
  {
   "cell_type": "markdown",
   "metadata": {},
   "source": [
    "<h4>distraction time </h4>"
   ]
  },
  {
   "cell_type": "code",
   "execution_count": 34,
   "metadata": {},
   "outputs": [],
   "source": [
    "normalize_data(\"distractionTime\",\"minutesInFocus\",\"distractionTimePerHour\",exman)\n",
    "normalize_data(\"distractionTime\",\"minutesInFocus\",\"distractionTimePerHour\",pomodoro)"
   ]
  },
  {
   "cell_type": "code",
   "execution_count": 35,
   "metadata": {},
   "outputs": [
    {
     "data": {
      "text/plain": [
       "3.111028492015299"
      ]
     },
     "execution_count": 35,
     "metadata": {},
     "output_type": "execute_result"
    }
   ],
   "source": [
    "exman[\"distractionTimePerHour\"].mean()"
   ]
  },
  {
   "cell_type": "code",
   "execution_count": 36,
   "metadata": {},
   "outputs": [
    {
     "data": {
      "text/plain": [
       "1.2358448649511553"
      ]
     },
     "execution_count": 36,
     "metadata": {},
     "output_type": "execute_result"
    }
   ],
   "source": [
    "pomodoro[\"distractionTimePerHour\"].mean()"
   ]
  },
  {
   "cell_type": "code",
   "execution_count": 37,
   "metadata": {},
   "outputs": [
    {
     "name": "stdout",
     "output_type": "stream",
     "text": [
      "P-Value:0.41713440262591484 T-Statistic:0.8226707944359464\n"
     ]
    }
   ],
   "source": [
    "from scipy import stats\n",
    "tStat, pValue = stats.ttest_ind(exman[\"distractionTimePerHour\"], pomodoro[\"distractionTimePerHour\"], equal_var = False)\n",
    "print(\"P-Value:{0} T-Statistic:{1}\".format(pValue,tStat))"
   ]
  },
  {
   "cell_type": "markdown",
   "metadata": {},
   "source": [
    "Not significant"
   ]
  },
  {
   "cell_type": "markdown",
   "metadata": {},
   "source": [
    "<h4> Productivity Rating </h4>"
   ]
  },
  {
   "cell_type": "code",
   "execution_count": 38,
   "metadata": {},
   "outputs": [],
   "source": [
    "exman_rating = exman.dropna(subset=[\"rating\"])\n",
    "pomodoro_rating = pomodoro.dropna(subset=[\"rating\"])"
   ]
  },
  {
   "cell_type": "code",
   "execution_count": 39,
   "metadata": {},
   "outputs": [
    {
     "name": "stdout",
     "output_type": "stream",
     "text": [
      "exman:  5.761904761904762\n",
      "pomodoro:  5.476190476190476\n"
     ]
    }
   ],
   "source": [
    "print(\"exman: \",exman_rating['rating'].astype(int).mean())\n",
    "print(\"pomodoro: \",pomodoro_rating['rating'].astype(int).mean())"
   ]
  },
  {
   "cell_type": "code",
   "execution_count": 40,
   "metadata": {},
   "outputs": [
    {
     "data": {
      "image/png": "[encoded data removed]",
      "text/plain": [
       "<Figure size 432x288 with 1 Axes>"
      ]
     },
     "metadata": {
      "needs_background": "light"
     },
     "output_type": "display_data"
    }
   ],
   "source": [
    "bins = [1,2,3,4,5,6,7]\n",
    "x = [list(exman_rating[\"rating\"].astype(int)),list(pomodoro_rating[\"rating\"].astype(int))]\n",
    "\n",
    "label = [\"exman\",\"pormodoro\"]\n",
    "colors = ['red', 'blue']\n",
    "plt.hist(x, bins, histtype='bar', color=colors, label=label)\n",
    "plt.legend(prop={'size': 10})\n",
    "plt.title('bars with legend')\n",
    "\n",
    "\n",
    "plt.show()"
   ]
  },
  {
   "cell_type": "code",
   "execution_count": 41,
   "metadata": {},
   "outputs": [
    {
     "name": "stdout",
     "output_type": "stream",
     "text": [
      "P-Value:0.48510774257232236 T-Statistic:0.7046642634176439\n"
     ]
    }
   ],
   "source": [
    "tStat, pValue = stats.ttest_ind(exman_rating[\"rating\"].astype(int), pomodoro_rating[\"rating\"].astype(int), equal_var = False)\n",
    "print(\"P-Value:{0} T-Statistic:{1}\".format(pValue,tStat))"
   ]
  },
  {
   "cell_type": "markdown",
   "metadata": {},
   "source": [
    "The p-Value and the t-test is not significant. Therefore, we cannot assume, that exman provides an improvement of the productivity compared to the pomodoro baseline."
   ]
  },
  {
   "cell_type": "markdown",
   "metadata": {},
   "source": [
    "<h4>nr of notifications vs rating</h4>\n"
   ]
  },
  {
   "cell_type": "code",
   "execution_count": 42,
   "metadata": {},
   "outputs": [
    {
     "data": {
      "text/plain": [
       "-0.5079375233312562"
      ]
     },
     "execution_count": 42,
     "metadata": {},
     "output_type": "execute_result"
    }
   ],
   "source": [
    "np.corrcoef(exman_rating[\"messagesReceivedInFocus\"],exman_rating[\"rating\"].astype(int))[0][1]"
   ]
  },
  {
   "cell_type": "code",
   "execution_count": 43,
   "metadata": {},
   "outputs": [
    {
     "data": {
      "text/plain": [
       "0.1883264379796961"
      ]
     },
     "execution_count": 43,
     "metadata": {},
     "output_type": "execute_result"
    }
   ],
   "source": [
    "np.corrcoef(pomodoro_rating[\"messagesReceivedInFocus\"],pomodoro_rating[\"rating\"].astype(int))[0][1]"
   ]
  },
  {
   "cell_type": "markdown",
   "metadata": {},
   "source": [
    "<h2> General Stats </h2>"
   ]
  },
  {
   "cell_type": "code",
   "execution_count": 44,
   "metadata": {},
   "outputs": [
    {
     "data": {
      "text/html": [
       "<div>\n",
       "<style scoped>\n",
       "    .dataframe tbody tr th:only-of-type {\n",
       "        vertical-align: middle;\n",
       "    }\n",
       "\n",
       "    .dataframe tbody tr th {\n",
       "        vertical-align: top;\n",
       "    }\n",
       "\n",
       "    .dataframe thead th {\n",
       "        text-align: right;\n",
       "    }\n",
       "</style>\n",
       "<table border=\"1\" class=\"dataframe\">\n",
       "  <thead>\n",
       "    <tr style=\"text-align: right;\">\n",
       "      <th></th>\n",
       "      <th>p07</th>\n",
       "      <th>p09</th>\n",
       "      <th>p01</th>\n",
       "      <th>p17</th>\n",
       "      <th>p12</th>\n",
       "      <th>p06</th>\n",
       "      <th>p08</th>\n",
       "      <th>p11</th>\n",
       "      <th>p02</th>\n",
       "      <th>p10</th>\n",
       "    </tr>\n",
       "  </thead>\n",
       "  <tbody>\n",
       "    <tr>\n",
       "      <th>count</th>\n",
       "      <td>11</td>\n",
       "      <td>1</td>\n",
       "      <td>4</td>\n",
       "      <td>3</td>\n",
       "      <td>5</td>\n",
       "      <td>8</td>\n",
       "      <td>3</td>\n",
       "      <td>3</td>\n",
       "      <td>6</td>\n",
       "      <td>6</td>\n",
       "    </tr>\n",
       "    <tr>\n",
       "      <th>unique</th>\n",
       "      <td>2</td>\n",
       "      <td>1</td>\n",
       "      <td>2</td>\n",
       "      <td>2</td>\n",
       "      <td>2</td>\n",
       "      <td>2</td>\n",
       "      <td>1</td>\n",
       "      <td>2</td>\n",
       "      <td>2</td>\n",
       "      <td>2</td>\n",
       "    </tr>\n",
       "    <tr>\n",
       "      <th>top</th>\n",
       "      <td>exman</td>\n",
       "      <td>pomodoro</td>\n",
       "      <td>exman</td>\n",
       "      <td>exman</td>\n",
       "      <td>pomodoro</td>\n",
       "      <td>exman</td>\n",
       "      <td>exman</td>\n",
       "      <td>exman</td>\n",
       "      <td>pomodoro</td>\n",
       "      <td>pomodoro</td>\n",
       "    </tr>\n",
       "    <tr>\n",
       "      <th>freq</th>\n",
       "      <td>7</td>\n",
       "      <td>1</td>\n",
       "      <td>2</td>\n",
       "      <td>2</td>\n",
       "      <td>4</td>\n",
       "      <td>5</td>\n",
       "      <td>3</td>\n",
       "      <td>2</td>\n",
       "      <td>4</td>\n",
       "      <td>5</td>\n",
       "    </tr>\n",
       "  </tbody>\n",
       "</table>\n",
       "</div>"
      ],
      "text/plain": [
       "          p07       p09    p01    p17       p12    p06    p08    p11  \\\n",
       "count      11         1      4      3         5      8      3      3   \n",
       "unique      2         1      2      2         2      2      1      2   \n",
       "top     exman  pomodoro  exman  exman  pomodoro  exman  exman  exman   \n",
       "freq        7         1      2      2         4      5      3      2   \n",
       "\n",
       "             p02       p10  \n",
       "count          6         6  \n",
       "unique         2         2  \n",
       "top     pomodoro  pomodoro  \n",
       "freq           4         5  "
      ]
     },
     "execution_count": 44,
     "metadata": {},
     "output_type": "execute_result"
    }
   ],
   "source": [
    "pd.concat([\n",
    "    df[df.PSNR == \"p01\"][\"appVersion\"].describe(),\n",
    "    df[df.PSNR == \"p02\"][\"appVersion\"].describe(),\n",
    "    df[df.PSNR == \"p06\"][\"appVersion\"].describe(),\n",
    "    df[df.PSNR == \"p07\"][\"appVersion\"].describe(),\n",
    "    df[df.PSNR == \"p08\"][\"appVersion\"].describe(),\n",
    "    df[df.PSNR == \"p09\"][\"appVersion\"].describe(),\n",
    "    df[df.PSNR == \"p10\"][\"appVersion\"].describe(),\n",
    "    df[df.PSNR == \"p11\"][\"appVersion\"].describe(),\n",
    "    df[df.PSNR == \"p12\"][\"appVersion\"].describe(),\n",
    "    df[df.PSNR == \"p17\"][\"appVersion\"].describe()\n",
    "],axis=1, keys= df.PSNR.unique())"
   ]
  },
  {
   "cell_type": "markdown",
   "metadata": {},
   "source": [
    "Focus sessions are mostly evenly distributed for pomodoro and exman (except maybe for p01)"
   ]
  },
  {
   "cell_type": "markdown",
   "metadata": {},
   "source": [
    "<h4> notification per focus per hour </h4>"
   ]
  },
  {
   "cell_type": "code",
   "execution_count": 45,
   "metadata": {},
   "outputs": [],
   "source": [
    "normalize_data(\"messagesReceivedInFocus\",\"minutesInFocus\",\"messagesPerHour\",exman)\n",
    "normalize_data(\"messagesReceivedInFocus\",\"minutesInFocus\",\"messagesPerHour\",pomodoro)\n",
    "normalize_data(\"messagesReceivedInFocus\",\"minutesInFocus\",\"messagesPerHour\",df)"
   ]
  },
  {
   "cell_type": "code",
   "execution_count": 46,
   "metadata": {},
   "outputs": [
    {
     "data": {
      "text/plain": [
       "count    50.000000\n",
       "mean      9.010520\n",
       "std       8.475208\n",
       "min       1.098499\n",
       "25%       3.110750\n",
       "50%       6.000000\n",
       "75%      11.250000\n",
       "max      39.436620\n",
       "Name: messagesPerHour, dtype: float64"
      ]
     },
     "execution_count": 46,
     "metadata": {},
     "output_type": "execute_result"
    }
   ],
   "source": [
    "df[\"messagesPerHour\"].describe()"
   ]
  },
  {
   "cell_type": "code",
   "execution_count": 47,
   "metadata": {},
   "outputs": [
    {
     "data": {
      "text/html": [
       "<div>\n",
       "<style scoped>\n",
       "    .dataframe tbody tr th:only-of-type {\n",
       "        vertical-align: middle;\n",
       "    }\n",
       "\n",
       "    .dataframe tbody tr th {\n",
       "        vertical-align: top;\n",
       "    }\n",
       "\n",
       "    .dataframe thead th {\n",
       "        text-align: right;\n",
       "    }\n",
       "</style>\n",
       "<table border=\"1\" class=\"dataframe\">\n",
       "  <thead>\n",
       "    <tr style=\"text-align: right;\">\n",
       "      <th></th>\n",
       "      <th>p07</th>\n",
       "      <th>p09</th>\n",
       "      <th>p01</th>\n",
       "      <th>p17</th>\n",
       "      <th>p12</th>\n",
       "      <th>p06</th>\n",
       "      <th>p08</th>\n",
       "      <th>p11</th>\n",
       "      <th>p02</th>\n",
       "      <th>p10</th>\n",
       "    </tr>\n",
       "  </thead>\n",
       "  <tbody>\n",
       "    <tr>\n",
       "      <th>count</th>\n",
       "      <td>11.000000</td>\n",
       "      <td>1.000000</td>\n",
       "      <td>4.000000</td>\n",
       "      <td>3.000000</td>\n",
       "      <td>5.000000</td>\n",
       "      <td>8.000000</td>\n",
       "      <td>3.000000</td>\n",
       "      <td>3.000000</td>\n",
       "      <td>6.000000</td>\n",
       "      <td>6.000000</td>\n",
       "    </tr>\n",
       "    <tr>\n",
       "      <th>mean</th>\n",
       "      <td>15.420364</td>\n",
       "      <td>16.483516</td>\n",
       "      <td>7.235750</td>\n",
       "      <td>2.291550</td>\n",
       "      <td>7.080000</td>\n",
       "      <td>10.226358</td>\n",
       "      <td>7.852525</td>\n",
       "      <td>5.500000</td>\n",
       "      <td>9.733333</td>\n",
       "      <td>2.155397</td>\n",
       "    </tr>\n",
       "    <tr>\n",
       "      <th>std</th>\n",
       "      <td>9.982493</td>\n",
       "      <td>NaN</td>\n",
       "      <td>7.203701</td>\n",
       "      <td>1.527030</td>\n",
       "      <td>1.229634</td>\n",
       "      <td>12.342893</td>\n",
       "      <td>7.781394</td>\n",
       "      <td>0.866025</td>\n",
       "      <td>5.552177</td>\n",
       "      <td>0.490092</td>\n",
       "    </tr>\n",
       "    <tr>\n",
       "      <th>min</th>\n",
       "      <td>1.168338</td>\n",
       "      <td>16.483516</td>\n",
       "      <td>3.000000</td>\n",
       "      <td>1.098499</td>\n",
       "      <td>6.000000</td>\n",
       "      <td>2.400000</td>\n",
       "      <td>2.666667</td>\n",
       "      <td>4.500000</td>\n",
       "      <td>4.800000</td>\n",
       "      <td>1.500000</td>\n",
       "    </tr>\n",
       "    <tr>\n",
       "      <th>25%</th>\n",
       "      <td>7.927833</td>\n",
       "      <td>16.483516</td>\n",
       "      <td>3.332249</td>\n",
       "      <td>1.431084</td>\n",
       "      <td>6.000000</td>\n",
       "      <td>4.053017</td>\n",
       "      <td>3.378788</td>\n",
       "      <td>5.250000</td>\n",
       "      <td>7.200000</td>\n",
       "      <td>2.000000</td>\n",
       "    </tr>\n",
       "    <tr>\n",
       "      <th>50%</th>\n",
       "      <td>16.000000</td>\n",
       "      <td>16.483516</td>\n",
       "      <td>3.971500</td>\n",
       "      <td>1.763668</td>\n",
       "      <td>7.200000</td>\n",
       "      <td>5.259185</td>\n",
       "      <td>4.090909</td>\n",
       "      <td>6.000000</td>\n",
       "      <td>7.200000</td>\n",
       "      <td>2.090909</td>\n",
       "    </tr>\n",
       "    <tr>\n",
       "      <th>75%</th>\n",
       "      <td>22.800000</td>\n",
       "      <td>16.483516</td>\n",
       "      <td>7.875000</td>\n",
       "      <td>2.888076</td>\n",
       "      <td>7.200000</td>\n",
       "      <td>9.932855</td>\n",
       "      <td>10.445455</td>\n",
       "      <td>6.000000</td>\n",
       "      <td>10.800000</td>\n",
       "      <td>2.233377</td>\n",
       "    </tr>\n",
       "    <tr>\n",
       "      <th>max</th>\n",
       "      <td>31.200000</td>\n",
       "      <td>16.483516</td>\n",
       "      <td>18.000000</td>\n",
       "      <td>4.012483</td>\n",
       "      <td>9.000000</td>\n",
       "      <td>39.436620</td>\n",
       "      <td>16.800000</td>\n",
       "      <td>6.000000</td>\n",
       "      <td>20.000000</td>\n",
       "      <td>3.000000</td>\n",
       "    </tr>\n",
       "  </tbody>\n",
       "</table>\n",
       "</div>"
      ],
      "text/plain": [
       "             p07        p09        p01       p17       p12        p06  \\\n",
       "count  11.000000   1.000000   4.000000  3.000000  5.000000   8.000000   \n",
       "mean   15.420364  16.483516   7.235750  2.291550  7.080000  10.226358   \n",
       "std     9.982493        NaN   7.203701  1.527030  1.229634  12.342893   \n",
       "min     1.168338  16.483516   3.000000  1.098499  6.000000   2.400000   \n",
       "25%     7.927833  16.483516   3.332249  1.431084  6.000000   4.053017   \n",
       "50%    16.000000  16.483516   3.971500  1.763668  7.200000   5.259185   \n",
       "75%    22.800000  16.483516   7.875000  2.888076  7.200000   9.932855   \n",
       "max    31.200000  16.483516  18.000000  4.012483  9.000000  39.436620   \n",
       "\n",
       "             p08       p11        p02       p10  \n",
       "count   3.000000  3.000000   6.000000  6.000000  \n",
       "mean    7.852525  5.500000   9.733333  2.155397  \n",
       "std     7.781394  0.866025   5.552177  0.490092  \n",
       "min     2.666667  4.500000   4.800000  1.500000  \n",
       "25%     3.378788  5.250000   7.200000  2.000000  \n",
       "50%     4.090909  6.000000   7.200000  2.090909  \n",
       "75%    10.445455  6.000000  10.800000  2.233377  \n",
       "max    16.800000  6.000000  20.000000  3.000000  "
      ]
     },
     "execution_count": 47,
     "metadata": {},
     "output_type": "execute_result"
    }
   ],
   "source": [
    "pd.concat([\n",
    "    df[df.PSNR == \"p01\"][\"messagesPerHour\"].describe(),\n",
    "    df[df.PSNR == \"p02\"][\"messagesPerHour\"].describe(),\n",
    "    df[df.PSNR == \"p06\"][\"messagesPerHour\"].describe(),\n",
    "    df[df.PSNR == \"p07\"][\"messagesPerHour\"].describe(),\n",
    "    df[df.PSNR == \"p08\"][\"messagesPerHour\"].describe(),\n",
    "    df[df.PSNR == \"p09\"][\"messagesPerHour\"].describe(),\n",
    "    df[df.PSNR == \"p10\"][\"messagesPerHour\"].describe(),\n",
    "    df[df.PSNR == \"p11\"][\"messagesPerHour\"].describe(),\n",
    "    df[df.PSNR == \"p12\"][\"messagesPerHour\"].describe(),\n",
    "    df[df.PSNR == \"p17\"][\"messagesPerHour\"].describe()\n",
    "],axis=1, keys= df.PSNR.unique())"
   ]
  },
  {
   "cell_type": "markdown",
   "metadata": {},
   "source": [
    "<h4> Autoreplies </h4>"
   ]
  },
  {
   "cell_type": "code",
   "execution_count": 48,
   "metadata": {},
   "outputs": [
    {
     "data": {
      "text/plain": [
       "3"
      ]
     },
     "execution_count": 48,
     "metadata": {},
     "output_type": "execute_result"
    }
   ],
   "source": [
    "exman[\"autoReplied\"].sum()"
   ]
  },
  {
   "cell_type": "markdown",
   "metadata": {},
   "source": [
    "<h4> Broken Focus measurement in minutes </h4>"
   ]
  },
  {
   "cell_type": "code",
   "execution_count": 49,
   "metadata": {},
   "outputs": [
    {
     "data": {
      "text/html": [
       "<div>\n",
       "<style scoped>\n",
       "    .dataframe tbody tr th:only-of-type {\n",
       "        vertical-align: middle;\n",
       "    }\n",
       "\n",
       "    .dataframe tbody tr th {\n",
       "        vertical-align: top;\n",
       "    }\n",
       "\n",
       "    .dataframe thead th {\n",
       "        text-align: right;\n",
       "    }\n",
       "</style>\n",
       "<table border=\"1\" class=\"dataframe\">\n",
       "  <thead>\n",
       "    <tr style=\"text-align: right;\">\n",
       "      <th></th>\n",
       "      <th>pomodoro</th>\n",
       "      <th>exman</th>\n",
       "    </tr>\n",
       "  </thead>\n",
       "  <tbody>\n",
       "    <tr>\n",
       "      <th>count</th>\n",
       "      <td>25.000000</td>\n",
       "      <td>25.000000</td>\n",
       "    </tr>\n",
       "    <tr>\n",
       "      <th>mean</th>\n",
       "      <td>6.850201</td>\n",
       "      <td>1.008330</td>\n",
       "    </tr>\n",
       "    <tr>\n",
       "      <th>std</th>\n",
       "      <td>14.868971</td>\n",
       "      <td>2.504696</td>\n",
       "    </tr>\n",
       "    <tr>\n",
       "      <th>min</th>\n",
       "      <td>0.000000</td>\n",
       "      <td>0.000000</td>\n",
       "    </tr>\n",
       "    <tr>\n",
       "      <th>25%</th>\n",
       "      <td>0.000000</td>\n",
       "      <td>0.000000</td>\n",
       "    </tr>\n",
       "    <tr>\n",
       "      <th>50%</th>\n",
       "      <td>0.000000</td>\n",
       "      <td>0.000000</td>\n",
       "    </tr>\n",
       "    <tr>\n",
       "      <th>75%</th>\n",
       "      <td>0.725275</td>\n",
       "      <td>0.000000</td>\n",
       "    </tr>\n",
       "    <tr>\n",
       "      <th>max</th>\n",
       "      <td>58.650000</td>\n",
       "      <td>9.495000</td>\n",
       "    </tr>\n",
       "  </tbody>\n",
       "</table>\n",
       "</div>"
      ],
      "text/plain": [
       "        pomodoro      exman\n",
       "count  25.000000  25.000000\n",
       "mean    6.850201   1.008330\n",
       "std    14.868971   2.504696\n",
       "min     0.000000   0.000000\n",
       "25%     0.000000   0.000000\n",
       "50%     0.000000   0.000000\n",
       "75%     0.725275   0.000000\n",
       "max    58.650000   9.495000"
      ]
     },
     "execution_count": 49,
     "metadata": {},
     "output_type": "execute_result"
    }
   ],
   "source": [
    "get_comparison_summary(\"brokenFocusPerHour\")"
   ]
  },
  {
   "cell_type": "markdown",
   "metadata": {},
   "source": [
    "<h4> number of breaks per focus sessions per Hour </h4>"
   ]
  },
  {
   "cell_type": "code",
   "execution_count": 50,
   "metadata": {},
   "outputs": [
    {
     "data": {
      "text/html": [
       "<div>\n",
       "<style scoped>\n",
       "    .dataframe tbody tr th:only-of-type {\n",
       "        vertical-align: middle;\n",
       "    }\n",
       "\n",
       "    .dataframe tbody tr th {\n",
       "        vertical-align: top;\n",
       "    }\n",
       "\n",
       "    .dataframe thead th {\n",
       "        text-align: right;\n",
       "    }\n",
       "</style>\n",
       "<table border=\"1\" class=\"dataframe\">\n",
       "  <thead>\n",
       "    <tr style=\"text-align: right;\">\n",
       "      <th></th>\n",
       "      <th>pomodoro</th>\n",
       "      <th>exman</th>\n",
       "    </tr>\n",
       "  </thead>\n",
       "  <tbody>\n",
       "    <tr>\n",
       "      <th>count</th>\n",
       "      <td>25.000000</td>\n",
       "      <td>25.000000</td>\n",
       "    </tr>\n",
       "    <tr>\n",
       "      <th>mean</th>\n",
       "      <td>1.161314</td>\n",
       "      <td>0.495493</td>\n",
       "    </tr>\n",
       "    <tr>\n",
       "      <th>std</th>\n",
       "      <td>2.392467</td>\n",
       "      <td>1.025366</td>\n",
       "    </tr>\n",
       "    <tr>\n",
       "      <th>min</th>\n",
       "      <td>0.000000</td>\n",
       "      <td>0.000000</td>\n",
       "    </tr>\n",
       "    <tr>\n",
       "      <th>25%</th>\n",
       "      <td>0.000000</td>\n",
       "      <td>0.000000</td>\n",
       "    </tr>\n",
       "    <tr>\n",
       "      <th>50%</th>\n",
       "      <td>0.000000</td>\n",
       "      <td>0.000000</td>\n",
       "    </tr>\n",
       "    <tr>\n",
       "      <th>75%</th>\n",
       "      <td>1.500000</td>\n",
       "      <td>0.000000</td>\n",
       "    </tr>\n",
       "    <tr>\n",
       "      <th>max</th>\n",
       "      <td>9.000000</td>\n",
       "      <td>4.090909</td>\n",
       "    </tr>\n",
       "  </tbody>\n",
       "</table>\n",
       "</div>"
      ],
      "text/plain": [
       "        pomodoro      exman\n",
       "count  25.000000  25.000000\n",
       "mean    1.161314   0.495493\n",
       "std     2.392467   1.025366\n",
       "min     0.000000   0.000000\n",
       "25%     0.000000   0.000000\n",
       "50%     0.000000   0.000000\n",
       "75%     1.500000   0.000000\n",
       "max     9.000000   4.090909"
      ]
     },
     "execution_count": 50,
     "metadata": {},
     "output_type": "execute_result"
    }
   ],
   "source": [
    "get_comparison_summary(\"brokenFrequencyPerHour\")"
   ]
  },
  {
   "cell_type": "markdown",
   "metadata": {},
   "source": [
    "<h4> Minutes in focus </h4>"
   ]
  },
  {
   "cell_type": "code",
   "execution_count": 51,
   "metadata": {},
   "outputs": [
    {
     "data": {
      "text/plain": [
       "count     50.000000\n",
       "mean      43.822400\n",
       "std       27.986884\n",
       "min       10.650000\n",
       "25%       25.000000\n",
       "50%       40.000000\n",
       "75%       51.710000\n",
       "max      120.000000\n",
       "Name: minutesInFocus, dtype: float64"
      ]
     },
     "execution_count": 51,
     "metadata": {},
     "output_type": "execute_result"
    }
   ],
   "source": [
    "df[\"minutesInFocus\"].describe()"
   ]
  },
  {
   "cell_type": "code",
   "execution_count": 52,
   "metadata": {},
   "outputs": [
    {
     "data": {
      "text/html": [
       "<div>\n",
       "<style scoped>\n",
       "    .dataframe tbody tr th:only-of-type {\n",
       "        vertical-align: middle;\n",
       "    }\n",
       "\n",
       "    .dataframe tbody tr th {\n",
       "        vertical-align: top;\n",
       "    }\n",
       "\n",
       "    .dataframe thead th {\n",
       "        text-align: right;\n",
       "    }\n",
       "</style>\n",
       "<table border=\"1\" class=\"dataframe\">\n",
       "  <thead>\n",
       "    <tr style=\"text-align: right;\">\n",
       "      <th></th>\n",
       "      <th>p07</th>\n",
       "      <th>p09</th>\n",
       "      <th>p01</th>\n",
       "      <th>p17</th>\n",
       "      <th>p12</th>\n",
       "      <th>p06</th>\n",
       "      <th>p08</th>\n",
       "      <th>p11</th>\n",
       "      <th>p02</th>\n",
       "      <th>p10</th>\n",
       "    </tr>\n",
       "  </thead>\n",
       "  <tbody>\n",
       "    <tr>\n",
       "      <th>count</th>\n",
       "      <td>11.000000</td>\n",
       "      <td>1.0</td>\n",
       "      <td>4.00</td>\n",
       "      <td>3.000000</td>\n",
       "      <td>5.000000</td>\n",
       "      <td>8.000000</td>\n",
       "      <td>3.000000</td>\n",
       "      <td>3.0</td>\n",
       "      <td>6.000000</td>\n",
       "      <td>6.000000</td>\n",
       "    </tr>\n",
       "    <tr>\n",
       "      <th>mean</th>\n",
       "      <td>39.874545</td>\n",
       "      <td>18.2</td>\n",
       "      <td>43.07</td>\n",
       "      <td>82.133333</td>\n",
       "      <td>36.000000</td>\n",
       "      <td>35.412500</td>\n",
       "      <td>38.000000</td>\n",
       "      <td>40.0</td>\n",
       "      <td>21.666667</td>\n",
       "      <td>81.386667</td>\n",
       "    </tr>\n",
       "    <tr>\n",
       "      <th>std</th>\n",
       "      <td>34.257261</td>\n",
       "      <td>NaN</td>\n",
       "      <td>6.14</td>\n",
       "      <td>24.613137</td>\n",
       "      <td>10.839742</td>\n",
       "      <td>16.365011</td>\n",
       "      <td>11.269428</td>\n",
       "      <td>0.0</td>\n",
       "      <td>5.163978</td>\n",
       "      <td>31.385619</td>\n",
       "    </tr>\n",
       "    <tr>\n",
       "      <th>min</th>\n",
       "      <td>15.000000</td>\n",
       "      <td>18.2</td>\n",
       "      <td>40.00</td>\n",
       "      <td>54.620000</td>\n",
       "      <td>25.000000</td>\n",
       "      <td>10.650000</td>\n",
       "      <td>25.000000</td>\n",
       "      <td>40.0</td>\n",
       "      <td>15.000000</td>\n",
       "      <td>53.320000</td>\n",
       "    </tr>\n",
       "    <tr>\n",
       "      <th>25%</th>\n",
       "      <td>20.000000</td>\n",
       "      <td>18.2</td>\n",
       "      <td>40.00</td>\n",
       "      <td>72.170000</td>\n",
       "      <td>25.000000</td>\n",
       "      <td>25.000000</td>\n",
       "      <td>34.500000</td>\n",
       "      <td>40.0</td>\n",
       "      <td>17.500000</td>\n",
       "      <td>56.250000</td>\n",
       "    </tr>\n",
       "    <tr>\n",
       "      <th>50%</th>\n",
       "      <td>25.000000</td>\n",
       "      <td>18.2</td>\n",
       "      <td>40.00</td>\n",
       "      <td>89.720000</td>\n",
       "      <td>40.000000</td>\n",
       "      <td>37.155000</td>\n",
       "      <td>44.000000</td>\n",
       "      <td>40.0</td>\n",
       "      <td>25.000000</td>\n",
       "      <td>70.000000</td>\n",
       "    </tr>\n",
       "    <tr>\n",
       "      <th>75%</th>\n",
       "      <td>40.000000</td>\n",
       "      <td>18.2</td>\n",
       "      <td>43.07</td>\n",
       "      <td>95.890000</td>\n",
       "      <td>40.000000</td>\n",
       "      <td>40.492500</td>\n",
       "      <td>44.500000</td>\n",
       "      <td>40.0</td>\n",
       "      <td>25.000000</td>\n",
       "      <td>110.000000</td>\n",
       "    </tr>\n",
       "    <tr>\n",
       "      <th>max</th>\n",
       "      <td>110.910000</td>\n",
       "      <td>18.2</td>\n",
       "      <td>52.28</td>\n",
       "      <td>102.060000</td>\n",
       "      <td>50.000000</td>\n",
       "      <td>66.370000</td>\n",
       "      <td>45.000000</td>\n",
       "      <td>40.0</td>\n",
       "      <td>25.000000</td>\n",
       "      <td>120.000000</td>\n",
       "    </tr>\n",
       "  </tbody>\n",
       "</table>\n",
       "</div>"
      ],
      "text/plain": [
       "              p07   p09    p01         p17        p12        p06        p08  \\\n",
       "count   11.000000   1.0   4.00    3.000000   5.000000   8.000000   3.000000   \n",
       "mean    39.874545  18.2  43.07   82.133333  36.000000  35.412500  38.000000   \n",
       "std     34.257261   NaN   6.14   24.613137  10.839742  16.365011  11.269428   \n",
       "min     15.000000  18.2  40.00   54.620000  25.000000  10.650000  25.000000   \n",
       "25%     20.000000  18.2  40.00   72.170000  25.000000  25.000000  34.500000   \n",
       "50%     25.000000  18.2  40.00   89.720000  40.000000  37.155000  44.000000   \n",
       "75%     40.000000  18.2  43.07   95.890000  40.000000  40.492500  44.500000   \n",
       "max    110.910000  18.2  52.28  102.060000  50.000000  66.370000  45.000000   \n",
       "\n",
       "        p11        p02         p10  \n",
       "count   3.0   6.000000    6.000000  \n",
       "mean   40.0  21.666667   81.386667  \n",
       "std     0.0   5.163978   31.385619  \n",
       "min    40.0  15.000000   53.320000  \n",
       "25%    40.0  17.500000   56.250000  \n",
       "50%    40.0  25.000000   70.000000  \n",
       "75%    40.0  25.000000  110.000000  \n",
       "max    40.0  25.000000  120.000000  "
      ]
     },
     "execution_count": 52,
     "metadata": {},
     "output_type": "execute_result"
    }
   ],
   "source": [
    "pd.concat([\n",
    "    df[df.PSNR == \"p01\"][\"minutesInFocus\"].describe(),\n",
    "    df[df.PSNR == \"p02\"][\"minutesInFocus\"].describe(),\n",
    "    df[df.PSNR == \"p06\"][\"minutesInFocus\"].describe(),\n",
    "    df[df.PSNR == \"p07\"][\"minutesInFocus\"].describe(),\n",
    "    df[df.PSNR == \"p08\"][\"minutesInFocus\"].describe(),\n",
    "    df[df.PSNR == \"p09\"][\"minutesInFocus\"].describe(),\n",
    "    df[df.PSNR == \"p10\"][\"minutesInFocus\"].describe(),\n",
    "    df[df.PSNR == \"p11\"][\"minutesInFocus\"].describe(),\n",
    "    df[df.PSNR == \"p12\"][\"minutesInFocus\"].describe(),\n",
    "    df[df.PSNR == \"p17\"][\"minutesInFocus\"].describe()\n",
    "],axis=1, keys= df.PSNR.unique())"
   ]
  },
  {
   "cell_type": "markdown",
   "metadata": {},
   "source": [
    "<h4> distraction count per participant and per focus session </h4>"
   ]
  },
  {
   "cell_type": "code",
   "execution_count": 53,
   "metadata": {},
   "outputs": [
    {
     "data": {
      "text/html": [
       "<div>\n",
       "<style scoped>\n",
       "    .dataframe tbody tr th:only-of-type {\n",
       "        vertical-align: middle;\n",
       "    }\n",
       "\n",
       "    .dataframe tbody tr th {\n",
       "        vertical-align: top;\n",
       "    }\n",
       "\n",
       "    .dataframe thead th {\n",
       "        text-align: right;\n",
       "    }\n",
       "</style>\n",
       "<table border=\"1\" class=\"dataframe\">\n",
       "  <thead>\n",
       "    <tr style=\"text-align: right;\">\n",
       "      <th></th>\n",
       "      <th>p01</th>\n",
       "      <th>p08</th>\n",
       "      <th>p09</th>\n",
       "      <th>p10</th>\n",
       "      <th>p11</th>\n",
       "      <th>p12</th>\n",
       "    </tr>\n",
       "  </thead>\n",
       "  <tbody>\n",
       "    <tr>\n",
       "      <th>count</th>\n",
       "      <td>11.000000</td>\n",
       "      <td>5.000000</td>\n",
       "      <td>8.000000</td>\n",
       "      <td>3.000000</td>\n",
       "      <td>3.000000</td>\n",
       "      <td>6.000000</td>\n",
       "    </tr>\n",
       "    <tr>\n",
       "      <th>mean</th>\n",
       "      <td>0.545455</td>\n",
       "      <td>1.400000</td>\n",
       "      <td>8.375000</td>\n",
       "      <td>1.000000</td>\n",
       "      <td>2.333333</td>\n",
       "      <td>3.000000</td>\n",
       "    </tr>\n",
       "    <tr>\n",
       "      <th>std</th>\n",
       "      <td>1.293340</td>\n",
       "      <td>1.949359</td>\n",
       "      <td>10.676242</td>\n",
       "      <td>1.732051</td>\n",
       "      <td>1.527525</td>\n",
       "      <td>6.418723</td>\n",
       "    </tr>\n",
       "    <tr>\n",
       "      <th>min</th>\n",
       "      <td>0.000000</td>\n",
       "      <td>0.000000</td>\n",
       "      <td>0.000000</td>\n",
       "      <td>0.000000</td>\n",
       "      <td>1.000000</td>\n",
       "      <td>0.000000</td>\n",
       "    </tr>\n",
       "    <tr>\n",
       "      <th>25%</th>\n",
       "      <td>0.000000</td>\n",
       "      <td>0.000000</td>\n",
       "      <td>0.000000</td>\n",
       "      <td>0.000000</td>\n",
       "      <td>1.500000</td>\n",
       "      <td>0.000000</td>\n",
       "    </tr>\n",
       "    <tr>\n",
       "      <th>50%</th>\n",
       "      <td>0.000000</td>\n",
       "      <td>0.000000</td>\n",
       "      <td>5.000000</td>\n",
       "      <td>0.000000</td>\n",
       "      <td>2.000000</td>\n",
       "      <td>0.000000</td>\n",
       "    </tr>\n",
       "    <tr>\n",
       "      <th>75%</th>\n",
       "      <td>0.000000</td>\n",
       "      <td>3.000000</td>\n",
       "      <td>11.000000</td>\n",
       "      <td>1.500000</td>\n",
       "      <td>3.000000</td>\n",
       "      <td>1.500000</td>\n",
       "    </tr>\n",
       "    <tr>\n",
       "      <th>max</th>\n",
       "      <td>4.000000</td>\n",
       "      <td>4.000000</td>\n",
       "      <td>27.000000</td>\n",
       "      <td>3.000000</td>\n",
       "      <td>4.000000</td>\n",
       "      <td>16.000000</td>\n",
       "    </tr>\n",
       "  </tbody>\n",
       "</table>\n",
       "</div>"
      ],
      "text/plain": [
       "             p01       p08        p09       p10       p11        p12\n",
       "count  11.000000  5.000000   8.000000  3.000000  3.000000   6.000000\n",
       "mean    0.545455  1.400000   8.375000  1.000000  2.333333   3.000000\n",
       "std     1.293340  1.949359  10.676242  1.732051  1.527525   6.418723\n",
       "min     0.000000  0.000000   0.000000  0.000000  1.000000   0.000000\n",
       "25%     0.000000  0.000000   0.000000  0.000000  1.500000   0.000000\n",
       "50%     0.000000  0.000000   5.000000  0.000000  2.000000   0.000000\n",
       "75%     0.000000  3.000000  11.000000  1.500000  3.000000   1.500000\n",
       "max     4.000000  4.000000  27.000000  3.000000  4.000000  16.000000"
      ]
     },
     "execution_count": 53,
     "metadata": {},
     "output_type": "execute_result"
    }
   ],
   "source": [
    "pd.concat([\n",
    "    df[df.PSNR == \"p01\"][\"distractionCount\"].describe(),\n",
    "    #df[df.PSNR == \"p02\"][\"distractionCount\"].describe(),\n",
    "    #df[df.PSNR == \"p06\"][\"distractionCount\"].describe(),\n",
    "    #df[df.PSNR == \"p07\"][\"distractionCount\"].describe(),\n",
    "    df[df.PSNR == \"p08\"][\"distractionCount\"].describe(),\n",
    "    df[df.PSNR == \"p09\"][\"distractionCount\"].describe(),\n",
    "    df[df.PSNR == \"p10\"][\"distractionCount\"].describe(),\n",
    "    df[df.PSNR == \"p11\"][\"distractionCount\"].describe(),\n",
    "    df[df.PSNR == \"p12\"][\"distractionCount\"].describe()\n",
    "    #df[df.PSNR == \"p17\"][\"distractionCount\"].describe()\n",
    "],axis=1, keys= [\"p01\", \"p08\", \"p09\", \"p10\", \"p11\", \"p12\"])\n"
   ]
  },
  {
   "cell_type": "code",
   "execution_count": 54,
   "metadata": {},
   "outputs": [
    {
     "data": {
      "text/html": [
       "<div>\n",
       "<style scoped>\n",
       "    .dataframe tbody tr th:only-of-type {\n",
       "        vertical-align: middle;\n",
       "    }\n",
       "\n",
       "    .dataframe tbody tr th {\n",
       "        vertical-align: top;\n",
       "    }\n",
       "\n",
       "    .dataframe thead th {\n",
       "        text-align: right;\n",
       "    }\n",
       "</style>\n",
       "<table border=\"1\" class=\"dataframe\">\n",
       "  <thead>\n",
       "    <tr style=\"text-align: right;\">\n",
       "      <th></th>\n",
       "      <th>p01</th>\n",
       "      <th>p08</th>\n",
       "      <th>p09</th>\n",
       "      <th>p10</th>\n",
       "      <th>p11</th>\n",
       "      <th>p12</th>\n",
       "    </tr>\n",
       "  </thead>\n",
       "  <tbody>\n",
       "    <tr>\n",
       "      <th>count</th>\n",
       "      <td>11.000000</td>\n",
       "      <td>5.000000</td>\n",
       "      <td>8.000000</td>\n",
       "      <td>3.000000</td>\n",
       "      <td>3.000000</td>\n",
       "      <td>6.000000</td>\n",
       "    </tr>\n",
       "    <tr>\n",
       "      <th>mean</th>\n",
       "      <td>0.085033</td>\n",
       "      <td>0.966867</td>\n",
       "      <td>2.000842</td>\n",
       "      <td>1.368750</td>\n",
       "      <td>0.557844</td>\n",
       "      <td>1.395508</td>\n",
       "    </tr>\n",
       "    <tr>\n",
       "      <th>std</th>\n",
       "      <td>0.203469</td>\n",
       "      <td>1.591840</td>\n",
       "      <td>3.506714</td>\n",
       "      <td>2.370745</td>\n",
       "      <td>0.436864</td>\n",
       "      <td>3.201756</td>\n",
       "    </tr>\n",
       "    <tr>\n",
       "      <th>min</th>\n",
       "      <td>0.000000</td>\n",
       "      <td>0.000000</td>\n",
       "      <td>0.000000</td>\n",
       "      <td>0.000000</td>\n",
       "      <td>0.067117</td>\n",
       "      <td>0.000000</td>\n",
       "    </tr>\n",
       "    <tr>\n",
       "      <th>25%</th>\n",
       "      <td>0.000000</td>\n",
       "      <td>0.000000</td>\n",
       "      <td>0.000000</td>\n",
       "      <td>0.000000</td>\n",
       "      <td>0.384567</td>\n",
       "      <td>0.000000</td>\n",
       "    </tr>\n",
       "    <tr>\n",
       "      <th>50%</th>\n",
       "      <td>0.000000</td>\n",
       "      <td>0.000000</td>\n",
       "      <td>0.360567</td>\n",
       "      <td>0.000000</td>\n",
       "      <td>0.702017</td>\n",
       "      <td>0.000000</td>\n",
       "    </tr>\n",
       "    <tr>\n",
       "      <th>75%</th>\n",
       "      <td>0.000000</td>\n",
       "      <td>1.167250</td>\n",
       "      <td>1.707592</td>\n",
       "      <td>2.053125</td>\n",
       "      <td>0.803208</td>\n",
       "      <td>0.339325</td>\n",
       "    </tr>\n",
       "    <tr>\n",
       "      <th>max</th>\n",
       "      <td>0.635133</td>\n",
       "      <td>3.667083</td>\n",
       "      <td>9.386667</td>\n",
       "      <td>4.106250</td>\n",
       "      <td>0.904400</td>\n",
       "      <td>7.920617</td>\n",
       "    </tr>\n",
       "  </tbody>\n",
       "</table>\n",
       "</div>"
      ],
      "text/plain": [
       "             p01       p08       p09       p10       p11       p12\n",
       "count  11.000000  5.000000  8.000000  3.000000  3.000000  6.000000\n",
       "mean    0.085033  0.966867  2.000842  1.368750  0.557844  1.395508\n",
       "std     0.203469  1.591840  3.506714  2.370745  0.436864  3.201756\n",
       "min     0.000000  0.000000  0.000000  0.000000  0.067117  0.000000\n",
       "25%     0.000000  0.000000  0.000000  0.000000  0.384567  0.000000\n",
       "50%     0.000000  0.000000  0.360567  0.000000  0.702017  0.000000\n",
       "75%     0.000000  1.167250  1.707592  2.053125  0.803208  0.339325\n",
       "max     0.635133  3.667083  9.386667  4.106250  0.904400  7.920617"
      ]
     },
     "execution_count": 54,
     "metadata": {},
     "output_type": "execute_result"
    }
   ],
   "source": [
    "pd.concat([\n",
    "    df[df.PSNR == \"p01\"][\"distractionTime\"].describe(),\n",
    "    #df[df.PSNR == \"p02\"][\"distractionTime\"].describe(),\n",
    "    #df[df.PSNR == \"p06\"][\"distractionTime\"].describe(),\n",
    "    #df[df.PSNR == \"p07\"][\"distractionTime\"].describe(),\n",
    "    df[df.PSNR == \"p08\"][\"distractionTime\"].describe(),\n",
    "    df[df.PSNR == \"p09\"][\"distractionTime\"].describe(),\n",
    "    df[df.PSNR == \"p10\"][\"distractionTime\"].describe(),\n",
    "    df[df.PSNR == \"p11\"][\"distractionTime\"].describe(),\n",
    "    df[df.PSNR == \"p12\"][\"distractionTime\"].describe(),\n",
    "    #df[df.PSNR == \"p17\"][\"distractionTime\"].describe()\n",
    "],axis=1, keys=[\"p01\", \"p08\", \"p09\", \"p10\", \"p11\", \"p12\"])\n",
    "\n",
    "# clear p2,p6,p7 and p17 out of the windowstracking dataframe"
   ]
  },
  {
   "cell_type": "markdown",
   "metadata": {},
   "source": [
    "<h4> Rating </h4>"
   ]
  },
  {
   "cell_type": "code",
   "execution_count": 55,
   "metadata": {},
   "outputs": [
    {
     "data": {
      "text/html": [
       "<div>\n",
       "<style scoped>\n",
       "    .dataframe tbody tr th:only-of-type {\n",
       "        vertical-align: middle;\n",
       "    }\n",
       "\n",
       "    .dataframe tbody tr th {\n",
       "        vertical-align: top;\n",
       "    }\n",
       "\n",
       "    .dataframe thead th {\n",
       "        text-align: right;\n",
       "    }\n",
       "</style>\n",
       "<table border=\"1\" class=\"dataframe\">\n",
       "  <thead>\n",
       "    <tr style=\"text-align: right;\">\n",
       "      <th></th>\n",
       "      <th>pomodoro</th>\n",
       "      <th>exman</th>\n",
       "    </tr>\n",
       "  </thead>\n",
       "  <tbody>\n",
       "    <tr>\n",
       "      <th>count</th>\n",
       "      <td>21.000000</td>\n",
       "      <td>21.000000</td>\n",
       "    </tr>\n",
       "    <tr>\n",
       "      <th>mean</th>\n",
       "      <td>5.476190</td>\n",
       "      <td>5.761905</td>\n",
       "    </tr>\n",
       "    <tr>\n",
       "      <th>std</th>\n",
       "      <td>1.289149</td>\n",
       "      <td>1.338087</td>\n",
       "    </tr>\n",
       "    <tr>\n",
       "      <th>min</th>\n",
       "      <td>2.000000</td>\n",
       "      <td>2.000000</td>\n",
       "    </tr>\n",
       "    <tr>\n",
       "      <th>25%</th>\n",
       "      <td>5.000000</td>\n",
       "      <td>5.000000</td>\n",
       "    </tr>\n",
       "    <tr>\n",
       "      <th>50%</th>\n",
       "      <td>6.000000</td>\n",
       "      <td>6.000000</td>\n",
       "    </tr>\n",
       "    <tr>\n",
       "      <th>75%</th>\n",
       "      <td>6.000000</td>\n",
       "      <td>7.000000</td>\n",
       "    </tr>\n",
       "    <tr>\n",
       "      <th>max</th>\n",
       "      <td>7.000000</td>\n",
       "      <td>7.000000</td>\n",
       "    </tr>\n",
       "  </tbody>\n",
       "</table>\n",
       "</div>"
      ],
      "text/plain": [
       "        pomodoro      exman\n",
       "count  21.000000  21.000000\n",
       "mean    5.476190   5.761905\n",
       "std     1.289149   1.338087\n",
       "min     2.000000   2.000000\n",
       "25%     5.000000   5.000000\n",
       "50%     6.000000   6.000000\n",
       "75%     6.000000   7.000000\n",
       "max     7.000000   7.000000"
      ]
     },
     "execution_count": 55,
     "metadata": {},
     "output_type": "execute_result"
    }
   ],
   "source": [
    "pd.concat([pomodoro[\"rating\"].dropna().astype(int).describe(),exman[\"rating\"].dropna().astype(int).describe()],axis=1,keys=[\"pomodoro\",\"exman\"])"
   ]
  },
  {
   "cell_type": "code",
   "execution_count": 56,
   "metadata": {},
   "outputs": [
    {
     "data": {
      "text/html": [
       "<div>\n",
       "<style scoped>\n",
       "    .dataframe tbody tr th:only-of-type {\n",
       "        vertical-align: middle;\n",
       "    }\n",
       "\n",
       "    .dataframe tbody tr th {\n",
       "        vertical-align: top;\n",
       "    }\n",
       "\n",
       "    .dataframe thead th {\n",
       "        text-align: right;\n",
       "    }\n",
       "</style>\n",
       "<table border=\"1\" class=\"dataframe\">\n",
       "  <thead>\n",
       "    <tr style=\"text-align: right;\">\n",
       "      <th></th>\n",
       "      <th>p01</th>\n",
       "      <th>p02</th>\n",
       "      <th>p06</th>\n",
       "      <th>p07</th>\n",
       "      <th>p08</th>\n",
       "      <th>p09</th>\n",
       "      <th>p10</th>\n",
       "      <th>p12</th>\n",
       "      <th>p17</th>\n",
       "    </tr>\n",
       "  </thead>\n",
       "  <tbody>\n",
       "    <tr>\n",
       "      <th>count</th>\n",
       "      <td>9.000000</td>\n",
       "      <td>1.0</td>\n",
       "      <td>4.000000</td>\n",
       "      <td>3.0</td>\n",
       "      <td>5.000000</td>\n",
       "      <td>7.000000</td>\n",
       "      <td>2.0</td>\n",
       "      <td>5.000000</td>\n",
       "      <td>6.000000</td>\n",
       "    </tr>\n",
       "    <tr>\n",
       "      <th>mean</th>\n",
       "      <td>5.444444</td>\n",
       "      <td>5.0</td>\n",
       "      <td>3.000000</td>\n",
       "      <td>5.0</td>\n",
       "      <td>6.400000</td>\n",
       "      <td>6.571429</td>\n",
       "      <td>6.0</td>\n",
       "      <td>6.200000</td>\n",
       "      <td>5.666667</td>\n",
       "    </tr>\n",
       "    <tr>\n",
       "      <th>std</th>\n",
       "      <td>1.013794</td>\n",
       "      <td>NaN</td>\n",
       "      <td>1.414214</td>\n",
       "      <td>0.0</td>\n",
       "      <td>0.894427</td>\n",
       "      <td>0.786796</td>\n",
       "      <td>0.0</td>\n",
       "      <td>0.447214</td>\n",
       "      <td>1.211060</td>\n",
       "    </tr>\n",
       "    <tr>\n",
       "      <th>min</th>\n",
       "      <td>4.000000</td>\n",
       "      <td>5.0</td>\n",
       "      <td>2.000000</td>\n",
       "      <td>5.0</td>\n",
       "      <td>5.000000</td>\n",
       "      <td>5.000000</td>\n",
       "      <td>6.0</td>\n",
       "      <td>6.000000</td>\n",
       "      <td>4.000000</td>\n",
       "    </tr>\n",
       "    <tr>\n",
       "      <th>25%</th>\n",
       "      <td>5.000000</td>\n",
       "      <td>5.0</td>\n",
       "      <td>2.000000</td>\n",
       "      <td>5.0</td>\n",
       "      <td>6.000000</td>\n",
       "      <td>6.500000</td>\n",
       "      <td>6.0</td>\n",
       "      <td>6.000000</td>\n",
       "      <td>5.000000</td>\n",
       "    </tr>\n",
       "    <tr>\n",
       "      <th>50%</th>\n",
       "      <td>6.000000</td>\n",
       "      <td>5.0</td>\n",
       "      <td>2.500000</td>\n",
       "      <td>5.0</td>\n",
       "      <td>7.000000</td>\n",
       "      <td>7.000000</td>\n",
       "      <td>6.0</td>\n",
       "      <td>6.000000</td>\n",
       "      <td>5.500000</td>\n",
       "    </tr>\n",
       "    <tr>\n",
       "      <th>75%</th>\n",
       "      <td>6.000000</td>\n",
       "      <td>5.0</td>\n",
       "      <td>3.500000</td>\n",
       "      <td>5.0</td>\n",
       "      <td>7.000000</td>\n",
       "      <td>7.000000</td>\n",
       "      <td>6.0</td>\n",
       "      <td>6.000000</td>\n",
       "      <td>6.750000</td>\n",
       "    </tr>\n",
       "    <tr>\n",
       "      <th>max</th>\n",
       "      <td>7.000000</td>\n",
       "      <td>5.0</td>\n",
       "      <td>5.000000</td>\n",
       "      <td>5.0</td>\n",
       "      <td>7.000000</td>\n",
       "      <td>7.000000</td>\n",
       "      <td>6.0</td>\n",
       "      <td>7.000000</td>\n",
       "      <td>7.000000</td>\n",
       "    </tr>\n",
       "  </tbody>\n",
       "</table>\n",
       "</div>"
      ],
      "text/plain": [
       "            p01  p02       p06  p07       p08       p09  p10       p12  \\\n",
       "count  9.000000  1.0  4.000000  3.0  5.000000  7.000000  2.0  5.000000   \n",
       "mean   5.444444  5.0  3.000000  5.0  6.400000  6.571429  6.0  6.200000   \n",
       "std    1.013794  NaN  1.414214  0.0  0.894427  0.786796  0.0  0.447214   \n",
       "min    4.000000  5.0  2.000000  5.0  5.000000  5.000000  6.0  6.000000   \n",
       "25%    5.000000  5.0  2.000000  5.0  6.000000  6.500000  6.0  6.000000   \n",
       "50%    6.000000  5.0  2.500000  5.0  7.000000  7.000000  6.0  6.000000   \n",
       "75%    6.000000  5.0  3.500000  5.0  7.000000  7.000000  6.0  6.000000   \n",
       "max    7.000000  5.0  5.000000  5.0  7.000000  7.000000  6.0  7.000000   \n",
       "\n",
       "            p17  \n",
       "count  6.000000  \n",
       "mean   5.666667  \n",
       "std    1.211060  \n",
       "min    4.000000  \n",
       "25%    5.000000  \n",
       "50%    5.500000  \n",
       "75%    6.750000  \n",
       "max    7.000000  "
      ]
     },
     "execution_count": 56,
     "metadata": {},
     "output_type": "execute_result"
    }
   ],
   "source": [
    "# productivity per version and participants needs to be fixed\n",
    "pd.concat([\n",
    "    df[df.PSNR == \"p01\"][\"rating\"].dropna().astype(int).describe(),\n",
    "    df[df.PSNR == \"p02\"][\"rating\"].dropna().astype(int).describe(),\n",
    "    df[df.PSNR == \"p06\"][\"rating\"].dropna().astype(int).describe(),\n",
    "    df[df.PSNR == \"p07\"][\"rating\"].dropna().astype(int).describe(),\n",
    "    df[df.PSNR == \"p08\"][\"rating\"].dropna().astype(int).describe(),\n",
    "    df[df.PSNR == \"p09\"][\"rating\"].dropna().astype(int).describe(),\n",
    "    df[df.PSNR == \"p10\"][\"rating\"].dropna().astype(int).describe(),\n",
    "    #df[df.PSNR == \"p11\"][\"rating\"].dropna().astype(int).describe(),\n",
    "    df[df.PSNR == \"p12\"][\"rating\"].dropna().astype(int).describe(),\n",
    "    df[df.PSNR == \"p17\"][\"rating\"].dropna().astype(int).describe()\n",
    "],axis=1, keys= [\"p01\",\"p02\",\"p06\",\"p07\", \"p08\", \"p09\", \"p10\", \"p12\",\"p17\"])"
   ]
  },
  {
   "cell_type": "markdown",
   "metadata": {},
   "source": [
    "P17 has pretty low average productivity rating compared to others. Potential explanations from interview?"
   ]
  },
  {
   "cell_type": "code",
   "execution_count": 57,
   "metadata": {},
   "outputs": [
    {
     "data": {
      "text/html": [
       "<div>\n",
       "<style scoped>\n",
       "    .dataframe tbody tr th:only-of-type {\n",
       "        vertical-align: middle;\n",
       "    }\n",
       "\n",
       "    .dataframe tbody tr th {\n",
       "        vertical-align: top;\n",
       "    }\n",
       "\n",
       "    .dataframe thead th {\n",
       "        text-align: right;\n",
       "    }\n",
       "</style>\n",
       "<table border=\"1\" class=\"dataframe\">\n",
       "  <thead>\n",
       "    <tr style=\"text-align: right;\">\n",
       "      <th></th>\n",
       "      <th>p01</th>\n",
       "      <th>p06</th>\n",
       "      <th>p07</th>\n",
       "      <th>p08</th>\n",
       "      <th>p09</th>\n",
       "      <th>p10</th>\n",
       "      <th>p17</th>\n",
       "    </tr>\n",
       "  </thead>\n",
       "  <tbody>\n",
       "    <tr>\n",
       "      <th>count</th>\n",
       "      <td>7.000000</td>\n",
       "      <td>2.00000</td>\n",
       "      <td>2.0</td>\n",
       "      <td>1.0</td>\n",
       "      <td>5.000000</td>\n",
       "      <td>2.0</td>\n",
       "      <td>1.0</td>\n",
       "    </tr>\n",
       "    <tr>\n",
       "      <th>mean</th>\n",
       "      <td>5.285714</td>\n",
       "      <td>3.50000</td>\n",
       "      <td>5.0</td>\n",
       "      <td>7.0</td>\n",
       "      <td>6.800000</td>\n",
       "      <td>6.0</td>\n",
       "      <td>7.0</td>\n",
       "    </tr>\n",
       "    <tr>\n",
       "      <th>std</th>\n",
       "      <td>1.112697</td>\n",
       "      <td>2.12132</td>\n",
       "      <td>0.0</td>\n",
       "      <td>NaN</td>\n",
       "      <td>0.447214</td>\n",
       "      <td>0.0</td>\n",
       "      <td>NaN</td>\n",
       "    </tr>\n",
       "    <tr>\n",
       "      <th>min</th>\n",
       "      <td>4.000000</td>\n",
       "      <td>2.00000</td>\n",
       "      <td>5.0</td>\n",
       "      <td>7.0</td>\n",
       "      <td>6.000000</td>\n",
       "      <td>6.0</td>\n",
       "      <td>7.0</td>\n",
       "    </tr>\n",
       "    <tr>\n",
       "      <th>25%</th>\n",
       "      <td>4.500000</td>\n",
       "      <td>2.75000</td>\n",
       "      <td>5.0</td>\n",
       "      <td>7.0</td>\n",
       "      <td>7.000000</td>\n",
       "      <td>6.0</td>\n",
       "      <td>7.0</td>\n",
       "    </tr>\n",
       "    <tr>\n",
       "      <th>50%</th>\n",
       "      <td>5.000000</td>\n",
       "      <td>3.50000</td>\n",
       "      <td>5.0</td>\n",
       "      <td>7.0</td>\n",
       "      <td>7.000000</td>\n",
       "      <td>6.0</td>\n",
       "      <td>7.0</td>\n",
       "    </tr>\n",
       "    <tr>\n",
       "      <th>75%</th>\n",
       "      <td>6.000000</td>\n",
       "      <td>4.25000</td>\n",
       "      <td>5.0</td>\n",
       "      <td>7.0</td>\n",
       "      <td>7.000000</td>\n",
       "      <td>6.0</td>\n",
       "      <td>7.0</td>\n",
       "    </tr>\n",
       "    <tr>\n",
       "      <th>max</th>\n",
       "      <td>7.000000</td>\n",
       "      <td>5.00000</td>\n",
       "      <td>5.0</td>\n",
       "      <td>7.0</td>\n",
       "      <td>7.000000</td>\n",
       "      <td>6.0</td>\n",
       "      <td>7.0</td>\n",
       "    </tr>\n",
       "  </tbody>\n",
       "</table>\n",
       "</div>"
      ],
      "text/plain": [
       "            p01      p06  p07  p08       p09  p10  p17\n",
       "count  7.000000  2.00000  2.0  1.0  5.000000  2.0  1.0\n",
       "mean   5.285714  3.50000  5.0  7.0  6.800000  6.0  7.0\n",
       "std    1.112697  2.12132  0.0  NaN  0.447214  0.0  NaN\n",
       "min    4.000000  2.00000  5.0  7.0  6.000000  6.0  7.0\n",
       "25%    4.500000  2.75000  5.0  7.0  7.000000  6.0  7.0\n",
       "50%    5.000000  3.50000  5.0  7.0  7.000000  6.0  7.0\n",
       "75%    6.000000  4.25000  5.0  7.0  7.000000  6.0  7.0\n",
       "max    7.000000  5.00000  5.0  7.0  7.000000  6.0  7.0"
      ]
     },
     "execution_count": 57,
     "metadata": {},
     "output_type": "execute_result"
    }
   ],
   "source": [
    "# productivity per version and participants needs to be fixed\n",
    "pd.concat([\n",
    "    exman_rating[exman_rating.PSNR == \"p01\"][\"rating\"].dropna().astype(int).describe(),\n",
    "    #exman_rating[exman_rating.PSNR == \"p02\"][\"rating\"].dropna().astype(int).describe(),\n",
    "    exman_rating[exman_rating.PSNR == \"p06\"][\"rating\"].dropna().astype(int).describe(),\n",
    "    exman_rating[exman_rating.PSNR == \"p07\"][\"rating\"].dropna().astype(int).describe(),\n",
    "    exman_rating[exman_rating.PSNR == \"p08\"][\"rating\"].dropna().astype(int).describe(),\n",
    "    exman_rating[exman_rating.PSNR == \"p09\"][\"rating\"].dropna().astype(int).describe(),\n",
    "    exman_rating[exman_rating.PSNR == \"p10\"][\"rating\"].dropna().astype(int).describe(),\n",
    "    #exman_rating[exman_rating.PSNR == \"p11\"][\"rating\"].dropna().astype(int).describe(),\n",
    "    #exman_rating[exman_rating.PSNR == \"p12\"][\"rating\"].dropna().astype(int).describe(),\n",
    "    exman_rating[exman_rating.PSNR == \"p17\"][\"rating\"].dropna().astype(int).describe()\n",
    "],axis=1, keys= [\"p01\",\"p06\",\"p07\", \"p08\", \"p09\", \"p10\",\"p17\"])"
   ]
  },
  {
   "cell_type": "code",
   "execution_count": 58,
   "metadata": {},
   "outputs": [
    {
     "data": {
      "text/html": [
       "<div>\n",
       "<style scoped>\n",
       "    .dataframe tbody tr th:only-of-type {\n",
       "        vertical-align: middle;\n",
       "    }\n",
       "\n",
       "    .dataframe tbody tr th {\n",
       "        vertical-align: top;\n",
       "    }\n",
       "\n",
       "    .dataframe thead th {\n",
       "        text-align: right;\n",
       "    }\n",
       "</style>\n",
       "<table border=\"1\" class=\"dataframe\">\n",
       "  <thead>\n",
       "    <tr style=\"text-align: right;\">\n",
       "      <th></th>\n",
       "      <th>p07</th>\n",
       "      <th>p09</th>\n",
       "      <th>p01</th>\n",
       "      <th>p17</th>\n",
       "      <th>p12</th>\n",
       "      <th>p06</th>\n",
       "      <th>p08</th>\n",
       "      <th>p11</th>\n",
       "      <th>p02</th>\n",
       "      <th>p10</th>\n",
       "    </tr>\n",
       "  </thead>\n",
       "  <tbody>\n",
       "    <tr>\n",
       "      <th>count</th>\n",
       "      <td>2.0</td>\n",
       "      <td>1.0</td>\n",
       "      <td>2.000000</td>\n",
       "      <td>1.0</td>\n",
       "      <td>4.000000</td>\n",
       "      <td>2.000000</td>\n",
       "      <td>0.0</td>\n",
       "      <td>0.0</td>\n",
       "      <td>4.0</td>\n",
       "      <td>5.000000</td>\n",
       "    </tr>\n",
       "    <tr>\n",
       "      <th>mean</th>\n",
       "      <td>6.0</td>\n",
       "      <td>5.0</td>\n",
       "      <td>2.500000</td>\n",
       "      <td>5.0</td>\n",
       "      <td>6.250000</td>\n",
       "      <td>6.000000</td>\n",
       "      <td>NaN</td>\n",
       "      <td>NaN</td>\n",
       "      <td>6.0</td>\n",
       "      <td>5.400000</td>\n",
       "    </tr>\n",
       "    <tr>\n",
       "      <th>std</th>\n",
       "      <td>0.0</td>\n",
       "      <td>NaN</td>\n",
       "      <td>0.707107</td>\n",
       "      <td>NaN</td>\n",
       "      <td>0.957427</td>\n",
       "      <td>1.414214</td>\n",
       "      <td>NaN</td>\n",
       "      <td>NaN</td>\n",
       "      <td>0.0</td>\n",
       "      <td>1.140175</td>\n",
       "    </tr>\n",
       "    <tr>\n",
       "      <th>min</th>\n",
       "      <td>6.0</td>\n",
       "      <td>5.0</td>\n",
       "      <td>2.000000</td>\n",
       "      <td>5.0</td>\n",
       "      <td>5.000000</td>\n",
       "      <td>5.000000</td>\n",
       "      <td>NaN</td>\n",
       "      <td>NaN</td>\n",
       "      <td>6.0</td>\n",
       "      <td>4.000000</td>\n",
       "    </tr>\n",
       "    <tr>\n",
       "      <th>25%</th>\n",
       "      <td>6.0</td>\n",
       "      <td>5.0</td>\n",
       "      <td>2.250000</td>\n",
       "      <td>5.0</td>\n",
       "      <td>5.750000</td>\n",
       "      <td>5.500000</td>\n",
       "      <td>NaN</td>\n",
       "      <td>NaN</td>\n",
       "      <td>6.0</td>\n",
       "      <td>5.000000</td>\n",
       "    </tr>\n",
       "    <tr>\n",
       "      <th>50%</th>\n",
       "      <td>6.0</td>\n",
       "      <td>5.0</td>\n",
       "      <td>2.500000</td>\n",
       "      <td>5.0</td>\n",
       "      <td>6.500000</td>\n",
       "      <td>6.000000</td>\n",
       "      <td>NaN</td>\n",
       "      <td>NaN</td>\n",
       "      <td>6.0</td>\n",
       "      <td>5.000000</td>\n",
       "    </tr>\n",
       "    <tr>\n",
       "      <th>75%</th>\n",
       "      <td>6.0</td>\n",
       "      <td>5.0</td>\n",
       "      <td>2.750000</td>\n",
       "      <td>5.0</td>\n",
       "      <td>7.000000</td>\n",
       "      <td>6.500000</td>\n",
       "      <td>NaN</td>\n",
       "      <td>NaN</td>\n",
       "      <td>6.0</td>\n",
       "      <td>6.000000</td>\n",
       "    </tr>\n",
       "    <tr>\n",
       "      <th>max</th>\n",
       "      <td>6.0</td>\n",
       "      <td>5.0</td>\n",
       "      <td>3.000000</td>\n",
       "      <td>5.0</td>\n",
       "      <td>7.000000</td>\n",
       "      <td>7.000000</td>\n",
       "      <td>NaN</td>\n",
       "      <td>NaN</td>\n",
       "      <td>6.0</td>\n",
       "      <td>7.000000</td>\n",
       "    </tr>\n",
       "  </tbody>\n",
       "</table>\n",
       "</div>"
      ],
      "text/plain": [
       "       p07  p09       p01  p17       p12       p06  p08  p11  p02       p10\n",
       "count  2.0  1.0  2.000000  1.0  4.000000  2.000000  0.0  0.0  4.0  5.000000\n",
       "mean   6.0  5.0  2.500000  5.0  6.250000  6.000000  NaN  NaN  6.0  5.400000\n",
       "std    0.0  NaN  0.707107  NaN  0.957427  1.414214  NaN  NaN  0.0  1.140175\n",
       "min    6.0  5.0  2.000000  5.0  5.000000  5.000000  NaN  NaN  6.0  4.000000\n",
       "25%    6.0  5.0  2.250000  5.0  5.750000  5.500000  NaN  NaN  6.0  5.000000\n",
       "50%    6.0  5.0  2.500000  5.0  6.500000  6.000000  NaN  NaN  6.0  5.000000\n",
       "75%    6.0  5.0  2.750000  5.0  7.000000  6.500000  NaN  NaN  6.0  6.000000\n",
       "max    6.0  5.0  3.000000  5.0  7.000000  7.000000  NaN  NaN  6.0  7.000000"
      ]
     },
     "execution_count": 58,
     "metadata": {},
     "output_type": "execute_result"
    }
   ],
   "source": [
    "# productivity per version and participants needs to be fixed\n",
    "pd.concat([\n",
    "    pomodoro_rating[pomodoro_rating.PSNR == \"p01\"][\"rating\"].dropna().astype(int).describe(),\n",
    "    pomodoro_rating[pomodoro_rating.PSNR == \"p02\"][\"rating\"].dropna().astype(int).describe(),\n",
    "    pomodoro_rating[pomodoro_rating.PSNR == \"p06\"][\"rating\"].dropna().astype(int).describe(),\n",
    "    pomodoro_rating[pomodoro_rating.PSNR == \"p07\"][\"rating\"].dropna().astype(int).describe(),\n",
    "    pomodoro_rating[pomodoro_rating.PSNR == \"p08\"][\"rating\"].dropna().astype(int).describe(),\n",
    "    pomodoro_rating[pomodoro_rating.PSNR == \"p09\"][\"rating\"].dropna().astype(int).describe(),\n",
    "    pomodoro_rating[pomodoro_rating.PSNR == \"p10\"][\"rating\"].dropna().astype(int).describe(),\n",
    "    pomodoro_rating[pomodoro_rating.PSNR == \"p11\"][\"rating\"].dropna().astype(int).describe(),\n",
    "    pomodoro_rating[pomodoro_rating.PSNR == \"p12\"][\"rating\"].dropna().astype(int).describe(),\n",
    "    pomodoro_rating[pomodoro_rating.PSNR == \"p17\"][\"rating\"].dropna().astype(int).describe()\n",
    "],axis=1, keys= df.PSNR.unique())"
   ]
  },
  {
   "cell_type": "code",
   "execution_count": 59,
   "metadata": {},
   "outputs": [],
   "source": [
    "df[df[\"brokenFocusPerHour\"] < 16.5]['brokenFocusPerHour']\n",
    "\n",
    "p1_rating = df[df.PSNR == \"p01\"][\"rating\"].dropna().astype(int)\n",
    "p7_rating = df[df.PSNR == \"p07\"][\"rating\"].dropna().astype(int)\n",
    "p8_rating = df[df.PSNR == \"p08\"][\"rating\"].dropna().astype(int)\n",
    "\n",
    "p1_broken = df[df.PSNR == \"p01\"][\"percentageCompletedGoals\"].dropna().astype(int)\n",
    "p7_broken = df[df.PSNR == \"p07\"][\"percentageCompletedGoals\"].dropna().astype(int)\n",
    "p8_broken = df[df.PSNR == \"p08\"][\"percentageCompletedGoals\"].dropna().astype(int)\n",
    "\n",
    "#filter for the best results"
   ]
  },
  {
   "cell_type": "code",
   "execution_count": 60,
   "metadata": {},
   "outputs": [
    {
     "data": {
      "text/plain": [
       "[<matplotlib.lines.Line2D at 0x1a243c4e5c8>]"
      ]
     },
     "execution_count": 60,
     "metadata": {},
     "output_type": "execute_result"
    },
    {
     "data": {
      "image/png": "[encoded data removed]",
      "text/plain": [
       "<Figure size 1080x360 with 3 Axes>"
      ]
     },
     "metadata": {
      "needs_background": "light"
     },
     "output_type": "display_data"
    }
   ],
   "source": [
    "fig, (ax1,ax2,ax3) = plt.subplots(1, 3,figsize=(15,5))\n",
    "\n",
    "ax1.plot([i for i in range(len(p1_rating))],p1_rating)\n",
    "ax2.plot([i for i in range(len(p7_rating))],p7_rating)\n",
    "ax3.plot([i for i in range(len(p8_rating))],p8_rating)"
   ]
  },
  {
   "cell_type": "code",
   "execution_count": 61,
   "metadata": {},
   "outputs": [
    {
     "data": {
      "text/plain": [
       "[<matplotlib.lines.Line2D at 0x1a243a8ce48>]"
      ]
     },
     "execution_count": 61,
     "metadata": {},
     "output_type": "execute_result"
    },
    {
     "data": {
      "image/png": "[encoded data removed]",
      "text/plain": [
       "<Figure size 1080x360 with 3 Axes>"
      ]
     },
     "metadata": {
      "needs_background": "light"
     },
     "output_type": "display_data"
    }
   ],
   "source": [
    "fig, (ax1,ax2,ax3) = plt.subplots(1, 3,figsize=(15,5))\n",
    "\n",
    "ax1.plot([i for i in range(len(p1_broken))],p1_broken)\n",
    "ax2.plot([i for i in range(len(p7_broken))],p7_broken)\n",
    "ax3.plot([i for i in range(len(p8_broken))],p8_broken)\n",
    "\n",
    "#look at the dates do a plot to do frequency of focus session per date"
   ]
  },
  {
   "cell_type": "markdown",
   "metadata": {},
   "source": [
    "Overall participants have consistent behaviour over the study duration."
   ]
  },
  {
   "cell_type": "code",
   "execution_count": 62,
   "metadata": {},
   "outputs": [],
   "source": [
    "exman_p1 = exman_rating[exman_rating.PSNR == \"p01\" ][\"percentageCompletedGoals\"].astype(int)\n",
    "exman_p9 = exman_rating[exman_rating.PSNR == \"p09\"][\"percentageCompletedGoals\"].astype(int)\n",
    "exman_p12 = exman_rating[exman_rating.PSNR == \"p12\"][\"percentageCompletedGoals\"].astype(int)\n",
    "\n",
    "pomodoro_p1 = pomodoro_rating[pomodoro_rating.PSNR == \"p01\"][\"percentageCompletedGoals\"].astype(int)\n",
    "pomodoro_p9 = pomodoro_rating[pomodoro_rating.PSNR == \"p09\"][\"percentageCompletedGoals\"].astype(int)\n",
    "pomodoro_p12 = pomodoro_rating[pomodoro_rating.PSNR == \"p12\"][\"percentageCompletedGoals\"].astype(int)"
   ]
  },
  {
   "cell_type": "code",
   "execution_count": 63,
   "metadata": {},
   "outputs": [
    {
     "name": "stdout",
     "output_type": "stream",
     "text": [
      "P-Value:0.17230829673040018 T-Statistic:-1.5491933384829666\n"
     ]
    }
   ],
   "source": [
    "tStat, pValue = stats.ttest_ind(exman_p1, pomodoro_p1, equal_var = False)\n",
    "print(\"P-Value:{0} T-Statistic:{1}\".format(pValue,tStat))"
   ]
  },
  {
   "cell_type": "code",
   "execution_count": 64,
   "metadata": {},
   "outputs": [
    {
     "name": "stdout",
     "output_type": "stream",
     "text": [
      "P-Value:0.49999999999999956 T-Statistic:1.0\n"
     ]
    }
   ],
   "source": [
    "tStat, pValue = stats.ttest_ind(exman_p9, pomodoro_p9, equal_var = False)\n",
    "print(\"P-Value:{0} T-Statistic:{1}\".format(pValue,tStat))"
   ]
  }
 ],
 "metadata": {
  "kernelspec": {
   "display_name": "Python 3",
   "language": "python",
   "name": "python3"
  },
  "language_info": {
   "codemirror_mode": {
    "name": "ipython",
    "version": 3
   },
   "file_extension": ".py",
   "mimetype": "text/x-python",
   "name": "python",
   "nbconvert_exporter": "python",
   "pygments_lexer": "ipython3",
   "version": "3.7.7"
  }
 },
 "nbformat": 4,
 "nbformat_minor": 4
}
