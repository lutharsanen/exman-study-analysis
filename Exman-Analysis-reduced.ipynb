{
 "cells": [
  {
   "cell_type": "code",
   "execution_count": 1,
   "metadata": {},
   "outputs": [],
   "source": [
    "import json\n",
    "import numpy as np\n",
    "import matplotlib.pyplot as plt\n",
    "import pandas as pd\n",
    "import scipy.stats"
   ]
  },
  {
   "cell_type": "markdown",
   "metadata": {},
   "source": [
    "<h1> Research Questions </h1>"
   ]
  },
  {
   "cell_type": "code",
   "execution_count": 2,
   "metadata": {},
   "outputs": [],
   "source": [
    "df = pd.read_pickle(\"./pickle/df_top100.pkl\")\n",
    "exman = pd.read_pickle(\"./pickle/exman_top50.pkl\")\n",
    "pomodoro = pd.read_pickle(\"./pickle/pomodoro_top50.pkl\")"
   ]
  },
  {
   "cell_type": "code",
   "execution_count": 3,
   "metadata": {},
   "outputs": [],
   "source": [
    "def normalize_data(data_input, normalizer, data_output, df):\n",
    "    df[data_output] = df[data_input]/df[normalizer]*60"
   ]
  },
  {
   "cell_type": "code",
   "execution_count": 4,
   "metadata": {},
   "outputs": [],
   "source": [
    "def get_comparison_summary(parameter):\n",
    "    return pd.concat([pomodoro[parameter].describe(),exman[parameter].describe()],axis=1,keys=[\"pomodoro\",\"exman\"])"
   ]
  },
  {
   "cell_type": "markdown",
   "metadata": {},
   "source": [
    "<h2>What is the effect of notification blocking and distraction discouragements during a user defined time period on their perceived productivity?</h2>\n"
   ]
  },
  {
   "cell_type": "markdown",
   "metadata": {},
   "source": [
    "<h4>goals achieved</h4>"
   ]
  },
  {
   "cell_type": "code",
   "execution_count": 5,
   "metadata": {},
   "outputs": [],
   "source": [
    "normalize_data(\"goalsAchieved\",\"minutesInFocus\",\"goalsAchievedPerHour\", exman)\n",
    "normalize_data(\"goalsAchieved\",\"minutesInFocus\",\"goalsAchievedPerHour\", pomodoro)\n",
    "normalize_data(\"goalsAchieved\",\"minutesInFocus\",\"goalsAchievedPerHour\", df)"
   ]
  },
  {
   "cell_type": "code",
   "execution_count": 6,
   "metadata": {},
   "outputs": [
    {
     "data": {
      "text/plain": [
       "1.6127128160179658"
      ]
     },
     "execution_count": 6,
     "metadata": {},
     "output_type": "execute_result"
    }
   ],
   "source": [
    "exman[\"goalsAchievedPerHour\"].mean()"
   ]
  },
  {
   "cell_type": "code",
   "execution_count": 7,
   "metadata": {},
   "outputs": [
    {
     "data": {
      "text/plain": [
       "1.2548478500667868"
      ]
     },
     "execution_count": 7,
     "metadata": {},
     "output_type": "execute_result"
    }
   ],
   "source": [
    "pomodoro[\"goalsAchievedPerHour\"].mean()"
   ]
  },
  {
   "cell_type": "code",
   "execution_count": 8,
   "metadata": {},
   "outputs": [
    {
     "data": {
      "image/png": "[encoded data removed]",
      "text/plain": [
       "<Figure size 432x288 with 1 Axes>"
      ]
     },
     "metadata": {
      "needs_background": "light"
     },
     "output_type": "display_data"
    }
   ],
   "source": [
    "plt.scatter(exman[\"minutesInFocus\"],exman[\"goalsAchieved\"],label=\"exman\")\n",
    "plt.scatter(pomodoro[\"minutesInFocus\"],pomodoro[\"goalsAchieved\"], label=\"pomodoro\")\n",
    "plt.legend()\n",
    "\n",
    "slope, intercept, r, p, stderr = scipy.stats.linregress(exman[\"minutesInFocus\"], exman[\"goalsAchieved\"])\n",
    "plt.plot(exman[\"minutesInFocus\"], intercept + slope * exman[\"minutesInFocus\"])\n",
    "\n",
    "slope, intercept, r, p, stderr = scipy.stats.linregress(pomodoro[\"minutesInFocus\"], pomodoro[\"goalsAchieved\"])\n",
    "plt.plot(pomodoro[\"minutesInFocus\"], intercept + slope * pomodoro[\"minutesInFocus\"])\n",
    "\n",
    "plt.xlabel(\"minutes\")\n",
    "plt.ylabel(\"goals\")\n",
    "\n",
    "plt.show()"
   ]
  },
  {
   "cell_type": "code",
   "execution_count": 9,
   "metadata": {},
   "outputs": [
    {
     "data": {
      "image/png": "[encoded data removed]",
      "text/plain": [
       "<Figure size 432x288 with 1 Axes>"
      ]
     },
     "metadata": {
      "needs_background": "light"
     },
     "output_type": "display_data"
    }
   ],
   "source": [
    "x = [list(exman[\"goalsAchievedPerHour\"]),list(pomodoro[\"goalsAchievedPerHour\"])]\n",
    "\n",
    "label = [\"exman\",\"pormodoro\"]\n",
    "colors = ['red', 'blue']\n",
    "plt.hist(x, histtype='bar', color=colors, label=label)\n",
    "plt.legend(prop={'size': 10})\n",
    "plt.title('bars with legend')\n",
    "\n",
    "\n",
    "plt.show()"
   ]
  },
  {
   "cell_type": "code",
   "execution_count": 10,
   "metadata": {},
   "outputs": [
    {
     "data": {
      "text/html": [
       "<div>\n",
       "<style scoped>\n",
       "    .dataframe tbody tr th:only-of-type {\n",
       "        vertical-align: middle;\n",
       "    }\n",
       "\n",
       "    .dataframe tbody tr th {\n",
       "        vertical-align: top;\n",
       "    }\n",
       "\n",
       "    .dataframe thead th {\n",
       "        text-align: right;\n",
       "    }\n",
       "</style>\n",
       "<table border=\"1\" class=\"dataframe\">\n",
       "  <thead>\n",
       "    <tr style=\"text-align: right;\">\n",
       "      <th></th>\n",
       "      <th>PSNR</th>\n",
       "      <th>goalsAchieved</th>\n",
       "      <th>goalsAchievedPerHour</th>\n",
       "      <th>percentageCompletedGoals</th>\n",
       "      <th>minutesInFocus</th>\n",
       "    </tr>\n",
       "  </thead>\n",
       "  <tbody>\n",
       "    <tr>\n",
       "      <th>42</th>\n",
       "      <td>p06</td>\n",
       "      <td>1</td>\n",
       "      <td>1.500000</td>\n",
       "      <td>1.00</td>\n",
       "      <td>40.00</td>\n",
       "    </tr>\n",
       "    <tr>\n",
       "      <th>39</th>\n",
       "      <td>p06</td>\n",
       "      <td>1</td>\n",
       "      <td>1.500000</td>\n",
       "      <td>1.00</td>\n",
       "      <td>40.00</td>\n",
       "    </tr>\n",
       "    <tr>\n",
       "      <th>137</th>\n",
       "      <td>p09</td>\n",
       "      <td>1</td>\n",
       "      <td>1.748761</td>\n",
       "      <td>1.00</td>\n",
       "      <td>34.31</td>\n",
       "    </tr>\n",
       "    <tr>\n",
       "      <th>89</th>\n",
       "      <td>p07</td>\n",
       "      <td>3</td>\n",
       "      <td>1.763668</td>\n",
       "      <td>0.75</td>\n",
       "      <td>102.06</td>\n",
       "    </tr>\n",
       "    <tr>\n",
       "      <th>143</th>\n",
       "      <td>p09</td>\n",
       "      <td>2</td>\n",
       "      <td>1.808046</td>\n",
       "      <td>1.00</td>\n",
       "      <td>66.37</td>\n",
       "    </tr>\n",
       "    <tr>\n",
       "      <th>45</th>\n",
       "      <td>p06</td>\n",
       "      <td>1</td>\n",
       "      <td>2.049180</td>\n",
       "      <td>1.00</td>\n",
       "      <td>29.28</td>\n",
       "    </tr>\n",
       "    <tr>\n",
       "      <th>16</th>\n",
       "      <td>p01</td>\n",
       "      <td>1</td>\n",
       "      <td>2.400000</td>\n",
       "      <td>1.00</td>\n",
       "      <td>25.00</td>\n",
       "    </tr>\n",
       "    <tr>\n",
       "      <th>124</th>\n",
       "      <td>p08</td>\n",
       "      <td>1</td>\n",
       "      <td>2.400000</td>\n",
       "      <td>1.00</td>\n",
       "      <td>25.00</td>\n",
       "    </tr>\n",
       "    <tr>\n",
       "      <th>11</th>\n",
       "      <td>p01</td>\n",
       "      <td>1</td>\n",
       "      <td>2.400000</td>\n",
       "      <td>1.00</td>\n",
       "      <td>25.00</td>\n",
       "    </tr>\n",
       "    <tr>\n",
       "      <th>150</th>\n",
       "      <td>p09</td>\n",
       "      <td>1</td>\n",
       "      <td>2.400000</td>\n",
       "      <td>1.00</td>\n",
       "      <td>25.00</td>\n",
       "    </tr>\n",
       "    <tr>\n",
       "      <th>166</th>\n",
       "      <td>p10</td>\n",
       "      <td>3</td>\n",
       "      <td>4.000000</td>\n",
       "      <td>1.00</td>\n",
       "      <td>45.00</td>\n",
       "    </tr>\n",
       "    <tr>\n",
       "      <th>14</th>\n",
       "      <td>p01</td>\n",
       "      <td>1</td>\n",
       "      <td>4.000000</td>\n",
       "      <td>1.00</td>\n",
       "      <td>15.00</td>\n",
       "    </tr>\n",
       "    <tr>\n",
       "      <th>7</th>\n",
       "      <td>p01</td>\n",
       "      <td>1</td>\n",
       "      <td>4.000000</td>\n",
       "      <td>1.00</td>\n",
       "      <td>15.00</td>\n",
       "    </tr>\n",
       "    <tr>\n",
       "      <th>123</th>\n",
       "      <td>p08</td>\n",
       "      <td>1</td>\n",
       "      <td>4.000000</td>\n",
       "      <td>1.00</td>\n",
       "      <td>15.00</td>\n",
       "    </tr>\n",
       "    <tr>\n",
       "      <th>169</th>\n",
       "      <td>p10</td>\n",
       "      <td>3</td>\n",
       "      <td>4.090909</td>\n",
       "      <td>1.00</td>\n",
       "      <td>44.00</td>\n",
       "    </tr>\n",
       "    <tr>\n",
       "      <th>17</th>\n",
       "      <td>p01</td>\n",
       "      <td>2</td>\n",
       "      <td>4.800000</td>\n",
       "      <td>1.00</td>\n",
       "      <td>25.00</td>\n",
       "    </tr>\n",
       "    <tr>\n",
       "      <th>172</th>\n",
       "      <td>p10</td>\n",
       "      <td>2</td>\n",
       "      <td>4.800000</td>\n",
       "      <td>1.00</td>\n",
       "      <td>25.00</td>\n",
       "    </tr>\n",
       "    <tr>\n",
       "      <th>140</th>\n",
       "      <td>p09</td>\n",
       "      <td>1</td>\n",
       "      <td>5.633803</td>\n",
       "      <td>1.00</td>\n",
       "      <td>10.65</td>\n",
       "    </tr>\n",
       "    <tr>\n",
       "      <th>176</th>\n",
       "      <td>p10</td>\n",
       "      <td>3</td>\n",
       "      <td>7.200000</td>\n",
       "      <td>1.00</td>\n",
       "      <td>25.00</td>\n",
       "    </tr>\n",
       "    <tr>\n",
       "      <th>0</th>\n",
       "      <td>p01</td>\n",
       "      <td>5</td>\n",
       "      <td>7.500000</td>\n",
       "      <td>0.62</td>\n",
       "      <td>40.00</td>\n",
       "    </tr>\n",
       "  </tbody>\n",
       "</table>\n",
       "</div>"
      ],
      "text/plain": [
       "    PSNR  goalsAchieved  goalsAchievedPerHour  percentageCompletedGoals  \\\n",
       "42   p06              1              1.500000                      1.00   \n",
       "39   p06              1              1.500000                      1.00   \n",
       "137  p09              1              1.748761                      1.00   \n",
       "89   p07              3              1.763668                      0.75   \n",
       "143  p09              2              1.808046                      1.00   \n",
       "45   p06              1              2.049180                      1.00   \n",
       "16   p01              1              2.400000                      1.00   \n",
       "124  p08              1              2.400000                      1.00   \n",
       "11   p01              1              2.400000                      1.00   \n",
       "150  p09              1              2.400000                      1.00   \n",
       "166  p10              3              4.000000                      1.00   \n",
       "14   p01              1              4.000000                      1.00   \n",
       "7    p01              1              4.000000                      1.00   \n",
       "123  p08              1              4.000000                      1.00   \n",
       "169  p10              3              4.090909                      1.00   \n",
       "17   p01              2              4.800000                      1.00   \n",
       "172  p10              2              4.800000                      1.00   \n",
       "140  p09              1              5.633803                      1.00   \n",
       "176  p10              3              7.200000                      1.00   \n",
       "0    p01              5              7.500000                      0.62   \n",
       "\n",
       "     minutesInFocus  \n",
       "42            40.00  \n",
       "39            40.00  \n",
       "137           34.31  \n",
       "89           102.06  \n",
       "143           66.37  \n",
       "45            29.28  \n",
       "16            25.00  \n",
       "124           25.00  \n",
       "11            25.00  \n",
       "150           25.00  \n",
       "166           45.00  \n",
       "14            15.00  \n",
       "7             15.00  \n",
       "123           15.00  \n",
       "169           44.00  \n",
       "17            25.00  \n",
       "172           25.00  \n",
       "140           10.65  \n",
       "176           25.00  \n",
       "0             40.00  "
      ]
     },
     "execution_count": 10,
     "metadata": {},
     "output_type": "execute_result"
    }
   ],
   "source": [
    "exman[[\"PSNR\", \"goalsAchieved\", \"goalsAchievedPerHour\", \"percentageCompletedGoals\", \"minutesInFocus\"]].sort_values(\"goalsAchievedPerHour\").tail(20)"
   ]
  },
  {
   "cell_type": "code",
   "execution_count": 11,
   "metadata": {},
   "outputs": [
    {
     "data": {
      "text/html": [
       "<div>\n",
       "<style scoped>\n",
       "    .dataframe tbody tr th:only-of-type {\n",
       "        vertical-align: middle;\n",
       "    }\n",
       "\n",
       "    .dataframe tbody tr th {\n",
       "        vertical-align: top;\n",
       "    }\n",
       "\n",
       "    .dataframe thead th {\n",
       "        text-align: right;\n",
       "    }\n",
       "</style>\n",
       "<table border=\"1\" class=\"dataframe\">\n",
       "  <thead>\n",
       "    <tr style=\"text-align: right;\">\n",
       "      <th></th>\n",
       "      <th>PSNR</th>\n",
       "      <th>goalsAchieved</th>\n",
       "      <th>goalsAchievedPerHour</th>\n",
       "      <th>percentageCompletedGoals</th>\n",
       "      <th>minutesInFocus</th>\n",
       "    </tr>\n",
       "  </thead>\n",
       "  <tbody>\n",
       "    <tr>\n",
       "      <th>161</th>\n",
       "      <td>p09</td>\n",
       "      <td>1</td>\n",
       "      <td>1.495513</td>\n",
       "      <td>1.00</td>\n",
       "      <td>40.12</td>\n",
       "    </tr>\n",
       "    <tr>\n",
       "      <th>101</th>\n",
       "      <td>p08</td>\n",
       "      <td>1</td>\n",
       "      <td>1.500000</td>\n",
       "      <td>1.00</td>\n",
       "      <td>40.00</td>\n",
       "    </tr>\n",
       "    <tr>\n",
       "      <th>103</th>\n",
       "      <td>p08</td>\n",
       "      <td>1</td>\n",
       "      <td>1.500000</td>\n",
       "      <td>1.00</td>\n",
       "      <td>40.00</td>\n",
       "    </tr>\n",
       "    <tr>\n",
       "      <th>47</th>\n",
       "      <td>p06</td>\n",
       "      <td>1</td>\n",
       "      <td>1.500000</td>\n",
       "      <td>1.00</td>\n",
       "      <td>40.00</td>\n",
       "    </tr>\n",
       "    <tr>\n",
       "      <th>46</th>\n",
       "      <td>p06</td>\n",
       "      <td>1</td>\n",
       "      <td>1.500000</td>\n",
       "      <td>1.00</td>\n",
       "      <td>40.00</td>\n",
       "    </tr>\n",
       "    <tr>\n",
       "      <th>212</th>\n",
       "      <td>p17</td>\n",
       "      <td>2</td>\n",
       "      <td>1.500000</td>\n",
       "      <td>0.33</td>\n",
       "      <td>80.00</td>\n",
       "    </tr>\n",
       "    <tr>\n",
       "      <th>25</th>\n",
       "      <td>p01</td>\n",
       "      <td>1</td>\n",
       "      <td>1.500000</td>\n",
       "      <td>1.00</td>\n",
       "      <td>40.00</td>\n",
       "    </tr>\n",
       "    <tr>\n",
       "      <th>20</th>\n",
       "      <td>p01</td>\n",
       "      <td>3</td>\n",
       "      <td>1.622938</td>\n",
       "      <td>1.00</td>\n",
       "      <td>110.91</td>\n",
       "    </tr>\n",
       "    <tr>\n",
       "      <th>56</th>\n",
       "      <td>p07</td>\n",
       "      <td>1</td>\n",
       "      <td>1.647899</td>\n",
       "      <td>1.00</td>\n",
       "      <td>36.41</td>\n",
       "    </tr>\n",
       "    <tr>\n",
       "      <th>57</th>\n",
       "      <td>p07</td>\n",
       "      <td>1</td>\n",
       "      <td>2.000000</td>\n",
       "      <td>1.00</td>\n",
       "      <td>30.00</td>\n",
       "    </tr>\n",
       "    <tr>\n",
       "      <th>51</th>\n",
       "      <td>p07</td>\n",
       "      <td>1</td>\n",
       "      <td>2.031144</td>\n",
       "      <td>1.00</td>\n",
       "      <td>29.54</td>\n",
       "    </tr>\n",
       "    <tr>\n",
       "      <th>23</th>\n",
       "      <td>p01</td>\n",
       "      <td>4</td>\n",
       "      <td>2.336676</td>\n",
       "      <td>1.00</td>\n",
       "      <td>102.71</td>\n",
       "    </tr>\n",
       "    <tr>\n",
       "      <th>120</th>\n",
       "      <td>p08</td>\n",
       "      <td>1</td>\n",
       "      <td>2.400000</td>\n",
       "      <td>1.00</td>\n",
       "      <td>25.00</td>\n",
       "    </tr>\n",
       "    <tr>\n",
       "      <th>160</th>\n",
       "      <td>p09</td>\n",
       "      <td>1</td>\n",
       "      <td>3.025719</td>\n",
       "      <td>1.00</td>\n",
       "      <td>19.83</td>\n",
       "    </tr>\n",
       "    <tr>\n",
       "      <th>34</th>\n",
       "      <td>p02</td>\n",
       "      <td>1</td>\n",
       "      <td>3.296703</td>\n",
       "      <td>1.00</td>\n",
       "      <td>18.20</td>\n",
       "    </tr>\n",
       "    <tr>\n",
       "      <th>28</th>\n",
       "      <td>p01</td>\n",
       "      <td>1</td>\n",
       "      <td>4.000000</td>\n",
       "      <td>1.00</td>\n",
       "      <td>15.00</td>\n",
       "    </tr>\n",
       "    <tr>\n",
       "      <th>157</th>\n",
       "      <td>p09</td>\n",
       "      <td>1</td>\n",
       "      <td>4.000000</td>\n",
       "      <td>1.00</td>\n",
       "      <td>15.00</td>\n",
       "    </tr>\n",
       "    <tr>\n",
       "      <th>110</th>\n",
       "      <td>p08</td>\n",
       "      <td>1</td>\n",
       "      <td>4.000000</td>\n",
       "      <td>1.00</td>\n",
       "      <td>15.00</td>\n",
       "    </tr>\n",
       "    <tr>\n",
       "      <th>211</th>\n",
       "      <td>p17</td>\n",
       "      <td>4</td>\n",
       "      <td>4.501125</td>\n",
       "      <td>1.00</td>\n",
       "      <td>53.32</td>\n",
       "    </tr>\n",
       "    <tr>\n",
       "      <th>18</th>\n",
       "      <td>p01</td>\n",
       "      <td>2</td>\n",
       "      <td>4.800000</td>\n",
       "      <td>1.00</td>\n",
       "      <td>25.00</td>\n",
       "    </tr>\n",
       "  </tbody>\n",
       "</table>\n",
       "</div>"
      ],
      "text/plain": [
       "    PSNR  goalsAchieved  goalsAchievedPerHour  percentageCompletedGoals  \\\n",
       "161  p09              1              1.495513                      1.00   \n",
       "101  p08              1              1.500000                      1.00   \n",
       "103  p08              1              1.500000                      1.00   \n",
       "47   p06              1              1.500000                      1.00   \n",
       "46   p06              1              1.500000                      1.00   \n",
       "212  p17              2              1.500000                      0.33   \n",
       "25   p01              1              1.500000                      1.00   \n",
       "20   p01              3              1.622938                      1.00   \n",
       "56   p07              1              1.647899                      1.00   \n",
       "57   p07              1              2.000000                      1.00   \n",
       "51   p07              1              2.031144                      1.00   \n",
       "23   p01              4              2.336676                      1.00   \n",
       "120  p08              1              2.400000                      1.00   \n",
       "160  p09              1              3.025719                      1.00   \n",
       "34   p02              1              3.296703                      1.00   \n",
       "28   p01              1              4.000000                      1.00   \n",
       "157  p09              1              4.000000                      1.00   \n",
       "110  p08              1              4.000000                      1.00   \n",
       "211  p17              4              4.501125                      1.00   \n",
       "18   p01              2              4.800000                      1.00   \n",
       "\n",
       "     minutesInFocus  \n",
       "161           40.12  \n",
       "101           40.00  \n",
       "103           40.00  \n",
       "47            40.00  \n",
       "46            40.00  \n",
       "212           80.00  \n",
       "25            40.00  \n",
       "20           110.91  \n",
       "56            36.41  \n",
       "57            30.00  \n",
       "51            29.54  \n",
       "23           102.71  \n",
       "120           25.00  \n",
       "160           19.83  \n",
       "34            18.20  \n",
       "28            15.00  \n",
       "157           15.00  \n",
       "110           15.00  \n",
       "211           53.32  \n",
       "18            25.00  "
      ]
     },
     "execution_count": 11,
     "metadata": {},
     "output_type": "execute_result"
    }
   ],
   "source": [
    "pomodoro[[\"PSNR\", \"goalsAchieved\", \"goalsAchievedPerHour\", \"percentageCompletedGoals\", \"minutesInFocus\"]].sort_values(\"goalsAchievedPerHour\").tail(20)"
   ]
  },
  {
   "cell_type": "code",
   "execution_count": 12,
   "metadata": {},
   "outputs": [
    {
     "name": "stdout",
     "output_type": "stream",
     "text": [
      "exman:  39.7592\n",
      "pomodoro:  50.50299999999999\n"
     ]
    }
   ],
   "source": [
    "print(\"exman: \",exman[ \"minutesInFocus\"].mean())\n",
    "print(\"pomodoro: \",pomodoro[ \"minutesInFocus\"].mean())"
   ]
  },
  {
   "cell_type": "code",
   "execution_count": 13,
   "metadata": {},
   "outputs": [
    {
     "data": {
      "image/png": "[encoded data removed]",
      "text/plain": [
       "<Figure size 432x288 with 1 Axes>"
      ]
     },
     "metadata": {
      "needs_background": "light"
     },
     "output_type": "display_data"
    }
   ],
   "source": [
    "x = [list(exman[\"goalsSet\"]),list(pomodoro[\"goalsSet\"])]\n",
    "\n",
    "label = [\"exman\",\"pormodoro\"]\n",
    "colors = ['red', 'blue']\n",
    "plt.hist(x, histtype='bar', color=colors, label=label)\n",
    "plt.legend(prop={'size': 10})\n",
    "plt.title('bars with legend')\n",
    "\n",
    "\n",
    "plt.show()"
   ]
  },
  {
   "cell_type": "code",
   "execution_count": 14,
   "metadata": {},
   "outputs": [
    {
     "name": "stdout",
     "output_type": "stream",
     "text": [
      "P-Value:0.2913036037227029 T-Statistic:1.0617768292830194\n"
     ]
    }
   ],
   "source": [
    "from scipy import stats\n",
    "tStat, pValue = stats.ttest_ind(exman[\"goalsAchievedPerHour\"], pomodoro[\"goalsAchievedPerHour\"], equal_var = False)\n",
    "print(\"P-Value:{0} T-Statistic:{1}\".format(pValue,tStat))"
   ]
  },
  {
   "cell_type": "markdown",
   "metadata": {},
   "source": [
    "The p-value is significant. Therefore, the user was more effective using our app exman than using the pomodoro timer."
   ]
  },
  {
   "cell_type": "markdown",
   "metadata": {},
   "source": [
    "<h4>finished vs total Goals</h4>"
   ]
  },
  {
   "cell_type": "code",
   "execution_count": 15,
   "metadata": {},
   "outputs": [
    {
     "data": {
      "text/plain": [
       "0.5539999999999999"
      ]
     },
     "execution_count": 15,
     "metadata": {},
     "output_type": "execute_result"
    }
   ],
   "source": [
    "exman[\"percentageCompletedGoals\"].mean()"
   ]
  },
  {
   "cell_type": "code",
   "execution_count": 16,
   "metadata": {},
   "outputs": [
    {
     "data": {
      "text/plain": [
       "0.58"
      ]
     },
     "execution_count": 16,
     "metadata": {},
     "output_type": "execute_result"
    }
   ],
   "source": [
    "pomodoro[\"percentageCompletedGoals\"].mean()"
   ]
  },
  {
   "cell_type": "code",
   "execution_count": 17,
   "metadata": {},
   "outputs": [
    {
     "name": "stdout",
     "output_type": "stream",
     "text": [
      "P-Value:0.7864818715917798 T-Statistic:-0.2716248490563755\n"
     ]
    }
   ],
   "source": [
    "from scipy import stats\n",
    "tStat, pValue = stats.ttest_ind(exman[\"percentageCompletedGoals\"], pomodoro[\"percentageCompletedGoals\"], equal_var = False)\n",
    "print(\"P-Value:{0} T-Statistic:{1}\".format(pValue,tStat))"
   ]
  },
  {
   "cell_type": "markdown",
   "metadata": {},
   "source": [
    "<h4> Broken Focus per hour </h4>"
   ]
  },
  {
   "cell_type": "code",
   "execution_count": 18,
   "metadata": {},
   "outputs": [],
   "source": [
    "normalize_data(\"brokenFocus\",\"minutesInFocus\",\"brokenFocusPerHour\", exman)\n",
    "normalize_data(\"brokenFocus\",\"minutesInFocus\",\"brokenFocusPerHour\", pomodoro)\n",
    "normalize_data(\"brokenFocus\",\"minutesInFocus\",\"brokenFocusPerHour\", df)"
   ]
  },
  {
   "cell_type": "code",
   "execution_count": 19,
   "metadata": {},
   "outputs": [
    {
     "data": {
      "text/plain": [
       "0.5753303161443085"
      ]
     },
     "execution_count": 19,
     "metadata": {},
     "output_type": "execute_result"
    }
   ],
   "source": [
    "exman[\"brokenFocusPerHour\"].mean()"
   ]
  },
  {
   "cell_type": "code",
   "execution_count": 20,
   "metadata": {},
   "outputs": [
    {
     "data": {
      "text/plain": [
       "5.505408356865098"
      ]
     },
     "execution_count": 20,
     "metadata": {},
     "output_type": "execute_result"
    }
   ],
   "source": [
    "pomodoro[\"brokenFocusPerHour\"].mean()"
   ]
  },
  {
   "cell_type": "code",
   "execution_count": 21,
   "metadata": {},
   "outputs": [
    {
     "data": {
      "image/png": "[encoded data removed]",
      "text/plain": [
       "<Figure size 432x288 with 1 Axes>"
      ]
     },
     "metadata": {
      "needs_background": "light"
     },
     "output_type": "display_data"
    }
   ],
   "source": [
    "x = [list(exman[\"brokenFocusPerHour\"]),list(pomodoro[\"brokenFocusPerHour\"])]\n",
    "\n",
    "label = [\"exman\",\"pormodoro\"]\n",
    "colors = ['red', 'blue']\n",
    "plt.hist(x, histtype='bar', color=colors, label=label)\n",
    "plt.legend(prop={'size': 10})\n",
    "\n",
    "plt.xlabel(\"broken focus in minutes during focus\")\n",
    "\n",
    "plt.show()"
   ]
  },
  {
   "cell_type": "code",
   "execution_count": 22,
   "metadata": {},
   "outputs": [
    {
     "data": {
      "text/html": [
       "<div>\n",
       "<style scoped>\n",
       "    .dataframe tbody tr th:only-of-type {\n",
       "        vertical-align: middle;\n",
       "    }\n",
       "\n",
       "    .dataframe tbody tr th {\n",
       "        vertical-align: top;\n",
       "    }\n",
       "\n",
       "    .dataframe thead th {\n",
       "        text-align: right;\n",
       "    }\n",
       "</style>\n",
       "<table border=\"1\" class=\"dataframe\">\n",
       "  <thead>\n",
       "    <tr style=\"text-align: right;\">\n",
       "      <th></th>\n",
       "      <th>PSNR</th>\n",
       "      <th>focusID</th>\n",
       "      <th>scheduled</th>\n",
       "      <th>brokenFocus</th>\n",
       "      <th>brokenFocusPerHour</th>\n",
       "      <th>nrOfBreaks</th>\n",
       "      <th>minutesInFocus</th>\n",
       "    </tr>\n",
       "  </thead>\n",
       "  <tbody>\n",
       "    <tr>\n",
       "      <th>7</th>\n",
       "      <td>p01</td>\n",
       "      <td>603df7e1-ba82-495e-ad4e-00fd7c87fe72</td>\n",
       "      <td>False</td>\n",
       "      <td>0.00</td>\n",
       "      <td>0.000000</td>\n",
       "      <td>0</td>\n",
       "      <td>15.00</td>\n",
       "    </tr>\n",
       "    <tr>\n",
       "      <th>17</th>\n",
       "      <td>p01</td>\n",
       "      <td>367f67a5-928d-4722-acc6-9e875640e1e3</td>\n",
       "      <td>False</td>\n",
       "      <td>0.00</td>\n",
       "      <td>0.000000</td>\n",
       "      <td>0</td>\n",
       "      <td>25.00</td>\n",
       "    </tr>\n",
       "    <tr>\n",
       "      <th>137</th>\n",
       "      <td>p09</td>\n",
       "      <td>_8513icq38gs30b9m6l33ib9k60o3eba28p13cba68cpje...</td>\n",
       "      <td>True</td>\n",
       "      <td>0.15</td>\n",
       "      <td>0.262314</td>\n",
       "      <td>1</td>\n",
       "      <td>34.31</td>\n",
       "    </tr>\n",
       "    <tr>\n",
       "      <th>225</th>\n",
       "      <td>p17</td>\n",
       "      <td>99cb53b0-40e8-4970-8ca5-f628d3dca1c9</td>\n",
       "      <td>False</td>\n",
       "      <td>1.62</td>\n",
       "      <td>0.903262</td>\n",
       "      <td>3</td>\n",
       "      <td>107.61</td>\n",
       "    </tr>\n",
       "    <tr>\n",
       "      <th>183</th>\n",
       "      <td>p11</td>\n",
       "      <td>719e4219-41c6-4750-a8e7-dd62e25080cb</td>\n",
       "      <td>False</td>\n",
       "      <td>0.84</td>\n",
       "      <td>1.260000</td>\n",
       "      <td>1</td>\n",
       "      <td>40.00</td>\n",
       "    </tr>\n",
       "    <tr>\n",
       "      <th>169</th>\n",
       "      <td>p10</td>\n",
       "      <td>40335a80-5d91-4833-8b1c-5ed2dfac9a6d</td>\n",
       "      <td>False</td>\n",
       "      <td>1.27</td>\n",
       "      <td>1.731818</td>\n",
       "      <td>3</td>\n",
       "      <td>44.00</td>\n",
       "    </tr>\n",
       "    <tr>\n",
       "      <th>39</th>\n",
       "      <td>p06</td>\n",
       "      <td>2d7bd4d9-e880-4ea9-9bde-a3ae1ce6b4ec</td>\n",
       "      <td>False</td>\n",
       "      <td>1.77</td>\n",
       "      <td>2.655000</td>\n",
       "      <td>1</td>\n",
       "      <td>40.00</td>\n",
       "    </tr>\n",
       "    <tr>\n",
       "      <th>174</th>\n",
       "      <td>p10</td>\n",
       "      <td>8d1a45c2-4db1-48b2-af0c-ccd0d5aea3d0</td>\n",
       "      <td>False</td>\n",
       "      <td>2.04</td>\n",
       "      <td>4.896000</td>\n",
       "      <td>1</td>\n",
       "      <td>25.00</td>\n",
       "    </tr>\n",
       "    <tr>\n",
       "      <th>41</th>\n",
       "      <td>p06</td>\n",
       "      <td>66b0c95e-d104-40b6-8220-f428b01a0063</td>\n",
       "      <td>False</td>\n",
       "      <td>6.59</td>\n",
       "      <td>7.563122</td>\n",
       "      <td>1</td>\n",
       "      <td>52.28</td>\n",
       "    </tr>\n",
       "    <tr>\n",
       "      <th>40</th>\n",
       "      <td>p06</td>\n",
       "      <td>df1eabfa-1aa7-48eb-8bad-0c4b34931335</td>\n",
       "      <td>False</td>\n",
       "      <td>6.33</td>\n",
       "      <td>9.495000</td>\n",
       "      <td>1</td>\n",
       "      <td>40.00</td>\n",
       "    </tr>\n",
       "  </tbody>\n",
       "</table>\n",
       "</div>"
      ],
      "text/plain": [
       "    PSNR                                            focusID  scheduled  \\\n",
       "7    p01               603df7e1-ba82-495e-ad4e-00fd7c87fe72      False   \n",
       "17   p01               367f67a5-928d-4722-acc6-9e875640e1e3      False   \n",
       "137  p09  _8513icq38gs30b9m6l33ib9k60o3eba28p13cba68cpje...       True   \n",
       "225  p17               99cb53b0-40e8-4970-8ca5-f628d3dca1c9      False   \n",
       "183  p11               719e4219-41c6-4750-a8e7-dd62e25080cb      False   \n",
       "169  p10               40335a80-5d91-4833-8b1c-5ed2dfac9a6d      False   \n",
       "39   p06               2d7bd4d9-e880-4ea9-9bde-a3ae1ce6b4ec      False   \n",
       "174  p10               8d1a45c2-4db1-48b2-af0c-ccd0d5aea3d0      False   \n",
       "41   p06               66b0c95e-d104-40b6-8220-f428b01a0063      False   \n",
       "40   p06               df1eabfa-1aa7-48eb-8bad-0c4b34931335      False   \n",
       "\n",
       "     brokenFocus  brokenFocusPerHour  nrOfBreaks  minutesInFocus  \n",
       "7           0.00            0.000000           0           15.00  \n",
       "17          0.00            0.000000           0           25.00  \n",
       "137         0.15            0.262314           1           34.31  \n",
       "225         1.62            0.903262           3          107.61  \n",
       "183         0.84            1.260000           1           40.00  \n",
       "169         1.27            1.731818           3           44.00  \n",
       "39          1.77            2.655000           1           40.00  \n",
       "174         2.04            4.896000           1           25.00  \n",
       "41          6.59            7.563122           1           52.28  \n",
       "40          6.33            9.495000           1           40.00  "
      ]
     },
     "execution_count": 22,
     "metadata": {},
     "output_type": "execute_result"
    }
   ],
   "source": [
    "exman[[\"PSNR\", \"focusID\", \"scheduled\", \"brokenFocus\", \"brokenFocusPerHour\", \"nrOfBreaks\", \"minutesInFocus\"]].sort_values(\"brokenFocusPerHour\").tail(10)"
   ]
  },
  {
   "cell_type": "code",
   "execution_count": 23,
   "metadata": {},
   "outputs": [
    {
     "data": {
      "text/html": [
       "<div>\n",
       "<style scoped>\n",
       "    .dataframe tbody tr th:only-of-type {\n",
       "        vertical-align: middle;\n",
       "    }\n",
       "\n",
       "    .dataframe tbody tr th {\n",
       "        vertical-align: top;\n",
       "    }\n",
       "\n",
       "    .dataframe thead th {\n",
       "        text-align: right;\n",
       "    }\n",
       "</style>\n",
       "<table border=\"1\" class=\"dataframe\">\n",
       "  <thead>\n",
       "    <tr style=\"text-align: right;\">\n",
       "      <th></th>\n",
       "      <th>PSNR</th>\n",
       "      <th>focusID</th>\n",
       "      <th>scheduled</th>\n",
       "      <th>brokenFocus</th>\n",
       "      <th>brokenFocusPerHour</th>\n",
       "      <th>nrOfBreaks</th>\n",
       "      <th>minutesInFocus</th>\n",
       "    </tr>\n",
       "  </thead>\n",
       "  <tbody>\n",
       "    <tr>\n",
       "      <th>206</th>\n",
       "      <td>p12</td>\n",
       "      <td>44d2ecac-43b9-4d97-a7dc-dfcae0263ad3</td>\n",
       "      <td>False</td>\n",
       "      <td>0.00</td>\n",
       "      <td>0.000000</td>\n",
       "      <td>0</td>\n",
       "      <td>48.49</td>\n",
       "    </tr>\n",
       "    <tr>\n",
       "      <th>20</th>\n",
       "      <td>p01</td>\n",
       "      <td>25f3ce1d-e67f-472a-a475-f8d4142d714e</td>\n",
       "      <td>False</td>\n",
       "      <td>0.00</td>\n",
       "      <td>0.000000</td>\n",
       "      <td>0</td>\n",
       "      <td>110.91</td>\n",
       "    </tr>\n",
       "    <tr>\n",
       "      <th>18</th>\n",
       "      <td>p01</td>\n",
       "      <td>1adb005c-9585-4c60-96ab-a5b187ce04b0</td>\n",
       "      <td>False</td>\n",
       "      <td>0.00</td>\n",
       "      <td>0.000000</td>\n",
       "      <td>0</td>\n",
       "      <td>25.00</td>\n",
       "    </tr>\n",
       "    <tr>\n",
       "      <th>203</th>\n",
       "      <td>p12</td>\n",
       "      <td>a57bfe87-eaab-4023-b352-9d31aa7b93a0</td>\n",
       "      <td>False</td>\n",
       "      <td>0.00</td>\n",
       "      <td>0.000000</td>\n",
       "      <td>0</td>\n",
       "      <td>25.00</td>\n",
       "    </tr>\n",
       "    <tr>\n",
       "      <th>157</th>\n",
       "      <td>p09</td>\n",
       "      <td>53157446-81d9-44ba-acd4-63489066a7c6</td>\n",
       "      <td>False</td>\n",
       "      <td>0.00</td>\n",
       "      <td>0.000000</td>\n",
       "      <td>0</td>\n",
       "      <td>15.00</td>\n",
       "    </tr>\n",
       "    <tr>\n",
       "      <th>186</th>\n",
       "      <td>p11</td>\n",
       "      <td>de162c05-0876-440d-8203-d7bc92b92d91</td>\n",
       "      <td>False</td>\n",
       "      <td>0.19</td>\n",
       "      <td>0.285000</td>\n",
       "      <td>1</td>\n",
       "      <td>40.00</td>\n",
       "    </tr>\n",
       "    <tr>\n",
       "      <th>34</th>\n",
       "      <td>p02</td>\n",
       "      <td>279e8657-e394-48da-bb02-f84df29e4791</td>\n",
       "      <td>False</td>\n",
       "      <td>0.22</td>\n",
       "      <td>0.725275</td>\n",
       "      <td>1</td>\n",
       "      <td>18.20</td>\n",
       "    </tr>\n",
       "    <tr>\n",
       "      <th>214</th>\n",
       "      <td>p17</td>\n",
       "      <td>24b945f7-5136-4b3d-87e8-f48d80490ce9</td>\n",
       "      <td>False</td>\n",
       "      <td>3.77</td>\n",
       "      <td>1.370909</td>\n",
       "      <td>3</td>\n",
       "      <td>165.00</td>\n",
       "    </tr>\n",
       "    <tr>\n",
       "      <th>159</th>\n",
       "      <td>p09</td>\n",
       "      <td>cb060b11-61df-4165-a273-0e15c949206a</td>\n",
       "      <td>False</td>\n",
       "      <td>0.37</td>\n",
       "      <td>1.480000</td>\n",
       "      <td>1</td>\n",
       "      <td>15.00</td>\n",
       "    </tr>\n",
       "    <tr>\n",
       "      <th>161</th>\n",
       "      <td>p09</td>\n",
       "      <td>92ef0f2c-dd68-4e55-b82a-91c0e06daa6c</td>\n",
       "      <td>False</td>\n",
       "      <td>1.12</td>\n",
       "      <td>1.674975</td>\n",
       "      <td>1</td>\n",
       "      <td>40.12</td>\n",
       "    </tr>\n",
       "    <tr>\n",
       "      <th>50</th>\n",
       "      <td>p06</td>\n",
       "      <td>3bc42f29-d898-4989-bda5-df198a0eb99c</td>\n",
       "      <td>False</td>\n",
       "      <td>1.74</td>\n",
       "      <td>6.960000</td>\n",
       "      <td>1</td>\n",
       "      <td>15.00</td>\n",
       "    </tr>\n",
       "    <tr>\n",
       "      <th>211</th>\n",
       "      <td>p17</td>\n",
       "      <td>c4b0771f-3ff2-4711-9aad-929e5f4c69d0</td>\n",
       "      <td>False</td>\n",
       "      <td>11.15</td>\n",
       "      <td>12.546887</td>\n",
       "      <td>7</td>\n",
       "      <td>53.32</td>\n",
       "    </tr>\n",
       "    <tr>\n",
       "      <th>162</th>\n",
       "      <td>p09</td>\n",
       "      <td>943b5bc1-43d6-4fd4-b965-8752fc87628e</td>\n",
       "      <td>False</td>\n",
       "      <td>9.44</td>\n",
       "      <td>13.495354</td>\n",
       "      <td>2</td>\n",
       "      <td>41.97</td>\n",
       "    </tr>\n",
       "    <tr>\n",
       "      <th>153</th>\n",
       "      <td>p09</td>\n",
       "      <td>c68f5fc7-f6d5-4fdb-870f-4baa6e66127e</td>\n",
       "      <td>False</td>\n",
       "      <td>10.46</td>\n",
       "      <td>15.690000</td>\n",
       "      <td>6</td>\n",
       "      <td>40.00</td>\n",
       "    </tr>\n",
       "    <tr>\n",
       "      <th>160</th>\n",
       "      <td>p09</td>\n",
       "      <td>be8910fe-329c-4767-bb0a-f813e8a77580</td>\n",
       "      <td>False</td>\n",
       "      <td>5.36</td>\n",
       "      <td>16.217852</td>\n",
       "      <td>3</td>\n",
       "      <td>19.83</td>\n",
       "    </tr>\n",
       "    <tr>\n",
       "      <th>158</th>\n",
       "      <td>p09</td>\n",
       "      <td>_8l33cdi26h23cba571242b9k68q42b9o60p46ba18crj8...</td>\n",
       "      <td>True</td>\n",
       "      <td>50.15</td>\n",
       "      <td>16.716667</td>\n",
       "      <td>2</td>\n",
       "      <td>180.00</td>\n",
       "    </tr>\n",
       "    <tr>\n",
       "      <th>46</th>\n",
       "      <td>p06</td>\n",
       "      <td>dbdaaf2b-aa10-4db9-9e32-30489174adf2</td>\n",
       "      <td>False</td>\n",
       "      <td>21.61</td>\n",
       "      <td>32.415000</td>\n",
       "      <td>1</td>\n",
       "      <td>40.00</td>\n",
       "    </tr>\n",
       "    <tr>\n",
       "      <th>212</th>\n",
       "      <td>p17</td>\n",
       "      <td>6c6fa9a7-315c-4075-8f7c-8363fc5de7bb</td>\n",
       "      <td>False</td>\n",
       "      <td>49.93</td>\n",
       "      <td>37.447500</td>\n",
       "      <td>2</td>\n",
       "      <td>80.00</td>\n",
       "    </tr>\n",
       "    <tr>\n",
       "      <th>47</th>\n",
       "      <td>p06</td>\n",
       "      <td>f3b3f7e7-d99f-4a05-aa48-121acf63153d</td>\n",
       "      <td>False</td>\n",
       "      <td>39.10</td>\n",
       "      <td>58.650000</td>\n",
       "      <td>1</td>\n",
       "      <td>40.00</td>\n",
       "    </tr>\n",
       "    <tr>\n",
       "      <th>48</th>\n",
       "      <td>p06</td>\n",
       "      <td>9504e872-a0eb-45da-8963-0cb59f923dc5</td>\n",
       "      <td>False</td>\n",
       "      <td>39.73</td>\n",
       "      <td>59.595000</td>\n",
       "      <td>1</td>\n",
       "      <td>40.00</td>\n",
       "    </tr>\n",
       "  </tbody>\n",
       "</table>\n",
       "</div>"
      ],
      "text/plain": [
       "    PSNR                                            focusID  scheduled  \\\n",
       "206  p12               44d2ecac-43b9-4d97-a7dc-dfcae0263ad3      False   \n",
       "20   p01               25f3ce1d-e67f-472a-a475-f8d4142d714e      False   \n",
       "18   p01               1adb005c-9585-4c60-96ab-a5b187ce04b0      False   \n",
       "203  p12               a57bfe87-eaab-4023-b352-9d31aa7b93a0      False   \n",
       "157  p09               53157446-81d9-44ba-acd4-63489066a7c6      False   \n",
       "186  p11               de162c05-0876-440d-8203-d7bc92b92d91      False   \n",
       "34   p02               279e8657-e394-48da-bb02-f84df29e4791      False   \n",
       "214  p17               24b945f7-5136-4b3d-87e8-f48d80490ce9      False   \n",
       "159  p09               cb060b11-61df-4165-a273-0e15c949206a      False   \n",
       "161  p09               92ef0f2c-dd68-4e55-b82a-91c0e06daa6c      False   \n",
       "50   p06               3bc42f29-d898-4989-bda5-df198a0eb99c      False   \n",
       "211  p17               c4b0771f-3ff2-4711-9aad-929e5f4c69d0      False   \n",
       "162  p09               943b5bc1-43d6-4fd4-b965-8752fc87628e      False   \n",
       "153  p09               c68f5fc7-f6d5-4fdb-870f-4baa6e66127e      False   \n",
       "160  p09               be8910fe-329c-4767-bb0a-f813e8a77580      False   \n",
       "158  p09  _8l33cdi26h23cba571242b9k68q42b9o60p46ba18crj8...       True   \n",
       "46   p06               dbdaaf2b-aa10-4db9-9e32-30489174adf2      False   \n",
       "212  p17               6c6fa9a7-315c-4075-8f7c-8363fc5de7bb      False   \n",
       "47   p06               f3b3f7e7-d99f-4a05-aa48-121acf63153d      False   \n",
       "48   p06               9504e872-a0eb-45da-8963-0cb59f923dc5      False   \n",
       "\n",
       "     brokenFocus  brokenFocusPerHour  nrOfBreaks  minutesInFocus  \n",
       "206         0.00            0.000000           0           48.49  \n",
       "20          0.00            0.000000           0          110.91  \n",
       "18          0.00            0.000000           0           25.00  \n",
       "203         0.00            0.000000           0           25.00  \n",
       "157         0.00            0.000000           0           15.00  \n",
       "186         0.19            0.285000           1           40.00  \n",
       "34          0.22            0.725275           1           18.20  \n",
       "214         3.77            1.370909           3          165.00  \n",
       "159         0.37            1.480000           1           15.00  \n",
       "161         1.12            1.674975           1           40.12  \n",
       "50          1.74            6.960000           1           15.00  \n",
       "211        11.15           12.546887           7           53.32  \n",
       "162         9.44           13.495354           2           41.97  \n",
       "153        10.46           15.690000           6           40.00  \n",
       "160         5.36           16.217852           3           19.83  \n",
       "158        50.15           16.716667           2          180.00  \n",
       "46         21.61           32.415000           1           40.00  \n",
       "212        49.93           37.447500           2           80.00  \n",
       "47         39.10           58.650000           1           40.00  \n",
       "48         39.73           59.595000           1           40.00  "
      ]
     },
     "execution_count": 23,
     "metadata": {},
     "output_type": "execute_result"
    }
   ],
   "source": [
    "pomodoro[[\"PSNR\", \"focusID\", \"scheduled\", \"brokenFocus\", \"brokenFocusPerHour\", \"nrOfBreaks\", \"minutesInFocus\"]].sort_values(\"brokenFocusPerHour\").tail(20)"
   ]
  },
  {
   "cell_type": "code",
   "execution_count": 24,
   "metadata": {},
   "outputs": [
    {
     "name": "stdout",
     "output_type": "stream",
     "text": [
      "P-Value:0.014436330220085952 T-Statistic:-2.5331108580262875\n"
     ]
    }
   ],
   "source": [
    "from scipy import stats\n",
    "tStat, pValue = stats.ttest_ind(exman[\"brokenFocusPerHour\"], pomodoro[\"brokenFocusPerHour\"], equal_var = False)\n",
    "print(\"P-Value:{0} T-Statistic:{1}\".format(pValue,tStat))"
   ]
  },
  {
   "cell_type": "code",
   "execution_count": 25,
   "metadata": {},
   "outputs": [
    {
     "name": "stdout",
     "output_type": "stream",
     "text": [
      "exman:  0.5753303161443085\n",
      "pomodoro:  1.5654722483686274\n"
     ]
    }
   ],
   "source": [
    "print(\"exman: \",exman[\"brokenFocusPerHour\"].mean())\n",
    "print(\"pomodoro: \", pomodoro[pomodoro[\"brokenFocusPerHour\"] < 16.5]['brokenFocusPerHour'].mean())\n"
   ]
  },
  {
   "cell_type": "code",
   "execution_count": 26,
   "metadata": {},
   "outputs": [
    {
     "name": "stdout",
     "output_type": "stream",
     "text": [
      "P-Value:0.15375764389680488 T-Statistic:-1.4450552173930735\n"
     ]
    }
   ],
   "source": [
    "from scipy import stats\n",
    "tStat, pValue = stats.ttest_ind(exman[\"brokenFocusPerHour\"], pomodoro[pomodoro[\"brokenFocusPerHour\"] < 16.5]['brokenFocusPerHour'], equal_var = False)\n",
    "print(\"P-Value:{0} T-Statistic:{1}\".format(pValue,tStat))"
   ]
  },
  {
   "cell_type": "code",
   "execution_count": 27,
   "metadata": {},
   "outputs": [
    {
     "name": "stdout",
     "output_type": "stream",
     "text": [
      "exman:  0.84\n",
      "pomodoro:  0.7\n"
     ]
    }
   ],
   "source": [
    "print(\"exman: \", exman[exman[\"brokenFocus\"] == 0]['brokenFocus'].count() / exman[\"brokenFocus\"].count())\n",
    "print(\"pomodoro: \", pomodoro[pomodoro[\"brokenFocus\"] == 0]['brokenFocus'].count() / pomodoro[\"brokenFocus\"].count())"
   ]
  },
  {
   "cell_type": "code",
   "execution_count": 28,
   "metadata": {},
   "outputs": [
    {
     "data": {
      "text/plain": [
       "<matplotlib.legend.Legend at 0x20954e722c8>"
      ]
     },
     "execution_count": 28,
     "metadata": {},
     "output_type": "execute_result"
    },
    {
     "data": {
      "image/png": "[encoded data removed]",
      "text/plain": [
       "<Figure size 432x288 with 1 Axes>"
      ]
     },
     "metadata": {
      "needs_background": "light"
     },
     "output_type": "display_data"
    }
   ],
   "source": [
    "plt.scatter(exman[exman[\"brokenFocus\"] != 0]['minutesInFocus'],exman[exman[\"brokenFocus\"] != 0]['brokenFocus'],label=\"exman\")\n",
    "plt.scatter(pomodoro[pomodoro[\"brokenFocus\"] != 0]['minutesInFocus'],pomodoro[pomodoro[\"brokenFocus\"] != 0]['brokenFocus'], label=\"pomodoro\")\n",
    "plt.xlabel(\"minutes in Focus\")\n",
    "plt.ylabel(\"broken Focus minutes\")\n",
    "plt.legend()"
   ]
  },
  {
   "cell_type": "markdown",
   "metadata": {},
   "source": [
    "<h4> broken focus frequency </h4>\n"
   ]
  },
  {
   "cell_type": "code",
   "execution_count": 29,
   "metadata": {},
   "outputs": [],
   "source": [
    "normalize_data(\"nrOfBreaks\",\"minutesInFocus\",\"brokenFrequencyPerHour\", exman)\n",
    "normalize_data(\"nrOfBreaks\",\"minutesInFocus\",\"brokenFrequencyPerHour\", pomodoro)"
   ]
  },
  {
   "cell_type": "code",
   "execution_count": 30,
   "metadata": {},
   "outputs": [
    {
     "data": {
      "text/plain": [
       "<matplotlib.legend.Legend at 0x20954f07348>"
      ]
     },
     "execution_count": 30,
     "metadata": {},
     "output_type": "execute_result"
    },
    {
     "data": {
      "image/png": "[encoded data removed]",
      "text/plain": [
       "<Figure size 432x288 with 1 Axes>"
      ]
     },
     "metadata": {
      "needs_background": "light"
     },
     "output_type": "display_data"
    }
   ],
   "source": [
    "plt.scatter(exman[\"brokenFocus\"],exman[\"brokenFrequencyPerHour\"],label=\"exman\")\n",
    "plt.scatter(pomodoro[\"brokenFocus\"],pomodoro[\"brokenFrequencyPerHour\"], label=\"pomodoro\")\n",
    "plt.xlabel(\"minutes in broken focus\")\n",
    "plt.ylabel(\"number of breaks\")\n",
    "plt.legend()"
   ]
  },
  {
   "cell_type": "code",
   "execution_count": 31,
   "metadata": {},
   "outputs": [
    {
     "data": {
      "text/plain": [
       "0.3112008758822615"
      ]
     },
     "execution_count": 31,
     "metadata": {},
     "output_type": "execute_result"
    }
   ],
   "source": [
    "exman[\"brokenFrequencyPerHour\"].mean()"
   ]
  },
  {
   "cell_type": "code",
   "execution_count": 32,
   "metadata": {},
   "outputs": [
    {
     "data": {
      "text/plain": [
       "1.0172620542591282"
      ]
     },
     "execution_count": 32,
     "metadata": {},
     "output_type": "execute_result"
    }
   ],
   "source": [
    "pomodoro[\"brokenFrequencyPerHour\"].mean()"
   ]
  },
  {
   "cell_type": "code",
   "execution_count": 33,
   "metadata": {},
   "outputs": [
    {
     "name": "stdout",
     "output_type": "stream",
     "text": [
      "P-Value:0.03792896436883339 T-Statistic:-2.121229201456923\n"
     ]
    }
   ],
   "source": [
    "from scipy import stats\n",
    "tStat, pValue = stats.ttest_ind(exman[\"brokenFrequencyPerHour\"], pomodoro[\"brokenFrequencyPerHour\"], equal_var = False)\n",
    "print(\"P-Value:{0} T-Statistic:{1}\".format(pValue,tStat))"
   ]
  },
  {
   "cell_type": "markdown",
   "metadata": {},
   "source": [
    "The effect on frequency of breaks is not significant, but the difference of the break duration between pomodoro and exman is significant on a 5% level. Reason for that not known yet."
   ]
  },
  {
   "cell_type": "markdown",
   "metadata": {},
   "source": [
    "<h4>distraction time </h4>"
   ]
  },
  {
   "cell_type": "code",
   "execution_count": 34,
   "metadata": {},
   "outputs": [],
   "source": [
    "normalize_data(\"distractionTime\",\"minutesInFocus\",\"distractionTimePerHour\",exman)\n",
    "normalize_data(\"distractionTime\",\"minutesInFocus\",\"distractionTimePerHour\",pomodoro)"
   ]
  },
  {
   "cell_type": "code",
   "execution_count": 35,
   "metadata": {},
   "outputs": [
    {
     "data": {
      "text/plain": [
       "2.2505913801496478"
      ]
     },
     "execution_count": 35,
     "metadata": {},
     "output_type": "execute_result"
    }
   ],
   "source": [
    "exman[\"distractionTimePerHour\"].mean()"
   ]
  },
  {
   "cell_type": "code",
   "execution_count": 36,
   "metadata": {},
   "outputs": [
    {
     "data": {
      "text/plain": [
       "1.220471840011058"
      ]
     },
     "execution_count": 36,
     "metadata": {},
     "output_type": "execute_result"
    }
   ],
   "source": [
    "pomodoro[\"distractionTimePerHour\"].mean()"
   ]
  },
  {
   "cell_type": "code",
   "execution_count": 37,
   "metadata": {},
   "outputs": [
    {
     "name": "stdout",
     "output_type": "stream",
     "text": [
      "P-Value:0.4294185060117386 T-Statistic:0.7950811969934009\n"
     ]
    }
   ],
   "source": [
    "from scipy import stats\n",
    "tStat, pValue = stats.ttest_ind(exman[\"distractionTimePerHour\"], pomodoro[\"distractionTimePerHour\"], equal_var = False)\n",
    "print(\"P-Value:{0} T-Statistic:{1}\".format(pValue,tStat))"
   ]
  },
  {
   "cell_type": "markdown",
   "metadata": {},
   "source": [
    "Not significant"
   ]
  },
  {
   "cell_type": "markdown",
   "metadata": {},
   "source": [
    "<h4> Productivity Rating </h4>"
   ]
  },
  {
   "cell_type": "code",
   "execution_count": 38,
   "metadata": {},
   "outputs": [],
   "source": [
    "exman_rating = exman.dropna(subset=[\"rating\"])\n",
    "pomodoro_rating = pomodoro.dropna(subset=[\"rating\"])"
   ]
  },
  {
   "cell_type": "code",
   "execution_count": 39,
   "metadata": {},
   "outputs": [
    {
     "name": "stdout",
     "output_type": "stream",
     "text": [
      "exman:  5.886363636363637\n",
      "pomodoro:  5.568181818181818\n"
     ]
    }
   ],
   "source": [
    "print(\"exman: \",exman_rating['rating'].astype(int).mean())\n",
    "print(\"pomodoro: \",pomodoro_rating['rating'].astype(int).mean())"
   ]
  },
  {
   "cell_type": "code",
   "execution_count": 40,
   "metadata": {},
   "outputs": [
    {
     "data": {
      "image/png": "[encoded data removed]",
      "text/plain": [
       "<Figure size 432x288 with 1 Axes>"
      ]
     },
     "metadata": {
      "needs_background": "light"
     },
     "output_type": "display_data"
    }
   ],
   "source": [
    "bins = [1,2,3,4,5,6,7]\n",
    "x = [list(exman_rating[\"rating\"].astype(int)),list(pomodoro_rating[\"rating\"].astype(int))]\n",
    "\n",
    "label = [\"exman\",\"pormodoro\"]\n",
    "colors = ['red', 'blue']\n",
    "plt.hist(x, bins, histtype='bar', color=colors, label=label)\n",
    "plt.legend(prop={'size': 10})\n",
    "plt.title('bars with legend')\n",
    "\n",
    "\n",
    "plt.show()"
   ]
  },
  {
   "cell_type": "code",
   "execution_count": 41,
   "metadata": {},
   "outputs": [
    {
     "name": "stdout",
     "output_type": "stream",
     "text": [
      "P-Value:0.2007568377434471 T-Statistic:1.2893127689484705\n"
     ]
    }
   ],
   "source": [
    "tStat, pValue = stats.ttest_ind(exman_rating[\"rating\"].astype(int), pomodoro_rating[\"rating\"].astype(int), equal_var = False)\n",
    "print(\"P-Value:{0} T-Statistic:{1}\".format(pValue,tStat))"
   ]
  },
  {
   "cell_type": "markdown",
   "metadata": {},
   "source": [
    "The p-Value and the t-test is not significant. Therefore, we cannot assume, that exman provides an improvement of the productivity compared to the pomodoro baseline."
   ]
  },
  {
   "cell_type": "markdown",
   "metadata": {},
   "source": [
    "<h4>nr of notifications vs rating</h4>\n"
   ]
  },
  {
   "cell_type": "code",
   "execution_count": 42,
   "metadata": {},
   "outputs": [
    {
     "data": {
      "text/plain": [
       "-0.3754864541660542"
      ]
     },
     "execution_count": 42,
     "metadata": {},
     "output_type": "execute_result"
    }
   ],
   "source": [
    "np.corrcoef(exman_rating[\"messagesReceivedInFocus\"],exman_rating[\"rating\"].astype(int))[0][1]"
   ]
  },
  {
   "cell_type": "code",
   "execution_count": 43,
   "metadata": {},
   "outputs": [
    {
     "data": {
      "text/plain": [
       "0.11083806417225477"
      ]
     },
     "execution_count": 43,
     "metadata": {},
     "output_type": "execute_result"
    }
   ],
   "source": [
    "np.corrcoef(pomodoro_rating[\"messagesReceivedInFocus\"],pomodoro_rating[\"rating\"].astype(int))[0][1]"
   ]
  },
  {
   "cell_type": "markdown",
   "metadata": {},
   "source": [
    "<h2> General Stats </h2>"
   ]
  },
  {
   "cell_type": "code",
   "execution_count": 44,
   "metadata": {},
   "outputs": [
    {
     "data": {
      "text/html": [
       "<div>\n",
       "<style scoped>\n",
       "    .dataframe tbody tr th:only-of-type {\n",
       "        vertical-align: middle;\n",
       "    }\n",
       "\n",
       "    .dataframe tbody tr th {\n",
       "        vertical-align: top;\n",
       "    }\n",
       "\n",
       "    .dataframe thead th {\n",
       "        text-align: right;\n",
       "    }\n",
       "</style>\n",
       "<table border=\"1\" class=\"dataframe\">\n",
       "  <thead>\n",
       "    <tr style=\"text-align: right;\">\n",
       "      <th></th>\n",
       "      <th>p07</th>\n",
       "      <th>p06</th>\n",
       "      <th>p09</th>\n",
       "      <th>p12</th>\n",
       "      <th>p17</th>\n",
       "      <th>p01</th>\n",
       "      <th>p08</th>\n",
       "      <th>p11</th>\n",
       "      <th>p02</th>\n",
       "      <th>p10</th>\n",
       "    </tr>\n",
       "  </thead>\n",
       "  <tbody>\n",
       "    <tr>\n",
       "      <th>count</th>\n",
       "      <td>17</td>\n",
       "      <td>1</td>\n",
       "      <td>10</td>\n",
       "      <td>11</td>\n",
       "      <td>12</td>\n",
       "      <td>17</td>\n",
       "      <td>6</td>\n",
       "      <td>3</td>\n",
       "      <td>13</td>\n",
       "      <td>10</td>\n",
       "    </tr>\n",
       "    <tr>\n",
       "      <th>unique</th>\n",
       "      <td>2</td>\n",
       "      <td>1</td>\n",
       "      <td>2</td>\n",
       "      <td>2</td>\n",
       "      <td>2</td>\n",
       "      <td>2</td>\n",
       "      <td>1</td>\n",
       "      <td>2</td>\n",
       "      <td>2</td>\n",
       "      <td>2</td>\n",
       "    </tr>\n",
       "    <tr>\n",
       "      <th>top</th>\n",
       "      <td>exman</td>\n",
       "      <td>pomodoro</td>\n",
       "      <td>exman</td>\n",
       "      <td>pomodoro</td>\n",
       "      <td>pomodoro</td>\n",
       "      <td>pomodoro</td>\n",
       "      <td>exman</td>\n",
       "      <td>exman</td>\n",
       "      <td>exman</td>\n",
       "      <td>pomodoro</td>\n",
       "    </tr>\n",
       "    <tr>\n",
       "      <th>freq</th>\n",
       "      <td>11</td>\n",
       "      <td>1</td>\n",
       "      <td>5</td>\n",
       "      <td>8</td>\n",
       "      <td>7</td>\n",
       "      <td>9</td>\n",
       "      <td>6</td>\n",
       "      <td>2</td>\n",
       "      <td>7</td>\n",
       "      <td>7</td>\n",
       "    </tr>\n",
       "  </tbody>\n",
       "</table>\n",
       "</div>"
      ],
      "text/plain": [
       "          p07       p06    p09       p12       p17       p01    p08    p11  \\\n",
       "count      17         1     10        11        12        17      6      3   \n",
       "unique      2         1      2         2         2         2      1      2   \n",
       "top     exman  pomodoro  exman  pomodoro  pomodoro  pomodoro  exman  exman   \n",
       "freq       11         1      5         8         7         9      6      2   \n",
       "\n",
       "          p02       p10  \n",
       "count      13        10  \n",
       "unique      2         2  \n",
       "top     exman  pomodoro  \n",
       "freq        7         7  "
      ]
     },
     "execution_count": 44,
     "metadata": {},
     "output_type": "execute_result"
    }
   ],
   "source": [
    "pd.concat([\n",
    "    df[df.PSNR == \"p01\"][\"appVersion\"].describe(),\n",
    "    df[df.PSNR == \"p02\"][\"appVersion\"].describe(),\n",
    "    df[df.PSNR == \"p06\"][\"appVersion\"].describe(),\n",
    "    df[df.PSNR == \"p07\"][\"appVersion\"].describe(),\n",
    "    df[df.PSNR == \"p08\"][\"appVersion\"].describe(),\n",
    "    df[df.PSNR == \"p09\"][\"appVersion\"].describe(),\n",
    "    df[df.PSNR == \"p10\"][\"appVersion\"].describe(),\n",
    "    df[df.PSNR == \"p11\"][\"appVersion\"].describe(),\n",
    "    df[df.PSNR == \"p12\"][\"appVersion\"].describe(),\n",
    "    df[df.PSNR == \"p17\"][\"appVersion\"].describe()\n",
    "],axis=1, keys= df.PSNR.unique())"
   ]
  },
  {
   "cell_type": "markdown",
   "metadata": {},
   "source": [
    "Focus sessions are mostly evenly distributed for pomodoro and exman (except maybe for p01)"
   ]
  },
  {
   "cell_type": "markdown",
   "metadata": {},
   "source": [
    "<h4> notification per focus per hour </h4>"
   ]
  },
  {
   "cell_type": "code",
   "execution_count": 45,
   "metadata": {},
   "outputs": [],
   "source": [
    "normalize_data(\"messagesReceivedInFocus\",\"minutesInFocus\",\"messagesPerHour\",exman)\n",
    "normalize_data(\"messagesReceivedInFocus\",\"minutesInFocus\",\"messagesPerHour\",pomodoro)\n",
    "normalize_data(\"messagesReceivedInFocus\",\"minutesInFocus\",\"messagesPerHour\",df)"
   ]
  },
  {
   "cell_type": "code",
   "execution_count": 46,
   "metadata": {},
   "outputs": [
    {
     "data": {
      "text/plain": [
       "count    100.000000\n",
       "mean       5.486602\n",
       "std        7.040636\n",
       "min        0.000000\n",
       "25%        1.500000\n",
       "50%        3.000000\n",
       "75%        6.000000\n",
       "max       39.436620\n",
       "Name: messagesPerHour, dtype: float64"
      ]
     },
     "execution_count": 46,
     "metadata": {},
     "output_type": "execute_result"
    }
   ],
   "source": [
    "df[\"messagesPerHour\"].describe()"
   ]
  },
  {
   "cell_type": "code",
   "execution_count": 47,
   "metadata": {},
   "outputs": [
    {
     "data": {
      "text/html": [
       "<div>\n",
       "<style scoped>\n",
       "    .dataframe tbody tr th:only-of-type {\n",
       "        vertical-align: middle;\n",
       "    }\n",
       "\n",
       "    .dataframe tbody tr th {\n",
       "        vertical-align: top;\n",
       "    }\n",
       "\n",
       "    .dataframe thead th {\n",
       "        text-align: right;\n",
       "    }\n",
       "</style>\n",
       "<table border=\"1\" class=\"dataframe\">\n",
       "  <thead>\n",
       "    <tr style=\"text-align: right;\">\n",
       "      <th></th>\n",
       "      <th>p07</th>\n",
       "      <th>p06</th>\n",
       "      <th>p09</th>\n",
       "      <th>p12</th>\n",
       "      <th>p17</th>\n",
       "      <th>p01</th>\n",
       "      <th>p08</th>\n",
       "      <th>p11</th>\n",
       "      <th>p02</th>\n",
       "      <th>p10</th>\n",
       "    </tr>\n",
       "  </thead>\n",
       "  <tbody>\n",
       "    <tr>\n",
       "      <th>count</th>\n",
       "      <td>17.000000</td>\n",
       "      <td>1.000000</td>\n",
       "      <td>10.000000</td>\n",
       "      <td>11.000000</td>\n",
       "      <td>12.000000</td>\n",
       "      <td>17.000000</td>\n",
       "      <td>6.000000</td>\n",
       "      <td>3.000000</td>\n",
       "      <td>13.000000</td>\n",
       "      <td>10.000000</td>\n",
       "    </tr>\n",
       "    <tr>\n",
       "      <th>mean</th>\n",
       "      <td>11.283765</td>\n",
       "      <td>16.483516</td>\n",
       "      <td>3.549218</td>\n",
       "      <td>0.670423</td>\n",
       "      <td>4.233333</td>\n",
       "      <td>6.077403</td>\n",
       "      <td>5.893775</td>\n",
       "      <td>5.500000</td>\n",
       "      <td>5.818259</td>\n",
       "      <td>1.587002</td>\n",
       "    </tr>\n",
       "    <tr>\n",
       "      <th>std</th>\n",
       "      <td>9.877274</td>\n",
       "      <td>NaN</td>\n",
       "      <td>5.318562</td>\n",
       "      <td>1.253918</td>\n",
       "      <td>2.794258</td>\n",
       "      <td>9.154299</td>\n",
       "      <td>5.451780</td>\n",
       "      <td>0.866025</td>\n",
       "      <td>5.234607</td>\n",
       "      <td>0.841022</td>\n",
       "    </tr>\n",
       "    <tr>\n",
       "      <th>min</th>\n",
       "      <td>1.168338</td>\n",
       "      <td>16.483516</td>\n",
       "      <td>0.000000</td>\n",
       "      <td>0.000000</td>\n",
       "      <td>1.000000</td>\n",
       "      <td>0.333333</td>\n",
       "      <td>2.205072</td>\n",
       "      <td>4.500000</td>\n",
       "      <td>1.237369</td>\n",
       "      <td>0.363636</td>\n",
       "    </tr>\n",
       "    <tr>\n",
       "      <th>25%</th>\n",
       "      <td>4.000000</td>\n",
       "      <td>16.483516</td>\n",
       "      <td>0.375000</td>\n",
       "      <td>0.000000</td>\n",
       "      <td>1.500000</td>\n",
       "      <td>2.400000</td>\n",
       "      <td>3.022727</td>\n",
       "      <td>5.250000</td>\n",
       "      <td>2.400000</td>\n",
       "      <td>1.004108</td>\n",
       "    </tr>\n",
       "    <tr>\n",
       "      <th>50%</th>\n",
       "      <td>8.000000</td>\n",
       "      <td>16.483516</td>\n",
       "      <td>2.524590</td>\n",
       "      <td>0.000000</td>\n",
       "      <td>4.000000</td>\n",
       "      <td>3.078502</td>\n",
       "      <td>4.445455</td>\n",
       "      <td>6.000000</td>\n",
       "      <td>4.000000</td>\n",
       "      <td>1.750000</td>\n",
       "    </tr>\n",
       "    <tr>\n",
       "      <th>75%</th>\n",
       "      <td>18.000000</td>\n",
       "      <td>16.483516</td>\n",
       "      <td>3.332249</td>\n",
       "      <td>0.799249</td>\n",
       "      <td>6.300000</td>\n",
       "      <td>4.800000</td>\n",
       "      <td>4.800000</td>\n",
       "      <td>6.000000</td>\n",
       "      <td>7.200000</td>\n",
       "      <td>2.136364</td>\n",
       "    </tr>\n",
       "    <tr>\n",
       "      <th>max</th>\n",
       "      <td>31.200000</td>\n",
       "      <td>16.483516</td>\n",
       "      <td>18.000000</td>\n",
       "      <td>4.012483</td>\n",
       "      <td>9.000000</td>\n",
       "      <td>39.436620</td>\n",
       "      <td>16.800000</td>\n",
       "      <td>6.000000</td>\n",
       "      <td>20.000000</td>\n",
       "      <td>3.000000</td>\n",
       "    </tr>\n",
       "  </tbody>\n",
       "</table>\n",
       "</div>"
      ],
      "text/plain": [
       "             p07        p06        p09        p12        p17        p01  \\\n",
       "count  17.000000   1.000000  10.000000  11.000000  12.000000  17.000000   \n",
       "mean   11.283765  16.483516   3.549218   0.670423   4.233333   6.077403   \n",
       "std     9.877274        NaN   5.318562   1.253918   2.794258   9.154299   \n",
       "min     1.168338  16.483516   0.000000   0.000000   1.000000   0.333333   \n",
       "25%     4.000000  16.483516   0.375000   0.000000   1.500000   2.400000   \n",
       "50%     8.000000  16.483516   2.524590   0.000000   4.000000   3.078502   \n",
       "75%    18.000000  16.483516   3.332249   0.799249   6.300000   4.800000   \n",
       "max    31.200000  16.483516  18.000000   4.012483   9.000000  39.436620   \n",
       "\n",
       "             p08       p11        p02        p10  \n",
       "count   6.000000  3.000000  13.000000  10.000000  \n",
       "mean    5.893775  5.500000   5.818259   1.587002  \n",
       "std     5.451780  0.866025   5.234607   0.841022  \n",
       "min     2.205072  4.500000   1.237369   0.363636  \n",
       "25%     3.022727  5.250000   2.400000   1.004108  \n",
       "50%     4.445455  6.000000   4.000000   1.750000  \n",
       "75%     4.800000  6.000000   7.200000   2.136364  \n",
       "max    16.800000  6.000000  20.000000   3.000000  "
      ]
     },
     "execution_count": 47,
     "metadata": {},
     "output_type": "execute_result"
    }
   ],
   "source": [
    "pd.concat([\n",
    "    df[df.PSNR == \"p01\"][\"messagesPerHour\"].describe(),\n",
    "    df[df.PSNR == \"p02\"][\"messagesPerHour\"].describe(),\n",
    "    df[df.PSNR == \"p06\"][\"messagesPerHour\"].describe(),\n",
    "    df[df.PSNR == \"p07\"][\"messagesPerHour\"].describe(),\n",
    "    df[df.PSNR == \"p08\"][\"messagesPerHour\"].describe(),\n",
    "    df[df.PSNR == \"p09\"][\"messagesPerHour\"].describe(),\n",
    "    df[df.PSNR == \"p10\"][\"messagesPerHour\"].describe(),\n",
    "    df[df.PSNR == \"p11\"][\"messagesPerHour\"].describe(),\n",
    "    df[df.PSNR == \"p12\"][\"messagesPerHour\"].describe(),\n",
    "    df[df.PSNR == \"p17\"][\"messagesPerHour\"].describe()\n",
    "],axis=1, keys= df.PSNR.unique())"
   ]
  },
  {
   "cell_type": "markdown",
   "metadata": {},
   "source": [
    "<h4> Autoreplies </h4>"
   ]
  },
  {
   "cell_type": "code",
   "execution_count": 48,
   "metadata": {},
   "outputs": [
    {
     "data": {
      "text/plain": [
       "6"
      ]
     },
     "execution_count": 48,
     "metadata": {},
     "output_type": "execute_result"
    }
   ],
   "source": [
    "exman[\"autoReplied\"].sum()"
   ]
  },
  {
   "cell_type": "markdown",
   "metadata": {},
   "source": [
    "<h4> Broken Focus measurement in minutes </h4>"
   ]
  },
  {
   "cell_type": "code",
   "execution_count": 49,
   "metadata": {},
   "outputs": [
    {
     "data": {
      "text/html": [
       "<div>\n",
       "<style scoped>\n",
       "    .dataframe tbody tr th:only-of-type {\n",
       "        vertical-align: middle;\n",
       "    }\n",
       "\n",
       "    .dataframe tbody tr th {\n",
       "        vertical-align: top;\n",
       "    }\n",
       "\n",
       "    .dataframe thead th {\n",
       "        text-align: right;\n",
       "    }\n",
       "</style>\n",
       "<table border=\"1\" class=\"dataframe\">\n",
       "  <thead>\n",
       "    <tr style=\"text-align: right;\">\n",
       "      <th></th>\n",
       "      <th>pomodoro</th>\n",
       "      <th>exman</th>\n",
       "    </tr>\n",
       "  </thead>\n",
       "  <tbody>\n",
       "    <tr>\n",
       "      <th>count</th>\n",
       "      <td>50.000000</td>\n",
       "      <td>50.000000</td>\n",
       "    </tr>\n",
       "    <tr>\n",
       "      <th>mean</th>\n",
       "      <td>5.505408</td>\n",
       "      <td>0.575330</td>\n",
       "    </tr>\n",
       "    <tr>\n",
       "      <th>std</th>\n",
       "      <td>13.637488</td>\n",
       "      <td>1.847762</td>\n",
       "    </tr>\n",
       "    <tr>\n",
       "      <th>min</th>\n",
       "      <td>0.000000</td>\n",
       "      <td>0.000000</td>\n",
       "    </tr>\n",
       "    <tr>\n",
       "      <th>25%</th>\n",
       "      <td>0.000000</td>\n",
       "      <td>0.000000</td>\n",
       "    </tr>\n",
       "    <tr>\n",
       "      <th>50%</th>\n",
       "      <td>0.000000</td>\n",
       "      <td>0.000000</td>\n",
       "    </tr>\n",
       "    <tr>\n",
       "      <th>75%</th>\n",
       "      <td>1.209500</td>\n",
       "      <td>0.000000</td>\n",
       "    </tr>\n",
       "    <tr>\n",
       "      <th>max</th>\n",
       "      <td>59.595000</td>\n",
       "      <td>9.495000</td>\n",
       "    </tr>\n",
       "  </tbody>\n",
       "</table>\n",
       "</div>"
      ],
      "text/plain": [
       "        pomodoro      exman\n",
       "count  50.000000  50.000000\n",
       "mean    5.505408   0.575330\n",
       "std    13.637488   1.847762\n",
       "min     0.000000   0.000000\n",
       "25%     0.000000   0.000000\n",
       "50%     0.000000   0.000000\n",
       "75%     1.209500   0.000000\n",
       "max    59.595000   9.495000"
      ]
     },
     "execution_count": 49,
     "metadata": {},
     "output_type": "execute_result"
    }
   ],
   "source": [
    "get_comparison_summary(\"brokenFocusPerHour\")"
   ]
  },
  {
   "cell_type": "markdown",
   "metadata": {},
   "source": [
    "<h4> number of breaks per focus sessions per Hour </h4>"
   ]
  },
  {
   "cell_type": "code",
   "execution_count": 50,
   "metadata": {},
   "outputs": [
    {
     "data": {
      "text/html": [
       "<div>\n",
       "<style scoped>\n",
       "    .dataframe tbody tr th:only-of-type {\n",
       "        vertical-align: middle;\n",
       "    }\n",
       "\n",
       "    .dataframe tbody tr th {\n",
       "        vertical-align: top;\n",
       "    }\n",
       "\n",
       "    .dataframe thead th {\n",
       "        text-align: right;\n",
       "    }\n",
       "</style>\n",
       "<table border=\"1\" class=\"dataframe\">\n",
       "  <thead>\n",
       "    <tr style=\"text-align: right;\">\n",
       "      <th></th>\n",
       "      <th>pomodoro</th>\n",
       "      <th>exman</th>\n",
       "    </tr>\n",
       "  </thead>\n",
       "  <tbody>\n",
       "    <tr>\n",
       "      <th>count</th>\n",
       "      <td>50.000000</td>\n",
       "      <td>50.000000</td>\n",
       "    </tr>\n",
       "    <tr>\n",
       "      <th>mean</th>\n",
       "      <td>1.017262</td>\n",
       "      <td>0.311201</td>\n",
       "    </tr>\n",
       "    <tr>\n",
       "      <th>std</th>\n",
       "      <td>2.212509</td>\n",
       "      <td>0.802757</td>\n",
       "    </tr>\n",
       "    <tr>\n",
       "      <th>min</th>\n",
       "      <td>0.000000</td>\n",
       "      <td>0.000000</td>\n",
       "    </tr>\n",
       "    <tr>\n",
       "      <th>25%</th>\n",
       "      <td>0.000000</td>\n",
       "      <td>0.000000</td>\n",
       "    </tr>\n",
       "    <tr>\n",
       "      <th>50%</th>\n",
       "      <td>0.000000</td>\n",
       "      <td>0.000000</td>\n",
       "    </tr>\n",
       "    <tr>\n",
       "      <th>75%</th>\n",
       "      <td>1.394362</td>\n",
       "      <td>0.000000</td>\n",
       "    </tr>\n",
       "    <tr>\n",
       "      <th>max</th>\n",
       "      <td>9.077156</td>\n",
       "      <td>4.090909</td>\n",
       "    </tr>\n",
       "  </tbody>\n",
       "</table>\n",
       "</div>"
      ],
      "text/plain": [
       "        pomodoro      exman\n",
       "count  50.000000  50.000000\n",
       "mean    1.017262   0.311201\n",
       "std     2.212509   0.802757\n",
       "min     0.000000   0.000000\n",
       "25%     0.000000   0.000000\n",
       "50%     0.000000   0.000000\n",
       "75%     1.394362   0.000000\n",
       "max     9.077156   4.090909"
      ]
     },
     "execution_count": 50,
     "metadata": {},
     "output_type": "execute_result"
    }
   ],
   "source": [
    "get_comparison_summary(\"brokenFrequencyPerHour\")"
   ]
  },
  {
   "cell_type": "markdown",
   "metadata": {},
   "source": [
    "<h4> Minutes in focus </h4>"
   ]
  },
  {
   "cell_type": "code",
   "execution_count": 51,
   "metadata": {},
   "outputs": [
    {
     "data": {
      "text/plain": [
       "count    100.000000\n",
       "mean      45.131100\n",
       "std       33.775129\n",
       "min       10.650000\n",
       "25%       25.000000\n",
       "50%       40.000000\n",
       "75%       52.540000\n",
       "max      180.000000\n",
       "Name: minutesInFocus, dtype: float64"
      ]
     },
     "execution_count": 51,
     "metadata": {},
     "output_type": "execute_result"
    }
   ],
   "source": [
    "df[\"minutesInFocus\"].describe()"
   ]
  },
  {
   "cell_type": "code",
   "execution_count": 52,
   "metadata": {},
   "outputs": [
    {
     "data": {
      "text/html": [
       "<div>\n",
       "<style scoped>\n",
       "    .dataframe tbody tr th:only-of-type {\n",
       "        vertical-align: middle;\n",
       "    }\n",
       "\n",
       "    .dataframe tbody tr th {\n",
       "        vertical-align: top;\n",
       "    }\n",
       "\n",
       "    .dataframe thead th {\n",
       "        text-align: right;\n",
       "    }\n",
       "</style>\n",
       "<table border=\"1\" class=\"dataframe\">\n",
       "  <thead>\n",
       "    <tr style=\"text-align: right;\">\n",
       "      <th></th>\n",
       "      <th>p07</th>\n",
       "      <th>p06</th>\n",
       "      <th>p09</th>\n",
       "      <th>p12</th>\n",
       "      <th>p17</th>\n",
       "      <th>p01</th>\n",
       "      <th>p08</th>\n",
       "      <th>p11</th>\n",
       "      <th>p02</th>\n",
       "      <th>p10</th>\n",
       "    </tr>\n",
       "  </thead>\n",
       "  <tbody>\n",
       "    <tr>\n",
       "      <th>count</th>\n",
       "      <td>17.000000</td>\n",
       "      <td>1.0</td>\n",
       "      <td>10.000000</td>\n",
       "      <td>11.000000</td>\n",
       "      <td>12.000000</td>\n",
       "      <td>17.000000</td>\n",
       "      <td>6.000000</td>\n",
       "      <td>3.0</td>\n",
       "      <td>13.000000</td>\n",
       "      <td>10.000000</td>\n",
       "    </tr>\n",
       "    <tr>\n",
       "      <th>mean</th>\n",
       "      <td>35.212941</td>\n",
       "      <td>18.2</td>\n",
       "      <td>37.656000</td>\n",
       "      <td>74.759091</td>\n",
       "      <td>36.250000</td>\n",
       "      <td>44.277647</td>\n",
       "      <td>31.868333</td>\n",
       "      <td>40.0</td>\n",
       "      <td>24.499231</td>\n",
       "      <td>87.996000</td>\n",
       "    </tr>\n",
       "    <tr>\n",
       "      <th>std</th>\n",
       "      <td>28.554992</td>\n",
       "      <td>NaN</td>\n",
       "      <td>9.636582</td>\n",
       "      <td>42.566921</td>\n",
       "      <td>15.539539</td>\n",
       "      <td>39.692797</td>\n",
       "      <td>9.826903</td>\n",
       "      <td>0.0</td>\n",
       "      <td>8.408924</td>\n",
       "      <td>38.187426</td>\n",
       "    </tr>\n",
       "    <tr>\n",
       "      <th>min</th>\n",
       "      <td>15.000000</td>\n",
       "      <td>18.2</td>\n",
       "      <td>15.000000</td>\n",
       "      <td>29.540000</td>\n",
       "      <td>15.000000</td>\n",
       "      <td>10.650000</td>\n",
       "      <td>25.000000</td>\n",
       "      <td>40.0</td>\n",
       "      <td>15.000000</td>\n",
       "      <td>53.320000</td>\n",
       "    </tr>\n",
       "    <tr>\n",
       "      <th>25%</th>\n",
       "      <td>15.000000</td>\n",
       "      <td>18.2</td>\n",
       "      <td>40.000000</td>\n",
       "      <td>40.705000</td>\n",
       "      <td>25.000000</td>\n",
       "      <td>19.830000</td>\n",
       "      <td>25.000000</td>\n",
       "      <td>40.0</td>\n",
       "      <td>25.000000</td>\n",
       "      <td>59.272500</td>\n",
       "    </tr>\n",
       "    <tr>\n",
       "      <th>50%</th>\n",
       "      <td>25.000000</td>\n",
       "      <td>18.2</td>\n",
       "      <td>40.000000</td>\n",
       "      <td>55.000000</td>\n",
       "      <td>40.000000</td>\n",
       "      <td>40.000000</td>\n",
       "      <td>26.105000</td>\n",
       "      <td>40.0</td>\n",
       "      <td>25.000000</td>\n",
       "      <td>70.000000</td>\n",
       "    </tr>\n",
       "    <tr>\n",
       "      <th>75%</th>\n",
       "      <td>40.000000</td>\n",
       "      <td>18.2</td>\n",
       "      <td>40.000000</td>\n",
       "      <td>101.030000</td>\n",
       "      <td>42.500000</td>\n",
       "      <td>41.970000</td>\n",
       "      <td>39.802500</td>\n",
       "      <td>40.0</td>\n",
       "      <td>25.000000</td>\n",
       "      <td>116.902500</td>\n",
       "    </tr>\n",
       "    <tr>\n",
       "      <th>max</th>\n",
       "      <td>110.910000</td>\n",
       "      <td>18.2</td>\n",
       "      <td>52.280000</td>\n",
       "      <td>160.000000</td>\n",
       "      <td>60.000000</td>\n",
       "      <td>180.000000</td>\n",
       "      <td>45.000000</td>\n",
       "      <td>40.0</td>\n",
       "      <td>48.490000</td>\n",
       "      <td>165.000000</td>\n",
       "    </tr>\n",
       "  </tbody>\n",
       "</table>\n",
       "</div>"
      ],
      "text/plain": [
       "              p07   p06        p09         p12        p17         p01  \\\n",
       "count   17.000000   1.0  10.000000   11.000000  12.000000   17.000000   \n",
       "mean    35.212941  18.2  37.656000   74.759091  36.250000   44.277647   \n",
       "std     28.554992   NaN   9.636582   42.566921  15.539539   39.692797   \n",
       "min     15.000000  18.2  15.000000   29.540000  15.000000   10.650000   \n",
       "25%     15.000000  18.2  40.000000   40.705000  25.000000   19.830000   \n",
       "50%     25.000000  18.2  40.000000   55.000000  40.000000   40.000000   \n",
       "75%     40.000000  18.2  40.000000  101.030000  42.500000   41.970000   \n",
       "max    110.910000  18.2  52.280000  160.000000  60.000000  180.000000   \n",
       "\n",
       "             p08   p11        p02         p10  \n",
       "count   6.000000   3.0  13.000000   10.000000  \n",
       "mean   31.868333  40.0  24.499231   87.996000  \n",
       "std     9.826903   0.0   8.408924   38.187426  \n",
       "min    25.000000  40.0  15.000000   53.320000  \n",
       "25%    25.000000  40.0  25.000000   59.272500  \n",
       "50%    26.105000  40.0  25.000000   70.000000  \n",
       "75%    39.802500  40.0  25.000000  116.902500  \n",
       "max    45.000000  40.0  48.490000  165.000000  "
      ]
     },
     "execution_count": 52,
     "metadata": {},
     "output_type": "execute_result"
    }
   ],
   "source": [
    "pd.concat([\n",
    "    df[df.PSNR == \"p01\"][\"minutesInFocus\"].describe(),\n",
    "    df[df.PSNR == \"p02\"][\"minutesInFocus\"].describe(),\n",
    "    df[df.PSNR == \"p06\"][\"minutesInFocus\"].describe(),\n",
    "    df[df.PSNR == \"p07\"][\"minutesInFocus\"].describe(),\n",
    "    df[df.PSNR == \"p08\"][\"minutesInFocus\"].describe(),\n",
    "    df[df.PSNR == \"p09\"][\"minutesInFocus\"].describe(),\n",
    "    df[df.PSNR == \"p10\"][\"minutesInFocus\"].describe(),\n",
    "    df[df.PSNR == \"p11\"][\"minutesInFocus\"].describe(),\n",
    "    df[df.PSNR == \"p12\"][\"minutesInFocus\"].describe(),\n",
    "    df[df.PSNR == \"p17\"][\"minutesInFocus\"].describe()\n",
    "],axis=1, keys= df.PSNR.unique())"
   ]
  },
  {
   "cell_type": "markdown",
   "metadata": {},
   "source": [
    "<h4> distraction count per participant and per focus session </h4>"
   ]
  },
  {
   "cell_type": "code",
   "execution_count": 70,
   "metadata": {},
   "outputs": [
    {
     "data": {
      "text/html": [
       "<div>\n",
       "<style scoped>\n",
       "    .dataframe tbody tr th:only-of-type {\n",
       "        vertical-align: middle;\n",
       "    }\n",
       "\n",
       "    .dataframe tbody tr th {\n",
       "        vertical-align: top;\n",
       "    }\n",
       "\n",
       "    .dataframe thead th {\n",
       "        text-align: right;\n",
       "    }\n",
       "</style>\n",
       "<table border=\"1\" class=\"dataframe\">\n",
       "  <thead>\n",
       "    <tr style=\"text-align: right;\">\n",
       "      <th></th>\n",
       "      <th>p01</th>\n",
       "      <th>p08</th>\n",
       "      <th>p09</th>\n",
       "      <th>p10</th>\n",
       "      <th>p11</th>\n",
       "      <th>p12</th>\n",
       "    </tr>\n",
       "  </thead>\n",
       "  <tbody>\n",
       "    <tr>\n",
       "      <th>count</th>\n",
       "      <td>17.000000</td>\n",
       "      <td>12.000000</td>\n",
       "      <td>17.000000</td>\n",
       "      <td>6.000000</td>\n",
       "      <td>3.000000</td>\n",
       "      <td>13.000000</td>\n",
       "    </tr>\n",
       "    <tr>\n",
       "      <th>mean</th>\n",
       "      <td>0.352941</td>\n",
       "      <td>1.916667</td>\n",
       "      <td>7.529412</td>\n",
       "      <td>2.833333</td>\n",
       "      <td>2.333333</td>\n",
       "      <td>1.692308</td>\n",
       "    </tr>\n",
       "    <tr>\n",
       "      <th>std</th>\n",
       "      <td>1.057188</td>\n",
       "      <td>4.033008</td>\n",
       "      <td>12.207158</td>\n",
       "      <td>5.115336</td>\n",
       "      <td>1.527525</td>\n",
       "      <td>4.366246</td>\n",
       "    </tr>\n",
       "    <tr>\n",
       "      <th>min</th>\n",
       "      <td>0.000000</td>\n",
       "      <td>0.000000</td>\n",
       "      <td>0.000000</td>\n",
       "      <td>0.000000</td>\n",
       "      <td>1.000000</td>\n",
       "      <td>0.000000</td>\n",
       "    </tr>\n",
       "    <tr>\n",
       "      <th>25%</th>\n",
       "      <td>0.000000</td>\n",
       "      <td>0.000000</td>\n",
       "      <td>1.000000</td>\n",
       "      <td>0.000000</td>\n",
       "      <td>1.500000</td>\n",
       "      <td>0.000000</td>\n",
       "    </tr>\n",
       "    <tr>\n",
       "      <th>50%</th>\n",
       "      <td>0.000000</td>\n",
       "      <td>0.000000</td>\n",
       "      <td>3.000000</td>\n",
       "      <td>0.500000</td>\n",
       "      <td>2.000000</td>\n",
       "      <td>0.000000</td>\n",
       "    </tr>\n",
       "    <tr>\n",
       "      <th>75%</th>\n",
       "      <td>0.000000</td>\n",
       "      <td>1.500000</td>\n",
       "      <td>6.000000</td>\n",
       "      <td>2.500000</td>\n",
       "      <td>3.000000</td>\n",
       "      <td>1.000000</td>\n",
       "    </tr>\n",
       "    <tr>\n",
       "      <th>max</th>\n",
       "      <td>4.000000</td>\n",
       "      <td>14.000000</td>\n",
       "      <td>44.000000</td>\n",
       "      <td>13.000000</td>\n",
       "      <td>4.000000</td>\n",
       "      <td>16.000000</td>\n",
       "    </tr>\n",
       "  </tbody>\n",
       "</table>\n",
       "</div>"
      ],
      "text/plain": [
       "             p01        p08        p09        p10       p11        p12\n",
       "count  17.000000  12.000000  17.000000   6.000000  3.000000  13.000000\n",
       "mean    0.352941   1.916667   7.529412   2.833333  2.333333   1.692308\n",
       "std     1.057188   4.033008  12.207158   5.115336  1.527525   4.366246\n",
       "min     0.000000   0.000000   0.000000   0.000000  1.000000   0.000000\n",
       "25%     0.000000   0.000000   1.000000   0.000000  1.500000   0.000000\n",
       "50%     0.000000   0.000000   3.000000   0.500000  2.000000   0.000000\n",
       "75%     0.000000   1.500000   6.000000   2.500000  3.000000   1.000000\n",
       "max     4.000000  14.000000  44.000000  13.000000  4.000000  16.000000"
      ]
     },
     "execution_count": 70,
     "metadata": {},
     "output_type": "execute_result"
    }
   ],
   "source": [
    "pd.concat([\n",
    "    df[df.PSNR == \"p01\"][\"distractionCount\"].describe(),\n",
    "    #df[df.PSNR == \"p02\"][\"distractionCount\"].describe(),\n",
    "    #df[df.PSNR == \"p06\"][\"distractionCount\"].describe(),\n",
    "    #df[df.PSNR == \"p07\"][\"distractionCount\"].describe(),\n",
    "    df[df.PSNR == \"p08\"][\"distractionCount\"].describe(),\n",
    "    df[df.PSNR == \"p09\"][\"distractionCount\"].describe(),\n",
    "    df[df.PSNR == \"p10\"][\"distractionCount\"].describe(),\n",
    "    df[df.PSNR == \"p11\"][\"distractionCount\"].describe(),\n",
    "    df[df.PSNR == \"p12\"][\"distractionCount\"].describe()\n",
    "    #df[df.PSNR == \"p17\"][\"distractionCount\"].describe()\n",
    "],axis=1, keys= [\"p01\", \"p08\", \"p09\", \"p10\", \"p11\", \"p12\"])\n"
   ]
  },
  {
   "cell_type": "code",
   "execution_count": 71,
   "metadata": {},
   "outputs": [
    {
     "data": {
      "text/html": [
       "<div>\n",
       "<style scoped>\n",
       "    .dataframe tbody tr th:only-of-type {\n",
       "        vertical-align: middle;\n",
       "    }\n",
       "\n",
       "    .dataframe tbody tr th {\n",
       "        vertical-align: top;\n",
       "    }\n",
       "\n",
       "    .dataframe thead th {\n",
       "        text-align: right;\n",
       "    }\n",
       "</style>\n",
       "<table border=\"1\" class=\"dataframe\">\n",
       "  <thead>\n",
       "    <tr style=\"text-align: right;\">\n",
       "      <th></th>\n",
       "      <th>p01</th>\n",
       "      <th>p08</th>\n",
       "      <th>p09</th>\n",
       "      <th>p10</th>\n",
       "      <th>p11</th>\n",
       "      <th>p12</th>\n",
       "    </tr>\n",
       "  </thead>\n",
       "  <tbody>\n",
       "    <tr>\n",
       "      <th>count</th>\n",
       "      <td>17.000000</td>\n",
       "      <td>12.000000</td>\n",
       "      <td>17.000000</td>\n",
       "      <td>6.000000</td>\n",
       "      <td>3.000000</td>\n",
       "      <td>13.000000</td>\n",
       "    </tr>\n",
       "    <tr>\n",
       "      <th>mean</th>\n",
       "      <td>0.055022</td>\n",
       "      <td>1.375862</td>\n",
       "      <td>3.604226</td>\n",
       "      <td>1.006769</td>\n",
       "      <td>0.557844</td>\n",
       "      <td>0.666897</td>\n",
       "    </tr>\n",
       "    <tr>\n",
       "      <th>std</th>\n",
       "      <td>0.166221</td>\n",
       "      <td>3.273296</td>\n",
       "      <td>8.699062</td>\n",
       "      <td>1.696751</td>\n",
       "      <td>0.436864</td>\n",
       "      <td>2.183049</td>\n",
       "    </tr>\n",
       "    <tr>\n",
       "      <th>min</th>\n",
       "      <td>0.000000</td>\n",
       "      <td>0.000000</td>\n",
       "      <td>0.000000</td>\n",
       "      <td>0.000000</td>\n",
       "      <td>0.067117</td>\n",
       "      <td>0.000000</td>\n",
       "    </tr>\n",
       "    <tr>\n",
       "      <th>25%</th>\n",
       "      <td>0.000000</td>\n",
       "      <td>0.000000</td>\n",
       "      <td>0.030583</td>\n",
       "      <td>0.000000</td>\n",
       "      <td>0.384567</td>\n",
       "      <td>0.000000</td>\n",
       "    </tr>\n",
       "    <tr>\n",
       "      <th>50%</th>\n",
       "      <td>0.000000</td>\n",
       "      <td>0.000000</td>\n",
       "      <td>0.360900</td>\n",
       "      <td>0.016667</td>\n",
       "      <td>0.702017</td>\n",
       "      <td>0.000000</td>\n",
       "    </tr>\n",
       "    <tr>\n",
       "      <th>75%</th>\n",
       "      <td>0.000000</td>\n",
       "      <td>0.516975</td>\n",
       "      <td>2.909100</td>\n",
       "      <td>1.434108</td>\n",
       "      <td>0.803208</td>\n",
       "      <td>0.098300</td>\n",
       "    </tr>\n",
       "    <tr>\n",
       "      <th>max</th>\n",
       "      <td>0.635133</td>\n",
       "      <td>11.209250</td>\n",
       "      <td>35.883900</td>\n",
       "      <td>4.106250</td>\n",
       "      <td>0.904400</td>\n",
       "      <td>7.920617</td>\n",
       "    </tr>\n",
       "  </tbody>\n",
       "</table>\n",
       "</div>"
      ],
      "text/plain": [
       "             p01        p08        p09       p10       p11        p12\n",
       "count  17.000000  12.000000  17.000000  6.000000  3.000000  13.000000\n",
       "mean    0.055022   1.375862   3.604226  1.006769  0.557844   0.666897\n",
       "std     0.166221   3.273296   8.699062  1.696751  0.436864   2.183049\n",
       "min     0.000000   0.000000   0.000000  0.000000  0.067117   0.000000\n",
       "25%     0.000000   0.000000   0.030583  0.000000  0.384567   0.000000\n",
       "50%     0.000000   0.000000   0.360900  0.016667  0.702017   0.000000\n",
       "75%     0.000000   0.516975   2.909100  1.434108  0.803208   0.098300\n",
       "max     0.635133  11.209250  35.883900  4.106250  0.904400   7.920617"
      ]
     },
     "execution_count": 71,
     "metadata": {},
     "output_type": "execute_result"
    }
   ],
   "source": [
    "pd.concat([\n",
    "    df[df.PSNR == \"p01\"][\"distractionTime\"].describe(),\n",
    "    #df[df.PSNR == \"p02\"][\"distractionTime\"].describe(),\n",
    "    #df[df.PSNR == \"p06\"][\"distractionTime\"].describe(),\n",
    "    #df[df.PSNR == \"p07\"][\"distractionTime\"].describe(),\n",
    "    df[df.PSNR == \"p08\"][\"distractionTime\"].describe(),\n",
    "    df[df.PSNR == \"p09\"][\"distractionTime\"].describe(),\n",
    "    df[df.PSNR == \"p10\"][\"distractionTime\"].describe(),\n",
    "    df[df.PSNR == \"p11\"][\"distractionTime\"].describe(),\n",
    "    df[df.PSNR == \"p12\"][\"distractionTime\"].describe(),\n",
    "    #df[df.PSNR == \"p17\"][\"distractionTime\"].describe()\n",
    "],axis=1, keys=[\"p01\", \"p08\", \"p09\", \"p10\", \"p11\", \"p12\"])\n",
    "\n",
    "# clear p2,p6,p7 and p17 out of the windowstracking dataframe"
   ]
  },
  {
   "cell_type": "markdown",
   "metadata": {},
   "source": [
    "<h4> Rating </h4>"
   ]
  },
  {
   "cell_type": "code",
   "execution_count": 55,
   "metadata": {},
   "outputs": [
    {
     "data": {
      "text/html": [
       "<div>\n",
       "<style scoped>\n",
       "    .dataframe tbody tr th:only-of-type {\n",
       "        vertical-align: middle;\n",
       "    }\n",
       "\n",
       "    .dataframe tbody tr th {\n",
       "        vertical-align: top;\n",
       "    }\n",
       "\n",
       "    .dataframe thead th {\n",
       "        text-align: right;\n",
       "    }\n",
       "</style>\n",
       "<table border=\"1\" class=\"dataframe\">\n",
       "  <thead>\n",
       "    <tr style=\"text-align: right;\">\n",
       "      <th></th>\n",
       "      <th>pomodoro</th>\n",
       "      <th>exman</th>\n",
       "    </tr>\n",
       "  </thead>\n",
       "  <tbody>\n",
       "    <tr>\n",
       "      <th>count</th>\n",
       "      <td>44.000000</td>\n",
       "      <td>44.000000</td>\n",
       "    </tr>\n",
       "    <tr>\n",
       "      <th>mean</th>\n",
       "      <td>5.568182</td>\n",
       "      <td>5.886364</td>\n",
       "    </tr>\n",
       "    <tr>\n",
       "      <th>std</th>\n",
       "      <td>1.189053</td>\n",
       "      <td>1.125103</td>\n",
       "    </tr>\n",
       "    <tr>\n",
       "      <th>min</th>\n",
       "      <td>2.000000</td>\n",
       "      <td>2.000000</td>\n",
       "    </tr>\n",
       "    <tr>\n",
       "      <th>25%</th>\n",
       "      <td>5.000000</td>\n",
       "      <td>5.000000</td>\n",
       "    </tr>\n",
       "    <tr>\n",
       "      <th>50%</th>\n",
       "      <td>6.000000</td>\n",
       "      <td>6.000000</td>\n",
       "    </tr>\n",
       "    <tr>\n",
       "      <th>75%</th>\n",
       "      <td>6.000000</td>\n",
       "      <td>7.000000</td>\n",
       "    </tr>\n",
       "    <tr>\n",
       "      <th>max</th>\n",
       "      <td>7.000000</td>\n",
       "      <td>7.000000</td>\n",
       "    </tr>\n",
       "  </tbody>\n",
       "</table>\n",
       "</div>"
      ],
      "text/plain": [
       "        pomodoro      exman\n",
       "count  44.000000  44.000000\n",
       "mean    5.568182   5.886364\n",
       "std     1.189053   1.125103\n",
       "min     2.000000   2.000000\n",
       "25%     5.000000   5.000000\n",
       "50%     6.000000   6.000000\n",
       "75%     6.000000   7.000000\n",
       "max     7.000000   7.000000"
      ]
     },
     "execution_count": 55,
     "metadata": {},
     "output_type": "execute_result"
    }
   ],
   "source": [
    "pd.concat([pomodoro[\"rating\"].dropna().astype(int).describe(),exman[\"rating\"].dropna().astype(int).describe()],axis=1,keys=[\"pomodoro\",\"exman\"])"
   ]
  },
  {
   "cell_type": "code",
   "execution_count": 74,
   "metadata": {},
   "outputs": [
    {
     "data": {
      "text/html": [
       "<div>\n",
       "<style scoped>\n",
       "    .dataframe tbody tr th:only-of-type {\n",
       "        vertical-align: middle;\n",
       "    }\n",
       "\n",
       "    .dataframe tbody tr th {\n",
       "        vertical-align: top;\n",
       "    }\n",
       "\n",
       "    .dataframe thead th {\n",
       "        text-align: right;\n",
       "    }\n",
       "</style>\n",
       "<table border=\"1\" class=\"dataframe\">\n",
       "  <thead>\n",
       "    <tr style=\"text-align: right;\">\n",
       "      <th></th>\n",
       "      <th>p01</th>\n",
       "      <th>p02</th>\n",
       "      <th>p06</th>\n",
       "      <th>p07</th>\n",
       "      <th>p08</th>\n",
       "      <th>p09</th>\n",
       "      <th>p10</th>\n",
       "      <th>p12</th>\n",
       "      <th>p17</th>\n",
       "    </tr>\n",
       "  </thead>\n",
       "  <tbody>\n",
       "    <tr>\n",
       "      <th>count</th>\n",
       "      <td>14.00000</td>\n",
       "      <td>1.0</td>\n",
       "      <td>9.000000</td>\n",
       "      <td>10.000000</td>\n",
       "      <td>12.000000</td>\n",
       "      <td>15.000000</td>\n",
       "      <td>5.000000</td>\n",
       "      <td>12.000000</td>\n",
       "      <td>10.000000</td>\n",
       "    </tr>\n",
       "    <tr>\n",
       "      <th>mean</th>\n",
       "      <td>5.50000</td>\n",
       "      <td>5.0</td>\n",
       "      <td>3.666667</td>\n",
       "      <td>5.100000</td>\n",
       "      <td>6.666667</td>\n",
       "      <td>6.466667</td>\n",
       "      <td>6.000000</td>\n",
       "      <td>6.000000</td>\n",
       "      <td>5.900000</td>\n",
       "    </tr>\n",
       "    <tr>\n",
       "      <th>std</th>\n",
       "      <td>0.85485</td>\n",
       "      <td>NaN</td>\n",
       "      <td>1.224745</td>\n",
       "      <td>0.567646</td>\n",
       "      <td>0.651339</td>\n",
       "      <td>0.833809</td>\n",
       "      <td>0.707107</td>\n",
       "      <td>0.426401</td>\n",
       "      <td>1.100505</td>\n",
       "    </tr>\n",
       "    <tr>\n",
       "      <th>min</th>\n",
       "      <td>4.00000</td>\n",
       "      <td>5.0</td>\n",
       "      <td>2.000000</td>\n",
       "      <td>4.000000</td>\n",
       "      <td>5.000000</td>\n",
       "      <td>5.000000</td>\n",
       "      <td>5.000000</td>\n",
       "      <td>5.000000</td>\n",
       "      <td>4.000000</td>\n",
       "    </tr>\n",
       "    <tr>\n",
       "      <th>25%</th>\n",
       "      <td>5.00000</td>\n",
       "      <td>5.0</td>\n",
       "      <td>3.000000</td>\n",
       "      <td>5.000000</td>\n",
       "      <td>6.750000</td>\n",
       "      <td>6.000000</td>\n",
       "      <td>6.000000</td>\n",
       "      <td>6.000000</td>\n",
       "      <td>5.000000</td>\n",
       "    </tr>\n",
       "    <tr>\n",
       "      <th>50%</th>\n",
       "      <td>6.00000</td>\n",
       "      <td>5.0</td>\n",
       "      <td>4.000000</td>\n",
       "      <td>5.000000</td>\n",
       "      <td>7.000000</td>\n",
       "      <td>7.000000</td>\n",
       "      <td>6.000000</td>\n",
       "      <td>6.000000</td>\n",
       "      <td>6.000000</td>\n",
       "    </tr>\n",
       "    <tr>\n",
       "      <th>75%</th>\n",
       "      <td>6.00000</td>\n",
       "      <td>5.0</td>\n",
       "      <td>5.000000</td>\n",
       "      <td>5.000000</td>\n",
       "      <td>7.000000</td>\n",
       "      <td>7.000000</td>\n",
       "      <td>6.000000</td>\n",
       "      <td>6.000000</td>\n",
       "      <td>7.000000</td>\n",
       "    </tr>\n",
       "    <tr>\n",
       "      <th>max</th>\n",
       "      <td>7.00000</td>\n",
       "      <td>5.0</td>\n",
       "      <td>5.000000</td>\n",
       "      <td>6.000000</td>\n",
       "      <td>7.000000</td>\n",
       "      <td>7.000000</td>\n",
       "      <td>7.000000</td>\n",
       "      <td>7.000000</td>\n",
       "      <td>7.000000</td>\n",
       "    </tr>\n",
       "  </tbody>\n",
       "</table>\n",
       "</div>"
      ],
      "text/plain": [
       "            p01  p02       p06        p07        p08        p09       p10  \\\n",
       "count  14.00000  1.0  9.000000  10.000000  12.000000  15.000000  5.000000   \n",
       "mean    5.50000  5.0  3.666667   5.100000   6.666667   6.466667  6.000000   \n",
       "std     0.85485  NaN  1.224745   0.567646   0.651339   0.833809  0.707107   \n",
       "min     4.00000  5.0  2.000000   4.000000   5.000000   5.000000  5.000000   \n",
       "25%     5.00000  5.0  3.000000   5.000000   6.750000   6.000000  6.000000   \n",
       "50%     6.00000  5.0  4.000000   5.000000   7.000000   7.000000  6.000000   \n",
       "75%     6.00000  5.0  5.000000   5.000000   7.000000   7.000000  6.000000   \n",
       "max     7.00000  5.0  5.000000   6.000000   7.000000   7.000000  7.000000   \n",
       "\n",
       "             p12        p17  \n",
       "count  12.000000  10.000000  \n",
       "mean    6.000000   5.900000  \n",
       "std     0.426401   1.100505  \n",
       "min     5.000000   4.000000  \n",
       "25%     6.000000   5.000000  \n",
       "50%     6.000000   6.000000  \n",
       "75%     6.000000   7.000000  \n",
       "max     7.000000   7.000000  "
      ]
     },
     "execution_count": 74,
     "metadata": {},
     "output_type": "execute_result"
    }
   ],
   "source": [
    "# productivity per version and participants needs to be fixed\n",
    "pd.concat([\n",
    "    df[df.PSNR == \"p01\"][\"rating\"].dropna().astype(int).describe(),\n",
    "    df[df.PSNR == \"p02\"][\"rating\"].dropna().astype(int).describe(),\n",
    "    df[df.PSNR == \"p06\"][\"rating\"].dropna().astype(int).describe(),\n",
    "    df[df.PSNR == \"p07\"][\"rating\"].dropna().astype(int).describe(),\n",
    "    df[df.PSNR == \"p08\"][\"rating\"].dropna().astype(int).describe(),\n",
    "    df[df.PSNR == \"p09\"][\"rating\"].dropna().astype(int).describe(),\n",
    "    df[df.PSNR == \"p10\"][\"rating\"].dropna().astype(int).describe(),\n",
    "    #df[df.PSNR == \"p11\"][\"rating\"].dropna().astype(int).describe(),\n",
    "    df[df.PSNR == \"p12\"][\"rating\"].dropna().astype(int).describe(),\n",
    "    df[df.PSNR == \"p17\"][\"rating\"].dropna().astype(int).describe()\n",
    "],axis=1, keys= [\"p01\",\"p02\",\"p06\",\"p07\", \"p08\", \"p09\", \"p10\", \"p12\",\"p17\"])"
   ]
  },
  {
   "cell_type": "markdown",
   "metadata": {},
   "source": [
    "P17 has pretty low average productivity rating compared to others. Potential explanations from interview?"
   ]
  },
  {
   "cell_type": "code",
   "execution_count": 81,
   "metadata": {},
   "outputs": [
    {
     "data": {
      "text/html": [
       "<div>\n",
       "<style scoped>\n",
       "    .dataframe tbody tr th:only-of-type {\n",
       "        vertical-align: middle;\n",
       "    }\n",
       "\n",
       "    .dataframe tbody tr th {\n",
       "        vertical-align: top;\n",
       "    }\n",
       "\n",
       "    .dataframe thead th {\n",
       "        text-align: right;\n",
       "    }\n",
       "</style>\n",
       "<table border=\"1\" class=\"dataframe\">\n",
       "  <thead>\n",
       "    <tr style=\"text-align: right;\">\n",
       "      <th></th>\n",
       "      <th>p01</th>\n",
       "      <th>p06</th>\n",
       "      <th>p07</th>\n",
       "      <th>p08</th>\n",
       "      <th>p09</th>\n",
       "      <th>p10</th>\n",
       "      <th>p17</th>\n",
       "    </tr>\n",
       "  </thead>\n",
       "  <tbody>\n",
       "    <tr>\n",
       "      <th>count</th>\n",
       "      <td>11.000000</td>\n",
       "      <td>4.000000</td>\n",
       "      <td>3.0</td>\n",
       "      <td>5.0</td>\n",
       "      <td>7.000000</td>\n",
       "      <td>5.000000</td>\n",
       "      <td>3.0</td>\n",
       "    </tr>\n",
       "    <tr>\n",
       "      <th>mean</th>\n",
       "      <td>5.363636</td>\n",
       "      <td>4.000000</td>\n",
       "      <td>5.0</td>\n",
       "      <td>7.0</td>\n",
       "      <td>6.714286</td>\n",
       "      <td>6.000000</td>\n",
       "      <td>7.0</td>\n",
       "    </tr>\n",
       "    <tr>\n",
       "      <th>std</th>\n",
       "      <td>0.924416</td>\n",
       "      <td>1.414214</td>\n",
       "      <td>0.0</td>\n",
       "      <td>0.0</td>\n",
       "      <td>0.487950</td>\n",
       "      <td>0.707107</td>\n",
       "      <td>0.0</td>\n",
       "    </tr>\n",
       "    <tr>\n",
       "      <th>min</th>\n",
       "      <td>4.000000</td>\n",
       "      <td>2.000000</td>\n",
       "      <td>5.0</td>\n",
       "      <td>7.0</td>\n",
       "      <td>6.000000</td>\n",
       "      <td>5.000000</td>\n",
       "      <td>7.0</td>\n",
       "    </tr>\n",
       "    <tr>\n",
       "      <th>25%</th>\n",
       "      <td>5.000000</td>\n",
       "      <td>3.500000</td>\n",
       "      <td>5.0</td>\n",
       "      <td>7.0</td>\n",
       "      <td>6.500000</td>\n",
       "      <td>6.000000</td>\n",
       "      <td>7.0</td>\n",
       "    </tr>\n",
       "    <tr>\n",
       "      <th>50%</th>\n",
       "      <td>5.000000</td>\n",
       "      <td>4.500000</td>\n",
       "      <td>5.0</td>\n",
       "      <td>7.0</td>\n",
       "      <td>7.000000</td>\n",
       "      <td>6.000000</td>\n",
       "      <td>7.0</td>\n",
       "    </tr>\n",
       "    <tr>\n",
       "      <th>75%</th>\n",
       "      <td>6.000000</td>\n",
       "      <td>5.000000</td>\n",
       "      <td>5.0</td>\n",
       "      <td>7.0</td>\n",
       "      <td>7.000000</td>\n",
       "      <td>6.000000</td>\n",
       "      <td>7.0</td>\n",
       "    </tr>\n",
       "    <tr>\n",
       "      <th>max</th>\n",
       "      <td>7.000000</td>\n",
       "      <td>5.000000</td>\n",
       "      <td>5.0</td>\n",
       "      <td>7.0</td>\n",
       "      <td>7.000000</td>\n",
       "      <td>7.000000</td>\n",
       "      <td>7.0</td>\n",
       "    </tr>\n",
       "  </tbody>\n",
       "</table>\n",
       "</div>"
      ],
      "text/plain": [
       "             p01       p06  p07  p08       p09       p10  p17\n",
       "count  11.000000  4.000000  3.0  5.0  7.000000  5.000000  3.0\n",
       "mean    5.363636  4.000000  5.0  7.0  6.714286  6.000000  7.0\n",
       "std     0.924416  1.414214  0.0  0.0  0.487950  0.707107  0.0\n",
       "min     4.000000  2.000000  5.0  7.0  6.000000  5.000000  7.0\n",
       "25%     5.000000  3.500000  5.0  7.0  6.500000  6.000000  7.0\n",
       "50%     5.000000  4.500000  5.0  7.0  7.000000  6.000000  7.0\n",
       "75%     6.000000  5.000000  5.0  7.0  7.000000  6.000000  7.0\n",
       "max     7.000000  5.000000  5.0  7.0  7.000000  7.000000  7.0"
      ]
     },
     "execution_count": 81,
     "metadata": {},
     "output_type": "execute_result"
    }
   ],
   "source": [
    "# productivity per version and participants needs to be fixed\n",
    "pd.concat([\n",
    "    exman_rating[exman_rating.PSNR == \"p01\"][\"rating\"].dropna().astype(int).describe(),\n",
    "    #exman_rating[exman_rating.PSNR == \"p02\"][\"rating\"].dropna().astype(int).describe(),\n",
    "    exman_rating[exman_rating.PSNR == \"p06\"][\"rating\"].dropna().astype(int).describe(),\n",
    "    exman_rating[exman_rating.PSNR == \"p07\"][\"rating\"].dropna().astype(int).describe(),\n",
    "    exman_rating[exman_rating.PSNR == \"p08\"][\"rating\"].dropna().astype(int).describe(),\n",
    "    exman_rating[exman_rating.PSNR == \"p09\"][\"rating\"].dropna().astype(int).describe(),\n",
    "    exman_rating[exman_rating.PSNR == \"p10\"][\"rating\"].dropna().astype(int).describe(),\n",
    "    #exman_rating[exman_rating.PSNR == \"p11\"][\"rating\"].dropna().astype(int).describe(),\n",
    "    #exman_rating[exman_rating.PSNR == \"p12\"][\"rating\"].dropna().astype(int).describe(),\n",
    "    exman_rating[exman_rating.PSNR == \"p17\"][\"rating\"].dropna().astype(int).describe()\n",
    "],axis=1, keys= [\"p01\",\"p06\",\"p07\", \"p08\", \"p09\", \"p10\",\"p17\"])"
   ]
  },
  {
   "cell_type": "code",
   "execution_count": 58,
   "metadata": {},
   "outputs": [
    {
     "data": {
      "text/html": [
       "<div>\n",
       "<style scoped>\n",
       "    .dataframe tbody tr th:only-of-type {\n",
       "        vertical-align: middle;\n",
       "    }\n",
       "\n",
       "    .dataframe tbody tr th {\n",
       "        vertical-align: top;\n",
       "    }\n",
       "\n",
       "    .dataframe thead th {\n",
       "        text-align: right;\n",
       "    }\n",
       "</style>\n",
       "<table border=\"1\" class=\"dataframe\">\n",
       "  <thead>\n",
       "    <tr style=\"text-align: right;\">\n",
       "      <th></th>\n",
       "      <th>p07</th>\n",
       "      <th>p06</th>\n",
       "      <th>p09</th>\n",
       "      <th>p12</th>\n",
       "      <th>p17</th>\n",
       "      <th>p01</th>\n",
       "      <th>p08</th>\n",
       "      <th>p11</th>\n",
       "      <th>p02</th>\n",
       "      <th>p10</th>\n",
       "    </tr>\n",
       "  </thead>\n",
       "  <tbody>\n",
       "    <tr>\n",
       "      <th>count</th>\n",
       "      <td>3.0</td>\n",
       "      <td>1.0</td>\n",
       "      <td>5.000000</td>\n",
       "      <td>7.000000</td>\n",
       "      <td>7.000000</td>\n",
       "      <td>8.000000</td>\n",
       "      <td>0.0</td>\n",
       "      <td>0.0</td>\n",
       "      <td>6.0</td>\n",
       "      <td>7.000000</td>\n",
       "    </tr>\n",
       "    <tr>\n",
       "      <th>mean</th>\n",
       "      <td>6.0</td>\n",
       "      <td>5.0</td>\n",
       "      <td>3.400000</td>\n",
       "      <td>5.142857</td>\n",
       "      <td>6.428571</td>\n",
       "      <td>6.250000</td>\n",
       "      <td>NaN</td>\n",
       "      <td>NaN</td>\n",
       "      <td>6.0</td>\n",
       "      <td>5.428571</td>\n",
       "    </tr>\n",
       "    <tr>\n",
       "      <th>std</th>\n",
       "      <td>0.0</td>\n",
       "      <td>NaN</td>\n",
       "      <td>1.140175</td>\n",
       "      <td>0.690066</td>\n",
       "      <td>0.786796</td>\n",
       "      <td>1.035098</td>\n",
       "      <td>NaN</td>\n",
       "      <td>NaN</td>\n",
       "      <td>0.0</td>\n",
       "      <td>0.975900</td>\n",
       "    </tr>\n",
       "    <tr>\n",
       "      <th>min</th>\n",
       "      <td>6.0</td>\n",
       "      <td>5.0</td>\n",
       "      <td>2.000000</td>\n",
       "      <td>4.000000</td>\n",
       "      <td>5.000000</td>\n",
       "      <td>5.000000</td>\n",
       "      <td>NaN</td>\n",
       "      <td>NaN</td>\n",
       "      <td>6.0</td>\n",
       "      <td>4.000000</td>\n",
       "    </tr>\n",
       "    <tr>\n",
       "      <th>25%</th>\n",
       "      <td>6.0</td>\n",
       "      <td>5.0</td>\n",
       "      <td>3.000000</td>\n",
       "      <td>5.000000</td>\n",
       "      <td>6.000000</td>\n",
       "      <td>5.000000</td>\n",
       "      <td>NaN</td>\n",
       "      <td>NaN</td>\n",
       "      <td>6.0</td>\n",
       "      <td>5.000000</td>\n",
       "    </tr>\n",
       "    <tr>\n",
       "      <th>50%</th>\n",
       "      <td>6.0</td>\n",
       "      <td>5.0</td>\n",
       "      <td>3.000000</td>\n",
       "      <td>5.000000</td>\n",
       "      <td>7.000000</td>\n",
       "      <td>7.000000</td>\n",
       "      <td>NaN</td>\n",
       "      <td>NaN</td>\n",
       "      <td>6.0</td>\n",
       "      <td>5.000000</td>\n",
       "    </tr>\n",
       "    <tr>\n",
       "      <th>75%</th>\n",
       "      <td>6.0</td>\n",
       "      <td>5.0</td>\n",
       "      <td>4.000000</td>\n",
       "      <td>5.500000</td>\n",
       "      <td>7.000000</td>\n",
       "      <td>7.000000</td>\n",
       "      <td>NaN</td>\n",
       "      <td>NaN</td>\n",
       "      <td>6.0</td>\n",
       "      <td>6.000000</td>\n",
       "    </tr>\n",
       "    <tr>\n",
       "      <th>max</th>\n",
       "      <td>6.0</td>\n",
       "      <td>5.0</td>\n",
       "      <td>5.000000</td>\n",
       "      <td>6.000000</td>\n",
       "      <td>7.000000</td>\n",
       "      <td>7.000000</td>\n",
       "      <td>NaN</td>\n",
       "      <td>NaN</td>\n",
       "      <td>6.0</td>\n",
       "      <td>7.000000</td>\n",
       "    </tr>\n",
       "  </tbody>\n",
       "</table>\n",
       "</div>"
      ],
      "text/plain": [
       "       p07  p06       p09       p12       p17       p01  p08  p11  p02  \\\n",
       "count  3.0  1.0  5.000000  7.000000  7.000000  8.000000  0.0  0.0  6.0   \n",
       "mean   6.0  5.0  3.400000  5.142857  6.428571  6.250000  NaN  NaN  6.0   \n",
       "std    0.0  NaN  1.140175  0.690066  0.786796  1.035098  NaN  NaN  0.0   \n",
       "min    6.0  5.0  2.000000  4.000000  5.000000  5.000000  NaN  NaN  6.0   \n",
       "25%    6.0  5.0  3.000000  5.000000  6.000000  5.000000  NaN  NaN  6.0   \n",
       "50%    6.0  5.0  3.000000  5.000000  7.000000  7.000000  NaN  NaN  6.0   \n",
       "75%    6.0  5.0  4.000000  5.500000  7.000000  7.000000  NaN  NaN  6.0   \n",
       "max    6.0  5.0  5.000000  6.000000  7.000000  7.000000  NaN  NaN  6.0   \n",
       "\n",
       "            p10  \n",
       "count  7.000000  \n",
       "mean   5.428571  \n",
       "std    0.975900  \n",
       "min    4.000000  \n",
       "25%    5.000000  \n",
       "50%    5.000000  \n",
       "75%    6.000000  \n",
       "max    7.000000  "
      ]
     },
     "execution_count": 58,
     "metadata": {},
     "output_type": "execute_result"
    }
   ],
   "source": [
    "# productivity per version and participants needs to be fixed\n",
    "pd.concat([\n",
    "    pomodoro_rating[pomodoro_rating.PSNR == \"p01\"][\"rating\"].dropna().astype(int).describe(),\n",
    "    pomodoro_rating[pomodoro_rating.PSNR == \"p02\"][\"rating\"].dropna().astype(int).describe(),\n",
    "    pomodoro_rating[pomodoro_rating.PSNR == \"p06\"][\"rating\"].dropna().astype(int).describe(),\n",
    "    pomodoro_rating[pomodoro_rating.PSNR == \"p07\"][\"rating\"].dropna().astype(int).describe(),\n",
    "    pomodoro_rating[pomodoro_rating.PSNR == \"p08\"][\"rating\"].dropna().astype(int).describe(),\n",
    "    pomodoro_rating[pomodoro_rating.PSNR == \"p09\"][\"rating\"].dropna().astype(int).describe(),\n",
    "    pomodoro_rating[pomodoro_rating.PSNR == \"p10\"][\"rating\"].dropna().astype(int).describe(),\n",
    "    pomodoro_rating[pomodoro_rating.PSNR == \"p11\"][\"rating\"].dropna().astype(int).describe(),\n",
    "    pomodoro_rating[pomodoro_rating.PSNR == \"p12\"][\"rating\"].dropna().astype(int).describe(),\n",
    "    pomodoro_rating[pomodoro_rating.PSNR == \"p17\"][\"rating\"].dropna().astype(int).describe()\n",
    "],axis=1, keys= df.PSNR.unique())"
   ]
  },
  {
   "cell_type": "code",
   "execution_count": 59,
   "metadata": {},
   "outputs": [],
   "source": [
    "df[df[\"brokenFocusPerHour\"] < 16.5]['brokenFocusPerHour']\n",
    "\n",
    "p1_rating = df[df.PSNR == \"p01\"][\"rating\"].dropna().astype(int)\n",
    "p7_rating = df[df.PSNR == \"p07\"][\"rating\"].dropna().astype(int)\n",
    "p8_rating = df[df.PSNR == \"p08\"][\"rating\"].dropna().astype(int)\n",
    "\n",
    "p1_broken = df[df.PSNR == \"p01\"][\"percentageCompletedGoals\"].dropna().astype(int)\n",
    "p7_broken = df[df.PSNR == \"p07\"][\"percentageCompletedGoals\"].dropna().astype(int)\n",
    "p8_broken = df[df.PSNR == \"p08\"][\"percentageCompletedGoals\"].dropna().astype(int)\n",
    "\n",
    "#filter for the best results"
   ]
  },
  {
   "cell_type": "code",
   "execution_count": 60,
   "metadata": {},
   "outputs": [
    {
     "data": {
      "text/plain": [
       "[<matplotlib.lines.Line2D at 0x20954e1f808>]"
      ]
     },
     "execution_count": 60,
     "metadata": {},
     "output_type": "execute_result"
    },
    {
     "data": {
      "image/png": "[encoded data removed]",
      "text/plain": [
       "<Figure size 1080x360 with 3 Axes>"
      ]
     },
     "metadata": {
      "needs_background": "light"
     },
     "output_type": "display_data"
    }
   ],
   "source": [
    "fig, (ax1,ax2,ax3) = plt.subplots(1, 3,figsize=(15,5))\n",
    "\n",
    "ax1.plot([i for i in range(len(p1_rating))],p1_rating)\n",
    "ax2.plot([i for i in range(len(p7_rating))],p7_rating)\n",
    "ax3.plot([i for i in range(len(p8_rating))],p8_rating)"
   ]
  },
  {
   "cell_type": "code",
   "execution_count": 61,
   "metadata": {},
   "outputs": [
    {
     "data": {
      "text/plain": [
       "[<matplotlib.lines.Line2D at 0x20954bfd888>]"
      ]
     },
     "execution_count": 61,
     "metadata": {},
     "output_type": "execute_result"
    },
    {
     "data": {
      "image/png": "[encoded data removed]",
      "text/plain": [
       "<Figure size 1080x360 with 3 Axes>"
      ]
     },
     "metadata": {
      "needs_background": "light"
     },
     "output_type": "display_data"
    }
   ],
   "source": [
    "fig, (ax1,ax2,ax3) = plt.subplots(1, 3,figsize=(15,5))\n",
    "\n",
    "ax1.plot([i for i in range(len(p1_broken))],p1_broken)\n",
    "ax2.plot([i for i in range(len(p7_broken))],p7_broken)\n",
    "ax3.plot([i for i in range(len(p8_broken))],p8_broken)\n",
    "\n",
    "#look at the dates do a plot to do frequency of focus session per date"
   ]
  },
  {
   "cell_type": "markdown",
   "metadata": {},
   "source": [
    "Overall participants have consistent behaviour over the study duration."
   ]
  },
  {
   "cell_type": "code",
   "execution_count": 62,
   "metadata": {},
   "outputs": [],
   "source": [
    "exman_p1 = exman_rating[exman_rating.PSNR == \"p01\" ][\"percentageCompletedGoals\"].astype(int)\n",
    "exman_p9 = exman_rating[exman_rating.PSNR == \"p09\"][\"percentageCompletedGoals\"].astype(int)\n",
    "exman_p12 = exman_rating[exman_rating.PSNR == \"p12\"][\"percentageCompletedGoals\"].astype(int)\n",
    "\n",
    "pomodoro_p1 = pomodoro_rating[pomodoro_rating.PSNR == \"p01\"][\"percentageCompletedGoals\"].astype(int)\n",
    "pomodoro_p9 = pomodoro_rating[pomodoro_rating.PSNR == \"p09\"][\"percentageCompletedGoals\"].astype(int)\n",
    "pomodoro_p12 = pomodoro_rating[pomodoro_rating.PSNR == \"p12\"][\"percentageCompletedGoals\"].astype(int)"
   ]
  },
  {
   "cell_type": "code",
   "execution_count": 63,
   "metadata": {},
   "outputs": [
    {
     "name": "stdout",
     "output_type": "stream",
     "text": [
      "P-Value:0.037928971445557756 T-Statistic:-2.390457218668787\n"
     ]
    }
   ],
   "source": [
    "tStat, pValue = stats.ttest_ind(exman_p1, pomodoro_p1, equal_var = False)\n",
    "print(\"P-Value:{0} T-Statistic:{1}\".format(pValue,tStat))"
   ]
  },
  {
   "cell_type": "code",
   "execution_count": 64,
   "metadata": {},
   "outputs": [
    {
     "name": "stdout",
     "output_type": "stream",
     "text": [
      "P-Value:0.15648525797964158 T-Statistic:1.5075567228888178\n"
     ]
    }
   ],
   "source": [
    "tStat, pValue = stats.ttest_ind(exman_p9, pomodoro_p9, equal_var = False)\n",
    "print(\"P-Value:{0} T-Statistic:{1}\".format(pValue,tStat))"
   ]
  }
 ],
 "metadata": {
  "kernelspec": {
   "display_name": "Python 3",
   "language": "python",
   "name": "python3"
  },
  "language_info": {
   "codemirror_mode": {
    "name": "ipython",
    "version": 3
   },
   "file_extension": ".py",
   "mimetype": "text/x-python",
   "name": "python",
   "nbconvert_exporter": "python",
   "pygments_lexer": "ipython3",
   "version": "3.7.7"
  }
 },
 "nbformat": 4,
 "nbformat_minor": 4
}
